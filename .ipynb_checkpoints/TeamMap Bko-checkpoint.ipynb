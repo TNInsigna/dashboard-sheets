{
 "cells": [
  {
   "cell_type": "markdown",
   "metadata": {},
   "source": [
    "## Team Map"
   ]
  },
  {
   "cell_type": "markdown",
   "metadata": {},
   "source": [
    "Pre requisitos:\n",
    "Tabela com colunas: nome do colaborador, data da avaliação de proficiência(primeira avaliação), nível na avaliação de proficiência, data da última avaliação, nível na última avaliação."
   ]
  },
  {
   "cell_type": "code",
   "execution_count": 27,
   "metadata": {},
   "outputs": [],
   "source": [
    "# Nomes dos arquivos\n",
    "NOME_TABELA_PRE = './Bracel avaliações.xlsx'\n",
    "NOME_TABELA_INICIAL = './Bracel_inter.xlsx'\n",
    "NOME_TABELA_TRANSFORMADA = \"./TBracel.xlsx\"\n",
    "\n",
    "# Nomes das colunas\n",
    "NOME_COLUNA_NOME = 'usuario'\n",
    "NOME_COLUNA_IDIOMA = 'Curso'\n",
    "NOME_COLUNA_NIVEL_AVALIACAO = 'Classificação da Última Avaliação'\n",
    "NOME_COLUNA_NIVEL_PROFICIENCIA = 'Classificação da Primeira Avaliação'\n",
    "NOME_COLUNA_DATA_PROFICIENCIA = 'Data da Primeira Avaliação'\n",
    "NOME_COLUNA_DATA_AVALIACAO = 'Data da Última Avaliação'\n",
    "NOME_COLUNA_META_FINAL = 'Meta Final'\n",
    "NOME_COLUNA_PRAZO_META = 'Prazo Meta final'\n",
    "NOME_COLUNA_STATUS = 'Status'\n",
    "\n",
    "# Valores de filtro\n",
    "NOME_STATUS_ATIVO_FILTRO = 'Subsídio ativo'"
   ]
  },
  {
   "cell_type": "markdown",
   "metadata": {
    "jp-MarkdownHeadingCollapsed": true
   },
   "source": [
    "## Imports"
   ]
  },
  {
   "cell_type": "code",
   "execution_count": 2,
   "metadata": {},
   "outputs": [
    {
     "name": "stdout",
     "output_type": "stream",
     "text": [
      "/home/pessoal/Documentos/gitc/jupyter-graphs-angela/myenv/bin/python\n"
     ]
    }
   ],
   "source": [
    "!which python"
   ]
  },
  {
   "cell_type": "code",
   "execution_count": 3,
   "metadata": {},
   "outputs": [
    {
     "name": "stdout",
     "output_type": "stream",
     "text": [
      "Requirement already satisfied: pandas in ./myenv/lib/python3.12/site-packages (2.2.3)\n",
      "Requirement already satisfied: numpy>=1.26.0 in ./myenv/lib/python3.12/site-packages (from pandas) (2.1.3)\n",
      "Requirement already satisfied: python-dateutil>=2.8.2 in ./myenv/lib/python3.12/site-packages (from pandas) (2.9.0.post0)\n",
      "Requirement already satisfied: pytz>=2020.1 in ./myenv/lib/python3.12/site-packages (from pandas) (2024.2)\n",
      "Requirement already satisfied: tzdata>=2022.7 in ./myenv/lib/python3.12/site-packages (from pandas) (2024.2)\n",
      "Requirement already satisfied: six>=1.5 in ./myenv/lib/python3.12/site-packages (from python-dateutil>=2.8.2->pandas) (1.16.0)\n",
      "Requirement already satisfied: openpyxl in ./myenv/lib/python3.12/site-packages (3.1.5)\n",
      "Requirement already satisfied: et-xmlfile in ./myenv/lib/python3.12/site-packages (from openpyxl) (2.0.0)\n",
      "Requirement already satisfied: streamlit in ./myenv/lib/python3.12/site-packages (1.40.1)\n",
      "Requirement already satisfied: altair<6,>=4.0 in ./myenv/lib/python3.12/site-packages (from streamlit) (5.4.1)\n",
      "Requirement already satisfied: blinker<2,>=1.0.0 in ./myenv/lib/python3.12/site-packages (from streamlit) (1.9.0)\n",
      "Requirement already satisfied: cachetools<6,>=4.0 in ./myenv/lib/python3.12/site-packages (from streamlit) (5.5.0)\n",
      "Requirement already satisfied: click<9,>=7.0 in ./myenv/lib/python3.12/site-packages (from streamlit) (8.1.7)\n",
      "Requirement already satisfied: numpy<3,>=1.20 in ./myenv/lib/python3.12/site-packages (from streamlit) (2.1.3)\n",
      "Requirement already satisfied: packaging<25,>=20 in ./myenv/lib/python3.12/site-packages (from streamlit) (24.2)\n",
      "Requirement already satisfied: pandas<3,>=1.4.0 in ./myenv/lib/python3.12/site-packages (from streamlit) (2.2.3)\n",
      "Requirement already satisfied: pillow<12,>=7.1.0 in ./myenv/lib/python3.12/site-packages (from streamlit) (11.0.0)\n",
      "Requirement already satisfied: protobuf<6,>=3.20 in ./myenv/lib/python3.12/site-packages (from streamlit) (5.28.3)\n",
      "Requirement already satisfied: pyarrow>=7.0 in ./myenv/lib/python3.12/site-packages (from streamlit) (18.0.0)\n",
      "Requirement already satisfied: requests<3,>=2.27 in ./myenv/lib/python3.12/site-packages (from streamlit) (2.32.3)\n",
      "Requirement already satisfied: rich<14,>=10.14.0 in ./myenv/lib/python3.12/site-packages (from streamlit) (13.9.4)\n",
      "Requirement already satisfied: tenacity<10,>=8.1.0 in ./myenv/lib/python3.12/site-packages (from streamlit) (9.0.0)\n",
      "Requirement already satisfied: toml<2,>=0.10.1 in ./myenv/lib/python3.12/site-packages (from streamlit) (0.10.2)\n",
      "Requirement already satisfied: typing-extensions<5,>=4.3.0 in ./myenv/lib/python3.12/site-packages (from streamlit) (4.12.2)\n",
      "Requirement already satisfied: gitpython!=3.1.19,<4,>=3.0.7 in ./myenv/lib/python3.12/site-packages (from streamlit) (3.1.43)\n",
      "Requirement already satisfied: pydeck<1,>=0.8.0b4 in ./myenv/lib/python3.12/site-packages (from streamlit) (0.9.1)\n",
      "Requirement already satisfied: tornado<7,>=6.0.3 in ./myenv/lib/python3.12/site-packages (from streamlit) (6.4.1)\n",
      "Requirement already satisfied: watchdog<7,>=2.1.5 in ./myenv/lib/python3.12/site-packages (from streamlit) (6.0.0)\n",
      "Requirement already satisfied: jinja2 in ./myenv/lib/python3.12/site-packages (from altair<6,>=4.0->streamlit) (3.1.4)\n",
      "Requirement already satisfied: jsonschema>=3.0 in ./myenv/lib/python3.12/site-packages (from altair<6,>=4.0->streamlit) (4.23.0)\n",
      "Requirement already satisfied: narwhals>=1.5.2 in ./myenv/lib/python3.12/site-packages (from altair<6,>=4.0->streamlit) (1.14.1)\n",
      "Requirement already satisfied: gitdb<5,>=4.0.1 in ./myenv/lib/python3.12/site-packages (from gitpython!=3.1.19,<4,>=3.0.7->streamlit) (4.0.11)\n",
      "Requirement already satisfied: python-dateutil>=2.8.2 in ./myenv/lib/python3.12/site-packages (from pandas<3,>=1.4.0->streamlit) (2.9.0.post0)\n",
      "Requirement already satisfied: pytz>=2020.1 in ./myenv/lib/python3.12/site-packages (from pandas<3,>=1.4.0->streamlit) (2024.2)\n",
      "Requirement already satisfied: tzdata>=2022.7 in ./myenv/lib/python3.12/site-packages (from pandas<3,>=1.4.0->streamlit) (2024.2)\n",
      "Requirement already satisfied: charset-normalizer<4,>=2 in ./myenv/lib/python3.12/site-packages (from requests<3,>=2.27->streamlit) (3.4.0)\n",
      "Requirement already satisfied: idna<4,>=2.5 in ./myenv/lib/python3.12/site-packages (from requests<3,>=2.27->streamlit) (3.10)\n",
      "Requirement already satisfied: urllib3<3,>=1.21.1 in ./myenv/lib/python3.12/site-packages (from requests<3,>=2.27->streamlit) (2.2.3)\n",
      "Requirement already satisfied: certifi>=2017.4.17 in ./myenv/lib/python3.12/site-packages (from requests<3,>=2.27->streamlit) (2024.8.30)\n",
      "Requirement already satisfied: markdown-it-py>=2.2.0 in ./myenv/lib/python3.12/site-packages (from rich<14,>=10.14.0->streamlit) (3.0.0)\n",
      "Requirement already satisfied: pygments<3.0.0,>=2.13.0 in ./myenv/lib/python3.12/site-packages (from rich<14,>=10.14.0->streamlit) (2.18.0)\n",
      "Requirement already satisfied: smmap<6,>=3.0.1 in ./myenv/lib/python3.12/site-packages (from gitdb<5,>=4.0.1->gitpython!=3.1.19,<4,>=3.0.7->streamlit) (5.0.1)\n",
      "Requirement already satisfied: MarkupSafe>=2.0 in ./myenv/lib/python3.12/site-packages (from jinja2->altair<6,>=4.0->streamlit) (3.0.2)\n",
      "Requirement already satisfied: attrs>=22.2.0 in ./myenv/lib/python3.12/site-packages (from jsonschema>=3.0->altair<6,>=4.0->streamlit) (24.2.0)\n",
      "Requirement already satisfied: jsonschema-specifications>=2023.03.6 in ./myenv/lib/python3.12/site-packages (from jsonschema>=3.0->altair<6,>=4.0->streamlit) (2024.10.1)\n",
      "Requirement already satisfied: referencing>=0.28.4 in ./myenv/lib/python3.12/site-packages (from jsonschema>=3.0->altair<6,>=4.0->streamlit) (0.35.1)\n",
      "Requirement already satisfied: rpds-py>=0.7.1 in ./myenv/lib/python3.12/site-packages (from jsonschema>=3.0->altair<6,>=4.0->streamlit) (0.21.0)\n",
      "Requirement already satisfied: mdurl~=0.1 in ./myenv/lib/python3.12/site-packages (from markdown-it-py>=2.2.0->rich<14,>=10.14.0->streamlit) (0.1.2)\n",
      "Requirement already satisfied: six>=1.5 in ./myenv/lib/python3.12/site-packages (from python-dateutil>=2.8.2->pandas<3,>=1.4.0->streamlit) (1.16.0)\n",
      "Requirement already satisfied: plotly in ./myenv/lib/python3.12/site-packages (5.24.1)\n",
      "Requirement already satisfied: tenacity>=6.2.0 in ./myenv/lib/python3.12/site-packages (from plotly) (9.0.0)\n",
      "Requirement already satisfied: packaging in ./myenv/lib/python3.12/site-packages (from plotly) (24.2)\n",
      "Requirement already satisfied: matplotlib in ./myenv/lib/python3.12/site-packages (3.9.2)\n",
      "Requirement already satisfied: contourpy>=1.0.1 in ./myenv/lib/python3.12/site-packages (from matplotlib) (1.3.1)\n",
      "Requirement already satisfied: cycler>=0.10 in ./myenv/lib/python3.12/site-packages (from matplotlib) (0.12.1)\n",
      "Requirement already satisfied: fonttools>=4.22.0 in ./myenv/lib/python3.12/site-packages (from matplotlib) (4.55.0)\n",
      "Requirement already satisfied: kiwisolver>=1.3.1 in ./myenv/lib/python3.12/site-packages (from matplotlib) (1.4.7)\n",
      "Requirement already satisfied: numpy>=1.23 in ./myenv/lib/python3.12/site-packages (from matplotlib) (2.1.3)\n",
      "Requirement already satisfied: packaging>=20.0 in ./myenv/lib/python3.12/site-packages (from matplotlib) (24.2)\n",
      "Requirement already satisfied: pillow>=8 in ./myenv/lib/python3.12/site-packages (from matplotlib) (11.0.0)\n",
      "Requirement already satisfied: pyparsing>=2.3.1 in ./myenv/lib/python3.12/site-packages (from matplotlib) (3.2.0)\n",
      "Requirement already satisfied: python-dateutil>=2.7 in ./myenv/lib/python3.12/site-packages (from matplotlib) (2.9.0.post0)\n",
      "Requirement already satisfied: six>=1.5 in ./myenv/lib/python3.12/site-packages (from python-dateutil>=2.7->matplotlib) (1.16.0)\n"
     ]
    }
   ],
   "source": [
    "#requirement.txt\n",
    "!pip install pandas\n",
    "!pip install openpyxl\n",
    "!pip install streamlit\n",
    "!pip install plotly\n",
    "!pip install matplotlib"
   ]
  },
  {
   "cell_type": "code",
   "execution_count": 4,
   "metadata": {},
   "outputs": [],
   "source": [
    "import pandas as pd\n",
    "import plotly.graph_objects as go\n",
    "import streamlit\n",
    "import plotly.express as px\n",
    "%matplotlib inline\n",
    "import matplotlib.pyplot as plt\n",
    "import plotly.io as pio\n",
    "import ipywidgets as widgets\n",
    "from IPython.display import display, HTML\n",
    "\n",
    "# Table transformer\n",
    "import openpyxl\n",
    "import numpy as np\n",
    "import os\n",
    "import re\n",
    "from openpyxl import Workbook\n",
    "from openpyxl.utils.dataframe import dataframe_to_rows\n",
    "from openpyxl.styles import PatternFill, Alignment, Border, Side, Font\n",
    "from dateutil.relativedelta import relativedelta"
   ]
  },
  {
   "cell_type": "markdown",
   "metadata": {},
   "source": [
    "# Transformers"
   ]
  },
  {
   "cell_type": "code",
   "execution_count": 28,
   "metadata": {},
   "outputs": [
    {
     "name": "stdout",
     "output_type": "stream",
     "text": [
      "Nova tabela criada com sucesso!\n"
     ]
    }
   ],
   "source": [
    "import pandas as pd\n",
    "\n",
    "# Leitura dos dados iniciais (substitua 'sua_tabela.xlsx' pelo nome do seu arquivo)\n",
    "df = pd.read_excel(NOME_TABELA_PRE)\n",
    "\n",
    "# Converter a coluna 'data_conclusao_do_teste' para o tipo datetime\n",
    "df['data_conclusao_do_teste'] = pd.to_datetime(df['data_conclusao_do_teste'])\n",
    "\n",
    "# Ordenar o DataFrame por 'usuario' e 'data_conclusao_do_teste'\n",
    "df = df.sort_values(by=['usuario', 'data_conclusao_do_teste'])\n",
    "\n",
    "# Criar uma lista para armazenar os novos registros\n",
    "novos_registros = []\n",
    "\n",
    "# Agrupar o DataFrame por 'usuario'\n",
    "grupos = df.groupby('usuario')\n",
    "\n",
    "# Iterar sobre cada grupo de usuário\n",
    "for usuario, grupo in grupos:\n",
    "    # Resetar o índice do grupo\n",
    "    grupo = grupo.reset_index(drop=True)\n",
    "    # Verificar se o usuário tem pelo menos duas provas\n",
    "    if len(grupo) >= 2:\n",
    "        # Selecionar a primeira e a segunda prova\n",
    "        prova1 = grupo.iloc[0]\n",
    "        prova2 = grupo.iloc[-1]\n",
    "        \n",
    "        # Criar um dicionário com os novos campos\n",
    "        novo_registro = {\n",
    "            NOME_COLUNA_NOME: usuario,\n",
    "            NOME_COLUNA_DATA_PROFICIENCIA: prova1['data_conclusao_do_teste'],\n",
    "            NOME_COLUNA_DATA_AVALIACAO: prova2['data_conclusao_do_teste'],\n",
    "            NOME_COLUNA_NIVEL_PROFICIENCIA: prova1['classificacao'],\n",
    "            NOME_COLUNA_NIVEL_AVALIACAO: prova2['classificacao'],\n",
    "            NOME_COLUNA_META_FINAL: prova2['meta_estabelecida'],  # Meta da última prova\n",
    "            NOME_COLUNA_PRAZO_META: prova2['prazo_meta_estabelecida'],  # Prazo da segunda prova\n",
    "            NOME_COLUNA_IDIOMA: 'Inglês'  # Definir 'Inglês' para todos os registros\n",
    "        }\n",
    "        \n",
    "        # Adicionar o novo registro à lista\n",
    "        novos_registros.append(novo_registro)\n",
    "\n",
    "# Criar um novo DataFrame com os novos registros\n",
    "nova_tabela = pd.DataFrame(novos_registros)\n",
    "\n",
    "# Opcional: salvar a nova tabela em um arquivo Excel\n",
    "nova_tabela.to_excel(NOME_TABELA_INICIAL, index=False)\n",
    "\n",
    "print(\"Nova tabela criada com sucesso!\")\n"
   ]
  },
  {
   "cell_type": "code",
   "execution_count": 30,
   "metadata": {},
   "outputs": [
    {
     "name": "stdout",
     "output_type": "stream",
     "text": [
      "A coluna 'Classificação da Última Avaliação' não foi encontrada no arquivo Excel.\n",
      "A coluna 'Status' não foi encontrada no arquivo Excel.\n",
      "1. A coluna 'Status' não foi encontrada no arquivo Excel. Continuando sem filtrar por 'Subsídio ativo'.\n",
      "Tabela salva com sucesso!\n"
     ]
    }
   ],
   "source": [
    "# Carregar os dados do arquivo\n",
    "data = pd.read_excel(NOME_TABELA_INICIAL)\n",
    "\n",
    "if NOME_COLUNA_NIVEL_AVALIACAO in data.columns:\n",
    "    print(f\"A coluna '{NOME_COLUNA_NIVEL_AVALIACAO}' não foi encontrada no arquivo Excel.\")\n",
    "\n",
    "if not NOME_COLUNA_NIVEL_PROFICIENCIA in data.columns:\n",
    "    print(f\"A coluna '{NOME_COLUNA_NIVEL_PROFICIENCIA}' não foi encontrada no arquivo Excel.\")\n",
    "if not NOME_COLUNA_STATUS in data.columns:\n",
    "    print(f\"A coluna '{NOME_COLUNA_STATUS}' não foi encontrada no arquivo Excel.\")\n",
    "if not NOME_COLUNA_NOME in data.columns:\n",
    "    print(f\"A coluna '{NOME_COLUNA_NOME}' não foi encontrada no arquivo Excel.\")\n",
    "if not NOME_COLUNA_IDIOMA in data.columns:\n",
    "    print(f\"A coluna '{NOME_COLUNA_IDIOMA}' não foi encontrada no arquivo Excel.\")\n",
    "if not NOME_COLUNA_DATA_PROFICIENCIA in data.columns:\n",
    "    print(f\"A coluna '{NOME_COLUNA_DATA_PROFICIENCIA}' não foi encontrada no arquivo Excel.\")\n",
    "if not NOME_COLUNA_DATA_AVALIACAO in data.columns:\n",
    "    print(f\"A coluna '{NOME_COLUNA_DATA_AVALIACAO}' não foi encontrada no arquivo Excel.\")\n",
    "if not NOME_COLUNA_META_FINAL in data.columns:\n",
    "    print(f\"A coluna '{NOME_COLUNA_META_FINAL}' não foi encontrada no arquivo Excel.\")\n",
    "\n",
    "\n",
    "# Verificar e substituir 'Ground zero' por 'Marco zero' nas colunas de classificações\n",
    "if NOME_COLUNA_NIVEL_AVALIACAO in data.columns:\n",
    "    data[NOME_COLUNA_NIVEL_AVALIACAO] = data[NOME_COLUNA_NIVEL_AVALIACAO].replace('Ground zero', 'Marco zero')\n",
    "    data[NOME_COLUNA_NIVEL_AVALIACAO] = data[NOME_COLUNA_NIVEL_AVALIACAO].replace('Marco cero', 'Marco zero')\n",
    "if NOME_COLUNA_NIVEL_PROFICIENCIA in data.columns:\n",
    "    data[NOME_COLUNA_NIVEL_PROFICIENCIA] = data[NOME_COLUNA_NIVEL_PROFICIENCIA].replace('Ground zero', 'Marco zero')\n",
    "    data[NOME_COLUNA_NIVEL_PROFICIENCIA] = data[NOME_COLUNA_NIVEL_PROFICIENCIA].replace('Marco cero', 'Marco zero')\n",
    "\n",
    "# Verificar se a coluna 'Status' existe antes de filtrar\n",
    "if NOME_COLUNA_STATUS in data.columns:\n",
    "    data.rename(columns=lambda x: x.strip(), inplace=True)  # Remover espaços dos nomes das colunas\n",
    "    if NOME_COLUNA_STATUS in data.columns:\n",
    "        # Filtrar apenas os usuários com 'Subsídio ativo'\n",
    "        data = data[data[NOME_COLUNA_STATUS] == NOME_STATUS_ATIVO_FILTRO]\n",
    "    else:\n",
    "        print(f\"2. A coluna '{NOME_COLUNA_STATUS}' não foi encontrada no arquivo Excel. Continuando sem filtrar por '{NOME_STATUS_ATIVO_FILTRO}'.\")\n",
    "else:\n",
    "    print(f\"1. A coluna '{NOME_COLUNA_STATUS}' não foi encontrada no arquivo Excel. Continuando sem filtrar por '{NOME_STATUS_ATIVO_FILTRO}'.\")\n",
    "\n",
    "# Ordenar os dados pelo nome do colaborador\n",
    "if NOME_COLUNA_NOME in data.columns:\n",
    "    data = data.sort_values(by=NOME_COLUNA_NOME)\n",
    "else:\n",
    "    raise KeyError(f\"A coluna '{NOME_COLUNA_NOME}' não foi encontrada no arquivo Excel.\")\n",
    "\n",
    "# Lista de classificações da régua da União Europeia (modificada)\n",
    "idiomas = data[NOME_COLUNA_IDIOMA].unique()\n",
    "tabelas_classificacoes = {}\n",
    "for idioma in idiomas:\n",
    "    classificacoes_idioma = (\n",
    "        data[data[NOME_COLUNA_IDIOMA] == idioma][NOME_COLUNA_NIVEL_AVALIACAO].unique().tolist() +\n",
    "        data[data[NOME_COLUNA_IDIOMA] == idioma][NOME_COLUNA_NIVEL_PROFICIENCIA].unique().tolist()\n",
    "    )\n",
    "    tabelas_classificacoes[idioma] = list(set(classificacoes_idioma))  # Remover duplicatas\n",
    "\n",
    "# Função para ordenar as classificações\n",
    "def ordenar_classificacoes(classificacoes):\n",
    "    def classificacao_key(nivel):\n",
    "        if isinstance(nivel, str) and nivel.lower() == 'marco zero':\n",
    "            return (0, 0, 0)\n",
    "        elif isinstance(nivel, str):\n",
    "            if '.' not in nivel:\n",
    "                letra = nivel\n",
    "                return (ord(letra[0].upper()) - ord('A') + int(letra[1])/10, 0, 0)\n",
    "            nivel_split = nivel.split('.')\n",
    "            letra = nivel_split[0]\n",
    "            plus = 0\n",
    "            if '+' in letra:\n",
    "                letra = letra[:-1]\n",
    "                plus = 0.1\n",
    "            numero = int(nivel_split[1])\n",
    "            return (ord(letra[0].upper()) - ord('A') + int(letra[1])/10, plus, numero)\n",
    "        return (float('inf'), 0, 0)\n",
    "\n",
    "    return sorted([x for x in classificacoes if pd.notna(x) and x != \"\"], key=classificacao_key)\n",
    "\n",
    "# Função para preencher a tabela transformada\n",
    "def preencher_tabela_transformada(row, classificacoes):\n",
    "    linha_usuario = {nivel: np.nan for nivel in classificacoes}\n",
    "    ciclo_origem = row.get(NOME_COLUNA_DATA_PROFICIENCIA, None)\n",
    "    ciclo_atual = row.get(NOME_COLUNA_DATA_AVALIACAO, None)\n",
    "    prazo_meta = row.get(NOME_COLUNA_PRAZO_META, None)\n",
    "\n",
    "    if pd.notna(ciclo_origem):\n",
    "        ciclo_origem = pd.to_datetime(ciclo_origem).strftime('%m/%Y')\n",
    "    if pd.notna(ciclo_atual):\n",
    "        ciclo_atual = pd.to_datetime(ciclo_atual).strftime('%m/%Y')\n",
    "    if pd.notna(prazo_meta):\n",
    "        prazo_meta = pd.to_datetime(prazo_meta).strftime('%m/%Y')\n",
    "\n",
    "    ultima_classificacao = row.get(NOME_COLUNA_NIVEL_AVALIACAO, None)\n",
    "    proficiencia_original = row.get(NOME_COLUNA_NIVEL_PROFICIENCIA, None)\n",
    "    meta_final = row.get(NOME_COLUNA_META_FINAL, None)\n",
    "\n",
    "    # Preencher ciclo de origem\n",
    "    if proficiencia_original and pd.notna(proficiencia_original) and proficiencia_original in classificacoes:\n",
    "        linha_usuario[proficiencia_original] = ciclo_origem\n",
    "\n",
    "    # Preencher última classificação\n",
    "    if ultima_classificacao and pd.notna(ultima_classificacao) and ultima_classificacao in classificacoes:\n",
    "        linha_usuario[ultima_classificacao] = ciclo_atual\n",
    "\n",
    "    # Preencher meta final\n",
    "    if meta_final and pd.notna(meta_final) and meta_final in classificacoes:\n",
    "        linha_usuario[meta_final] = prazo_meta\n",
    "\n",
    "    # Colorir o caminho percorrido\n",
    "    if (ultima_classificacao and proficiencia_original and\n",
    "        ultima_classificacao in classificacoes and proficiencia_original in classificacoes and\n",
    "        ciclo_atual):\n",
    "        indices = [classificacoes.index(ultima_classificacao), classificacoes.index(proficiencia_original)]\n",
    "        for i in range(min(indices), max(indices) + 1):\n",
    "            if classificacoes[i] not in [ultima_classificacao, proficiencia_original]:\n",
    "                linha_usuario[classificacoes[i]] = 'Caminho Percorrido'\n",
    "\n",
    "    # Adicionar caminho a percorrer entre ciclo_atual e prazo_meta\n",
    "    if (ultima_classificacao and meta_final and\n",
    "        ultima_classificacao in classificacoes and meta_final in classificacoes):\n",
    "        indices = [classificacoes.index(ultima_classificacao), classificacoes.index(meta_final)]\n",
    "        for i in range(min(indices), max(indices) + 1):\n",
    "            if classificacoes[i] not in [ultima_classificacao, meta_final, proficiencia_original]:\n",
    "                linha_usuario[classificacoes[i]] = 'Caminho a Percorrer'\n",
    "\n",
    "    # Adicionar caminho a percorrer entre ciclo_origem e prazo_meta se ciclo_atual estiver ausente\n",
    "    if not ciclo_atual or pd.isna(ciclo_atual):\n",
    "        if (proficiencia_original and meta_final and\n",
    "            proficiencia_original in classificacoes and meta_final in classificacoes):\n",
    "            indices = [classificacoes.index(proficiencia_original), classificacoes.index(meta_final)]\n",
    "            for i in range(min(indices), max(indices) + 1):\n",
    "                if classificacoes[i] not in [proficiencia_original, meta_final]:\n",
    "                    linha_usuario[classificacoes[i]] = 'Caminho a Percorrer'\n",
    "\n",
    "    return pd.Series(linha_usuario)\n",
    "\n",
    "# Deletar o arquivo existente, se houver\n",
    "if os.path.exists(NOME_TABELA_TRANSFORMADA):\n",
    "    os.remove(NOME_TABELA_TRANSFORMADA)\n",
    "\n",
    "# Criar tabelas separadas por idioma e salvar em Excel\n",
    "with pd.ExcelWriter(NOME_TABELA_TRANSFORMADA, engine='openpyxl') as writer:\n",
    "    for idioma in idiomas:\n",
    "        classificacoes = ordenar_classificacoes(tabelas_classificacoes[idioma])\n",
    "        data_filtrada = data[data[NOME_COLUNA_IDIOMA] == idioma]\n",
    "        tabela_transformada = data_filtrada.apply(preencher_tabela_transformada, axis=1, classificacoes=classificacoes)\n",
    "        usuarios = data_filtrada[NOME_COLUNA_NOME]\n",
    "        tabela_transformada.index = usuarios\n",
    "        tabela_transformada.to_excel(writer, sheet_name=idioma)\n",
    "\n",
    "        # Ajustar tamanhos das células e aplicar cores\n",
    "        workbook = writer.book\n",
    "        worksheet = writer.sheets[idioma]\n",
    "\n",
    "        # Garantir que a planilha esteja visível\n",
    "        worksheet.sheet_state = 'visible'\n",
    "\n",
    "        # Ajustar largura das colunas\n",
    "        for col in worksheet.columns:\n",
    "            max_length = 0\n",
    "            column = col[0].column_letter  # Coluna\n",
    "            for cell in col:\n",
    "                try:\n",
    "                    if cell.value is not None:\n",
    "                        cell_length = len(str(cell.value))\n",
    "                        if cell_length > max_length:\n",
    "                            max_length = cell_length\n",
    "                except:\n",
    "                    pass\n",
    "            adjusted_width = (max_length + 2)\n",
    "            worksheet.column_dimensions[column].width = adjusted_width\n",
    "\n",
    "        # Aplicar cores ao cabeçalho e células\n",
    "        header_fill = PatternFill(start_color='1f2f36', end_color='1f2f36', fill_type='solid')\n",
    "        cell_fill = PatternFill(start_color='391e70', end_color='391e70', fill_type='solid')\n",
    "        cell_fill_meta_final = PatternFill(start_color='adc22f', end_color='adc22f', fill_type='solid')\n",
    "        cell_fill_caminho_a_percorrer = PatternFill(start_color='adc22f', end_color='adc22f', fill_type='solid')\n",
    "        header_alignment = Alignment(horizontal='center', vertical='center')\n",
    "        cell_alignment = Alignment(horizontal='center', vertical='center')\n",
    "        thin_border = Border(left=Side(style='thin'), right=Side(style='thin'),\n",
    "                             top=Side(style='thin'), bottom=Side(style='thin'))\n",
    "        header_font = Font(color='FFFFFF')\n",
    "\n",
    "        # Colorir cabeçalho\n",
    "        for cell in worksheet[1]:\n",
    "            cell.fill = header_fill\n",
    "            cell.alignment = header_alignment\n",
    "            cell.font = header_font  # Texto branco\n",
    "            cell.border = thin_border\n",
    "\n",
    "        # Colorir primeira coluna\n",
    "        for cell in worksheet['A']:\n",
    "            if cell.row > 1:\n",
    "                cell.fill = header_fill\n",
    "                cell.font = header_font\n",
    "                cell.alignment = cell_alignment\n",
    "                cell.border = thin_border\n",
    "\n",
    "        # Colorir células preenchidas, o caminho percorrido, e aplicar bordas e alinhamento\n",
    "        for row in worksheet.iter_rows(min_row=2, max_row=worksheet.max_row,\n",
    "                                       min_col=2, max_col=worksheet.max_column):\n",
    "            aux = 0\n",
    "            for cell in row:\n",
    "                if cell.value not in ['Caminho Percorrido', 'Caminho a Percorrer', \"\"]:\n",
    "                    aux += 1\n",
    "\n",
    "            aux = 0\n",
    "            for cell in row:\n",
    "                if cell.value == 'Caminho Percorrido':\n",
    "                    cell.fill = cell_fill\n",
    "                    cell.value = \"\"\n",
    "                elif cell.value == 'Caminho a Percorrer':\n",
    "                    cell.fill = cell_fill_caminho_a_percorrer\n",
    "                    cell.value = \"\"\n",
    "                    aux = 2\n",
    "                elif cell.value is not None and cell.value != \"\":\n",
    "                    cell.fill = cell_fill\n",
    "\n",
    "                    aux += 1\n",
    "                    if aux == 3:\n",
    "                        cell.fill = cell_fill_meta_final\n",
    "                    else:\n",
    "                        cell.font = header_font\n",
    "                    cell.border = thin_border\n",
    "                cell.alignment = cell_alignment\n",
    "\n",
    "        # Fixar primeira linha e primeira coluna\n",
    "        worksheet.freeze_panes = 'B2'\n",
    "\n",
    "print(\"Tabela salva com sucesso!\")\n"
   ]
  },
  {
   "cell_type": "markdown",
   "metadata": {},
   "source": [
    "# Database"
   ]
  },
  {
   "cell_type": "code",
   "execution_count": 81,
   "metadata": {},
   "outputs": [
    {
     "data": {
      "text/html": [
       "<div>\n",
       "<style scoped>\n",
       "    .dataframe tbody tr th:only-of-type {\n",
       "        vertical-align: middle;\n",
       "    }\n",
       "\n",
       "    .dataframe tbody tr th {\n",
       "        vertical-align: top;\n",
       "    }\n",
       "\n",
       "    .dataframe thead th {\n",
       "        text-align: right;\n",
       "    }\n",
       "</style>\n",
       "<table border=\"1\" class=\"dataframe\">\n",
       "  <thead>\n",
       "    <tr style=\"text-align: right;\">\n",
       "      <th></th>\n",
       "      <th>Colaborador</th>\n",
       "      <th>Marco zero</th>\n",
       "      <th>A1.1</th>\n",
       "      <th>A1.2</th>\n",
       "      <th>A2.1</th>\n",
       "      <th>A2.2</th>\n",
       "      <th>B1.1</th>\n",
       "      <th>B1.2</th>\n",
       "      <th>B2.1</th>\n",
       "      <th>B2.2</th>\n",
       "      <th>B2+.1</th>\n",
       "      <th>B2+.2</th>\n",
       "      <th>C1.1</th>\n",
       "      <th>C1.2</th>\n",
       "      <th>C1.3</th>\n",
       "    </tr>\n",
       "  </thead>\n",
       "  <tbody>\n",
       "    <tr>\n",
       "      <th>0</th>\n",
       "      <td>Aldys Lopez</td>\n",
       "      <td></td>\n",
       "      <td></td>\n",
       "      <td>05/2024</td>\n",
       "      <td></td>\n",
       "      <td></td>\n",
       "      <td></td>\n",
       "      <td></td>\n",
       "      <td></td>\n",
       "      <td>05/2026</td>\n",
       "      <td></td>\n",
       "      <td></td>\n",
       "      <td></td>\n",
       "      <td></td>\n",
       "      <td></td>\n",
       "    </tr>\n",
       "    <tr>\n",
       "      <th>1</th>\n",
       "      <td>Andrea Alexandra Suntaxi Soto</td>\n",
       "      <td></td>\n",
       "      <td></td>\n",
       "      <td></td>\n",
       "      <td></td>\n",
       "      <td></td>\n",
       "      <td></td>\n",
       "      <td></td>\n",
       "      <td>05/2023</td>\n",
       "      <td></td>\n",
       "      <td>07/2024</td>\n",
       "      <td></td>\n",
       "      <td>07/2026</td>\n",
       "      <td></td>\n",
       "      <td></td>\n",
       "    </tr>\n",
       "    <tr>\n",
       "      <th>2</th>\n",
       "      <td>Anny Lozano Cardenas</td>\n",
       "      <td></td>\n",
       "      <td></td>\n",
       "      <td></td>\n",
       "      <td>06/2023</td>\n",
       "      <td>07/2024</td>\n",
       "      <td></td>\n",
       "      <td></td>\n",
       "      <td>07/2026</td>\n",
       "      <td></td>\n",
       "      <td></td>\n",
       "      <td></td>\n",
       "      <td></td>\n",
       "      <td></td>\n",
       "      <td></td>\n",
       "    </tr>\n",
       "    <tr>\n",
       "      <th>3</th>\n",
       "      <td>Antonio Lopez</td>\n",
       "      <td></td>\n",
       "      <td></td>\n",
       "      <td></td>\n",
       "      <td></td>\n",
       "      <td></td>\n",
       "      <td></td>\n",
       "      <td>02/2023</td>\n",
       "      <td></td>\n",
       "      <td>04/2024</td>\n",
       "      <td></td>\n",
       "      <td>04/2026</td>\n",
       "      <td></td>\n",
       "      <td></td>\n",
       "      <td></td>\n",
       "    </tr>\n",
       "    <tr>\n",
       "      <th>4</th>\n",
       "      <td>Anyee Pamela Castillo Zambrano</td>\n",
       "      <td>05/2023</td>\n",
       "      <td></td>\n",
       "      <td>07/2024</td>\n",
       "      <td></td>\n",
       "      <td>07/2026</td>\n",
       "      <td></td>\n",
       "      <td></td>\n",
       "      <td></td>\n",
       "      <td></td>\n",
       "      <td></td>\n",
       "      <td></td>\n",
       "      <td></td>\n",
       "      <td></td>\n",
       "      <td></td>\n",
       "    </tr>\n",
       "  </tbody>\n",
       "</table>\n",
       "</div>"
      ],
      "text/plain": [
       "                      Colaborador Marco zero A1.1     A1.2     A2.1     A2.2  \\\n",
       "0                     Aldys Lopez                  05/2024                     \n",
       "1   Andrea Alexandra Suntaxi Soto                                              \n",
       "2            Anny Lozano Cardenas                           06/2023  07/2024   \n",
       "3                   Antonio Lopez                                              \n",
       "4  Anyee Pamela Castillo Zambrano    05/2023       07/2024           07/2026   \n",
       "\n",
       "  B1.1     B1.2     B2.1     B2.2    B2+.1    B2+.2     C1.1 C1.2 C1.3  \n",
       "0                         05/2026                                       \n",
       "1                05/2023           07/2024           07/2026            \n",
       "2                07/2026                                                \n",
       "3       02/2023           04/2024           04/2026                     \n",
       "4                                                                       "
      ]
     },
     "execution_count": 81,
     "metadata": {},
     "output_type": "execute_result"
    }
   ],
   "source": [
    "df = pd.read_excel(NOME_TABELA_TRANSFORMADA)\n",
    "df.fillna(\"\", inplace=True)\n",
    "df.head(5)"
   ]
  },
  {
   "cell_type": "code",
   "execution_count": 82,
   "metadata": {},
   "outputs": [],
   "source": [
    "data_original = pd.read_excel(NOME_TABELA_INICIAL, sheet_name=0)\n",
    "transformed_single_language = pd.read_excel(NOME_TABELA_TRANSFORMADA, sheet_name='Inglês')"
   ]
  },
  {
   "cell_type": "markdown",
   "metadata": {},
   "source": [
    "# TeamMap"
   ]
  },
  {
   "cell_type": "markdown",
   "metadata": {
    "jp-MarkdownHeadingCollapsed": true
   },
   "source": [
    "## Distribuição de pessoas por nivel de proficiência"
   ]
  },
  {
   "cell_type": "code",
   "execution_count": 83,
   "metadata": {},
   "outputs": [
    {
     "data": {
      "text/html": [
       "<iframe\n",
       "    scrolling=\"no\"\n",
       "    width=\"100%\"\n",
       "    height=\"545px\"\n",
       "    src=\"iframe_figures/figure_83.html\"\n",
       "    frameborder=\"0\"\n",
       "    allowfullscreen\n",
       "></iframe>\n"
      ]
     },
     "metadata": {},
     "output_type": "display_data"
    }
   ],
   "source": [
    "# Definir o renderizador para um compatível com interações\n",
    "pio.renderers.default = \"iframe\"  \n",
    "\n",
    "# Carregar dados\n",
    "\n",
    "# Renomear a coluna para facilitar o acesso\n",
    "data_original.rename(columns={NOME_COLUNA_NIVEL_PROFICIENCIA: 'Proficiency'}, inplace=True)\n",
    "color_scale = [\n",
    "    \"#1f77b4\",  # Marco zero\n",
    "    \"#aec7e8\",  # A1.1\n",
    "    \"#ff7f0e\",  # A1.2\n",
    "    \"#ffbb78\",  # A2.1\n",
    "    \"#2ca02c\",  # A2.2\n",
    "    \"#98df8a\",  # B1.1\n",
    "    \"#d62728\",  # B1.2\n",
    "    \"#ff9896\",  # B2.1\n",
    "    \"#9467bd\",  # B2.2\n",
    "    \"#c5b0d5\",  # B2+.1\n",
    "    \"#8c564b\",  # B2+.2\n",
    "    \"#c49c94\",  # C1.1\n",
    "    \"#e377c2\",  # C1.2\n",
    "    \"#f7b6d2\",  # C1.3\n",
    "    \"#7f7f7f\",  # C2\n",
    "]\n",
    "\n",
    "# Substituir 'Ground zero' por 'Marco zero'\n",
    "data_original['Proficiency'] = data_original['Proficiency'].replace('Ground zero', 'Marco zero')\n",
    "data_original['Proficiency'] = data_original['Proficiency'].replace('Marco cero', 'Marco zero')\n",
    "\n",
    "# Definir a ordem dos níveis do CEFR\n",
    "niveis_cefr = [\n",
    "    \"Marco zero\", \"A1.1\", \"A1.2\", \"A2.1\", \"A2.2\", \n",
    "    \"B1.1\", \"B1.2\", \"B2.1\", \"B2.2\", \"B2+.1\", \n",
    "    \"B2+.2\", \"C1.1\", \"C1.2\", \"C1.3\", \"C2\"\n",
    "]\n",
    "\n",
    "# Contar ocorrências de cada nível do CEFR\n",
    "contagem_proficiencia = data_original['Proficiency'].value_counts().reindex(niveis_cefr, fill_value=0)\n",
    "\n",
    "# Calcular porcentagens e adicionar o símbolo %\n",
    "porcentagem_proficiencia = (contagem_proficiencia / contagem_proficiencia.sum() * 100).round(2).astype(str) + '%'\n",
    "\n",
    "# Preparar os dados para plotagem\n",
    "dados_proficiencia = pd.DataFrame({\n",
    "    \"Nível de Proficiência\": niveis_cefr,\n",
    "    \"Contagem\": contagem_proficiencia.values,\n",
    "    \"Porcentagem\": porcentagem_proficiencia.values\n",
    "})\n",
    "\n",
    "# Criar um gráfico de barras com uma escala de cores discreta, atualizando o texto para incluir as porcentagens diretamente nas barras\n",
    "fig = px.bar(\n",
    "    dados_proficiencia,\n",
    "    x=\"Nível de Proficiência\",\n",
    "    y=\"Contagem\",\n",
    "    title=\"Distribuição dos Níveis de Proficiência\",\n",
    "    labels={\"Contagem\": \"Número de Pessoas\", \"Nível de Proficiência\": \"Níveis do CEFR\"},\n",
    "    text=\"Porcentagem\",  # Mostrar a porcentagem diretamente em cada barra\n",
    "    color=\"Nível de Proficiência\",  # Adicionar diferenciação de cor\n",
    "    color_discrete_sequence=color_scale  # Usar uma escala de cores qualitativa\n",
    ")\n",
    "\n",
    "# Melhorar o layout e a estética\n",
    "fig.update_traces(textposition='outside')\n",
    "fig.update_layout(\n",
    "    xaxis=dict(categoryorder='array', categoryarray=niveis_cefr),\n",
    "    template=\"plotly_white\",  # Tema claro para maior destaque\n",
    "    title_font=dict(size=20, family='Arial, bold'),\n",
    "    xaxis_title_font=dict(size=14, family='Arial'),\n",
    "    yaxis_title_font=dict(size=14, family='Arial'),\n",
    ")\n",
    "\n",
    "# Mostrar o gráfico\n",
    "fig.show()\n"
   ]
  },
  {
   "cell_type": "code",
   "execution_count": 84,
   "metadata": {},
   "outputs": [
    {
     "data": {
      "text/html": [
       "<iframe\n",
       "    scrolling=\"no\"\n",
       "    width=\"100%\"\n",
       "    height=\"545px\"\n",
       "    src=\"iframe_figures/figure_84.html\"\n",
       "    frameborder=\"0\"\n",
       "    allowfullscreen\n",
       "></iframe>\n"
      ]
     },
     "metadata": {},
     "output_type": "display_data"
    }
   ],
   "source": [
    "# Definir o renderizador para um compatível com interações\n",
    "pio.renderers.default = \"iframe\"  \n",
    "\n",
    "# Carregar dados\n",
    "\n",
    "# Renomear a coluna para facilitar o acesso\n",
    "data_original.rename(columns={NOME_COLUNA_NIVEL_PROFICIENCIA: 'Proficiency'}, inplace=True)\n",
    "\n",
    "# Substituir 'Ground zero' por 'Marco zero'\n",
    "data_original['Proficiency'] = data_original['Proficiency'].replace('Ground zero', 'Marco zero')\n",
    "\n",
    "# Definir a ordem dos níveis do CEFR\n",
    "niveis_cefr = [\n",
    "    \"Marco zero\", \"A1.1\", \"A1.2\", \"A2.1\", \"A2.2\", \n",
    "    \"B1.1\", \"B1.2\", \"B2.1\", \"B2.2\", \"B2+.1\", \n",
    "    \"B2+.2\", \"C1.1\", \"C1.2\", \"C1.3\", \"C2\"\n",
    "]\n",
    "\n",
    "# Contar ocorrências de cada nível do CEFR\n",
    "contagem_proficiencia = data_original['Proficiency'].value_counts().reindex(niveis_cefr, fill_value=0)\n",
    "\n",
    "# Calcular porcentagens e adicionar o símbolo %\n",
    "porcentagem_proficiencia = (contagem_proficiencia / contagem_proficiencia.sum() * 100).round(2)\n",
    "\n",
    "# Preparar os dados para plotagem\n",
    "dados_proficiencia = pd.DataFrame({\n",
    "    \"Nível de Proficiência\": niveis_cefr,\n",
    "    \"Contagem\": contagem_proficiencia.values,\n",
    "    \"Porcentagem\": porcentagem_proficiencia.values\n",
    "})\n",
    "\n",
    "# Criar um gráfico de barras com uma escala de cores discreta, mostrando porcentagem no eixo Y e número de pessoas como texto acima das barras\n",
    "fig = px.bar(\n",
    "    dados_proficiencia,\n",
    "    x=\"Nível de Proficiência\",\n",
    "    y=\"Porcentagem\",\n",
    "    title=\"Distribuição dos Níveis de Proficiência\",\n",
    "    labels={\"Porcentagem\": \"Porcentagem (%)\", \"Nível de Proficiência\": \"Níveis do CEFR\"},\n",
    "    text=\"Contagem\",  # Mostrar a contagem de pessoas diretamente em cada barra\n",
    "    color=\"Nível de Proficiência\",  # Adicionar diferenciação de cor\n",
    "    color_discrete_sequence=color_scale  # Usar uma escala de cores qualitativa\n",
    ")\n",
    "\n",
    "# Melhorar o layout e a estética\n",
    "fig.update_traces(textposition='outside')\n",
    "fig.update_layout(\n",
    "    xaxis=dict(categoryorder='array', categoryarray=niveis_cefr),\n",
    "    template=\"plotly_white\",  # Tema claro para maior destaque\n",
    "    title_font=dict(size=20, family='Arial, bold'),\n",
    "    xaxis_title_font=dict(size=14, family='Arial'),\n",
    "    yaxis_title_font=dict(size=14, family='Arial'),\n",
    ")\n",
    "\n",
    "# Mostrar o gráfico\n",
    "fig.show()\n"
   ]
  },
  {
   "cell_type": "markdown",
   "metadata": {},
   "source": [
    "## Mapeamento individual"
   ]
  },
  {
   "cell_type": "code",
   "execution_count": 53,
   "metadata": {},
   "outputs": [
    {
     "data": {
      "application/vnd.plotly.v1+json": {
       "config": {
        "plotlyServerURL": "https://plot.ly"
       },
       "data": [
        {
         "line": {
          "color": "#391e70",
          "width": 2
         },
         "mode": "lines",
         "showlegend": false,
         "type": "scatter",
         "x": [
          "Marco zero",
          "A1.1"
         ],
         "y": [
          "ADRIANO BEZERRA DOS SANTOS",
          "ADRIANO BEZERRA DOS SANTOS"
         ]
        },
        {
         "line": {
          "color": "#adc22f",
          "width": 2
         },
         "mode": "lines",
         "showlegend": false,
         "type": "scatter",
         "x": [
          "A1.1",
          "A1.2"
         ],
         "y": [
          "ADRIANO BEZERRA DOS SANTOS",
          "ADRIANO BEZERRA DOS SANTOS"
         ]
        },
        {
         "line": {
          "color": "#391e70",
          "width": 2
         },
         "mode": "lines",
         "showlegend": false,
         "type": "scatter",
         "x": [
          "A1.1",
          "A1.2"
         ],
         "y": [
          "ANA MARIA TOMAZ UVINHA",
          "ANA MARIA TOMAZ UVINHA"
         ]
        },
        {
         "line": {
          "color": "#adc22f",
          "width": 2
         },
         "mode": "lines",
         "showlegend": false,
         "type": "scatter",
         "x": [
          "A1.2",
          "A2.1"
         ],
         "y": [
          "ANA MARIA TOMAZ UVINHA",
          "ANA MARIA TOMAZ UVINHA"
         ]
        },
        {
         "line": {
          "color": "#391e70",
          "width": 2
         },
         "mode": "lines",
         "showlegend": false,
         "type": "scatter",
         "x": [
          "Marco zero",
          "A1.1"
         ],
         "y": [
          "ANDERSON RODRIGO DE OLIVEIRA",
          "ANDERSON RODRIGO DE OLIVEIRA"
         ]
        },
        {
         "line": {
          "color": "#adc22f",
          "width": 2
         },
         "mode": "lines",
         "showlegend": false,
         "type": "scatter",
         "x": [
          "A1.1",
          "A1.2"
         ],
         "y": [
          "ANDERSON RODRIGO DE OLIVEIRA",
          "ANDERSON RODRIGO DE OLIVEIRA"
         ]
        },
        {
         "line": {
          "color": "#391e70",
          "width": 2
         },
         "mode": "lines",
         "showlegend": false,
         "type": "scatter",
         "x": [
          "B1.2",
          "B2.1"
         ],
         "y": [
          "Adriano Jeronimo Veloso Do Carmo",
          "Adriano Jeronimo Veloso Do Carmo"
         ]
        },
        {
         "line": {
          "color": "#adc22f",
          "width": 2
         },
         "mode": "lines",
         "showlegend": false,
         "type": "scatter",
         "x": [
          "B2.1",
          "B2.2"
         ],
         "y": [
          "Adriano Jeronimo Veloso Do Carmo",
          "Adriano Jeronimo Veloso Do Carmo"
         ]
        },
        {
         "line": {
          "color": "#391e70",
          "width": 2
         },
         "mode": "lines",
         "showlegend": false,
         "type": "scatter",
         "x": [
          "B1.2",
          "B2.1"
         ],
         "y": [
          "Alisson Saccoman",
          "Alisson Saccoman"
         ]
        },
        {
         "line": {
          "color": "#adc22f",
          "width": 2
         },
         "mode": "lines",
         "showlegend": false,
         "type": "scatter",
         "x": [
          "B2.1",
          "B2.2"
         ],
         "y": [
          "Alisson Saccoman",
          "Alisson Saccoman"
         ]
        },
        {
         "line": {
          "color": "#391e70",
          "width": 2
         },
         "mode": "lines",
         "showlegend": false,
         "type": "scatter",
         "x": [
          "Marco zero",
          "A1.1"
         ],
         "y": [
          "Ana Paula Carvalho",
          "Ana Paula Carvalho"
         ]
        },
        {
         "line": {
          "color": "#adc22f",
          "width": 2
         },
         "mode": "lines",
         "showlegend": false,
         "type": "scatter",
         "x": [
          "A1.1",
          "A1.2"
         ],
         "y": [
          "Ana Paula Carvalho",
          "Ana Paula Carvalho"
         ]
        },
        {
         "line": {
          "color": "#391e70",
          "width": 2
         },
         "mode": "lines",
         "showlegend": false,
         "type": "scatter",
         "x": [
          "Marco zero",
          "A1.1"
         ],
         "y": [
          "Andreia de Almeida Bueno",
          "Andreia de Almeida Bueno"
         ]
        },
        {
         "line": {
          "color": "#adc22f",
          "width": 2
         },
         "mode": "lines",
         "showlegend": false,
         "type": "scatter",
         "x": [
          "A1.1",
          "A1.2"
         ],
         "y": [
          "Andreia de Almeida Bueno",
          "Andreia de Almeida Bueno"
         ]
        },
        {
         "line": {
          "color": "#391e70",
          "width": 2
         },
         "mode": "lines",
         "showlegend": false,
         "type": "scatter",
         "x": [
          "A2.1",
          "A2.2"
         ],
         "y": [
          "André Jorel",
          "André Jorel"
         ]
        },
        {
         "line": {
          "color": "#adc22f",
          "width": 2
         },
         "mode": "lines",
         "showlegend": false,
         "type": "scatter",
         "x": [
          "A2.2",
          "B1.1"
         ],
         "y": [
          "André Jorel",
          "André Jorel"
         ]
        },
        {
         "line": {
          "color": "#391e70",
          "width": 2
         },
         "mode": "lines",
         "showlegend": false,
         "type": "scatter",
         "x": [
          "B1.1",
          "B1.2"
         ],
         "y": [
          "André Teixeira",
          "André Teixeira"
         ]
        },
        {
         "line": {
          "color": "#adc22f",
          "width": 2
         },
         "mode": "lines",
         "showlegend": false,
         "type": "scatter",
         "x": [
          "B1.2",
          "B2.1"
         ],
         "y": [
          "André Teixeira",
          "André Teixeira"
         ]
        },
        {
         "line": {
          "color": "#391e70",
          "width": 2
         },
         "mode": "lines",
         "showlegend": false,
         "type": "scatter",
         "x": [
          "A2.2",
          "B1.1"
         ],
         "y": [
          "Ariel Fontanive",
          "Ariel Fontanive"
         ]
        },
        {
         "line": {
          "color": "#adc22f",
          "width": 2
         },
         "mode": "lines",
         "showlegend": false,
         "type": "scatter",
         "x": [
          "B1.1",
          "B1.2"
         ],
         "y": [
          "Ariel Fontanive",
          "Ariel Fontanive"
         ]
        },
        {
         "line": {
          "color": "#adc22f",
          "width": 2
         },
         "mode": "lines",
         "showlegend": false,
         "type": "scatter",
         "x": [
          "C1.2",
          "C1.3"
         ],
         "y": [
          "Atny Miho Saito",
          "Atny Miho Saito"
         ]
        },
        {
         "line": {
          "color": "#391e70",
          "width": 2
         },
         "mode": "lines",
         "showlegend": false,
         "type": "scatter",
         "x": [
          "B2+.1",
          "B2+.2"
         ],
         "y": [
          "Beatriz Sandrim Ferreira",
          "Beatriz Sandrim Ferreira"
         ]
        },
        {
         "line": {
          "color": "#adc22f",
          "width": 2
         },
         "mode": "lines",
         "showlegend": false,
         "type": "scatter",
         "x": [
          "B2+.2",
          "C1.1"
         ],
         "y": [
          "Beatriz Sandrim Ferreira",
          "Beatriz Sandrim Ferreira"
         ]
        },
        {
         "line": {
          "color": "#391e70",
          "width": 2
         },
         "mode": "lines",
         "showlegend": false,
         "type": "scatter",
         "x": [
          "Marco zero",
          "A1.1"
         ],
         "y": [
          "Bruno Gonçalves",
          "Bruno Gonçalves"
         ]
        },
        {
         "line": {
          "color": "#adc22f",
          "width": 2
         },
         "mode": "lines",
         "showlegend": false,
         "type": "scatter",
         "x": [
          "A1.1",
          "A1.2"
         ],
         "y": [
          "Bruno Gonçalves",
          "Bruno Gonçalves"
         ]
        },
        {
         "line": {
          "color": "#391e70",
          "width": 2
         },
         "mode": "lines",
         "showlegend": false,
         "type": "scatter",
         "x": [
          "A1.2",
          "A2.1"
         ],
         "y": [
          "Bruno Santos",
          "Bruno Santos"
         ]
        },
        {
         "line": {
          "color": "#adc22f",
          "width": 2
         },
         "mode": "lines",
         "showlegend": false,
         "type": "scatter",
         "x": [
          "A2.1",
          "A2.2"
         ],
         "y": [
          "Bruno Santos",
          "Bruno Santos"
         ]
        },
        {
         "line": {
          "color": "#391e70",
          "width": 2
         },
         "mode": "lines",
         "showlegend": false,
         "type": "scatter",
         "x": [
          "A1.1",
          "A1.2"
         ],
         "y": [
          "CARINE DOS SANTOS OLIVEIRA",
          "CARINE DOS SANTOS OLIVEIRA"
         ]
        },
        {
         "line": {
          "color": "#adc22f",
          "width": 2
         },
         "mode": "lines",
         "showlegend": false,
         "type": "scatter",
         "x": [
          "A1.2",
          "A2.1"
         ],
         "y": [
          "CARINE DOS SANTOS OLIVEIRA",
          "CARINE DOS SANTOS OLIVEIRA"
         ]
        },
        {
         "line": {
          "color": "#391e70",
          "width": 2
         },
         "mode": "lines",
         "showlegend": false,
         "type": "scatter",
         "x": [
          "A2.2",
          "B1.1"
         ],
         "y": [
          "Camila Antonia Batista",
          "Camila Antonia Batista"
         ]
        },
        {
         "line": {
          "color": "#adc22f",
          "width": 2
         },
         "mode": "lines",
         "showlegend": false,
         "type": "scatter",
         "x": [
          "B1.1",
          "B1.2"
         ],
         "y": [
          "Camila Antonia Batista",
          "Camila Antonia Batista"
         ]
        },
        {
         "line": {
          "color": "#391e70",
          "width": 2
         },
         "mode": "lines",
         "showlegend": false,
         "type": "scatter",
         "x": [
          "A1.2",
          "A2.1"
         ],
         "y": [
          "Carina Alves Ferreira",
          "Carina Alves Ferreira"
         ]
        },
        {
         "line": {
          "color": "#adc22f",
          "width": 2
         },
         "mode": "lines",
         "showlegend": false,
         "type": "scatter",
         "x": [
          "A2.1",
          "A2.2"
         ],
         "y": [
          "Carina Alves Ferreira",
          "Carina Alves Ferreira"
         ]
        },
        {
         "line": {
          "color": "#391e70",
          "width": 2
         },
         "mode": "lines",
         "showlegend": false,
         "type": "scatter",
         "x": [
          "B2.1",
          "B2.2"
         ],
         "y": [
          "Carolina Jordan",
          "Carolina Jordan"
         ]
        },
        {
         "line": {
          "color": "#adc22f",
          "width": 2
         },
         "mode": "lines",
         "showlegend": false,
         "type": "scatter",
         "x": [
          "B2.2",
          "B2+.1"
         ],
         "y": [
          "Carolina Jordan",
          "Carolina Jordan"
         ]
        },
        {
         "line": {
          "color": "#391e70",
          "width": 2
         },
         "mode": "lines",
         "showlegend": false,
         "type": "scatter",
         "x": [
          "Marco zero",
          "A1.1"
         ],
         "y": [
          "Cintia Martins de Athayde",
          "Cintia Martins de Athayde"
         ]
        },
        {
         "line": {
          "color": "#adc22f",
          "width": 2
         },
         "mode": "lines",
         "showlegend": false,
         "type": "scatter",
         "x": [
          "A1.1",
          "A1.2"
         ],
         "y": [
          "Cintia Martins de Athayde",
          "Cintia Martins de Athayde"
         ]
        },
        {
         "line": {
          "color": "#391e70",
          "width": 2
         },
         "mode": "lines",
         "showlegend": false,
         "type": "scatter",
         "x": [
          "A1.1",
          "A1.2"
         ],
         "y": [
          "Daiane Rangel",
          "Daiane Rangel"
         ]
        },
        {
         "line": {
          "color": "#adc22f",
          "width": 2
         },
         "mode": "lines",
         "showlegend": false,
         "type": "scatter",
         "x": [
          "A1.2",
          "A2.1"
         ],
         "y": [
          "Daiane Rangel",
          "Daiane Rangel"
         ]
        },
        {
         "line": {
          "color": "#391e70",
          "width": 2
         },
         "mode": "lines",
         "showlegend": false,
         "type": "scatter",
         "x": [
          "A2.1",
          "A2.2"
         ],
         "y": [
          "Daniel Moraes Pessoa",
          "Daniel Moraes Pessoa"
         ]
        },
        {
         "line": {
          "color": "#adc22f",
          "width": 2
         },
         "mode": "lines",
         "showlegend": false,
         "type": "scatter",
         "x": [
          "A2.2",
          "B1.1"
         ],
         "y": [
          "Daniel Moraes Pessoa",
          "Daniel Moraes Pessoa"
         ]
        },
        {
         "line": {
          "color": "#391e70",
          "width": 2
         },
         "mode": "lines",
         "showlegend": false,
         "type": "scatter",
         "x": [
          "A1.2",
          "A2.1"
         ],
         "y": [
          "Diego Lage",
          "Diego Lage"
         ]
        },
        {
         "line": {
          "color": "#adc22f",
          "width": 2
         },
         "mode": "lines",
         "showlegend": false,
         "type": "scatter",
         "x": [
          "A2.1",
          "A2.2"
         ],
         "y": [
          "Diego Lage",
          "Diego Lage"
         ]
        },
        {
         "line": {
          "color": "#391e70",
          "width": 2
         },
         "mode": "lines",
         "showlegend": false,
         "type": "scatter",
         "x": [
          "B1.2",
          "B2.1"
         ],
         "y": [
          "Diego Oro",
          "Diego Oro"
         ]
        },
        {
         "line": {
          "color": "#adc22f",
          "width": 2
         },
         "mode": "lines",
         "showlegend": false,
         "type": "scatter",
         "x": [
          "B2.1",
          "B2.2"
         ],
         "y": [
          "Diego Oro",
          "Diego Oro"
         ]
        },
        {
         "line": {
          "color": "#391e70",
          "width": 2
         },
         "mode": "lines",
         "showlegend": false,
         "type": "scatter",
         "x": [
          "A1.2",
          "A2.1"
         ],
         "y": [
          "Edi Jean Pereira",
          "Edi Jean Pereira"
         ]
        },
        {
         "line": {
          "color": "#adc22f",
          "width": 2
         },
         "mode": "lines",
         "showlegend": false,
         "type": "scatter",
         "x": [
          "A2.1",
          "A2.2"
         ],
         "y": [
          "Edi Jean Pereira",
          "Edi Jean Pereira"
         ]
        },
        {
         "line": {
          "color": "#391e70",
          "width": 2
         },
         "mode": "lines",
         "showlegend": false,
         "type": "scatter",
         "x": [
          "A1.1",
          "A1.2"
         ],
         "y": [
          "Emanuel Lima Matos",
          "Emanuel Lima Matos"
         ]
        },
        {
         "line": {
          "color": "#adc22f",
          "width": 2
         },
         "mode": "lines",
         "showlegend": false,
         "type": "scatter",
         "x": [
          "A1.2",
          "A2.1"
         ],
         "y": [
          "Emanuel Lima Matos",
          "Emanuel Lima Matos"
         ]
        },
        {
         "line": {
          "color": "#391e70",
          "width": 2
         },
         "mode": "lines",
         "showlegend": false,
         "type": "scatter",
         "x": [
          "Marco zero",
          "A1.1"
         ],
         "y": [
          "Erica Barreto",
          "Erica Barreto"
         ]
        },
        {
         "line": {
          "color": "#adc22f",
          "width": 2
         },
         "mode": "lines",
         "showlegend": false,
         "type": "scatter",
         "x": [
          "A1.1",
          "A1.2"
         ],
         "y": [
          "Erica Barreto",
          "Erica Barreto"
         ]
        },
        {
         "line": {
          "color": "#391e70",
          "width": 2
         },
         "mode": "lines",
         "showlegend": false,
         "type": "scatter",
         "x": [
          "A1.1",
          "A1.2"
         ],
         "y": [
          "FABIO JOSE TASCA AGUIAR",
          "FABIO JOSE TASCA AGUIAR"
         ]
        },
        {
         "line": {
          "color": "#adc22f",
          "width": 2
         },
         "mode": "lines",
         "showlegend": false,
         "type": "scatter",
         "x": [
          "A1.2",
          "A2.1"
         ],
         "y": [
          "FABIO JOSE TASCA AGUIAR",
          "FABIO JOSE TASCA AGUIAR"
         ]
        },
        {
         "line": {
          "color": "#391e70",
          "width": 2
         },
         "mode": "lines",
         "showlegend": false,
         "type": "scatter",
         "x": [
          "A2.2",
          "B1.1"
         ],
         "y": [
          "Fabiano Silva",
          "Fabiano Silva"
         ]
        },
        {
         "line": {
          "color": "#adc22f",
          "width": 2
         },
         "mode": "lines",
         "showlegend": false,
         "type": "scatter",
         "x": [
          "B1.1",
          "B1.2"
         ],
         "y": [
          "Fabiano Silva",
          "Fabiano Silva"
         ]
        },
        {
         "line": {
          "color": "#391e70",
          "width": 2
         },
         "mode": "lines",
         "showlegend": false,
         "type": "scatter",
         "x": [
          "A1.2",
          "A2.1"
         ],
         "y": [
          "Fabio Antonio Bernardo",
          "Fabio Antonio Bernardo"
         ]
        },
        {
         "line": {
          "color": "#adc22f",
          "width": 2
         },
         "mode": "lines",
         "showlegend": false,
         "type": "scatter",
         "x": [
          "A2.1",
          "A2.2"
         ],
         "y": [
          "Fabio Antonio Bernardo",
          "Fabio Antonio Bernardo"
         ]
        },
        {
         "line": {
          "color": "#391e70",
          "width": 2
         },
         "mode": "lines",
         "showlegend": false,
         "type": "scatter",
         "x": [
          "B2.1",
          "B2.2"
         ],
         "y": [
          "Fabio Costa",
          "Fabio Costa"
         ]
        },
        {
         "line": {
          "color": "#adc22f",
          "width": 2
         },
         "mode": "lines",
         "showlegend": false,
         "type": "scatter",
         "x": [
          "B2.2",
          "B2+.1"
         ],
         "y": [
          "Fabio Costa",
          "Fabio Costa"
         ]
        },
        {
         "line": {
          "color": "#391e70",
          "width": 2
         },
         "mode": "lines",
         "showlegend": false,
         "type": "scatter",
         "x": [
          "A1.2",
          "A2.1"
         ],
         "y": [
          "Felipe Rafael",
          "Felipe Rafael"
         ]
        },
        {
         "line": {
          "color": "#adc22f",
          "width": 2
         },
         "mode": "lines",
         "showlegend": false,
         "type": "scatter",
         "x": [
          "A2.1",
          "A2.2"
         ],
         "y": [
          "Felipe Rafael",
          "Felipe Rafael"
         ]
        },
        {
         "line": {
          "color": "#391e70",
          "width": 2
         },
         "mode": "lines",
         "showlegend": false,
         "type": "scatter",
         "x": [
          "A1.2",
          "A2.1"
         ],
         "y": [
          "Fernanda Vieira",
          "Fernanda Vieira"
         ]
        },
        {
         "line": {
          "color": "#adc22f",
          "width": 2
         },
         "mode": "lines",
         "showlegend": false,
         "type": "scatter",
         "x": [
          "A2.1",
          "A2.2"
         ],
         "y": [
          "Fernanda Vieira",
          "Fernanda Vieira"
         ]
        },
        {
         "line": {
          "color": "#391e70",
          "width": 2
         },
         "mode": "lines",
         "showlegend": false,
         "type": "scatter",
         "x": [
          "B1.2",
          "B2.1"
         ],
         "y": [
          "Fernando da Silva",
          "Fernando da Silva"
         ]
        },
        {
         "line": {
          "color": "#adc22f",
          "width": 2
         },
         "mode": "lines",
         "showlegend": false,
         "type": "scatter",
         "x": [
          "B2.1",
          "B2.2"
         ],
         "y": [
          "Fernando da Silva",
          "Fernando da Silva"
         ]
        },
        {
         "line": {
          "color": "#391e70",
          "width": 2
         },
         "mode": "lines",
         "showlegend": false,
         "type": "scatter",
         "x": [
          "B1.1",
          "B1.2"
         ],
         "y": [
          "GABRIEL ARAGAO MARTINS DE MOURA",
          "GABRIEL ARAGAO MARTINS DE MOURA"
         ]
        },
        {
         "line": {
          "color": "#adc22f",
          "width": 2
         },
         "mode": "lines",
         "showlegend": false,
         "type": "scatter",
         "x": [
          "B1.2",
          "B2.1"
         ],
         "y": [
          "GABRIEL ARAGAO MARTINS DE MOURA",
          "GABRIEL ARAGAO MARTINS DE MOURA"
         ]
        },
        {
         "line": {
          "color": "#391e70",
          "width": 2
         },
         "mode": "lines",
         "showlegend": false,
         "type": "scatter",
         "x": [
          "Marco zero",
          "A1.1"
         ],
         "y": [
          "Gabriel Marques",
          "Gabriel Marques"
         ]
        },
        {
         "line": {
          "color": "#adc22f",
          "width": 2
         },
         "mode": "lines",
         "showlegend": false,
         "type": "scatter",
         "x": [
          "A1.1",
          "A1.2"
         ],
         "y": [
          "Gabriel Marques",
          "Gabriel Marques"
         ]
        },
        {
         "line": {
          "color": "#391e70",
          "width": 2
         },
         "mode": "lines",
         "showlegend": false,
         "type": "scatter",
         "x": [
          "Marco zero",
          "A1.1"
         ],
         "y": [
          "Gerhard Valkinir Cabreira",
          "Gerhard Valkinir Cabreira"
         ]
        },
        {
         "line": {
          "color": "#adc22f",
          "width": 2
         },
         "mode": "lines",
         "showlegend": false,
         "type": "scatter",
         "x": [
          "A1.1",
          "A1.2"
         ],
         "y": [
          "Gerhard Valkinir Cabreira",
          "Gerhard Valkinir Cabreira"
         ]
        },
        {
         "line": {
          "color": "#391e70",
          "width": 2
         },
         "mode": "lines",
         "showlegend": false,
         "type": "scatter",
         "x": [
          "B1.2",
          "B2.1"
         ],
         "y": [
          "Guilherme Romani",
          "Guilherme Romani"
         ]
        },
        {
         "line": {
          "color": "#adc22f",
          "width": 2
         },
         "mode": "lines",
         "showlegend": false,
         "type": "scatter",
         "x": [
          "B2.1",
          "B2.2"
         ],
         "y": [
          "Guilherme Romani",
          "Guilherme Romani"
         ]
        },
        {
         "line": {
          "color": "#391e70",
          "width": 2
         },
         "mode": "lines",
         "showlegend": false,
         "type": "scatter",
         "x": [
          "B1.2",
          "B2.1"
         ],
         "y": [
          "Gustavo Manne",
          "Gustavo Manne"
         ]
        },
        {
         "line": {
          "color": "#adc22f",
          "width": 2
         },
         "mode": "lines",
         "showlegend": false,
         "type": "scatter",
         "x": [
          "B2.1",
          "B2.2"
         ],
         "y": [
          "Gustavo Manne",
          "Gustavo Manne"
         ]
        },
        {
         "line": {
          "color": "#391e70",
          "width": 2
         },
         "mode": "lines",
         "showlegend": false,
         "type": "scatter",
         "x": [
          "C1.1",
          "C1.2"
         ],
         "y": [
          "Gustavo Martins Soares",
          "Gustavo Martins Soares"
         ]
        },
        {
         "line": {
          "color": "#adc22f",
          "width": 2
         },
         "mode": "lines",
         "showlegend": false,
         "type": "scatter",
         "x": [
          "C1.2",
          "C1.3"
         ],
         "y": [
          "Gustavo Martins Soares",
          "Gustavo Martins Soares"
         ]
        },
        {
         "line": {
          "color": "#391e70",
          "width": 2
         },
         "mode": "lines",
         "showlegend": false,
         "type": "scatter",
         "x": [
          "A1.2",
          "A2.1"
         ],
         "y": [
          "Gustavo Neves",
          "Gustavo Neves"
         ]
        },
        {
         "line": {
          "color": "#adc22f",
          "width": 2
         },
         "mode": "lines",
         "showlegend": false,
         "type": "scatter",
         "x": [
          "A2.1",
          "A2.2"
         ],
         "y": [
          "Gustavo Neves",
          "Gustavo Neves"
         ]
        },
        {
         "line": {
          "color": "#391e70",
          "width": 2
         },
         "mode": "lines",
         "showlegend": false,
         "type": "scatter",
         "x": [
          "Marco zero",
          "A1.1"
         ],
         "y": [
          "Helen Branicio",
          "Helen Branicio"
         ]
        },
        {
         "line": {
          "color": "#adc22f",
          "width": 2
         },
         "mode": "lines",
         "showlegend": false,
         "type": "scatter",
         "x": [
          "A1.1",
          "A1.2"
         ],
         "y": [
          "Helen Branicio",
          "Helen Branicio"
         ]
        },
        {
         "line": {
          "color": "#391e70",
          "width": 2
         },
         "mode": "lines",
         "showlegend": false,
         "type": "scatter",
         "x": [
          "Marco zero",
          "A1.1"
         ],
         "y": [
          "Heronilton Fernandes",
          "Heronilton Fernandes"
         ]
        },
        {
         "line": {
          "color": "#adc22f",
          "width": 2
         },
         "mode": "lines",
         "showlegend": false,
         "type": "scatter",
         "x": [
          "A1.1",
          "A1.2"
         ],
         "y": [
          "Heronilton Fernandes",
          "Heronilton Fernandes"
         ]
        },
        {
         "line": {
          "color": "#391e70",
          "width": 2
         },
         "mode": "lines",
         "showlegend": false,
         "type": "scatter",
         "x": [
          "A1.2",
          "A2.1"
         ],
         "y": [
          "Hugo Silvio Bernardo",
          "Hugo Silvio Bernardo"
         ]
        },
        {
         "line": {
          "color": "#adc22f",
          "width": 2
         },
         "mode": "lines",
         "showlegend": false,
         "type": "scatter",
         "x": [
          "A2.1",
          "A2.2"
         ],
         "y": [
          "Hugo Silvio Bernardo",
          "Hugo Silvio Bernardo"
         ]
        },
        {
         "line": {
          "color": "#391e70",
          "width": 2
         },
         "mode": "lines",
         "showlegend": false,
         "type": "scatter",
         "x": [
          "B2.2",
          "B2+.1"
         ],
         "y": [
          "Hywre Santos Sousa",
          "Hywre Santos Sousa"
         ]
        },
        {
         "line": {
          "color": "#adc22f",
          "width": 2
         },
         "mode": "lines",
         "showlegend": false,
         "type": "scatter",
         "x": [
          "B2+.1",
          "B2+.2"
         ],
         "y": [
          "Hywre Santos Sousa",
          "Hywre Santos Sousa"
         ]
        },
        {
         "line": {
          "color": "#391e70",
          "width": 2
         },
         "mode": "lines",
         "showlegend": false,
         "type": "scatter",
         "x": [
          "Marco zero",
          "A1.1"
         ],
         "y": [
          "Isabela Caroline Berlato Soares Andrade",
          "Isabela Caroline Berlato Soares Andrade"
         ]
        },
        {
         "line": {
          "color": "#adc22f",
          "width": 2
         },
         "mode": "lines",
         "showlegend": false,
         "type": "scatter",
         "x": [
          "A1.1",
          "A1.2"
         ],
         "y": [
          "Isabela Caroline Berlato Soares Andrade",
          "Isabela Caroline Berlato Soares Andrade"
         ]
        },
        {
         "line": {
          "color": "#391e70",
          "width": 2
         },
         "mode": "lines",
         "showlegend": false,
         "type": "scatter",
         "x": [
          "C1.1",
          "C1.2"
         ],
         "y": [
          "Ivy Mayara Sanches de Oliveira",
          "Ivy Mayara Sanches de Oliveira"
         ]
        },
        {
         "line": {
          "color": "#adc22f",
          "width": 2
         },
         "mode": "lines",
         "showlegend": false,
         "type": "scatter",
         "x": [
          "C1.2",
          "C1.3"
         ],
         "y": [
          "Ivy Mayara Sanches de Oliveira",
          "Ivy Mayara Sanches de Oliveira"
         ]
        },
        {
         "line": {
          "color": "#391e70",
          "width": 2
         },
         "mode": "lines",
         "showlegend": false,
         "type": "scatter",
         "x": [
          "Marco zero",
          "A1.1"
         ],
         "y": [
          "Izabela Caroline Prezotto Armando",
          "Izabela Caroline Prezotto Armando"
         ]
        },
        {
         "line": {
          "color": "#adc22f",
          "width": 2
         },
         "mode": "lines",
         "showlegend": false,
         "type": "scatter",
         "x": [
          "A1.1",
          "A1.2"
         ],
         "y": [
          "Izabela Caroline Prezotto Armando",
          "Izabela Caroline Prezotto Armando"
         ]
        },
        {
         "line": {
          "color": "#391e70",
          "width": 2
         },
         "mode": "lines",
         "showlegend": false,
         "type": "scatter",
         "x": [
          "Marco zero",
          "A1.1"
         ],
         "y": [
          "JAMESON HIRXLEHOR",
          "JAMESON HIRXLEHOR"
         ]
        },
        {
         "line": {
          "color": "#adc22f",
          "width": 2
         },
         "mode": "lines",
         "showlegend": false,
         "type": "scatter",
         "x": [
          "A1.1",
          "A1.2"
         ],
         "y": [
          "JAMESON HIRXLEHOR",
          "JAMESON HIRXLEHOR"
         ]
        },
        {
         "line": {
          "color": "#391e70",
          "width": 2
         },
         "mode": "lines",
         "showlegend": false,
         "type": "scatter",
         "x": [
          "A2.2",
          "B1.1"
         ],
         "y": [
          "JOSE GUILHERME PEREIRA BRAGA",
          "JOSE GUILHERME PEREIRA BRAGA"
         ]
        },
        {
         "line": {
          "color": "#adc22f",
          "width": 2
         },
         "mode": "lines",
         "showlegend": false,
         "type": "scatter",
         "x": [
          "B1.1",
          "B1.2"
         ],
         "y": [
          "JOSE GUILHERME PEREIRA BRAGA",
          "JOSE GUILHERME PEREIRA BRAGA"
         ]
        },
        {
         "line": {
          "color": "#391e70",
          "width": 2
         },
         "mode": "lines",
         "showlegend": false,
         "type": "scatter",
         "x": [
          "A2.1",
          "A2.2"
         ],
         "y": [
          "JOSIAS LOURENCO DA SILVA",
          "JOSIAS LOURENCO DA SILVA"
         ]
        },
        {
         "line": {
          "color": "#adc22f",
          "width": 2
         },
         "mode": "lines",
         "showlegend": false,
         "type": "scatter",
         "x": [
          "A2.2",
          "B1.1"
         ],
         "y": [
          "JOSIAS LOURENCO DA SILVA",
          "JOSIAS LOURENCO DA SILVA"
         ]
        },
        {
         "line": {
          "color": "#391e70",
          "width": 2
         },
         "mode": "lines",
         "showlegend": false,
         "type": "scatter",
         "x": [
          "B2+.1",
          "B2+.2"
         ],
         "y": [
          "Janaina Scotton",
          "Janaina Scotton"
         ]
        },
        {
         "line": {
          "color": "#adc22f",
          "width": 2
         },
         "mode": "lines",
         "showlegend": false,
         "type": "scatter",
         "x": [
          "B2+.2",
          "C1.1"
         ],
         "y": [
          "Janaina Scotton",
          "Janaina Scotton"
         ]
        },
        {
         "line": {
          "color": "#391e70",
          "width": 2
         },
         "mode": "lines",
         "showlegend": false,
         "type": "scatter",
         "x": [
          "B2.2",
          "B2+.1"
         ],
         "y": [
          "Jefferson Esquizato De Souza",
          "Jefferson Esquizato De Souza"
         ]
        },
        {
         "line": {
          "color": "#adc22f",
          "width": 2
         },
         "mode": "lines",
         "showlegend": false,
         "type": "scatter",
         "x": [
          "B2+.1",
          "B2+.2"
         ],
         "y": [
          "Jefferson Esquizato De Souza",
          "Jefferson Esquizato De Souza"
         ]
        },
        {
         "line": {
          "color": "#391e70",
          "width": 2
         },
         "mode": "lines",
         "showlegend": false,
         "type": "scatter",
         "x": [
          "A2.1",
          "A2.2"
         ],
         "y": [
          "Jefferson Freitas Pinto Silva",
          "Jefferson Freitas Pinto Silva"
         ]
        },
        {
         "line": {
          "color": "#adc22f",
          "width": 2
         },
         "mode": "lines",
         "showlegend": false,
         "type": "scatter",
         "x": [
          "A2.2",
          "B1.1"
         ],
         "y": [
          "Jefferson Freitas Pinto Silva",
          "Jefferson Freitas Pinto Silva"
         ]
        },
        {
         "line": {
          "color": "#391e70",
          "width": 2
         },
         "mode": "lines",
         "showlegend": false,
         "type": "scatter",
         "x": [
          "B2.2",
          "B2+.1"
         ],
         "y": [
          "Joao Eduardo Souza Oliveira",
          "Joao Eduardo Souza Oliveira"
         ]
        },
        {
         "line": {
          "color": "#adc22f",
          "width": 2
         },
         "mode": "lines",
         "showlegend": false,
         "type": "scatter",
         "x": [
          "B2+.1",
          "B2+.2"
         ],
         "y": [
          "Joao Eduardo Souza Oliveira",
          "Joao Eduardo Souza Oliveira"
         ]
        },
        {
         "line": {
          "color": "#391e70",
          "width": 2
         },
         "mode": "lines",
         "showlegend": false,
         "type": "scatter",
         "x": [
          "A2.1",
          "A2.2"
         ],
         "y": [
          "Jonatan Teixeira do Carmo Girata",
          "Jonatan Teixeira do Carmo Girata"
         ]
        },
        {
         "line": {
          "color": "#adc22f",
          "width": 2
         },
         "mode": "lines",
         "showlegend": false,
         "type": "scatter",
         "x": [
          "A2.2",
          "B1.1"
         ],
         "y": [
          "Jonatan Teixeira do Carmo Girata",
          "Jonatan Teixeira do Carmo Girata"
         ]
        },
        {
         "line": {
          "color": "#391e70",
          "width": 2
         },
         "mode": "lines",
         "showlegend": false,
         "type": "scatter",
         "x": [
          "Marco zero",
          "A1.1"
         ],
         "y": [
          "Jose Rodrigo Claro",
          "Jose Rodrigo Claro"
         ]
        },
        {
         "line": {
          "color": "#adc22f",
          "width": 2
         },
         "mode": "lines",
         "showlegend": false,
         "type": "scatter",
         "x": [
          "A1.1",
          "A1.2"
         ],
         "y": [
          "Jose Rodrigo Claro",
          "Jose Rodrigo Claro"
         ]
        },
        {
         "line": {
          "color": "#391e70",
          "width": 2
         },
         "mode": "lines",
         "showlegend": false,
         "type": "scatter",
         "x": [
          "B2.1",
          "B2.2"
         ],
         "y": [
          "João Victor Bertolo",
          "João Victor Bertolo"
         ]
        },
        {
         "line": {
          "color": "#adc22f",
          "width": 2
         },
         "mode": "lines",
         "showlegend": false,
         "type": "scatter",
         "x": [
          "B2.2",
          "B2+.1"
         ],
         "y": [
          "João Victor Bertolo",
          "João Victor Bertolo"
         ]
        },
        {
         "line": {
          "color": "#adc22f",
          "width": 2
         },
         "mode": "lines",
         "showlegend": false,
         "type": "scatter",
         "x": [
          "B1.1",
          "B2.2"
         ],
         "y": [
          "Karine Silva Madruga",
          "Karine Silva Madruga"
         ]
        },
        {
         "line": {
          "color": "#391e70",
          "width": 2
         },
         "mode": "lines",
         "showlegend": false,
         "type": "scatter",
         "x": [
          "Marco zero",
          "A1.1"
         ],
         "y": [
          "Larissa Boso",
          "Larissa Boso"
         ]
        },
        {
         "line": {
          "color": "#adc22f",
          "width": 2
         },
         "mode": "lines",
         "showlegend": false,
         "type": "scatter",
         "x": [
          "A1.1",
          "A1.2"
         ],
         "y": [
          "Larissa Boso",
          "Larissa Boso"
         ]
        },
        {
         "line": {
          "color": "#391e70",
          "width": 2
         },
         "mode": "lines",
         "showlegend": false,
         "type": "scatter",
         "x": [
          "B1.2",
          "B2.1"
         ],
         "y": [
          "Larissa Martins",
          "Larissa Martins"
         ]
        },
        {
         "line": {
          "color": "#adc22f",
          "width": 2
         },
         "mode": "lines",
         "showlegend": false,
         "type": "scatter",
         "x": [
          "B2.1",
          "B2.2"
         ],
         "y": [
          "Larissa Martins",
          "Larissa Martins"
         ]
        },
        {
         "line": {
          "color": "#391e70",
          "width": 2
         },
         "mode": "lines",
         "showlegend": false,
         "type": "scatter",
         "x": [
          "A2.1",
          "A2.2"
         ],
         "y": [
          "Larissa Nakayama",
          "Larissa Nakayama"
         ]
        },
        {
         "line": {
          "color": "#adc22f",
          "width": 2
         },
         "mode": "lines",
         "showlegend": false,
         "type": "scatter",
         "x": [
          "A2.2",
          "B1.1"
         ],
         "y": [
          "Larissa Nakayama",
          "Larissa Nakayama"
         ]
        },
        {
         "line": {
          "color": "#391e70",
          "width": 2
         },
         "mode": "lines",
         "showlegend": false,
         "type": "scatter",
         "x": [
          "Marco zero",
          "A1.1"
         ],
         "y": [
          "Letícia Gomez",
          "Letícia Gomez"
         ]
        },
        {
         "line": {
          "color": "#adc22f",
          "width": 2
         },
         "mode": "lines",
         "showlegend": false,
         "type": "scatter",
         "x": [
          "A1.1",
          "A1.2"
         ],
         "y": [
          "Letícia Gomez",
          "Letícia Gomez"
         ]
        },
        {
         "line": {
          "color": "#391e70",
          "width": 2
         },
         "mode": "lines",
         "showlegend": false,
         "type": "scatter",
         "x": [
          "Marco zero",
          "A1.1"
         ],
         "y": [
          "Lualis Emiliano",
          "Lualis Emiliano"
         ]
        },
        {
         "line": {
          "color": "#adc22f",
          "width": 2
         },
         "mode": "lines",
         "showlegend": false,
         "type": "scatter",
         "x": [
          "A1.1",
          "A1.2"
         ],
         "y": [
          "Lualis Emiliano",
          "Lualis Emiliano"
         ]
        },
        {
         "line": {
          "color": "#391e70",
          "width": 2
         },
         "mode": "lines",
         "showlegend": false,
         "type": "scatter",
         "x": [
          "Marco zero",
          "A1.1"
         ],
         "y": [
          "Luciano Delmar Dos Santos Almeida",
          "Luciano Delmar Dos Santos Almeida"
         ]
        },
        {
         "line": {
          "color": "#adc22f",
          "width": 2
         },
         "mode": "lines",
         "showlegend": false,
         "type": "scatter",
         "x": [
          "A1.1",
          "A1.2"
         ],
         "y": [
          "Luciano Delmar Dos Santos Almeida",
          "Luciano Delmar Dos Santos Almeida"
         ]
        },
        {
         "line": {
          "color": "#391e70",
          "width": 2
         },
         "mode": "lines",
         "showlegend": false,
         "type": "scatter",
         "x": [
          "A1.2",
          "A2.1"
         ],
         "y": [
          "Luis Felipe Da Silva Reis",
          "Luis Felipe Da Silva Reis"
         ]
        },
        {
         "line": {
          "color": "#adc22f",
          "width": 2
         },
         "mode": "lines",
         "showlegend": false,
         "type": "scatter",
         "x": [
          "A2.1",
          "A2.2"
         ],
         "y": [
          "Luis Felipe Da Silva Reis",
          "Luis Felipe Da Silva Reis"
         ]
        },
        {
         "line": {
          "color": "#391e70",
          "width": 2
         },
         "mode": "lines",
         "showlegend": false,
         "type": "scatter",
         "x": [
          "B2.2",
          "B2+.1"
         ],
         "y": [
          "Luiz Guilherme Alves Leonel",
          "Luiz Guilherme Alves Leonel"
         ]
        },
        {
         "line": {
          "color": "#adc22f",
          "width": 2
         },
         "mode": "lines",
         "showlegend": false,
         "type": "scatter",
         "x": [
          "B2+.1",
          "B2+.2"
         ],
         "y": [
          "Luiz Guilherme Alves Leonel",
          "Luiz Guilherme Alves Leonel"
         ]
        },
        {
         "line": {
          "color": "#391e70",
          "width": 2
         },
         "mode": "lines",
         "showlegend": false,
         "type": "scatter",
         "x": [
          "A2.1",
          "A2.2"
         ],
         "y": [
          "Luiz Tosta",
          "Luiz Tosta"
         ]
        },
        {
         "line": {
          "color": "#adc22f",
          "width": 2
         },
         "mode": "lines",
         "showlegend": false,
         "type": "scatter",
         "x": [
          "A2.2",
          "B1.1"
         ],
         "y": [
          "Luiz Tosta",
          "Luiz Tosta"
         ]
        },
        {
         "line": {
          "color": "#391e70",
          "width": 2
         },
         "mode": "lines",
         "showlegend": false,
         "type": "scatter",
         "x": [
          "A2.2",
          "B1.1"
         ],
         "y": [
          "MARIANA CRISTINA GONSALES NOGUEIRA",
          "MARIANA CRISTINA GONSALES NOGUEIRA"
         ]
        },
        {
         "line": {
          "color": "#adc22f",
          "width": 2
         },
         "mode": "lines",
         "showlegend": false,
         "type": "scatter",
         "x": [
          "B1.1",
          "B1.2"
         ],
         "y": [
          "MARIANA CRISTINA GONSALES NOGUEIRA",
          "MARIANA CRISTINA GONSALES NOGUEIRA"
         ]
        },
        {
         "line": {
          "color": "#391e70",
          "width": 2
         },
         "mode": "lines",
         "showlegend": false,
         "type": "scatter",
         "x": [
          "B2+.1",
          "B2+.2"
         ],
         "y": [
          "MARINA FREITAS NORKUS",
          "MARINA FREITAS NORKUS"
         ]
        },
        {
         "line": {
          "color": "#adc22f",
          "width": 2
         },
         "mode": "lines",
         "showlegend": false,
         "type": "scatter",
         "x": [
          "B2+.2",
          "C1.1"
         ],
         "y": [
          "MARINA FREITAS NORKUS",
          "MARINA FREITAS NORKUS"
         ]
        },
        {
         "line": {
          "color": "#391e70",
          "width": 2
         },
         "mode": "lines",
         "showlegend": false,
         "type": "scatter",
         "x": [
          "Marco zero",
          "A1.1"
         ],
         "y": [
          "MIRIELLY CRISTINA GIL DA SILVA NUNES",
          "MIRIELLY CRISTINA GIL DA SILVA NUNES"
         ]
        },
        {
         "line": {
          "color": "#adc22f",
          "width": 2
         },
         "mode": "lines",
         "showlegend": false,
         "type": "scatter",
         "x": [
          "A1.1",
          "A1.2"
         ],
         "y": [
          "MIRIELLY CRISTINA GIL DA SILVA NUNES",
          "MIRIELLY CRISTINA GIL DA SILVA NUNES"
         ]
        },
        {
         "line": {
          "color": "#391e70",
          "width": 2
         },
         "mode": "lines",
         "showlegend": false,
         "type": "scatter",
         "x": [
          "A2.1",
          "A2.2"
         ],
         "y": [
          "Marcela Vanni",
          "Marcela Vanni"
         ]
        },
        {
         "line": {
          "color": "#adc22f",
          "width": 2
         },
         "mode": "lines",
         "showlegend": false,
         "type": "scatter",
         "x": [
          "A2.2",
          "B1.1"
         ],
         "y": [
          "Marcela Vanni",
          "Marcela Vanni"
         ]
        },
        {
         "line": {
          "color": "#391e70",
          "width": 2
         },
         "mode": "lines",
         "showlegend": false,
         "type": "scatter",
         "x": [
          "Marco zero",
          "A1.1"
         ],
         "y": [
          "Marco Goes",
          "Marco Goes"
         ]
        },
        {
         "line": {
          "color": "#adc22f",
          "width": 2
         },
         "mode": "lines",
         "showlegend": false,
         "type": "scatter",
         "x": [
          "A1.1",
          "A1.2"
         ],
         "y": [
          "Marco Goes",
          "Marco Goes"
         ]
        },
        {
         "line": {
          "color": "#391e70",
          "width": 2
         },
         "mode": "lines",
         "showlegend": false,
         "type": "scatter",
         "x": [
          "B1.2",
          "B2.1"
         ],
         "y": [
          "Mariana Brantes Vasques",
          "Mariana Brantes Vasques"
         ]
        },
        {
         "line": {
          "color": "#adc22f",
          "width": 2
         },
         "mode": "lines",
         "showlegend": false,
         "type": "scatter",
         "x": [
          "B2.1",
          "B2.2"
         ],
         "y": [
          "Mariana Brantes Vasques",
          "Mariana Brantes Vasques"
         ]
        },
        {
         "line": {
          "color": "#391e70",
          "width": 2
         },
         "mode": "lines",
         "showlegend": false,
         "type": "scatter",
         "x": [
          "Marco zero",
          "A1.1"
         ],
         "y": [
          "Marieli Ruza",
          "Marieli Ruza"
         ]
        },
        {
         "line": {
          "color": "#adc22f",
          "width": 2
         },
         "mode": "lines",
         "showlegend": false,
         "type": "scatter",
         "x": [
          "A1.1",
          "A1.2"
         ],
         "y": [
          "Marieli Ruza",
          "Marieli Ruza"
         ]
        },
        {
         "line": {
          "color": "#391e70",
          "width": 2
         },
         "mode": "lines",
         "showlegend": false,
         "type": "scatter",
         "x": [
          "Marco zero",
          "A1.1"
         ],
         "y": [
          "Milton Luiz Favero Junior",
          "Milton Luiz Favero Junior"
         ]
        },
        {
         "line": {
          "color": "#adc22f",
          "width": 2
         },
         "mode": "lines",
         "showlegend": false,
         "type": "scatter",
         "x": [
          "A1.1",
          "A1.2"
         ],
         "y": [
          "Milton Luiz Favero Junior",
          "Milton Luiz Favero Junior"
         ]
        },
        {
         "line": {
          "color": "#391e70",
          "width": 2
         },
         "mode": "lines",
         "showlegend": false,
         "type": "scatter",
         "x": [
          "B1.2",
          "B2.1"
         ],
         "y": [
          "Natália Venanzoni",
          "Natália Venanzoni"
         ]
        },
        {
         "line": {
          "color": "#adc22f",
          "width": 2
         },
         "mode": "lines",
         "showlegend": false,
         "type": "scatter",
         "x": [
          "B2.1",
          "B2.2"
         ],
         "y": [
          "Natália Venanzoni",
          "Natália Venanzoni"
         ]
        },
        {
         "line": {
          "color": "#391e70",
          "width": 2
         },
         "mode": "lines",
         "showlegend": false,
         "type": "scatter",
         "x": [
          "B2.2",
          "B2+.1"
         ],
         "y": [
          "Nayara Sene",
          "Nayara Sene"
         ]
        },
        {
         "line": {
          "color": "#adc22f",
          "width": 2
         },
         "mode": "lines",
         "showlegend": false,
         "type": "scatter",
         "x": [
          "B2+.1",
          "B2+.2"
         ],
         "y": [
          "Nayara Sene",
          "Nayara Sene"
         ]
        },
        {
         "line": {
          "color": "#391e70",
          "width": 2
         },
         "mode": "lines",
         "showlegend": false,
         "type": "scatter",
         "x": [
          "A1.1",
          "A1.2"
         ],
         "y": [
          "PATRICIA MEDUNECKAS BRAZ",
          "PATRICIA MEDUNECKAS BRAZ"
         ]
        },
        {
         "line": {
          "color": "#adc22f",
          "width": 2
         },
         "mode": "lines",
         "showlegend": false,
         "type": "scatter",
         "x": [
          "A1.2",
          "A2.1"
         ],
         "y": [
          "PATRICIA MEDUNECKAS BRAZ",
          "PATRICIA MEDUNECKAS BRAZ"
         ]
        },
        {
         "line": {
          "color": "#391e70",
          "width": 2
         },
         "mode": "lines",
         "showlegend": false,
         "type": "scatter",
         "x": [
          "A1.2",
          "A2.1"
         ],
         "y": [
          "Paula Cristina Nunes Pereira",
          "Paula Cristina Nunes Pereira"
         ]
        },
        {
         "line": {
          "color": "#adc22f",
          "width": 2
         },
         "mode": "lines",
         "showlegend": false,
         "type": "scatter",
         "x": [
          "A2.1",
          "A2.2"
         ],
         "y": [
          "Paula Cristina Nunes Pereira",
          "Paula Cristina Nunes Pereira"
         ]
        },
        {
         "line": {
          "color": "#391e70",
          "width": 2
         },
         "mode": "lines",
         "showlegend": false,
         "type": "scatter",
         "x": [
          "B1.2",
          "B2.1"
         ],
         "y": [
          "Priscilla Ribeiro Alves",
          "Priscilla Ribeiro Alves"
         ]
        },
        {
         "line": {
          "color": "#adc22f",
          "width": 2
         },
         "mode": "lines",
         "showlegend": false,
         "type": "scatter",
         "x": [
          "B2.1",
          "B2.2"
         ],
         "y": [
          "Priscilla Ribeiro Alves",
          "Priscilla Ribeiro Alves"
         ]
        },
        {
         "line": {
          "color": "#391e70",
          "width": 2
         },
         "mode": "lines",
         "showlegend": false,
         "type": "scatter",
         "x": [
          "A1.1",
          "A1.2"
         ],
         "y": [
          "Rafael Moraes Pessoa",
          "Rafael Moraes Pessoa"
         ]
        },
        {
         "line": {
          "color": "#adc22f",
          "width": 2
         },
         "mode": "lines",
         "showlegend": false,
         "type": "scatter",
         "x": [
          "A1.2",
          "A2.1"
         ],
         "y": [
          "Rafael Moraes Pessoa",
          "Rafael Moraes Pessoa"
         ]
        },
        {
         "line": {
          "color": "#391e70",
          "width": 2
         },
         "mode": "lines",
         "showlegend": false,
         "type": "scatter",
         "x": [
          "Marco zero",
          "A1.1"
         ],
         "y": [
          "Rafaela Maganhott",
          "Rafaela Maganhott"
         ]
        },
        {
         "line": {
          "color": "#adc22f",
          "width": 2
         },
         "mode": "lines",
         "showlegend": false,
         "type": "scatter",
         "x": [
          "A1.1",
          "A1.2"
         ],
         "y": [
          "Rafaela Maganhott",
          "Rafaela Maganhott"
         ]
        },
        {
         "line": {
          "color": "#391e70",
          "width": 2
         },
         "mode": "lines",
         "showlegend": false,
         "type": "scatter",
         "x": [
          "A2.2",
          "B1.1"
         ],
         "y": [
          "Revalci Figueira Da Costa",
          "Revalci Figueira Da Costa"
         ]
        },
        {
         "line": {
          "color": "#adc22f",
          "width": 2
         },
         "mode": "lines",
         "showlegend": false,
         "type": "scatter",
         "x": [
          "B1.1",
          "B1.2"
         ],
         "y": [
          "Revalci Figueira Da Costa",
          "Revalci Figueira Da Costa"
         ]
        },
        {
         "line": {
          "color": "#391e70",
          "width": 2
         },
         "mode": "lines",
         "showlegend": false,
         "type": "scatter",
         "x": [
          "B2+.2",
          "C1.1"
         ],
         "y": [
          "Rodrigo Fantini",
          "Rodrigo Fantini"
         ]
        },
        {
         "line": {
          "color": "#adc22f",
          "width": 2
         },
         "mode": "lines",
         "showlegend": false,
         "type": "scatter",
         "x": [
          "C1.1",
          "C1.2"
         ],
         "y": [
          "Rodrigo Fantini",
          "Rodrigo Fantini"
         ]
        },
        {
         "line": {
          "color": "#391e70",
          "width": 2
         },
         "mode": "lines",
         "showlegend": false,
         "type": "scatter",
         "x": [
          "A2.1",
          "A2.2"
         ],
         "y": [
          "Rodrigo Laine Barbosa",
          "Rodrigo Laine Barbosa"
         ]
        },
        {
         "line": {
          "color": "#adc22f",
          "width": 2
         },
         "mode": "lines",
         "showlegend": false,
         "type": "scatter",
         "x": [
          "A2.2",
          "B1.1"
         ],
         "y": [
          "Rodrigo Laine Barbosa",
          "Rodrigo Laine Barbosa"
         ]
        },
        {
         "line": {
          "color": "#391e70",
          "width": 2
         },
         "mode": "lines",
         "showlegend": false,
         "type": "scatter",
         "x": [
          "A1.2",
          "A2.1"
         ],
         "y": [
          "Suzane Fidelis",
          "Suzane Fidelis"
         ]
        },
        {
         "line": {
          "color": "#adc22f",
          "width": 2
         },
         "mode": "lines",
         "showlegend": false,
         "type": "scatter",
         "x": [
          "A2.1",
          "A2.2"
         ],
         "y": [
          "Suzane Fidelis",
          "Suzane Fidelis"
         ]
        },
        {
         "line": {
          "color": "#391e70",
          "width": 2
         },
         "mode": "lines",
         "showlegend": false,
         "type": "scatter",
         "x": [
          "A1.2",
          "A2.1"
         ],
         "y": [
          "THAIS ALVES DA GRACA",
          "THAIS ALVES DA GRACA"
         ]
        },
        {
         "line": {
          "color": "#adc22f",
          "width": 2
         },
         "mode": "lines",
         "showlegend": false,
         "type": "scatter",
         "x": [
          "A2.1",
          "A2.2"
         ],
         "y": [
          "THAIS ALVES DA GRACA",
          "THAIS ALVES DA GRACA"
         ]
        },
        {
         "line": {
          "color": "#391e70",
          "width": 2
         },
         "mode": "lines",
         "showlegend": false,
         "type": "scatter",
         "x": [
          "B2.1",
          "B2.2"
         ],
         "y": [
          "Taina Curralo Scarano",
          "Taina Curralo Scarano"
         ]
        },
        {
         "line": {
          "color": "#adc22f",
          "width": 2
         },
         "mode": "lines",
         "showlegend": false,
         "type": "scatter",
         "x": [
          "B2.2",
          "B2+.1"
         ],
         "y": [
          "Taina Curralo Scarano",
          "Taina Curralo Scarano"
         ]
        },
        {
         "line": {
          "color": "#391e70",
          "width": 2
         },
         "mode": "lines",
         "showlegend": false,
         "type": "scatter",
         "x": [
          "A1.1",
          "A1.2"
         ],
         "y": [
          "Tatiane Regina Zafani dos Santos",
          "Tatiane Regina Zafani dos Santos"
         ]
        },
        {
         "line": {
          "color": "#adc22f",
          "width": 2
         },
         "mode": "lines",
         "showlegend": false,
         "type": "scatter",
         "x": [
          "A1.2",
          "A2.1"
         ],
         "y": [
          "Tatiane Regina Zafani dos Santos",
          "Tatiane Regina Zafani dos Santos"
         ]
        },
        {
         "line": {
          "color": "#391e70",
          "width": 2
         },
         "mode": "lines",
         "showlegend": false,
         "type": "scatter",
         "x": [
          "B2.1",
          "B2.2"
         ],
         "y": [
          "Thiago Luiz Pasqualinoto",
          "Thiago Luiz Pasqualinoto"
         ]
        },
        {
         "line": {
          "color": "#adc22f",
          "width": 2
         },
         "mode": "lines",
         "showlegend": false,
         "type": "scatter",
         "x": [
          "B2.2",
          "B2+.1"
         ],
         "y": [
          "Thiago Luiz Pasqualinoto",
          "Thiago Luiz Pasqualinoto"
         ]
        },
        {
         "line": {
          "color": "#391e70",
          "width": 2
         },
         "mode": "lines",
         "showlegend": false,
         "type": "scatter",
         "x": [
          "Marco zero",
          "A1.1"
         ],
         "y": [
          "Ulysses Antonio da Silva Neto",
          "Ulysses Antonio da Silva Neto"
         ]
        },
        {
         "line": {
          "color": "#adc22f",
          "width": 2
         },
         "mode": "lines",
         "showlegend": false,
         "type": "scatter",
         "x": [
          "A1.1",
          "A1.2"
         ],
         "y": [
          "Ulysses Antonio da Silva Neto",
          "Ulysses Antonio da Silva Neto"
         ]
        },
        {
         "line": {
          "color": "#391e70",
          "width": 2
         },
         "mode": "lines",
         "showlegend": false,
         "type": "scatter",
         "x": [
          "B2.1",
          "B2.2"
         ],
         "y": [
          "VANESSA DAL BEN CONEGLIAN",
          "VANESSA DAL BEN CONEGLIAN"
         ]
        },
        {
         "line": {
          "color": "#adc22f",
          "width": 2
         },
         "mode": "lines",
         "showlegend": false,
         "type": "scatter",
         "x": [
          "B2.2",
          "B2+.1"
         ],
         "y": [
          "VANESSA DAL BEN CONEGLIAN",
          "VANESSA DAL BEN CONEGLIAN"
         ]
        },
        {
         "line": {
          "color": "#391e70",
          "width": 2
         },
         "mode": "lines",
         "showlegend": false,
         "type": "scatter",
         "x": [
          "A2.1",
          "A2.2"
         ],
         "y": [
          "Vinicius Duque",
          "Vinicius Duque"
         ]
        },
        {
         "line": {
          "color": "#adc22f",
          "width": 2
         },
         "mode": "lines",
         "showlegend": false,
         "type": "scatter",
         "x": [
          "A2.2",
          "B1.1"
         ],
         "y": [
          "Vinicius Duque",
          "Vinicius Duque"
         ]
        },
        {
         "line": {
          "color": "#391e70",
          "width": 2
         },
         "mode": "lines",
         "showlegend": false,
         "type": "scatter",
         "x": [
          "B2+.1",
          "B2+.2"
         ],
         "y": [
          "Vitor Pinheiro Afonso",
          "Vitor Pinheiro Afonso"
         ]
        },
        {
         "line": {
          "color": "#adc22f",
          "width": 2
         },
         "mode": "lines",
         "showlegend": false,
         "type": "scatter",
         "x": [
          "B2+.2",
          "C1.1"
         ],
         "y": [
          "Vitor Pinheiro Afonso",
          "Vitor Pinheiro Afonso"
         ]
        },
        {
         "line": {
          "color": "#391e70",
          "width": 2
         },
         "mode": "lines",
         "showlegend": false,
         "type": "scatter",
         "x": [
          "B1.2",
          "B2.1"
         ],
         "y": [
          "Viviane Lima De Oliveira Cavalheiro",
          "Viviane Lima De Oliveira Cavalheiro"
         ]
        },
        {
         "line": {
          "color": "#adc22f",
          "width": 2
         },
         "mode": "lines",
         "showlegend": false,
         "type": "scatter",
         "x": [
          "B2.1",
          "B2.2"
         ],
         "y": [
          "Viviane Lima De Oliveira Cavalheiro",
          "Viviane Lima De Oliveira Cavalheiro"
         ]
        },
        {
         "line": {
          "color": "#391e70",
          "width": 2
         },
         "mode": "lines",
         "showlegend": false,
         "type": "scatter",
         "x": [
          "Marco zero",
          "A1.1"
         ],
         "y": [
          "WELLINGTON DOS SANTOS SILVA",
          "WELLINGTON DOS SANTOS SILVA"
         ]
        },
        {
         "line": {
          "color": "#adc22f",
          "width": 2
         },
         "mode": "lines",
         "showlegend": false,
         "type": "scatter",
         "x": [
          "A1.1",
          "A1.2"
         ],
         "y": [
          "WELLINGTON DOS SANTOS SILVA",
          "WELLINGTON DOS SANTOS SILVA"
         ]
        },
        {
         "hoverinfo": "text",
         "marker": {
          "color": [
           "#391e70",
           "#391e70",
           "#adc22f"
          ],
          "size": 8
         },
         "mode": "markers",
         "showlegend": false,
         "text": [
          "03/2024",
          "09/2024",
          "03/2025"
         ],
         "type": "scatter",
         "x": [
          "Marco zero",
          "A1.1",
          "A1.2"
         ],
         "y": [
          "ADRIANO BEZERRA DOS SANTOS",
          "ADRIANO BEZERRA DOS SANTOS",
          "ADRIANO BEZERRA DOS SANTOS"
         ]
        },
        {
         "hoverinfo": "text",
         "marker": {
          "color": [
           "#391e70",
           "#391e70",
           "#adc22f"
          ],
          "size": 8
         },
         "mode": "markers",
         "showlegend": false,
         "text": [
          "03/2024",
          "09/2024",
          "03/2025"
         ],
         "type": "scatter",
         "x": [
          "A1.1",
          "A1.2",
          "A2.1"
         ],
         "y": [
          "ANA MARIA TOMAZ UVINHA",
          "ANA MARIA TOMAZ UVINHA",
          "ANA MARIA TOMAZ UVINHA"
         ]
        },
        {
         "hoverinfo": "text",
         "marker": {
          "color": [
           "#391e70",
           "#391e70",
           "#adc22f"
          ],
          "size": 8
         },
         "mode": "markers",
         "showlegend": false,
         "text": [
          "03/2024",
          "09/2024",
          "03/2025"
         ],
         "type": "scatter",
         "x": [
          "Marco zero",
          "A1.1",
          "A1.2"
         ],
         "y": [
          "ANDERSON RODRIGO DE OLIVEIRA",
          "ANDERSON RODRIGO DE OLIVEIRA",
          "ANDERSON RODRIGO DE OLIVEIRA"
         ]
        },
        {
         "hoverinfo": "text",
         "marker": {
          "color": [
           "#391e70",
           "#391e70",
           "#adc22f"
          ],
          "size": 8
         },
         "mode": "markers",
         "showlegend": false,
         "text": [
          "04/2024",
          "10/2024",
          "04/2025"
         ],
         "type": "scatter",
         "x": [
          "B1.2",
          "B2.1",
          "B2.2"
         ],
         "y": [
          "Adriano Jeronimo Veloso Do Carmo",
          "Adriano Jeronimo Veloso Do Carmo",
          "Adriano Jeronimo Veloso Do Carmo"
         ]
        },
        {
         "hoverinfo": "text",
         "marker": {
          "color": [
           "#391e70",
           "#391e70",
           "#adc22f"
          ],
          "size": 8
         },
         "mode": "markers",
         "showlegend": false,
         "text": [
          "02/2024",
          "08/2024",
          "02/2025"
         ],
         "type": "scatter",
         "x": [
          "B1.2",
          "B2.1",
          "B2.2"
         ],
         "y": [
          "Alisson Saccoman",
          "Alisson Saccoman",
          "Alisson Saccoman"
         ]
        },
        {
         "hoverinfo": "text",
         "marker": {
          "color": [
           "#391e70",
           "#391e70",
           "#adc22f"
          ],
          "size": 8
         },
         "mode": "markers",
         "showlegend": false,
         "text": [
          "03/2024",
          "09/2024",
          "03/2025"
         ],
         "type": "scatter",
         "x": [
          "Marco zero",
          "A1.1",
          "A1.2"
         ],
         "y": [
          "Ana Paula Carvalho",
          "Ana Paula Carvalho",
          "Ana Paula Carvalho"
         ]
        },
        {
         "hoverinfo": "text",
         "marker": {
          "color": [
           "#391e70",
           "#391e70",
           "#adc22f"
          ],
          "size": 8
         },
         "mode": "markers",
         "showlegend": false,
         "text": [
          "02/2024",
          "08/2024",
          "02/2025"
         ],
         "type": "scatter",
         "x": [
          "Marco zero",
          "A1.1",
          "A1.2"
         ],
         "y": [
          "Andreia de Almeida Bueno",
          "Andreia de Almeida Bueno",
          "Andreia de Almeida Bueno"
         ]
        },
        {
         "hoverinfo": "text",
         "marker": {
          "color": [
           "#391e70",
           "#391e70",
           "#adc22f"
          ],
          "size": 8
         },
         "mode": "markers",
         "showlegend": false,
         "text": [
          "03/2024",
          "09/2024",
          "03/2025"
         ],
         "type": "scatter",
         "x": [
          "A2.1",
          "A2.2",
          "B1.1"
         ],
         "y": [
          "André Jorel",
          "André Jorel",
          "André Jorel"
         ]
        },
        {
         "hoverinfo": "text",
         "marker": {
          "color": [
           "#391e70",
           "#391e70",
           "#adc22f"
          ],
          "size": 8
         },
         "mode": "markers",
         "showlegend": false,
         "text": [
          "03/2024",
          "08/2024",
          "02/2025"
         ],
         "type": "scatter",
         "x": [
          "B1.1",
          "B1.2",
          "B2.1"
         ],
         "y": [
          "André Teixeira",
          "André Teixeira",
          "André Teixeira"
         ]
        },
        {
         "hoverinfo": "text",
         "marker": {
          "color": [
           "#391e70",
           "#391e70",
           "#adc22f"
          ],
          "size": 8
         },
         "mode": "markers",
         "showlegend": false,
         "text": [
          "04/2024",
          "10/2024",
          "04/2025"
         ],
         "type": "scatter",
         "x": [
          "A2.2",
          "B1.1",
          "B1.2"
         ],
         "y": [
          "Ariel Fontanive",
          "Ariel Fontanive",
          "Ariel Fontanive"
         ]
        },
        {
         "hoverinfo": "text",
         "marker": {
          "color": [
           "#391e70",
           "#adc22f"
          ],
          "size": 8
         },
         "mode": "markers",
         "showlegend": false,
         "text": [
          "02/2024",
          "08/2024"
         ],
         "type": "scatter",
         "x": [
          "C1.2",
          "C1.3"
         ],
         "y": [
          "Atny Miho Saito",
          "Atny Miho Saito"
         ]
        },
        {
         "hoverinfo": "text",
         "marker": {
          "color": [
           "#391e70",
           "#391e70",
           "#adc22f"
          ],
          "size": 8
         },
         "mode": "markers",
         "showlegend": false,
         "text": [
          "04/2024",
          "10/2024",
          "04/2025"
         ],
         "type": "scatter",
         "x": [
          "B2+.1",
          "B2+.2",
          "C1.1"
         ],
         "y": [
          "Beatriz Sandrim Ferreira",
          "Beatriz Sandrim Ferreira",
          "Beatriz Sandrim Ferreira"
         ]
        },
        {
         "hoverinfo": "text",
         "marker": {
          "color": [
           "#391e70",
           "#391e70",
           "#adc22f"
          ],
          "size": 8
         },
         "mode": "markers",
         "showlegend": false,
         "text": [
          "03/2024",
          "09/2024",
          "03/2025"
         ],
         "type": "scatter",
         "x": [
          "Marco zero",
          "A1.1",
          "A1.2"
         ],
         "y": [
          "Bruno Gonçalves",
          "Bruno Gonçalves",
          "Bruno Gonçalves"
         ]
        },
        {
         "hoverinfo": "text",
         "marker": {
          "color": [
           "#391e70",
           "#391e70",
           "#adc22f"
          ],
          "size": 8
         },
         "mode": "markers",
         "showlegend": false,
         "text": [
          "03/2024",
          "09/2024",
          "03/2025"
         ],
         "type": "scatter",
         "x": [
          "A1.2",
          "A2.1",
          "A2.2"
         ],
         "y": [
          "Bruno Santos",
          "Bruno Santos",
          "Bruno Santos"
         ]
        },
        {
         "hoverinfo": "text",
         "marker": {
          "color": [
           "#391e70",
           "#391e70",
           "#adc22f"
          ],
          "size": 8
         },
         "mode": "markers",
         "showlegend": false,
         "text": [
          "03/2024",
          "09/2024",
          "03/2025"
         ],
         "type": "scatter",
         "x": [
          "A1.1",
          "A1.2",
          "A2.1"
         ],
         "y": [
          "CARINE DOS SANTOS OLIVEIRA",
          "CARINE DOS SANTOS OLIVEIRA",
          "CARINE DOS SANTOS OLIVEIRA"
         ]
        },
        {
         "hoverinfo": "text",
         "marker": {
          "color": [
           "#391e70",
           "#391e70",
           "#adc22f"
          ],
          "size": 8
         },
         "mode": "markers",
         "showlegend": false,
         "text": [
          "04/2024",
          "10/2024",
          "04/2025"
         ],
         "type": "scatter",
         "x": [
          "A2.2",
          "B1.1",
          "B1.2"
         ],
         "y": [
          "Camila Antonia Batista",
          "Camila Antonia Batista",
          "Camila Antonia Batista"
         ]
        },
        {
         "hoverinfo": "text",
         "marker": {
          "color": [
           "#391e70",
           "#391e70",
           "#adc22f"
          ],
          "size": 8
         },
         "mode": "markers",
         "showlegend": false,
         "text": [
          "05/2024",
          "10/2024",
          "04/2025"
         ],
         "type": "scatter",
         "x": [
          "A1.2",
          "A2.1",
          "A2.2"
         ],
         "y": [
          "Carina Alves Ferreira",
          "Carina Alves Ferreira",
          "Carina Alves Ferreira"
         ]
        },
        {
         "hoverinfo": "text",
         "marker": {
          "color": [
           "#391e70",
           "#391e70",
           "#adc22f"
          ],
          "size": 8
         },
         "mode": "markers",
         "showlegend": false,
         "text": [
          "03/2024",
          "09/2024",
          "03/2025"
         ],
         "type": "scatter",
         "x": [
          "B2.1",
          "B2.2",
          "B2+.1"
         ],
         "y": [
          "Carolina Jordan",
          "Carolina Jordan",
          "Carolina Jordan"
         ]
        },
        {
         "hoverinfo": "text",
         "marker": {
          "color": [
           "#391e70",
           "#391e70",
           "#adc22f"
          ],
          "size": 8
         },
         "mode": "markers",
         "showlegend": false,
         "text": [
          "03/2024",
          "09/2024",
          "03/2025"
         ],
         "type": "scatter",
         "x": [
          "Marco zero",
          "A1.1",
          "A1.2"
         ],
         "y": [
          "Cintia Martins de Athayde",
          "Cintia Martins de Athayde",
          "Cintia Martins de Athayde"
         ]
        },
        {
         "hoverinfo": "text",
         "marker": {
          "color": [
           "#391e70",
           "#391e70",
           "#adc22f"
          ],
          "size": 8
         },
         "mode": "markers",
         "showlegend": false,
         "text": [
          "03/2024",
          "09/2024",
          "03/2025"
         ],
         "type": "scatter",
         "x": [
          "A1.1",
          "A1.2",
          "A2.1"
         ],
         "y": [
          "Daiane Rangel",
          "Daiane Rangel",
          "Daiane Rangel"
         ]
        },
        {
         "hoverinfo": "text",
         "marker": {
          "color": [
           "#391e70",
           "#391e70",
           "#adc22f"
          ],
          "size": 8
         },
         "mode": "markers",
         "showlegend": false,
         "text": [
          "04/2024",
          "10/2024",
          "03/2025"
         ],
         "type": "scatter",
         "x": [
          "A2.1",
          "A2.2",
          "B1.1"
         ],
         "y": [
          "Daniel Moraes Pessoa",
          "Daniel Moraes Pessoa",
          "Daniel Moraes Pessoa"
         ]
        },
        {
         "hoverinfo": "text",
         "marker": {
          "color": [
           "#391e70",
           "#391e70",
           "#adc22f"
          ],
          "size": 8
         },
         "mode": "markers",
         "showlegend": false,
         "text": [
          "03/2024",
          "09/2024",
          "03/2025"
         ],
         "type": "scatter",
         "x": [
          "A1.2",
          "A2.1",
          "A2.2"
         ],
         "y": [
          "Diego Lage",
          "Diego Lage",
          "Diego Lage"
         ]
        },
        {
         "hoverinfo": "text",
         "marker": {
          "color": [
           "#391e70",
           "#391e70",
           "#adc22f"
          ],
          "size": 8
         },
         "mode": "markers",
         "showlegend": false,
         "text": [
          "04/2024",
          "10/2024",
          "04/2025"
         ],
         "type": "scatter",
         "x": [
          "B1.2",
          "B2.1",
          "B2.2"
         ],
         "y": [
          "Diego Oro",
          "Diego Oro",
          "Diego Oro"
         ]
        },
        {
         "hoverinfo": "text",
         "marker": {
          "color": [
           "#391e70",
           "#391e70",
           "#adc22f"
          ],
          "size": 8
         },
         "mode": "markers",
         "showlegend": false,
         "text": [
          "04/2024",
          "10/2024",
          "04/2025"
         ],
         "type": "scatter",
         "x": [
          "A1.2",
          "A2.1",
          "A2.2"
         ],
         "y": [
          "Edi Jean Pereira",
          "Edi Jean Pereira",
          "Edi Jean Pereira"
         ]
        },
        {
         "hoverinfo": "text",
         "marker": {
          "color": [
           "#391e70",
           "#391e70",
           "#adc22f"
          ],
          "size": 8
         },
         "mode": "markers",
         "showlegend": false,
         "text": [
          "03/2024",
          "09/2024",
          "03/2025"
         ],
         "type": "scatter",
         "x": [
          "A1.1",
          "A1.2",
          "A2.1"
         ],
         "y": [
          "Emanuel Lima Matos",
          "Emanuel Lima Matos",
          "Emanuel Lima Matos"
         ]
        },
        {
         "hoverinfo": "text",
         "marker": {
          "color": [
           "#391e70",
           "#391e70",
           "#adc22f"
          ],
          "size": 8
         },
         "mode": "markers",
         "showlegend": false,
         "text": [
          "03/2024",
          "09/2024",
          "03/2025"
         ],
         "type": "scatter",
         "x": [
          "Marco zero",
          "A1.1",
          "A1.2"
         ],
         "y": [
          "Erica Barreto",
          "Erica Barreto",
          "Erica Barreto"
         ]
        },
        {
         "hoverinfo": "text",
         "marker": {
          "color": [
           "#391e70",
           "#391e70",
           "#adc22f"
          ],
          "size": 8
         },
         "mode": "markers",
         "showlegend": false,
         "text": [
          "03/2024",
          "09/2024",
          "03/2025"
         ],
         "type": "scatter",
         "x": [
          "A1.1",
          "A1.2",
          "A2.1"
         ],
         "y": [
          "FABIO JOSE TASCA AGUIAR",
          "FABIO JOSE TASCA AGUIAR",
          "FABIO JOSE TASCA AGUIAR"
         ]
        },
        {
         "hoverinfo": "text",
         "marker": {
          "color": [
           "#391e70",
           "#391e70",
           "#adc22f"
          ],
          "size": 8
         },
         "mode": "markers",
         "showlegend": false,
         "text": [
          "03/2024",
          "10/2024",
          "03/2025"
         ],
         "type": "scatter",
         "x": [
          "A2.2",
          "B1.1",
          "B1.2"
         ],
         "y": [
          "Fabiano Silva",
          "Fabiano Silva",
          "Fabiano Silva"
         ]
        },
        {
         "hoverinfo": "text",
         "marker": {
          "color": [
           "#391e70",
           "#391e70",
           "#adc22f"
          ],
          "size": 8
         },
         "mode": "markers",
         "showlegend": false,
         "text": [
          "04/2024",
          "11/2024",
          "04/2025"
         ],
         "type": "scatter",
         "x": [
          "A1.2",
          "A2.1",
          "A2.2"
         ],
         "y": [
          "Fabio Antonio Bernardo",
          "Fabio Antonio Bernardo",
          "Fabio Antonio Bernardo"
         ]
        },
        {
         "hoverinfo": "text",
         "marker": {
          "color": [
           "#391e70",
           "#391e70",
           "#adc22f"
          ],
          "size": 8
         },
         "mode": "markers",
         "showlegend": false,
         "text": [
          "03/2024",
          "09/2024",
          "03/2025"
         ],
         "type": "scatter",
         "x": [
          "B2.1",
          "B2.2",
          "B2+.1"
         ],
         "y": [
          "Fabio Costa",
          "Fabio Costa",
          "Fabio Costa"
         ]
        },
        {
         "hoverinfo": "text",
         "marker": {
          "color": [
           "#391e70",
           "#391e70",
           "#adc22f"
          ],
          "size": 8
         },
         "mode": "markers",
         "showlegend": false,
         "text": [
          "03/2024",
          "09/2024",
          "03/2025"
         ],
         "type": "scatter",
         "x": [
          "A1.2",
          "A2.1",
          "A2.2"
         ],
         "y": [
          "Felipe Rafael",
          "Felipe Rafael",
          "Felipe Rafael"
         ]
        },
        {
         "hoverinfo": "text",
         "marker": {
          "color": [
           "#391e70",
           "#391e70",
           "#adc22f"
          ],
          "size": 8
         },
         "mode": "markers",
         "showlegend": false,
         "text": [
          "03/2024",
          "09/2024",
          "03/2025"
         ],
         "type": "scatter",
         "x": [
          "A1.2",
          "A2.1",
          "A2.2"
         ],
         "y": [
          "Fernanda Vieira",
          "Fernanda Vieira",
          "Fernanda Vieira"
         ]
        },
        {
         "hoverinfo": "text",
         "marker": {
          "color": [
           "#391e70",
           "#391e70",
           "#adc22f"
          ],
          "size": 8
         },
         "mode": "markers",
         "showlegend": false,
         "text": [
          "03/2024",
          "09/2024",
          "03/2025"
         ],
         "type": "scatter",
         "x": [
          "B1.2",
          "B2.1",
          "B2.2"
         ],
         "y": [
          "Fernando da Silva",
          "Fernando da Silva",
          "Fernando da Silva"
         ]
        },
        {
         "hoverinfo": "text",
         "marker": {
          "color": [
           "#391e70",
           "#391e70",
           "#adc22f"
          ],
          "size": 8
         },
         "mode": "markers",
         "showlegend": false,
         "text": [
          "03/2024",
          "09/2024",
          "03/2025"
         ],
         "type": "scatter",
         "x": [
          "B1.1",
          "B1.2",
          "B2.1"
         ],
         "y": [
          "GABRIEL ARAGAO MARTINS DE MOURA",
          "GABRIEL ARAGAO MARTINS DE MOURA",
          "GABRIEL ARAGAO MARTINS DE MOURA"
         ]
        },
        {
         "hoverinfo": "text",
         "marker": {
          "color": [
           "#391e70",
           "#391e70",
           "#adc22f"
          ],
          "size": 8
         },
         "mode": "markers",
         "showlegend": false,
         "text": [
          "03/2024",
          "09/2024",
          "03/2025"
         ],
         "type": "scatter",
         "x": [
          "Marco zero",
          "A1.1",
          "A1.2"
         ],
         "y": [
          "Gabriel Marques",
          "Gabriel Marques",
          "Gabriel Marques"
         ]
        },
        {
         "hoverinfo": "text",
         "marker": {
          "color": [
           "#391e70",
           "#391e70",
           "#adc22f"
          ],
          "size": 8
         },
         "mode": "markers",
         "showlegend": false,
         "text": [
          "03/2024",
          "09/2024",
          "03/2025"
         ],
         "type": "scatter",
         "x": [
          "Marco zero",
          "A1.1",
          "A1.2"
         ],
         "y": [
          "Gerhard Valkinir Cabreira",
          "Gerhard Valkinir Cabreira",
          "Gerhard Valkinir Cabreira"
         ]
        },
        {
         "hoverinfo": "text",
         "marker": {
          "color": [
           "#391e70",
           "#391e70",
           "#adc22f"
          ],
          "size": 8
         },
         "mode": "markers",
         "showlegend": false,
         "text": [
          "03/2024",
          "09/2024",
          "03/2025"
         ],
         "type": "scatter",
         "x": [
          "B1.2",
          "B2.1",
          "B2.2"
         ],
         "y": [
          "Guilherme Romani",
          "Guilherme Romani",
          "Guilherme Romani"
         ]
        },
        {
         "hoverinfo": "text",
         "marker": {
          "color": [
           "#391e70",
           "#391e70",
           "#adc22f"
          ],
          "size": 8
         },
         "mode": "markers",
         "showlegend": false,
         "text": [
          "04/2024",
          "11/2024",
          "04/2025"
         ],
         "type": "scatter",
         "x": [
          "B1.2",
          "B2.1",
          "B2.2"
         ],
         "y": [
          "Gustavo Manne",
          "Gustavo Manne",
          "Gustavo Manne"
         ]
        },
        {
         "hoverinfo": "text",
         "marker": {
          "color": [
           "#391e70",
           "#391e70",
           "#adc22f"
          ],
          "size": 8
         },
         "mode": "markers",
         "showlegend": false,
         "text": [
          "04/2024",
          "10/2024",
          "04/2025"
         ],
         "type": "scatter",
         "x": [
          "C1.1",
          "C1.2",
          "C1.3"
         ],
         "y": [
          "Gustavo Martins Soares",
          "Gustavo Martins Soares",
          "Gustavo Martins Soares"
         ]
        },
        {
         "hoverinfo": "text",
         "marker": {
          "color": [
           "#391e70",
           "#391e70",
           "#adc22f"
          ],
          "size": 8
         },
         "mode": "markers",
         "showlegend": false,
         "text": [
          "03/2024",
          "09/2024",
          "03/2025"
         ],
         "type": "scatter",
         "x": [
          "A1.2",
          "A2.1",
          "A2.2"
         ],
         "y": [
          "Gustavo Neves",
          "Gustavo Neves",
          "Gustavo Neves"
         ]
        },
        {
         "hoverinfo": "text",
         "marker": {
          "color": [
           "#391e70",
           "#391e70",
           "#adc22f"
          ],
          "size": 8
         },
         "mode": "markers",
         "showlegend": false,
         "text": [
          "03/2024",
          "09/2024",
          "03/2025"
         ],
         "type": "scatter",
         "x": [
          "Marco zero",
          "A1.1",
          "A1.2"
         ],
         "y": [
          "Helen Branicio",
          "Helen Branicio",
          "Helen Branicio"
         ]
        },
        {
         "hoverinfo": "text",
         "marker": {
          "color": [
           "#391e70",
           "#391e70",
           "#adc22f"
          ],
          "size": 8
         },
         "mode": "markers",
         "showlegend": false,
         "text": [
          "03/2024",
          "09/2024",
          "03/2025"
         ],
         "type": "scatter",
         "x": [
          "Marco zero",
          "A1.1",
          "A1.2"
         ],
         "y": [
          "Heronilton Fernandes",
          "Heronilton Fernandes",
          "Heronilton Fernandes"
         ]
        },
        {
         "hoverinfo": "text",
         "marker": {
          "color": [
           "#391e70",
           "#391e70",
           "#adc22f"
          ],
          "size": 8
         },
         "mode": "markers",
         "showlegend": false,
         "text": [
          "04/2024",
          "10/2024",
          "04/2025"
         ],
         "type": "scatter",
         "x": [
          "A1.2",
          "A2.1",
          "A2.2"
         ],
         "y": [
          "Hugo Silvio Bernardo",
          "Hugo Silvio Bernardo",
          "Hugo Silvio Bernardo"
         ]
        },
        {
         "hoverinfo": "text",
         "marker": {
          "color": [
           "#391e70",
           "#391e70",
           "#adc22f"
          ],
          "size": 8
         },
         "mode": "markers",
         "showlegend": false,
         "text": [
          "03/2024",
          "10/2024",
          "03/2025"
         ],
         "type": "scatter",
         "x": [
          "B2.2",
          "B2+.1",
          "B2+.2"
         ],
         "y": [
          "Hywre Santos Sousa",
          "Hywre Santos Sousa",
          "Hywre Santos Sousa"
         ]
        },
        {
         "hoverinfo": "text",
         "marker": {
          "color": [
           "#391e70",
           "#391e70",
           "#adc22f"
          ],
          "size": 8
         },
         "mode": "markers",
         "showlegend": false,
         "text": [
          "03/2024",
          "09/2024",
          "03/2025"
         ],
         "type": "scatter",
         "x": [
          "Marco zero",
          "A1.1",
          "A1.2"
         ],
         "y": [
          "Isabela Caroline Berlato Soares Andrade",
          "Isabela Caroline Berlato Soares Andrade",
          "Isabela Caroline Berlato Soares Andrade"
         ]
        },
        {
         "hoverinfo": "text",
         "marker": {
          "color": [
           "#391e70",
           "#391e70",
           "#adc22f"
          ],
          "size": 8
         },
         "mode": "markers",
         "showlegend": false,
         "text": [
          "04/2024",
          "10/2024",
          "04/2025"
         ],
         "type": "scatter",
         "x": [
          "C1.1",
          "C1.2",
          "C1.3"
         ],
         "y": [
          "Ivy Mayara Sanches de Oliveira",
          "Ivy Mayara Sanches de Oliveira",
          "Ivy Mayara Sanches de Oliveira"
         ]
        },
        {
         "hoverinfo": "text",
         "marker": {
          "color": [
           "#391e70",
           "#391e70",
           "#adc22f"
          ],
          "size": 8
         },
         "mode": "markers",
         "showlegend": false,
         "text": [
          "03/2024",
          "09/2024",
          "03/2025"
         ],
         "type": "scatter",
         "x": [
          "Marco zero",
          "A1.1",
          "A1.2"
         ],
         "y": [
          "Izabela Caroline Prezotto Armando",
          "Izabela Caroline Prezotto Armando",
          "Izabela Caroline Prezotto Armando"
         ]
        },
        {
         "hoverinfo": "text",
         "marker": {
          "color": [
           "#391e70",
           "#391e70",
           "#adc22f"
          ],
          "size": 8
         },
         "mode": "markers",
         "showlegend": false,
         "text": [
          "03/2024",
          "09/2024",
          "03/2025"
         ],
         "type": "scatter",
         "x": [
          "Marco zero",
          "A1.1",
          "A1.2"
         ],
         "y": [
          "JAMESON HIRXLEHOR",
          "JAMESON HIRXLEHOR",
          "JAMESON HIRXLEHOR"
         ]
        },
        {
         "hoverinfo": "text",
         "marker": {
          "color": [
           "#391e70",
           "#391e70",
           "#adc22f"
          ],
          "size": 8
         },
         "mode": "markers",
         "showlegend": false,
         "text": [
          "03/2024",
          "09/2024",
          "03/2025"
         ],
         "type": "scatter",
         "x": [
          "A2.2",
          "B1.1",
          "B1.2"
         ],
         "y": [
          "JOSE GUILHERME PEREIRA BRAGA",
          "JOSE GUILHERME PEREIRA BRAGA",
          "JOSE GUILHERME PEREIRA BRAGA"
         ]
        },
        {
         "hoverinfo": "text",
         "marker": {
          "color": [
           "#391e70",
           "#391e70",
           "#adc22f"
          ],
          "size": 8
         },
         "mode": "markers",
         "showlegend": false,
         "text": [
          "03/2024",
          "09/2024",
          "03/2025"
         ],
         "type": "scatter",
         "x": [
          "A2.1",
          "A2.2",
          "B1.1"
         ],
         "y": [
          "JOSIAS LOURENCO DA SILVA",
          "JOSIAS LOURENCO DA SILVA",
          "JOSIAS LOURENCO DA SILVA"
         ]
        },
        {
         "hoverinfo": "text",
         "marker": {
          "color": [
           "#391e70",
           "#391e70",
           "#adc22f"
          ],
          "size": 8
         },
         "mode": "markers",
         "showlegend": false,
         "text": [
          "04/2024",
          "10/2024",
          "04/2025"
         ],
         "type": "scatter",
         "x": [
          "B2+.1",
          "B2+.2",
          "C1.1"
         ],
         "y": [
          "Janaina Scotton",
          "Janaina Scotton",
          "Janaina Scotton"
         ]
        },
        {
         "hoverinfo": "text",
         "marker": {
          "color": [
           "#391e70",
           "#391e70",
           "#adc22f"
          ],
          "size": 8
         },
         "mode": "markers",
         "showlegend": false,
         "text": [
          "03/2024",
          "09/2024",
          "03/2025"
         ],
         "type": "scatter",
         "x": [
          "B2.2",
          "B2+.1",
          "B2+.2"
         ],
         "y": [
          "Jefferson Esquizato De Souza",
          "Jefferson Esquizato De Souza",
          "Jefferson Esquizato De Souza"
         ]
        },
        {
         "hoverinfo": "text",
         "marker": {
          "color": [
           "#391e70",
           "#391e70",
           "#adc22f"
          ],
          "size": 8
         },
         "mode": "markers",
         "showlegend": false,
         "text": [
          "04/2024",
          "10/2024",
          "04/2025"
         ],
         "type": "scatter",
         "x": [
          "A2.1",
          "A2.2",
          "B1.1"
         ],
         "y": [
          "Jefferson Freitas Pinto Silva",
          "Jefferson Freitas Pinto Silva",
          "Jefferson Freitas Pinto Silva"
         ]
        },
        {
         "hoverinfo": "text",
         "marker": {
          "color": [
           "#391e70",
           "#391e70",
           "#adc22f"
          ],
          "size": 8
         },
         "mode": "markers",
         "showlegend": false,
         "text": [
          "04/2024",
          "10/2024",
          "04/2025"
         ],
         "type": "scatter",
         "x": [
          "B2.2",
          "B2+.1",
          "B2+.2"
         ],
         "y": [
          "Joao Eduardo Souza Oliveira",
          "Joao Eduardo Souza Oliveira",
          "Joao Eduardo Souza Oliveira"
         ]
        },
        {
         "hoverinfo": "text",
         "marker": {
          "color": [
           "#391e70",
           "#391e70",
           "#adc22f"
          ],
          "size": 8
         },
         "mode": "markers",
         "showlegend": false,
         "text": [
          "03/2024",
          "09/2024",
          "03/2025"
         ],
         "type": "scatter",
         "x": [
          "A2.1",
          "A2.2",
          "B1.1"
         ],
         "y": [
          "Jonatan Teixeira do Carmo Girata",
          "Jonatan Teixeira do Carmo Girata",
          "Jonatan Teixeira do Carmo Girata"
         ]
        },
        {
         "hoverinfo": "text",
         "marker": {
          "color": [
           "#391e70",
           "#391e70",
           "#adc22f"
          ],
          "size": 8
         },
         "mode": "markers",
         "showlegend": false,
         "text": [
          "03/2024",
          "09/2024",
          "03/2025"
         ],
         "type": "scatter",
         "x": [
          "Marco zero",
          "A1.1",
          "A1.2"
         ],
         "y": [
          "Jose Rodrigo Claro",
          "Jose Rodrigo Claro",
          "Jose Rodrigo Claro"
         ]
        },
        {
         "hoverinfo": "text",
         "marker": {
          "color": [
           "#391e70",
           "#391e70",
           "#adc22f"
          ],
          "size": 8
         },
         "mode": "markers",
         "showlegend": false,
         "text": [
          "03/2024",
          "09/2024",
          "03/2025"
         ],
         "type": "scatter",
         "x": [
          "B2.1",
          "B2.2",
          "B2+.1"
         ],
         "y": [
          "João Victor Bertolo",
          "João Victor Bertolo",
          "João Victor Bertolo"
         ]
        },
        {
         "hoverinfo": "text",
         "marker": {
          "color": [
           "#391e70",
           "#adc22f"
          ],
          "size": 8
         },
         "mode": "markers",
         "showlegend": false,
         "text": [
          "07/2024",
          "02/2024"
         ],
         "type": "scatter",
         "x": [
          "B1.1",
          "B2.2"
         ],
         "y": [
          "Karine Silva Madruga",
          "Karine Silva Madruga"
         ]
        },
        {
         "hoverinfo": "text",
         "marker": {
          "color": [
           "#391e70",
           "#391e70",
           "#adc22f"
          ],
          "size": 8
         },
         "mode": "markers",
         "showlegend": false,
         "text": [
          "03/2024",
          "09/2024",
          "03/2025"
         ],
         "type": "scatter",
         "x": [
          "Marco zero",
          "A1.1",
          "A1.2"
         ],
         "y": [
          "Larissa Boso",
          "Larissa Boso",
          "Larissa Boso"
         ]
        },
        {
         "hoverinfo": "text",
         "marker": {
          "color": [
           "#391e70",
           "#391e70",
           "#adc22f"
          ],
          "size": 8
         },
         "mode": "markers",
         "showlegend": false,
         "text": [
          "03/2024",
          "09/2024",
          "03/2025"
         ],
         "type": "scatter",
         "x": [
          "B1.2",
          "B2.1",
          "B2.2"
         ],
         "y": [
          "Larissa Martins",
          "Larissa Martins",
          "Larissa Martins"
         ]
        },
        {
         "hoverinfo": "text",
         "marker": {
          "color": [
           "#391e70",
           "#391e70",
           "#adc22f"
          ],
          "size": 8
         },
         "mode": "markers",
         "showlegend": false,
         "text": [
          "03/2024",
          "09/2024",
          "03/2025"
         ],
         "type": "scatter",
         "x": [
          "A2.1",
          "A2.2",
          "B1.1"
         ],
         "y": [
          "Larissa Nakayama",
          "Larissa Nakayama",
          "Larissa Nakayama"
         ]
        },
        {
         "hoverinfo": "text",
         "marker": {
          "color": [
           "#391e70",
           "#391e70",
           "#adc22f"
          ],
          "size": 8
         },
         "mode": "markers",
         "showlegend": false,
         "text": [
          "03/2024",
          "09/2024",
          "03/2025"
         ],
         "type": "scatter",
         "x": [
          "Marco zero",
          "A1.1",
          "A1.2"
         ],
         "y": [
          "Letícia Gomez",
          "Letícia Gomez",
          "Letícia Gomez"
         ]
        },
        {
         "hoverinfo": "text",
         "marker": {
          "color": [
           "#391e70",
           "#391e70",
           "#adc22f"
          ],
          "size": 8
         },
         "mode": "markers",
         "showlegend": false,
         "text": [
          "04/2024",
          "09/2024",
          "03/2025"
         ],
         "type": "scatter",
         "x": [
          "Marco zero",
          "A1.1",
          "A1.2"
         ],
         "y": [
          "Lualis Emiliano",
          "Lualis Emiliano",
          "Lualis Emiliano"
         ]
        },
        {
         "hoverinfo": "text",
         "marker": {
          "color": [
           "#391e70",
           "#391e70",
           "#adc22f"
          ],
          "size": 8
         },
         "mode": "markers",
         "showlegend": false,
         "text": [
          "03/2024",
          "09/2024",
          "03/2025"
         ],
         "type": "scatter",
         "x": [
          "Marco zero",
          "A1.1",
          "A1.2"
         ],
         "y": [
          "Luciano Delmar Dos Santos Almeida",
          "Luciano Delmar Dos Santos Almeida",
          "Luciano Delmar Dos Santos Almeida"
         ]
        },
        {
         "hoverinfo": "text",
         "marker": {
          "color": [
           "#391e70",
           "#391e70",
           "#adc22f"
          ],
          "size": 8
         },
         "mode": "markers",
         "showlegend": false,
         "text": [
          "04/2024",
          "10/2024",
          "04/2025"
         ],
         "type": "scatter",
         "x": [
          "A1.2",
          "A2.1",
          "A2.2"
         ],
         "y": [
          "Luis Felipe Da Silva Reis",
          "Luis Felipe Da Silva Reis",
          "Luis Felipe Da Silva Reis"
         ]
        },
        {
         "hoverinfo": "text",
         "marker": {
          "color": [
           "#391e70",
           "#391e70",
           "#adc22f"
          ],
          "size": 8
         },
         "mode": "markers",
         "showlegend": false,
         "text": [
          "04/2024",
          "10/2024",
          "04/2025"
         ],
         "type": "scatter",
         "x": [
          "B2.2",
          "B2+.1",
          "B2+.2"
         ],
         "y": [
          "Luiz Guilherme Alves Leonel",
          "Luiz Guilherme Alves Leonel",
          "Luiz Guilherme Alves Leonel"
         ]
        },
        {
         "hoverinfo": "text",
         "marker": {
          "color": [
           "#391e70",
           "#391e70",
           "#adc22f"
          ],
          "size": 8
         },
         "mode": "markers",
         "showlegend": false,
         "text": [
          "03/2024",
          "09/2024",
          "03/2025"
         ],
         "type": "scatter",
         "x": [
          "A2.1",
          "A2.2",
          "B1.1"
         ],
         "y": [
          "Luiz Tosta",
          "Luiz Tosta",
          "Luiz Tosta"
         ]
        },
        {
         "hoverinfo": "text",
         "marker": {
          "color": [
           "#391e70",
           "#391e70",
           "#adc22f"
          ],
          "size": 8
         },
         "mode": "markers",
         "showlegend": false,
         "text": [
          "03/2024",
          "09/2024",
          "03/2025"
         ],
         "type": "scatter",
         "x": [
          "A2.2",
          "B1.1",
          "B1.2"
         ],
         "y": [
          "MARIANA CRISTINA GONSALES NOGUEIRA",
          "MARIANA CRISTINA GONSALES NOGUEIRA",
          "MARIANA CRISTINA GONSALES NOGUEIRA"
         ]
        },
        {
         "hoverinfo": "text",
         "marker": {
          "color": [
           "#391e70",
           "#391e70",
           "#adc22f"
          ],
          "size": 8
         },
         "mode": "markers",
         "showlegend": false,
         "text": [
          "03/2024",
          "09/2024",
          "03/2025"
         ],
         "type": "scatter",
         "x": [
          "B2+.1",
          "B2+.2",
          "C1.1"
         ],
         "y": [
          "MARINA FREITAS NORKUS",
          "MARINA FREITAS NORKUS",
          "MARINA FREITAS NORKUS"
         ]
        },
        {
         "hoverinfo": "text",
         "marker": {
          "color": [
           "#391e70",
           "#391e70",
           "#adc22f"
          ],
          "size": 8
         },
         "mode": "markers",
         "showlegend": false,
         "text": [
          "03/2024",
          "09/2024",
          "03/2025"
         ],
         "type": "scatter",
         "x": [
          "Marco zero",
          "A1.1",
          "A1.2"
         ],
         "y": [
          "MIRIELLY CRISTINA GIL DA SILVA NUNES",
          "MIRIELLY CRISTINA GIL DA SILVA NUNES",
          "MIRIELLY CRISTINA GIL DA SILVA NUNES"
         ]
        },
        {
         "hoverinfo": "text",
         "marker": {
          "color": [
           "#391e70",
           "#391e70",
           "#adc22f"
          ],
          "size": 8
         },
         "mode": "markers",
         "showlegend": false,
         "text": [
          "03/2024",
          "09/2024",
          "03/2025"
         ],
         "type": "scatter",
         "x": [
          "A2.1",
          "A2.2",
          "B1.1"
         ],
         "y": [
          "Marcela Vanni",
          "Marcela Vanni",
          "Marcela Vanni"
         ]
        },
        {
         "hoverinfo": "text",
         "marker": {
          "color": [
           "#391e70",
           "#391e70",
           "#adc22f"
          ],
          "size": 8
         },
         "mode": "markers",
         "showlegend": false,
         "text": [
          "03/2024",
          "09/2024",
          "03/2025"
         ],
         "type": "scatter",
         "x": [
          "Marco zero",
          "A1.1",
          "A1.2"
         ],
         "y": [
          "Marco Goes",
          "Marco Goes",
          "Marco Goes"
         ]
        },
        {
         "hoverinfo": "text",
         "marker": {
          "color": [
           "#391e70",
           "#391e70",
           "#adc22f"
          ],
          "size": 8
         },
         "mode": "markers",
         "showlegend": false,
         "text": [
          "04/2024",
          "10/2024",
          "04/2025"
         ],
         "type": "scatter",
         "x": [
          "B1.2",
          "B2.1",
          "B2.2"
         ],
         "y": [
          "Mariana Brantes Vasques",
          "Mariana Brantes Vasques",
          "Mariana Brantes Vasques"
         ]
        },
        {
         "hoverinfo": "text",
         "marker": {
          "color": [
           "#391e70",
           "#391e70",
           "#adc22f"
          ],
          "size": 8
         },
         "mode": "markers",
         "showlegend": false,
         "text": [
          "03/2024",
          "09/2024",
          "03/2025"
         ],
         "type": "scatter",
         "x": [
          "Marco zero",
          "A1.1",
          "A1.2"
         ],
         "y": [
          "Marieli Ruza",
          "Marieli Ruza",
          "Marieli Ruza"
         ]
        },
        {
         "hoverinfo": "text",
         "marker": {
          "color": [
           "#391e70",
           "#391e70",
           "#adc22f"
          ],
          "size": 8
         },
         "mode": "markers",
         "showlegend": false,
         "text": [
          "03/2024",
          "09/2024",
          "03/2025"
         ],
         "type": "scatter",
         "x": [
          "Marco zero",
          "A1.1",
          "A1.2"
         ],
         "y": [
          "Milton Luiz Favero Junior",
          "Milton Luiz Favero Junior",
          "Milton Luiz Favero Junior"
         ]
        },
        {
         "hoverinfo": "text",
         "marker": {
          "color": [
           "#391e70",
           "#391e70",
           "#adc22f"
          ],
          "size": 8
         },
         "mode": "markers",
         "showlegend": false,
         "text": [
          "03/2024",
          "09/2024",
          "03/2025"
         ],
         "type": "scatter",
         "x": [
          "B1.2",
          "B2.1",
          "B2.2"
         ],
         "y": [
          "Natália Venanzoni",
          "Natália Venanzoni",
          "Natália Venanzoni"
         ]
        },
        {
         "hoverinfo": "text",
         "marker": {
          "color": [
           "#391e70",
           "#391e70",
           "#adc22f"
          ],
          "size": 8
         },
         "mode": "markers",
         "showlegend": false,
         "text": [
          "03/2024",
          "09/2024",
          "03/2025"
         ],
         "type": "scatter",
         "x": [
          "B2.2",
          "B2+.1",
          "B2+.2"
         ],
         "y": [
          "Nayara Sene",
          "Nayara Sene",
          "Nayara Sene"
         ]
        },
        {
         "hoverinfo": "text",
         "marker": {
          "color": [
           "#391e70",
           "#391e70",
           "#adc22f"
          ],
          "size": 8
         },
         "mode": "markers",
         "showlegend": false,
         "text": [
          "03/2024",
          "09/2024",
          "03/2025"
         ],
         "type": "scatter",
         "x": [
          "A1.1",
          "A1.2",
          "A2.1"
         ],
         "y": [
          "PATRICIA MEDUNECKAS BRAZ",
          "PATRICIA MEDUNECKAS BRAZ",
          "PATRICIA MEDUNECKAS BRAZ"
         ]
        },
        {
         "hoverinfo": "text",
         "marker": {
          "color": [
           "#391e70",
           "#391e70",
           "#adc22f"
          ],
          "size": 8
         },
         "mode": "markers",
         "showlegend": false,
         "text": [
          "04/2024",
          "10/2024",
          "04/2025"
         ],
         "type": "scatter",
         "x": [
          "A1.2",
          "A2.1",
          "A2.2"
         ],
         "y": [
          "Paula Cristina Nunes Pereira",
          "Paula Cristina Nunes Pereira",
          "Paula Cristina Nunes Pereira"
         ]
        },
        {
         "hoverinfo": "text",
         "marker": {
          "color": [
           "#391e70",
           "#391e70",
           "#adc22f"
          ],
          "size": 8
         },
         "mode": "markers",
         "showlegend": false,
         "text": [
          "03/2024",
          "09/2024",
          "03/2025"
         ],
         "type": "scatter",
         "x": [
          "B1.2",
          "B2.1",
          "B2.2"
         ],
         "y": [
          "Priscilla Ribeiro Alves",
          "Priscilla Ribeiro Alves",
          "Priscilla Ribeiro Alves"
         ]
        },
        {
         "hoverinfo": "text",
         "marker": {
          "color": [
           "#391e70",
           "#391e70",
           "#adc22f"
          ],
          "size": 8
         },
         "mode": "markers",
         "showlegend": false,
         "text": [
          "03/2024",
          "09/2024",
          "03/2025"
         ],
         "type": "scatter",
         "x": [
          "A1.1",
          "A1.2",
          "A2.1"
         ],
         "y": [
          "Rafael Moraes Pessoa",
          "Rafael Moraes Pessoa",
          "Rafael Moraes Pessoa"
         ]
        },
        {
         "hoverinfo": "text",
         "marker": {
          "color": [
           "#391e70",
           "#391e70",
           "#adc22f"
          ],
          "size": 8
         },
         "mode": "markers",
         "showlegend": false,
         "text": [
          "03/2024",
          "09/2024",
          "03/2025"
         ],
         "type": "scatter",
         "x": [
          "Marco zero",
          "A1.1",
          "A1.2"
         ],
         "y": [
          "Rafaela Maganhott",
          "Rafaela Maganhott",
          "Rafaela Maganhott"
         ]
        },
        {
         "hoverinfo": "text",
         "marker": {
          "color": [
           "#391e70",
           "#391e70",
           "#adc22f"
          ],
          "size": 8
         },
         "mode": "markers",
         "showlegend": false,
         "text": [
          "04/2024",
          "10/2024",
          "04/2025"
         ],
         "type": "scatter",
         "x": [
          "A2.2",
          "B1.1",
          "B1.2"
         ],
         "y": [
          "Revalci Figueira Da Costa",
          "Revalci Figueira Da Costa",
          "Revalci Figueira Da Costa"
         ]
        },
        {
         "hoverinfo": "text",
         "marker": {
          "color": [
           "#391e70",
           "#391e70",
           "#adc22f"
          ],
          "size": 8
         },
         "mode": "markers",
         "showlegend": false,
         "text": [
          "04/2024",
          "10/2024",
          "04/2025"
         ],
         "type": "scatter",
         "x": [
          "B2+.2",
          "C1.1",
          "C1.2"
         ],
         "y": [
          "Rodrigo Fantini",
          "Rodrigo Fantini",
          "Rodrigo Fantini"
         ]
        },
        {
         "hoverinfo": "text",
         "marker": {
          "color": [
           "#391e70",
           "#391e70",
           "#adc22f"
          ],
          "size": 8
         },
         "mode": "markers",
         "showlegend": false,
         "text": [
          "04/2024",
          "10/2024",
          "04/2025"
         ],
         "type": "scatter",
         "x": [
          "A2.1",
          "A2.2",
          "B1.1"
         ],
         "y": [
          "Rodrigo Laine Barbosa",
          "Rodrigo Laine Barbosa",
          "Rodrigo Laine Barbosa"
         ]
        },
        {
         "hoverinfo": "text",
         "marker": {
          "color": [
           "#391e70",
           "#391e70",
           "#adc22f"
          ],
          "size": 8
         },
         "mode": "markers",
         "showlegend": false,
         "text": [
          "03/2024",
          "09/2024",
          "03/2025"
         ],
         "type": "scatter",
         "x": [
          "A1.2",
          "A2.1",
          "A2.2"
         ],
         "y": [
          "Suzane Fidelis",
          "Suzane Fidelis",
          "Suzane Fidelis"
         ]
        },
        {
         "hoverinfo": "text",
         "marker": {
          "color": [
           "#391e70",
           "#391e70",
           "#adc22f"
          ],
          "size": 8
         },
         "mode": "markers",
         "showlegend": false,
         "text": [
          "03/2024",
          "09/2024",
          "03/2025"
         ],
         "type": "scatter",
         "x": [
          "A1.2",
          "A2.1",
          "A2.2"
         ],
         "y": [
          "THAIS ALVES DA GRACA",
          "THAIS ALVES DA GRACA",
          "THAIS ALVES DA GRACA"
         ]
        },
        {
         "hoverinfo": "text",
         "marker": {
          "color": [
           "#391e70",
           "#391e70",
           "#adc22f"
          ],
          "size": 8
         },
         "mode": "markers",
         "showlegend": false,
         "text": [
          "04/2024",
          "10/2024",
          "04/2025"
         ],
         "type": "scatter",
         "x": [
          "B2.1",
          "B2.2",
          "B2+.1"
         ],
         "y": [
          "Taina Curralo Scarano",
          "Taina Curralo Scarano",
          "Taina Curralo Scarano"
         ]
        },
        {
         "hoverinfo": "text",
         "marker": {
          "color": [
           "#391e70",
           "#391e70",
           "#adc22f"
          ],
          "size": 8
         },
         "mode": "markers",
         "showlegend": false,
         "text": [
          "01/2024",
          "07/2024",
          "01/2025"
         ],
         "type": "scatter",
         "x": [
          "A1.1",
          "A1.2",
          "A2.1"
         ],
         "y": [
          "Tatiane Regina Zafani dos Santos",
          "Tatiane Regina Zafani dos Santos",
          "Tatiane Regina Zafani dos Santos"
         ]
        },
        {
         "hoverinfo": "text",
         "marker": {
          "color": [
           "#391e70",
           "#391e70",
           "#adc22f"
          ],
          "size": 8
         },
         "mode": "markers",
         "showlegend": false,
         "text": [
          "04/2024",
          "11/2024",
          "04/2025"
         ],
         "type": "scatter",
         "x": [
          "B2.1",
          "B2.2",
          "B2+.1"
         ],
         "y": [
          "Thiago Luiz Pasqualinoto",
          "Thiago Luiz Pasqualinoto",
          "Thiago Luiz Pasqualinoto"
         ]
        },
        {
         "hoverinfo": "text",
         "marker": {
          "color": [
           "#391e70",
           "#391e70",
           "#adc22f"
          ],
          "size": 8
         },
         "mode": "markers",
         "showlegend": false,
         "text": [
          "03/2024",
          "10/2024",
          "03/2025"
         ],
         "type": "scatter",
         "x": [
          "Marco zero",
          "A1.1",
          "A1.2"
         ],
         "y": [
          "Ulysses Antonio da Silva Neto",
          "Ulysses Antonio da Silva Neto",
          "Ulysses Antonio da Silva Neto"
         ]
        },
        {
         "hoverinfo": "text",
         "marker": {
          "color": [
           "#391e70",
           "#391e70",
           "#adc22f"
          ],
          "size": 8
         },
         "mode": "markers",
         "showlegend": false,
         "text": [
          "03/2024",
          "09/2024",
          "03/2025"
         ],
         "type": "scatter",
         "x": [
          "B2.1",
          "B2.2",
          "B2+.1"
         ],
         "y": [
          "VANESSA DAL BEN CONEGLIAN",
          "VANESSA DAL BEN CONEGLIAN",
          "VANESSA DAL BEN CONEGLIAN"
         ]
        },
        {
         "hoverinfo": "text",
         "marker": {
          "color": [
           "#391e70",
           "#391e70",
           "#adc22f"
          ],
          "size": 8
         },
         "mode": "markers",
         "showlegend": false,
         "text": [
          "03/2024",
          "08/2024",
          "02/2025"
         ],
         "type": "scatter",
         "x": [
          "A2.1",
          "A2.2",
          "B1.1"
         ],
         "y": [
          "Vinicius Duque",
          "Vinicius Duque",
          "Vinicius Duque"
         ]
        },
        {
         "hoverinfo": "text",
         "marker": {
          "color": [
           "#391e70",
           "#391e70",
           "#adc22f"
          ],
          "size": 8
         },
         "mode": "markers",
         "showlegend": false,
         "text": [
          "04/2024",
          "10/2024",
          "04/2025"
         ],
         "type": "scatter",
         "x": [
          "B2+.1",
          "B2+.2",
          "C1.1"
         ],
         "y": [
          "Vitor Pinheiro Afonso",
          "Vitor Pinheiro Afonso",
          "Vitor Pinheiro Afonso"
         ]
        },
        {
         "hoverinfo": "text",
         "marker": {
          "color": [
           "#391e70",
           "#391e70",
           "#adc22f"
          ],
          "size": 8
         },
         "mode": "markers",
         "showlegend": false,
         "text": [
          "02/2024",
          "08/2024",
          "02/2025"
         ],
         "type": "scatter",
         "x": [
          "B1.2",
          "B2.1",
          "B2.2"
         ],
         "y": [
          "Viviane Lima De Oliveira Cavalheiro",
          "Viviane Lima De Oliveira Cavalheiro",
          "Viviane Lima De Oliveira Cavalheiro"
         ]
        },
        {
         "hoverinfo": "text",
         "marker": {
          "color": [
           "#391e70",
           "#391e70",
           "#adc22f"
          ],
          "size": 8
         },
         "mode": "markers",
         "showlegend": false,
         "text": [
          "03/2024",
          "09/2024",
          "03/2025"
         ],
         "type": "scatter",
         "x": [
          "Marco zero",
          "A1.1",
          "A1.2"
         ],
         "y": [
          "WELLINGTON DOS SANTOS SILVA",
          "WELLINGTON DOS SANTOS SILVA",
          "WELLINGTON DOS SANTOS SILVA"
         ]
        }
       ],
       "layout": {
        "annotations": [
         {
          "align": "center",
          "font": {
           "size": 10
          },
          "showarrow": false,
          "text": "03/2024",
          "x": "Marco zero",
          "xanchor": "center",
          "xshift": -20,
          "y": "ADRIANO BEZERRA DOS SANTOS",
          "yshift": -10
         },
         {
          "align": "center",
          "font": {
           "size": 10
          },
          "showarrow": false,
          "text": "09/2024",
          "x": "A1.1",
          "xanchor": "center",
          "xshift": -20,
          "y": "ADRIANO BEZERRA DOS SANTOS",
          "yshift": -10
         },
         {
          "align": "center",
          "font": {
           "size": 10
          },
          "showarrow": false,
          "text": "03/2025",
          "x": "A1.2",
          "xanchor": "center",
          "xshift": -20,
          "y": "ADRIANO BEZERRA DOS SANTOS",
          "yshift": -10
         },
         {
          "align": "center",
          "font": {
           "size": 10
          },
          "showarrow": false,
          "text": "03/2024",
          "x": "A1.1",
          "xanchor": "center",
          "xshift": -20,
          "y": "ANA MARIA TOMAZ UVINHA",
          "yshift": -10
         },
         {
          "align": "center",
          "font": {
           "size": 10
          },
          "showarrow": false,
          "text": "09/2024",
          "x": "A1.2",
          "xanchor": "center",
          "xshift": -20,
          "y": "ANA MARIA TOMAZ UVINHA",
          "yshift": -10
         },
         {
          "align": "center",
          "font": {
           "size": 10
          },
          "showarrow": false,
          "text": "03/2025",
          "x": "A2.1",
          "xanchor": "center",
          "xshift": -20,
          "y": "ANA MARIA TOMAZ UVINHA",
          "yshift": -10
         },
         {
          "align": "center",
          "font": {
           "size": 10
          },
          "showarrow": false,
          "text": "03/2024",
          "x": "Marco zero",
          "xanchor": "center",
          "xshift": -20,
          "y": "ANDERSON RODRIGO DE OLIVEIRA",
          "yshift": -10
         },
         {
          "align": "center",
          "font": {
           "size": 10
          },
          "showarrow": false,
          "text": "09/2024",
          "x": "A1.1",
          "xanchor": "center",
          "xshift": -20,
          "y": "ANDERSON RODRIGO DE OLIVEIRA",
          "yshift": -10
         },
         {
          "align": "center",
          "font": {
           "size": 10
          },
          "showarrow": false,
          "text": "03/2025",
          "x": "A1.2",
          "xanchor": "center",
          "xshift": -20,
          "y": "ANDERSON RODRIGO DE OLIVEIRA",
          "yshift": -10
         },
         {
          "align": "center",
          "font": {
           "size": 10
          },
          "showarrow": false,
          "text": "04/2024",
          "x": "B1.2",
          "xanchor": "center",
          "xshift": -20,
          "y": "Adriano Jeronimo Veloso Do Carmo",
          "yshift": -10
         },
         {
          "align": "center",
          "font": {
           "size": 10
          },
          "showarrow": false,
          "text": "10/2024",
          "x": "B2.1",
          "xanchor": "center",
          "xshift": -20,
          "y": "Adriano Jeronimo Veloso Do Carmo",
          "yshift": -10
         },
         {
          "align": "center",
          "font": {
           "size": 10
          },
          "showarrow": false,
          "text": "04/2025",
          "x": "B2.2",
          "xanchor": "center",
          "xshift": -20,
          "y": "Adriano Jeronimo Veloso Do Carmo",
          "yshift": -10
         },
         {
          "align": "center",
          "font": {
           "size": 10
          },
          "showarrow": false,
          "text": "02/2024",
          "x": "B1.2",
          "xanchor": "center",
          "xshift": -20,
          "y": "Alisson Saccoman",
          "yshift": -10
         },
         {
          "align": "center",
          "font": {
           "size": 10
          },
          "showarrow": false,
          "text": "08/2024",
          "x": "B2.1",
          "xanchor": "center",
          "xshift": -20,
          "y": "Alisson Saccoman",
          "yshift": -10
         },
         {
          "align": "center",
          "font": {
           "size": 10
          },
          "showarrow": false,
          "text": "02/2025",
          "x": "B2.2",
          "xanchor": "center",
          "xshift": -20,
          "y": "Alisson Saccoman",
          "yshift": -10
         },
         {
          "align": "center",
          "font": {
           "size": 10
          },
          "showarrow": false,
          "text": "03/2024",
          "x": "Marco zero",
          "xanchor": "center",
          "xshift": -20,
          "y": "Ana Paula Carvalho",
          "yshift": -10
         },
         {
          "align": "center",
          "font": {
           "size": 10
          },
          "showarrow": false,
          "text": "09/2024",
          "x": "A1.1",
          "xanchor": "center",
          "xshift": -20,
          "y": "Ana Paula Carvalho",
          "yshift": -10
         },
         {
          "align": "center",
          "font": {
           "size": 10
          },
          "showarrow": false,
          "text": "03/2025",
          "x": "A1.2",
          "xanchor": "center",
          "xshift": -20,
          "y": "Ana Paula Carvalho",
          "yshift": -10
         },
         {
          "align": "center",
          "font": {
           "size": 10
          },
          "showarrow": false,
          "text": "02/2024",
          "x": "Marco zero",
          "xanchor": "center",
          "xshift": -20,
          "y": "Andreia de Almeida Bueno",
          "yshift": -10
         },
         {
          "align": "center",
          "font": {
           "size": 10
          },
          "showarrow": false,
          "text": "08/2024",
          "x": "A1.1",
          "xanchor": "center",
          "xshift": -20,
          "y": "Andreia de Almeida Bueno",
          "yshift": -10
         },
         {
          "align": "center",
          "font": {
           "size": 10
          },
          "showarrow": false,
          "text": "02/2025",
          "x": "A1.2",
          "xanchor": "center",
          "xshift": -20,
          "y": "Andreia de Almeida Bueno",
          "yshift": -10
         },
         {
          "align": "center",
          "font": {
           "size": 10
          },
          "showarrow": false,
          "text": "03/2024",
          "x": "A2.1",
          "xanchor": "center",
          "xshift": -20,
          "y": "André Jorel",
          "yshift": -10
         },
         {
          "align": "center",
          "font": {
           "size": 10
          },
          "showarrow": false,
          "text": "09/2024",
          "x": "A2.2",
          "xanchor": "center",
          "xshift": -20,
          "y": "André Jorel",
          "yshift": -10
         },
         {
          "align": "center",
          "font": {
           "size": 10
          },
          "showarrow": false,
          "text": "03/2025",
          "x": "B1.1",
          "xanchor": "center",
          "xshift": -20,
          "y": "André Jorel",
          "yshift": -10
         },
         {
          "align": "center",
          "font": {
           "size": 10
          },
          "showarrow": false,
          "text": "03/2024",
          "x": "B1.1",
          "xanchor": "center",
          "xshift": -20,
          "y": "André Teixeira",
          "yshift": -10
         },
         {
          "align": "center",
          "font": {
           "size": 10
          },
          "showarrow": false,
          "text": "08/2024",
          "x": "B1.2",
          "xanchor": "center",
          "xshift": -20,
          "y": "André Teixeira",
          "yshift": -10
         },
         {
          "align": "center",
          "font": {
           "size": 10
          },
          "showarrow": false,
          "text": "02/2025",
          "x": "B2.1",
          "xanchor": "center",
          "xshift": -20,
          "y": "André Teixeira",
          "yshift": -10
         },
         {
          "align": "center",
          "font": {
           "size": 10
          },
          "showarrow": false,
          "text": "04/2024",
          "x": "A2.2",
          "xanchor": "center",
          "xshift": -20,
          "y": "Ariel Fontanive",
          "yshift": -10
         },
         {
          "align": "center",
          "font": {
           "size": 10
          },
          "showarrow": false,
          "text": "10/2024",
          "x": "B1.1",
          "xanchor": "center",
          "xshift": -20,
          "y": "Ariel Fontanive",
          "yshift": -10
         },
         {
          "align": "center",
          "font": {
           "size": 10
          },
          "showarrow": false,
          "text": "04/2025",
          "x": "B1.2",
          "xanchor": "center",
          "xshift": -20,
          "y": "Ariel Fontanive",
          "yshift": -10
         },
         {
          "align": "center",
          "font": {
           "size": 10
          },
          "showarrow": false,
          "text": "02/2024",
          "x": "C1.2",
          "xanchor": "center",
          "xshift": -20,
          "y": "Atny Miho Saito",
          "yshift": -10
         },
         {
          "align": "center",
          "font": {
           "size": 10
          },
          "showarrow": false,
          "text": "08/2024",
          "x": "C1.3",
          "xanchor": "center",
          "xshift": -20,
          "y": "Atny Miho Saito",
          "yshift": -10
         },
         {
          "align": "center",
          "font": {
           "size": 10
          },
          "showarrow": false,
          "text": "04/2024",
          "x": "B2+.1",
          "xanchor": "center",
          "xshift": -20,
          "y": "Beatriz Sandrim Ferreira",
          "yshift": -10
         },
         {
          "align": "center",
          "font": {
           "size": 10
          },
          "showarrow": false,
          "text": "10/2024",
          "x": "B2+.2",
          "xanchor": "center",
          "xshift": -20,
          "y": "Beatriz Sandrim Ferreira",
          "yshift": -10
         },
         {
          "align": "center",
          "font": {
           "size": 10
          },
          "showarrow": false,
          "text": "04/2025",
          "x": "C1.1",
          "xanchor": "center",
          "xshift": -20,
          "y": "Beatriz Sandrim Ferreira",
          "yshift": -10
         },
         {
          "align": "center",
          "font": {
           "size": 10
          },
          "showarrow": false,
          "text": "03/2024",
          "x": "Marco zero",
          "xanchor": "center",
          "xshift": -20,
          "y": "Bruno Gonçalves",
          "yshift": -10
         },
         {
          "align": "center",
          "font": {
           "size": 10
          },
          "showarrow": false,
          "text": "09/2024",
          "x": "A1.1",
          "xanchor": "center",
          "xshift": -20,
          "y": "Bruno Gonçalves",
          "yshift": -10
         },
         {
          "align": "center",
          "font": {
           "size": 10
          },
          "showarrow": false,
          "text": "03/2025",
          "x": "A1.2",
          "xanchor": "center",
          "xshift": -20,
          "y": "Bruno Gonçalves",
          "yshift": -10
         },
         {
          "align": "center",
          "font": {
           "size": 10
          },
          "showarrow": false,
          "text": "03/2024",
          "x": "A1.2",
          "xanchor": "center",
          "xshift": -20,
          "y": "Bruno Santos",
          "yshift": -10
         },
         {
          "align": "center",
          "font": {
           "size": 10
          },
          "showarrow": false,
          "text": "09/2024",
          "x": "A2.1",
          "xanchor": "center",
          "xshift": -20,
          "y": "Bruno Santos",
          "yshift": -10
         },
         {
          "align": "center",
          "font": {
           "size": 10
          },
          "showarrow": false,
          "text": "03/2025",
          "x": "A2.2",
          "xanchor": "center",
          "xshift": -20,
          "y": "Bruno Santos",
          "yshift": -10
         },
         {
          "align": "center",
          "font": {
           "size": 10
          },
          "showarrow": false,
          "text": "03/2024",
          "x": "A1.1",
          "xanchor": "center",
          "xshift": -20,
          "y": "CARINE DOS SANTOS OLIVEIRA",
          "yshift": -10
         },
         {
          "align": "center",
          "font": {
           "size": 10
          },
          "showarrow": false,
          "text": "09/2024",
          "x": "A1.2",
          "xanchor": "center",
          "xshift": -20,
          "y": "CARINE DOS SANTOS OLIVEIRA",
          "yshift": -10
         },
         {
          "align": "center",
          "font": {
           "size": 10
          },
          "showarrow": false,
          "text": "03/2025",
          "x": "A2.1",
          "xanchor": "center",
          "xshift": -20,
          "y": "CARINE DOS SANTOS OLIVEIRA",
          "yshift": -10
         },
         {
          "align": "center",
          "font": {
           "size": 10
          },
          "showarrow": false,
          "text": "04/2024",
          "x": "A2.2",
          "xanchor": "center",
          "xshift": -20,
          "y": "Camila Antonia Batista",
          "yshift": -10
         },
         {
          "align": "center",
          "font": {
           "size": 10
          },
          "showarrow": false,
          "text": "10/2024",
          "x": "B1.1",
          "xanchor": "center",
          "xshift": -20,
          "y": "Camila Antonia Batista",
          "yshift": -10
         },
         {
          "align": "center",
          "font": {
           "size": 10
          },
          "showarrow": false,
          "text": "04/2025",
          "x": "B1.2",
          "xanchor": "center",
          "xshift": -20,
          "y": "Camila Antonia Batista",
          "yshift": -10
         },
         {
          "align": "center",
          "font": {
           "size": 10
          },
          "showarrow": false,
          "text": "05/2024",
          "x": "A1.2",
          "xanchor": "center",
          "xshift": -20,
          "y": "Carina Alves Ferreira",
          "yshift": -10
         },
         {
          "align": "center",
          "font": {
           "size": 10
          },
          "showarrow": false,
          "text": "10/2024",
          "x": "A2.1",
          "xanchor": "center",
          "xshift": -20,
          "y": "Carina Alves Ferreira",
          "yshift": -10
         },
         {
          "align": "center",
          "font": {
           "size": 10
          },
          "showarrow": false,
          "text": "04/2025",
          "x": "A2.2",
          "xanchor": "center",
          "xshift": -20,
          "y": "Carina Alves Ferreira",
          "yshift": -10
         },
         {
          "align": "center",
          "font": {
           "size": 10
          },
          "showarrow": false,
          "text": "03/2024",
          "x": "B2.1",
          "xanchor": "center",
          "xshift": -20,
          "y": "Carolina Jordan",
          "yshift": -10
         },
         {
          "align": "center",
          "font": {
           "size": 10
          },
          "showarrow": false,
          "text": "09/2024",
          "x": "B2.2",
          "xanchor": "center",
          "xshift": -20,
          "y": "Carolina Jordan",
          "yshift": -10
         },
         {
          "align": "center",
          "font": {
           "size": 10
          },
          "showarrow": false,
          "text": "03/2025",
          "x": "B2+.1",
          "xanchor": "center",
          "xshift": -20,
          "y": "Carolina Jordan",
          "yshift": -10
         },
         {
          "align": "center",
          "font": {
           "size": 10
          },
          "showarrow": false,
          "text": "03/2024",
          "x": "Marco zero",
          "xanchor": "center",
          "xshift": -20,
          "y": "Cintia Martins de Athayde",
          "yshift": -10
         },
         {
          "align": "center",
          "font": {
           "size": 10
          },
          "showarrow": false,
          "text": "09/2024",
          "x": "A1.1",
          "xanchor": "center",
          "xshift": -20,
          "y": "Cintia Martins de Athayde",
          "yshift": -10
         },
         {
          "align": "center",
          "font": {
           "size": 10
          },
          "showarrow": false,
          "text": "03/2025",
          "x": "A1.2",
          "xanchor": "center",
          "xshift": -20,
          "y": "Cintia Martins de Athayde",
          "yshift": -10
         },
         {
          "align": "center",
          "font": {
           "size": 10
          },
          "showarrow": false,
          "text": "03/2024",
          "x": "A1.1",
          "xanchor": "center",
          "xshift": -20,
          "y": "Daiane Rangel",
          "yshift": -10
         },
         {
          "align": "center",
          "font": {
           "size": 10
          },
          "showarrow": false,
          "text": "09/2024",
          "x": "A1.2",
          "xanchor": "center",
          "xshift": -20,
          "y": "Daiane Rangel",
          "yshift": -10
         },
         {
          "align": "center",
          "font": {
           "size": 10
          },
          "showarrow": false,
          "text": "03/2025",
          "x": "A2.1",
          "xanchor": "center",
          "xshift": -20,
          "y": "Daiane Rangel",
          "yshift": -10
         },
         {
          "align": "center",
          "font": {
           "size": 10
          },
          "showarrow": false,
          "text": "04/2024",
          "x": "A2.1",
          "xanchor": "center",
          "xshift": -20,
          "y": "Daniel Moraes Pessoa",
          "yshift": -10
         },
         {
          "align": "center",
          "font": {
           "size": 10
          },
          "showarrow": false,
          "text": "10/2024",
          "x": "A2.2",
          "xanchor": "center",
          "xshift": -20,
          "y": "Daniel Moraes Pessoa",
          "yshift": -10
         },
         {
          "align": "center",
          "font": {
           "size": 10
          },
          "showarrow": false,
          "text": "03/2025",
          "x": "B1.1",
          "xanchor": "center",
          "xshift": -20,
          "y": "Daniel Moraes Pessoa",
          "yshift": -10
         },
         {
          "align": "center",
          "font": {
           "size": 10
          },
          "showarrow": false,
          "text": "03/2024",
          "x": "A1.2",
          "xanchor": "center",
          "xshift": -20,
          "y": "Diego Lage",
          "yshift": -10
         },
         {
          "align": "center",
          "font": {
           "size": 10
          },
          "showarrow": false,
          "text": "09/2024",
          "x": "A2.1",
          "xanchor": "center",
          "xshift": -20,
          "y": "Diego Lage",
          "yshift": -10
         },
         {
          "align": "center",
          "font": {
           "size": 10
          },
          "showarrow": false,
          "text": "03/2025",
          "x": "A2.2",
          "xanchor": "center",
          "xshift": -20,
          "y": "Diego Lage",
          "yshift": -10
         },
         {
          "align": "center",
          "font": {
           "size": 10
          },
          "showarrow": false,
          "text": "04/2024",
          "x": "B1.2",
          "xanchor": "center",
          "xshift": -20,
          "y": "Diego Oro",
          "yshift": -10
         },
         {
          "align": "center",
          "font": {
           "size": 10
          },
          "showarrow": false,
          "text": "10/2024",
          "x": "B2.1",
          "xanchor": "center",
          "xshift": -20,
          "y": "Diego Oro",
          "yshift": -10
         },
         {
          "align": "center",
          "font": {
           "size": 10
          },
          "showarrow": false,
          "text": "04/2025",
          "x": "B2.2",
          "xanchor": "center",
          "xshift": -20,
          "y": "Diego Oro",
          "yshift": -10
         },
         {
          "align": "center",
          "font": {
           "size": 10
          },
          "showarrow": false,
          "text": "04/2024",
          "x": "A1.2",
          "xanchor": "center",
          "xshift": -20,
          "y": "Edi Jean Pereira",
          "yshift": -10
         },
         {
          "align": "center",
          "font": {
           "size": 10
          },
          "showarrow": false,
          "text": "10/2024",
          "x": "A2.1",
          "xanchor": "center",
          "xshift": -20,
          "y": "Edi Jean Pereira",
          "yshift": -10
         },
         {
          "align": "center",
          "font": {
           "size": 10
          },
          "showarrow": false,
          "text": "04/2025",
          "x": "A2.2",
          "xanchor": "center",
          "xshift": -20,
          "y": "Edi Jean Pereira",
          "yshift": -10
         },
         {
          "align": "center",
          "font": {
           "size": 10
          },
          "showarrow": false,
          "text": "03/2024",
          "x": "A1.1",
          "xanchor": "center",
          "xshift": -20,
          "y": "Emanuel Lima Matos",
          "yshift": -10
         },
         {
          "align": "center",
          "font": {
           "size": 10
          },
          "showarrow": false,
          "text": "09/2024",
          "x": "A1.2",
          "xanchor": "center",
          "xshift": -20,
          "y": "Emanuel Lima Matos",
          "yshift": -10
         },
         {
          "align": "center",
          "font": {
           "size": 10
          },
          "showarrow": false,
          "text": "03/2025",
          "x": "A2.1",
          "xanchor": "center",
          "xshift": -20,
          "y": "Emanuel Lima Matos",
          "yshift": -10
         },
         {
          "align": "center",
          "font": {
           "size": 10
          },
          "showarrow": false,
          "text": "03/2024",
          "x": "Marco zero",
          "xanchor": "center",
          "xshift": -20,
          "y": "Erica Barreto",
          "yshift": -10
         },
         {
          "align": "center",
          "font": {
           "size": 10
          },
          "showarrow": false,
          "text": "09/2024",
          "x": "A1.1",
          "xanchor": "center",
          "xshift": -20,
          "y": "Erica Barreto",
          "yshift": -10
         },
         {
          "align": "center",
          "font": {
           "size": 10
          },
          "showarrow": false,
          "text": "03/2025",
          "x": "A1.2",
          "xanchor": "center",
          "xshift": -20,
          "y": "Erica Barreto",
          "yshift": -10
         },
         {
          "align": "center",
          "font": {
           "size": 10
          },
          "showarrow": false,
          "text": "03/2024",
          "x": "A1.1",
          "xanchor": "center",
          "xshift": -20,
          "y": "FABIO JOSE TASCA AGUIAR",
          "yshift": -10
         },
         {
          "align": "center",
          "font": {
           "size": 10
          },
          "showarrow": false,
          "text": "09/2024",
          "x": "A1.2",
          "xanchor": "center",
          "xshift": -20,
          "y": "FABIO JOSE TASCA AGUIAR",
          "yshift": -10
         },
         {
          "align": "center",
          "font": {
           "size": 10
          },
          "showarrow": false,
          "text": "03/2025",
          "x": "A2.1",
          "xanchor": "center",
          "xshift": -20,
          "y": "FABIO JOSE TASCA AGUIAR",
          "yshift": -10
         },
         {
          "align": "center",
          "font": {
           "size": 10
          },
          "showarrow": false,
          "text": "03/2024",
          "x": "A2.2",
          "xanchor": "center",
          "xshift": -20,
          "y": "Fabiano Silva",
          "yshift": -10
         },
         {
          "align": "center",
          "font": {
           "size": 10
          },
          "showarrow": false,
          "text": "10/2024",
          "x": "B1.1",
          "xanchor": "center",
          "xshift": -20,
          "y": "Fabiano Silva",
          "yshift": -10
         },
         {
          "align": "center",
          "font": {
           "size": 10
          },
          "showarrow": false,
          "text": "03/2025",
          "x": "B1.2",
          "xanchor": "center",
          "xshift": -20,
          "y": "Fabiano Silva",
          "yshift": -10
         },
         {
          "align": "center",
          "font": {
           "size": 10
          },
          "showarrow": false,
          "text": "04/2024",
          "x": "A1.2",
          "xanchor": "center",
          "xshift": -20,
          "y": "Fabio Antonio Bernardo",
          "yshift": -10
         },
         {
          "align": "center",
          "font": {
           "size": 10
          },
          "showarrow": false,
          "text": "11/2024",
          "x": "A2.1",
          "xanchor": "center",
          "xshift": -20,
          "y": "Fabio Antonio Bernardo",
          "yshift": -10
         },
         {
          "align": "center",
          "font": {
           "size": 10
          },
          "showarrow": false,
          "text": "04/2025",
          "x": "A2.2",
          "xanchor": "center",
          "xshift": -20,
          "y": "Fabio Antonio Bernardo",
          "yshift": -10
         },
         {
          "align": "center",
          "font": {
           "size": 10
          },
          "showarrow": false,
          "text": "03/2024",
          "x": "B2.1",
          "xanchor": "center",
          "xshift": -20,
          "y": "Fabio Costa",
          "yshift": -10
         },
         {
          "align": "center",
          "font": {
           "size": 10
          },
          "showarrow": false,
          "text": "09/2024",
          "x": "B2.2",
          "xanchor": "center",
          "xshift": -20,
          "y": "Fabio Costa",
          "yshift": -10
         },
         {
          "align": "center",
          "font": {
           "size": 10
          },
          "showarrow": false,
          "text": "03/2025",
          "x": "B2+.1",
          "xanchor": "center",
          "xshift": -20,
          "y": "Fabio Costa",
          "yshift": -10
         },
         {
          "align": "center",
          "font": {
           "size": 10
          },
          "showarrow": false,
          "text": "03/2024",
          "x": "A1.2",
          "xanchor": "center",
          "xshift": -20,
          "y": "Felipe Rafael",
          "yshift": -10
         },
         {
          "align": "center",
          "font": {
           "size": 10
          },
          "showarrow": false,
          "text": "09/2024",
          "x": "A2.1",
          "xanchor": "center",
          "xshift": -20,
          "y": "Felipe Rafael",
          "yshift": -10
         },
         {
          "align": "center",
          "font": {
           "size": 10
          },
          "showarrow": false,
          "text": "03/2025",
          "x": "A2.2",
          "xanchor": "center",
          "xshift": -20,
          "y": "Felipe Rafael",
          "yshift": -10
         },
         {
          "align": "center",
          "font": {
           "size": 10
          },
          "showarrow": false,
          "text": "03/2024",
          "x": "A1.2",
          "xanchor": "center",
          "xshift": -20,
          "y": "Fernanda Vieira",
          "yshift": -10
         },
         {
          "align": "center",
          "font": {
           "size": 10
          },
          "showarrow": false,
          "text": "09/2024",
          "x": "A2.1",
          "xanchor": "center",
          "xshift": -20,
          "y": "Fernanda Vieira",
          "yshift": -10
         },
         {
          "align": "center",
          "font": {
           "size": 10
          },
          "showarrow": false,
          "text": "03/2025",
          "x": "A2.2",
          "xanchor": "center",
          "xshift": -20,
          "y": "Fernanda Vieira",
          "yshift": -10
         },
         {
          "align": "center",
          "font": {
           "size": 10
          },
          "showarrow": false,
          "text": "03/2024",
          "x": "B1.2",
          "xanchor": "center",
          "xshift": -20,
          "y": "Fernando da Silva",
          "yshift": -10
         },
         {
          "align": "center",
          "font": {
           "size": 10
          },
          "showarrow": false,
          "text": "09/2024",
          "x": "B2.1",
          "xanchor": "center",
          "xshift": -20,
          "y": "Fernando da Silva",
          "yshift": -10
         },
         {
          "align": "center",
          "font": {
           "size": 10
          },
          "showarrow": false,
          "text": "03/2025",
          "x": "B2.2",
          "xanchor": "center",
          "xshift": -20,
          "y": "Fernando da Silva",
          "yshift": -10
         },
         {
          "align": "center",
          "font": {
           "size": 10
          },
          "showarrow": false,
          "text": "03/2024",
          "x": "B1.1",
          "xanchor": "center",
          "xshift": -20,
          "y": "GABRIEL ARAGAO MARTINS DE MOURA",
          "yshift": -10
         },
         {
          "align": "center",
          "font": {
           "size": 10
          },
          "showarrow": false,
          "text": "09/2024",
          "x": "B1.2",
          "xanchor": "center",
          "xshift": -20,
          "y": "GABRIEL ARAGAO MARTINS DE MOURA",
          "yshift": -10
         },
         {
          "align": "center",
          "font": {
           "size": 10
          },
          "showarrow": false,
          "text": "03/2025",
          "x": "B2.1",
          "xanchor": "center",
          "xshift": -20,
          "y": "GABRIEL ARAGAO MARTINS DE MOURA",
          "yshift": -10
         },
         {
          "align": "center",
          "font": {
           "size": 10
          },
          "showarrow": false,
          "text": "03/2024",
          "x": "Marco zero",
          "xanchor": "center",
          "xshift": -20,
          "y": "Gabriel Marques",
          "yshift": -10
         },
         {
          "align": "center",
          "font": {
           "size": 10
          },
          "showarrow": false,
          "text": "09/2024",
          "x": "A1.1",
          "xanchor": "center",
          "xshift": -20,
          "y": "Gabriel Marques",
          "yshift": -10
         },
         {
          "align": "center",
          "font": {
           "size": 10
          },
          "showarrow": false,
          "text": "03/2025",
          "x": "A1.2",
          "xanchor": "center",
          "xshift": -20,
          "y": "Gabriel Marques",
          "yshift": -10
         },
         {
          "align": "center",
          "font": {
           "size": 10
          },
          "showarrow": false,
          "text": "03/2024",
          "x": "Marco zero",
          "xanchor": "center",
          "xshift": -20,
          "y": "Gerhard Valkinir Cabreira",
          "yshift": -10
         },
         {
          "align": "center",
          "font": {
           "size": 10
          },
          "showarrow": false,
          "text": "09/2024",
          "x": "A1.1",
          "xanchor": "center",
          "xshift": -20,
          "y": "Gerhard Valkinir Cabreira",
          "yshift": -10
         },
         {
          "align": "center",
          "font": {
           "size": 10
          },
          "showarrow": false,
          "text": "03/2025",
          "x": "A1.2",
          "xanchor": "center",
          "xshift": -20,
          "y": "Gerhard Valkinir Cabreira",
          "yshift": -10
         },
         {
          "align": "center",
          "font": {
           "size": 10
          },
          "showarrow": false,
          "text": "03/2024",
          "x": "B1.2",
          "xanchor": "center",
          "xshift": -20,
          "y": "Guilherme Romani",
          "yshift": -10
         },
         {
          "align": "center",
          "font": {
           "size": 10
          },
          "showarrow": false,
          "text": "09/2024",
          "x": "B2.1",
          "xanchor": "center",
          "xshift": -20,
          "y": "Guilherme Romani",
          "yshift": -10
         },
         {
          "align": "center",
          "font": {
           "size": 10
          },
          "showarrow": false,
          "text": "03/2025",
          "x": "B2.2",
          "xanchor": "center",
          "xshift": -20,
          "y": "Guilherme Romani",
          "yshift": -10
         },
         {
          "align": "center",
          "font": {
           "size": 10
          },
          "showarrow": false,
          "text": "04/2024",
          "x": "B1.2",
          "xanchor": "center",
          "xshift": -20,
          "y": "Gustavo Manne",
          "yshift": -10
         },
         {
          "align": "center",
          "font": {
           "size": 10
          },
          "showarrow": false,
          "text": "11/2024",
          "x": "B2.1",
          "xanchor": "center",
          "xshift": -20,
          "y": "Gustavo Manne",
          "yshift": -10
         },
         {
          "align": "center",
          "font": {
           "size": 10
          },
          "showarrow": false,
          "text": "04/2025",
          "x": "B2.2",
          "xanchor": "center",
          "xshift": -20,
          "y": "Gustavo Manne",
          "yshift": -10
         },
         {
          "align": "center",
          "font": {
           "size": 10
          },
          "showarrow": false,
          "text": "04/2024",
          "x": "C1.1",
          "xanchor": "center",
          "xshift": -20,
          "y": "Gustavo Martins Soares",
          "yshift": -10
         },
         {
          "align": "center",
          "font": {
           "size": 10
          },
          "showarrow": false,
          "text": "10/2024",
          "x": "C1.2",
          "xanchor": "center",
          "xshift": -20,
          "y": "Gustavo Martins Soares",
          "yshift": -10
         },
         {
          "align": "center",
          "font": {
           "size": 10
          },
          "showarrow": false,
          "text": "04/2025",
          "x": "C1.3",
          "xanchor": "center",
          "xshift": -20,
          "y": "Gustavo Martins Soares",
          "yshift": -10
         },
         {
          "align": "center",
          "font": {
           "size": 10
          },
          "showarrow": false,
          "text": "03/2024",
          "x": "A1.2",
          "xanchor": "center",
          "xshift": -20,
          "y": "Gustavo Neves",
          "yshift": -10
         },
         {
          "align": "center",
          "font": {
           "size": 10
          },
          "showarrow": false,
          "text": "09/2024",
          "x": "A2.1",
          "xanchor": "center",
          "xshift": -20,
          "y": "Gustavo Neves",
          "yshift": -10
         },
         {
          "align": "center",
          "font": {
           "size": 10
          },
          "showarrow": false,
          "text": "03/2025",
          "x": "A2.2",
          "xanchor": "center",
          "xshift": -20,
          "y": "Gustavo Neves",
          "yshift": -10
         },
         {
          "align": "center",
          "font": {
           "size": 10
          },
          "showarrow": false,
          "text": "03/2024",
          "x": "Marco zero",
          "xanchor": "center",
          "xshift": -20,
          "y": "Helen Branicio",
          "yshift": -10
         },
         {
          "align": "center",
          "font": {
           "size": 10
          },
          "showarrow": false,
          "text": "09/2024",
          "x": "A1.1",
          "xanchor": "center",
          "xshift": -20,
          "y": "Helen Branicio",
          "yshift": -10
         },
         {
          "align": "center",
          "font": {
           "size": 10
          },
          "showarrow": false,
          "text": "03/2025",
          "x": "A1.2",
          "xanchor": "center",
          "xshift": -20,
          "y": "Helen Branicio",
          "yshift": -10
         },
         {
          "align": "center",
          "font": {
           "size": 10
          },
          "showarrow": false,
          "text": "03/2024",
          "x": "Marco zero",
          "xanchor": "center",
          "xshift": -20,
          "y": "Heronilton Fernandes",
          "yshift": -10
         },
         {
          "align": "center",
          "font": {
           "size": 10
          },
          "showarrow": false,
          "text": "09/2024",
          "x": "A1.1",
          "xanchor": "center",
          "xshift": -20,
          "y": "Heronilton Fernandes",
          "yshift": -10
         },
         {
          "align": "center",
          "font": {
           "size": 10
          },
          "showarrow": false,
          "text": "03/2025",
          "x": "A1.2",
          "xanchor": "center",
          "xshift": -20,
          "y": "Heronilton Fernandes",
          "yshift": -10
         },
         {
          "align": "center",
          "font": {
           "size": 10
          },
          "showarrow": false,
          "text": "04/2024",
          "x": "A1.2",
          "xanchor": "center",
          "xshift": -20,
          "y": "Hugo Silvio Bernardo",
          "yshift": -10
         },
         {
          "align": "center",
          "font": {
           "size": 10
          },
          "showarrow": false,
          "text": "10/2024",
          "x": "A2.1",
          "xanchor": "center",
          "xshift": -20,
          "y": "Hugo Silvio Bernardo",
          "yshift": -10
         },
         {
          "align": "center",
          "font": {
           "size": 10
          },
          "showarrow": false,
          "text": "04/2025",
          "x": "A2.2",
          "xanchor": "center",
          "xshift": -20,
          "y": "Hugo Silvio Bernardo",
          "yshift": -10
         },
         {
          "align": "center",
          "font": {
           "size": 10
          },
          "showarrow": false,
          "text": "03/2024",
          "x": "B2.2",
          "xanchor": "center",
          "xshift": -20,
          "y": "Hywre Santos Sousa",
          "yshift": -10
         },
         {
          "align": "center",
          "font": {
           "size": 10
          },
          "showarrow": false,
          "text": "10/2024",
          "x": "B2+.1",
          "xanchor": "center",
          "xshift": -20,
          "y": "Hywre Santos Sousa",
          "yshift": -10
         },
         {
          "align": "center",
          "font": {
           "size": 10
          },
          "showarrow": false,
          "text": "03/2025",
          "x": "B2+.2",
          "xanchor": "center",
          "xshift": -20,
          "y": "Hywre Santos Sousa",
          "yshift": -10
         },
         {
          "align": "center",
          "font": {
           "size": 10
          },
          "showarrow": false,
          "text": "03/2024",
          "x": "Marco zero",
          "xanchor": "center",
          "xshift": -20,
          "y": "Isabela Caroline Berlato Soares Andrade",
          "yshift": -10
         },
         {
          "align": "center",
          "font": {
           "size": 10
          },
          "showarrow": false,
          "text": "09/2024",
          "x": "A1.1",
          "xanchor": "center",
          "xshift": -20,
          "y": "Isabela Caroline Berlato Soares Andrade",
          "yshift": -10
         },
         {
          "align": "center",
          "font": {
           "size": 10
          },
          "showarrow": false,
          "text": "03/2025",
          "x": "A1.2",
          "xanchor": "center",
          "xshift": -20,
          "y": "Isabela Caroline Berlato Soares Andrade",
          "yshift": -10
         },
         {
          "align": "center",
          "font": {
           "size": 10
          },
          "showarrow": false,
          "text": "04/2024",
          "x": "C1.1",
          "xanchor": "center",
          "xshift": -20,
          "y": "Ivy Mayara Sanches de Oliveira",
          "yshift": -10
         },
         {
          "align": "center",
          "font": {
           "size": 10
          },
          "showarrow": false,
          "text": "10/2024",
          "x": "C1.2",
          "xanchor": "center",
          "xshift": -20,
          "y": "Ivy Mayara Sanches de Oliveira",
          "yshift": -10
         },
         {
          "align": "center",
          "font": {
           "size": 10
          },
          "showarrow": false,
          "text": "04/2025",
          "x": "C1.3",
          "xanchor": "center",
          "xshift": -20,
          "y": "Ivy Mayara Sanches de Oliveira",
          "yshift": -10
         },
         {
          "align": "center",
          "font": {
           "size": 10
          },
          "showarrow": false,
          "text": "03/2024",
          "x": "Marco zero",
          "xanchor": "center",
          "xshift": -20,
          "y": "Izabela Caroline Prezotto Armando",
          "yshift": -10
         },
         {
          "align": "center",
          "font": {
           "size": 10
          },
          "showarrow": false,
          "text": "09/2024",
          "x": "A1.1",
          "xanchor": "center",
          "xshift": -20,
          "y": "Izabela Caroline Prezotto Armando",
          "yshift": -10
         },
         {
          "align": "center",
          "font": {
           "size": 10
          },
          "showarrow": false,
          "text": "03/2025",
          "x": "A1.2",
          "xanchor": "center",
          "xshift": -20,
          "y": "Izabela Caroline Prezotto Armando",
          "yshift": -10
         },
         {
          "align": "center",
          "font": {
           "size": 10
          },
          "showarrow": false,
          "text": "03/2024",
          "x": "Marco zero",
          "xanchor": "center",
          "xshift": -20,
          "y": "JAMESON HIRXLEHOR",
          "yshift": -10
         },
         {
          "align": "center",
          "font": {
           "size": 10
          },
          "showarrow": false,
          "text": "09/2024",
          "x": "A1.1",
          "xanchor": "center",
          "xshift": -20,
          "y": "JAMESON HIRXLEHOR",
          "yshift": -10
         },
         {
          "align": "center",
          "font": {
           "size": 10
          },
          "showarrow": false,
          "text": "03/2025",
          "x": "A1.2",
          "xanchor": "center",
          "xshift": -20,
          "y": "JAMESON HIRXLEHOR",
          "yshift": -10
         },
         {
          "align": "center",
          "font": {
           "size": 10
          },
          "showarrow": false,
          "text": "03/2024",
          "x": "A2.2",
          "xanchor": "center",
          "xshift": -20,
          "y": "JOSE GUILHERME PEREIRA BRAGA",
          "yshift": -10
         },
         {
          "align": "center",
          "font": {
           "size": 10
          },
          "showarrow": false,
          "text": "09/2024",
          "x": "B1.1",
          "xanchor": "center",
          "xshift": -20,
          "y": "JOSE GUILHERME PEREIRA BRAGA",
          "yshift": -10
         },
         {
          "align": "center",
          "font": {
           "size": 10
          },
          "showarrow": false,
          "text": "03/2025",
          "x": "B1.2",
          "xanchor": "center",
          "xshift": -20,
          "y": "JOSE GUILHERME PEREIRA BRAGA",
          "yshift": -10
         },
         {
          "align": "center",
          "font": {
           "size": 10
          },
          "showarrow": false,
          "text": "03/2024",
          "x": "A2.1",
          "xanchor": "center",
          "xshift": -20,
          "y": "JOSIAS LOURENCO DA SILVA",
          "yshift": -10
         },
         {
          "align": "center",
          "font": {
           "size": 10
          },
          "showarrow": false,
          "text": "09/2024",
          "x": "A2.2",
          "xanchor": "center",
          "xshift": -20,
          "y": "JOSIAS LOURENCO DA SILVA",
          "yshift": -10
         },
         {
          "align": "center",
          "font": {
           "size": 10
          },
          "showarrow": false,
          "text": "03/2025",
          "x": "B1.1",
          "xanchor": "center",
          "xshift": -20,
          "y": "JOSIAS LOURENCO DA SILVA",
          "yshift": -10
         },
         {
          "align": "center",
          "font": {
           "size": 10
          },
          "showarrow": false,
          "text": "04/2024",
          "x": "B2+.1",
          "xanchor": "center",
          "xshift": -20,
          "y": "Janaina Scotton",
          "yshift": -10
         },
         {
          "align": "center",
          "font": {
           "size": 10
          },
          "showarrow": false,
          "text": "10/2024",
          "x": "B2+.2",
          "xanchor": "center",
          "xshift": -20,
          "y": "Janaina Scotton",
          "yshift": -10
         },
         {
          "align": "center",
          "font": {
           "size": 10
          },
          "showarrow": false,
          "text": "04/2025",
          "x": "C1.1",
          "xanchor": "center",
          "xshift": -20,
          "y": "Janaina Scotton",
          "yshift": -10
         },
         {
          "align": "center",
          "font": {
           "size": 10
          },
          "showarrow": false,
          "text": "03/2024",
          "x": "B2.2",
          "xanchor": "center",
          "xshift": -20,
          "y": "Jefferson Esquizato De Souza",
          "yshift": -10
         },
         {
          "align": "center",
          "font": {
           "size": 10
          },
          "showarrow": false,
          "text": "09/2024",
          "x": "B2+.1",
          "xanchor": "center",
          "xshift": -20,
          "y": "Jefferson Esquizato De Souza",
          "yshift": -10
         },
         {
          "align": "center",
          "font": {
           "size": 10
          },
          "showarrow": false,
          "text": "03/2025",
          "x": "B2+.2",
          "xanchor": "center",
          "xshift": -20,
          "y": "Jefferson Esquizato De Souza",
          "yshift": -10
         },
         {
          "align": "center",
          "font": {
           "size": 10
          },
          "showarrow": false,
          "text": "04/2024",
          "x": "A2.1",
          "xanchor": "center",
          "xshift": -20,
          "y": "Jefferson Freitas Pinto Silva",
          "yshift": -10
         },
         {
          "align": "center",
          "font": {
           "size": 10
          },
          "showarrow": false,
          "text": "10/2024",
          "x": "A2.2",
          "xanchor": "center",
          "xshift": -20,
          "y": "Jefferson Freitas Pinto Silva",
          "yshift": -10
         },
         {
          "align": "center",
          "font": {
           "size": 10
          },
          "showarrow": false,
          "text": "04/2025",
          "x": "B1.1",
          "xanchor": "center",
          "xshift": -20,
          "y": "Jefferson Freitas Pinto Silva",
          "yshift": -10
         },
         {
          "align": "center",
          "font": {
           "size": 10
          },
          "showarrow": false,
          "text": "04/2024",
          "x": "B2.2",
          "xanchor": "center",
          "xshift": -20,
          "y": "Joao Eduardo Souza Oliveira",
          "yshift": -10
         },
         {
          "align": "center",
          "font": {
           "size": 10
          },
          "showarrow": false,
          "text": "10/2024",
          "x": "B2+.1",
          "xanchor": "center",
          "xshift": -20,
          "y": "Joao Eduardo Souza Oliveira",
          "yshift": -10
         },
         {
          "align": "center",
          "font": {
           "size": 10
          },
          "showarrow": false,
          "text": "04/2025",
          "x": "B2+.2",
          "xanchor": "center",
          "xshift": -20,
          "y": "Joao Eduardo Souza Oliveira",
          "yshift": -10
         },
         {
          "align": "center",
          "font": {
           "size": 10
          },
          "showarrow": false,
          "text": "03/2024",
          "x": "A2.1",
          "xanchor": "center",
          "xshift": -20,
          "y": "Jonatan Teixeira do Carmo Girata",
          "yshift": -10
         },
         {
          "align": "center",
          "font": {
           "size": 10
          },
          "showarrow": false,
          "text": "09/2024",
          "x": "A2.2",
          "xanchor": "center",
          "xshift": -20,
          "y": "Jonatan Teixeira do Carmo Girata",
          "yshift": -10
         },
         {
          "align": "center",
          "font": {
           "size": 10
          },
          "showarrow": false,
          "text": "03/2025",
          "x": "B1.1",
          "xanchor": "center",
          "xshift": -20,
          "y": "Jonatan Teixeira do Carmo Girata",
          "yshift": -10
         },
         {
          "align": "center",
          "font": {
           "size": 10
          },
          "showarrow": false,
          "text": "03/2024",
          "x": "Marco zero",
          "xanchor": "center",
          "xshift": -20,
          "y": "Jose Rodrigo Claro",
          "yshift": -10
         },
         {
          "align": "center",
          "font": {
           "size": 10
          },
          "showarrow": false,
          "text": "09/2024",
          "x": "A1.1",
          "xanchor": "center",
          "xshift": -20,
          "y": "Jose Rodrigo Claro",
          "yshift": -10
         },
         {
          "align": "center",
          "font": {
           "size": 10
          },
          "showarrow": false,
          "text": "03/2025",
          "x": "A1.2",
          "xanchor": "center",
          "xshift": -20,
          "y": "Jose Rodrigo Claro",
          "yshift": -10
         },
         {
          "align": "center",
          "font": {
           "size": 10
          },
          "showarrow": false,
          "text": "03/2024",
          "x": "B2.1",
          "xanchor": "center",
          "xshift": -20,
          "y": "João Victor Bertolo",
          "yshift": -10
         },
         {
          "align": "center",
          "font": {
           "size": 10
          },
          "showarrow": false,
          "text": "09/2024",
          "x": "B2.2",
          "xanchor": "center",
          "xshift": -20,
          "y": "João Victor Bertolo",
          "yshift": -10
         },
         {
          "align": "center",
          "font": {
           "size": 10
          },
          "showarrow": false,
          "text": "03/2025",
          "x": "B2+.1",
          "xanchor": "center",
          "xshift": -20,
          "y": "João Victor Bertolo",
          "yshift": -10
         },
         {
          "align": "center",
          "font": {
           "size": 10
          },
          "showarrow": false,
          "text": "07/2024",
          "x": "B1.1",
          "xanchor": "center",
          "xshift": -20,
          "y": "Karine Silva Madruga",
          "yshift": -10
         },
         {
          "align": "center",
          "font": {
           "size": 10
          },
          "showarrow": false,
          "text": "02/2024",
          "x": "B2.2",
          "xanchor": "center",
          "xshift": -20,
          "y": "Karine Silva Madruga",
          "yshift": -10
         },
         {
          "align": "center",
          "font": {
           "size": 10
          },
          "showarrow": false,
          "text": "03/2024",
          "x": "Marco zero",
          "xanchor": "center",
          "xshift": -20,
          "y": "Larissa Boso",
          "yshift": -10
         },
         {
          "align": "center",
          "font": {
           "size": 10
          },
          "showarrow": false,
          "text": "09/2024",
          "x": "A1.1",
          "xanchor": "center",
          "xshift": -20,
          "y": "Larissa Boso",
          "yshift": -10
         },
         {
          "align": "center",
          "font": {
           "size": 10
          },
          "showarrow": false,
          "text": "03/2025",
          "x": "A1.2",
          "xanchor": "center",
          "xshift": -20,
          "y": "Larissa Boso",
          "yshift": -10
         },
         {
          "align": "center",
          "font": {
           "size": 10
          },
          "showarrow": false,
          "text": "03/2024",
          "x": "B1.2",
          "xanchor": "center",
          "xshift": -20,
          "y": "Larissa Martins",
          "yshift": -10
         },
         {
          "align": "center",
          "font": {
           "size": 10
          },
          "showarrow": false,
          "text": "09/2024",
          "x": "B2.1",
          "xanchor": "center",
          "xshift": -20,
          "y": "Larissa Martins",
          "yshift": -10
         },
         {
          "align": "center",
          "font": {
           "size": 10
          },
          "showarrow": false,
          "text": "03/2025",
          "x": "B2.2",
          "xanchor": "center",
          "xshift": -20,
          "y": "Larissa Martins",
          "yshift": -10
         },
         {
          "align": "center",
          "font": {
           "size": 10
          },
          "showarrow": false,
          "text": "03/2024",
          "x": "A2.1",
          "xanchor": "center",
          "xshift": -20,
          "y": "Larissa Nakayama",
          "yshift": -10
         },
         {
          "align": "center",
          "font": {
           "size": 10
          },
          "showarrow": false,
          "text": "09/2024",
          "x": "A2.2",
          "xanchor": "center",
          "xshift": -20,
          "y": "Larissa Nakayama",
          "yshift": -10
         },
         {
          "align": "center",
          "font": {
           "size": 10
          },
          "showarrow": false,
          "text": "03/2025",
          "x": "B1.1",
          "xanchor": "center",
          "xshift": -20,
          "y": "Larissa Nakayama",
          "yshift": -10
         },
         {
          "align": "center",
          "font": {
           "size": 10
          },
          "showarrow": false,
          "text": "03/2024",
          "x": "Marco zero",
          "xanchor": "center",
          "xshift": -20,
          "y": "Letícia Gomez",
          "yshift": -10
         },
         {
          "align": "center",
          "font": {
           "size": 10
          },
          "showarrow": false,
          "text": "09/2024",
          "x": "A1.1",
          "xanchor": "center",
          "xshift": -20,
          "y": "Letícia Gomez",
          "yshift": -10
         },
         {
          "align": "center",
          "font": {
           "size": 10
          },
          "showarrow": false,
          "text": "03/2025",
          "x": "A1.2",
          "xanchor": "center",
          "xshift": -20,
          "y": "Letícia Gomez",
          "yshift": -10
         },
         {
          "align": "center",
          "font": {
           "size": 10
          },
          "showarrow": false,
          "text": "04/2024",
          "x": "Marco zero",
          "xanchor": "center",
          "xshift": -20,
          "y": "Lualis Emiliano",
          "yshift": -10
         },
         {
          "align": "center",
          "font": {
           "size": 10
          },
          "showarrow": false,
          "text": "09/2024",
          "x": "A1.1",
          "xanchor": "center",
          "xshift": -20,
          "y": "Lualis Emiliano",
          "yshift": -10
         },
         {
          "align": "center",
          "font": {
           "size": 10
          },
          "showarrow": false,
          "text": "03/2025",
          "x": "A1.2",
          "xanchor": "center",
          "xshift": -20,
          "y": "Lualis Emiliano",
          "yshift": -10
         },
         {
          "align": "center",
          "font": {
           "size": 10
          },
          "showarrow": false,
          "text": "03/2024",
          "x": "Marco zero",
          "xanchor": "center",
          "xshift": -20,
          "y": "Luciano Delmar Dos Santos Almeida",
          "yshift": -10
         },
         {
          "align": "center",
          "font": {
           "size": 10
          },
          "showarrow": false,
          "text": "09/2024",
          "x": "A1.1",
          "xanchor": "center",
          "xshift": -20,
          "y": "Luciano Delmar Dos Santos Almeida",
          "yshift": -10
         },
         {
          "align": "center",
          "font": {
           "size": 10
          },
          "showarrow": false,
          "text": "03/2025",
          "x": "A1.2",
          "xanchor": "center",
          "xshift": -20,
          "y": "Luciano Delmar Dos Santos Almeida",
          "yshift": -10
         },
         {
          "align": "center",
          "font": {
           "size": 10
          },
          "showarrow": false,
          "text": "04/2024",
          "x": "A1.2",
          "xanchor": "center",
          "xshift": -20,
          "y": "Luis Felipe Da Silva Reis",
          "yshift": -10
         },
         {
          "align": "center",
          "font": {
           "size": 10
          },
          "showarrow": false,
          "text": "10/2024",
          "x": "A2.1",
          "xanchor": "center",
          "xshift": -20,
          "y": "Luis Felipe Da Silva Reis",
          "yshift": -10
         },
         {
          "align": "center",
          "font": {
           "size": 10
          },
          "showarrow": false,
          "text": "04/2025",
          "x": "A2.2",
          "xanchor": "center",
          "xshift": -20,
          "y": "Luis Felipe Da Silva Reis",
          "yshift": -10
         },
         {
          "align": "center",
          "font": {
           "size": 10
          },
          "showarrow": false,
          "text": "04/2024",
          "x": "B2.2",
          "xanchor": "center",
          "xshift": -20,
          "y": "Luiz Guilherme Alves Leonel",
          "yshift": -10
         },
         {
          "align": "center",
          "font": {
           "size": 10
          },
          "showarrow": false,
          "text": "10/2024",
          "x": "B2+.1",
          "xanchor": "center",
          "xshift": -20,
          "y": "Luiz Guilherme Alves Leonel",
          "yshift": -10
         },
         {
          "align": "center",
          "font": {
           "size": 10
          },
          "showarrow": false,
          "text": "04/2025",
          "x": "B2+.2",
          "xanchor": "center",
          "xshift": -20,
          "y": "Luiz Guilherme Alves Leonel",
          "yshift": -10
         },
         {
          "align": "center",
          "font": {
           "size": 10
          },
          "showarrow": false,
          "text": "03/2024",
          "x": "A2.1",
          "xanchor": "center",
          "xshift": -20,
          "y": "Luiz Tosta",
          "yshift": -10
         },
         {
          "align": "center",
          "font": {
           "size": 10
          },
          "showarrow": false,
          "text": "09/2024",
          "x": "A2.2",
          "xanchor": "center",
          "xshift": -20,
          "y": "Luiz Tosta",
          "yshift": -10
         },
         {
          "align": "center",
          "font": {
           "size": 10
          },
          "showarrow": false,
          "text": "03/2025",
          "x": "B1.1",
          "xanchor": "center",
          "xshift": -20,
          "y": "Luiz Tosta",
          "yshift": -10
         },
         {
          "align": "center",
          "font": {
           "size": 10
          },
          "showarrow": false,
          "text": "03/2024",
          "x": "A2.2",
          "xanchor": "center",
          "xshift": -20,
          "y": "MARIANA CRISTINA GONSALES NOGUEIRA",
          "yshift": -10
         },
         {
          "align": "center",
          "font": {
           "size": 10
          },
          "showarrow": false,
          "text": "09/2024",
          "x": "B1.1",
          "xanchor": "center",
          "xshift": -20,
          "y": "MARIANA CRISTINA GONSALES NOGUEIRA",
          "yshift": -10
         },
         {
          "align": "center",
          "font": {
           "size": 10
          },
          "showarrow": false,
          "text": "03/2025",
          "x": "B1.2",
          "xanchor": "center",
          "xshift": -20,
          "y": "MARIANA CRISTINA GONSALES NOGUEIRA",
          "yshift": -10
         },
         {
          "align": "center",
          "font": {
           "size": 10
          },
          "showarrow": false,
          "text": "03/2024",
          "x": "B2+.1",
          "xanchor": "center",
          "xshift": -20,
          "y": "MARINA FREITAS NORKUS",
          "yshift": -10
         },
         {
          "align": "center",
          "font": {
           "size": 10
          },
          "showarrow": false,
          "text": "09/2024",
          "x": "B2+.2",
          "xanchor": "center",
          "xshift": -20,
          "y": "MARINA FREITAS NORKUS",
          "yshift": -10
         },
         {
          "align": "center",
          "font": {
           "size": 10
          },
          "showarrow": false,
          "text": "03/2025",
          "x": "C1.1",
          "xanchor": "center",
          "xshift": -20,
          "y": "MARINA FREITAS NORKUS",
          "yshift": -10
         },
         {
          "align": "center",
          "font": {
           "size": 10
          },
          "showarrow": false,
          "text": "03/2024",
          "x": "Marco zero",
          "xanchor": "center",
          "xshift": -20,
          "y": "MIRIELLY CRISTINA GIL DA SILVA NUNES",
          "yshift": -10
         },
         {
          "align": "center",
          "font": {
           "size": 10
          },
          "showarrow": false,
          "text": "09/2024",
          "x": "A1.1",
          "xanchor": "center",
          "xshift": -20,
          "y": "MIRIELLY CRISTINA GIL DA SILVA NUNES",
          "yshift": -10
         },
         {
          "align": "center",
          "font": {
           "size": 10
          },
          "showarrow": false,
          "text": "03/2025",
          "x": "A1.2",
          "xanchor": "center",
          "xshift": -20,
          "y": "MIRIELLY CRISTINA GIL DA SILVA NUNES",
          "yshift": -10
         },
         {
          "align": "center",
          "font": {
           "size": 10
          },
          "showarrow": false,
          "text": "03/2024",
          "x": "A2.1",
          "xanchor": "center",
          "xshift": -20,
          "y": "Marcela Vanni",
          "yshift": -10
         },
         {
          "align": "center",
          "font": {
           "size": 10
          },
          "showarrow": false,
          "text": "09/2024",
          "x": "A2.2",
          "xanchor": "center",
          "xshift": -20,
          "y": "Marcela Vanni",
          "yshift": -10
         },
         {
          "align": "center",
          "font": {
           "size": 10
          },
          "showarrow": false,
          "text": "03/2025",
          "x": "B1.1",
          "xanchor": "center",
          "xshift": -20,
          "y": "Marcela Vanni",
          "yshift": -10
         },
         {
          "align": "center",
          "font": {
           "size": 10
          },
          "showarrow": false,
          "text": "03/2024",
          "x": "Marco zero",
          "xanchor": "center",
          "xshift": -20,
          "y": "Marco Goes",
          "yshift": -10
         },
         {
          "align": "center",
          "font": {
           "size": 10
          },
          "showarrow": false,
          "text": "09/2024",
          "x": "A1.1",
          "xanchor": "center",
          "xshift": -20,
          "y": "Marco Goes",
          "yshift": -10
         },
         {
          "align": "center",
          "font": {
           "size": 10
          },
          "showarrow": false,
          "text": "03/2025",
          "x": "A1.2",
          "xanchor": "center",
          "xshift": -20,
          "y": "Marco Goes",
          "yshift": -10
         },
         {
          "align": "center",
          "font": {
           "size": 10
          },
          "showarrow": false,
          "text": "04/2024",
          "x": "B1.2",
          "xanchor": "center",
          "xshift": -20,
          "y": "Mariana Brantes Vasques",
          "yshift": -10
         },
         {
          "align": "center",
          "font": {
           "size": 10
          },
          "showarrow": false,
          "text": "10/2024",
          "x": "B2.1",
          "xanchor": "center",
          "xshift": -20,
          "y": "Mariana Brantes Vasques",
          "yshift": -10
         },
         {
          "align": "center",
          "font": {
           "size": 10
          },
          "showarrow": false,
          "text": "04/2025",
          "x": "B2.2",
          "xanchor": "center",
          "xshift": -20,
          "y": "Mariana Brantes Vasques",
          "yshift": -10
         },
         {
          "align": "center",
          "font": {
           "size": 10
          },
          "showarrow": false,
          "text": "03/2024",
          "x": "Marco zero",
          "xanchor": "center",
          "xshift": -20,
          "y": "Marieli Ruza",
          "yshift": -10
         },
         {
          "align": "center",
          "font": {
           "size": 10
          },
          "showarrow": false,
          "text": "09/2024",
          "x": "A1.1",
          "xanchor": "center",
          "xshift": -20,
          "y": "Marieli Ruza",
          "yshift": -10
         },
         {
          "align": "center",
          "font": {
           "size": 10
          },
          "showarrow": false,
          "text": "03/2025",
          "x": "A1.2",
          "xanchor": "center",
          "xshift": -20,
          "y": "Marieli Ruza",
          "yshift": -10
         },
         {
          "align": "center",
          "font": {
           "size": 10
          },
          "showarrow": false,
          "text": "03/2024",
          "x": "Marco zero",
          "xanchor": "center",
          "xshift": -20,
          "y": "Milton Luiz Favero Junior",
          "yshift": -10
         },
         {
          "align": "center",
          "font": {
           "size": 10
          },
          "showarrow": false,
          "text": "09/2024",
          "x": "A1.1",
          "xanchor": "center",
          "xshift": -20,
          "y": "Milton Luiz Favero Junior",
          "yshift": -10
         },
         {
          "align": "center",
          "font": {
           "size": 10
          },
          "showarrow": false,
          "text": "03/2025",
          "x": "A1.2",
          "xanchor": "center",
          "xshift": -20,
          "y": "Milton Luiz Favero Junior",
          "yshift": -10
         },
         {
          "align": "center",
          "font": {
           "size": 10
          },
          "showarrow": false,
          "text": "03/2024",
          "x": "B1.2",
          "xanchor": "center",
          "xshift": -20,
          "y": "Natália Venanzoni",
          "yshift": -10
         },
         {
          "align": "center",
          "font": {
           "size": 10
          },
          "showarrow": false,
          "text": "09/2024",
          "x": "B2.1",
          "xanchor": "center",
          "xshift": -20,
          "y": "Natália Venanzoni",
          "yshift": -10
         },
         {
          "align": "center",
          "font": {
           "size": 10
          },
          "showarrow": false,
          "text": "03/2025",
          "x": "B2.2",
          "xanchor": "center",
          "xshift": -20,
          "y": "Natália Venanzoni",
          "yshift": -10
         },
         {
          "align": "center",
          "font": {
           "size": 10
          },
          "showarrow": false,
          "text": "03/2024",
          "x": "B2.2",
          "xanchor": "center",
          "xshift": -20,
          "y": "Nayara Sene",
          "yshift": -10
         },
         {
          "align": "center",
          "font": {
           "size": 10
          },
          "showarrow": false,
          "text": "09/2024",
          "x": "B2+.1",
          "xanchor": "center",
          "xshift": -20,
          "y": "Nayara Sene",
          "yshift": -10
         },
         {
          "align": "center",
          "font": {
           "size": 10
          },
          "showarrow": false,
          "text": "03/2025",
          "x": "B2+.2",
          "xanchor": "center",
          "xshift": -20,
          "y": "Nayara Sene",
          "yshift": -10
         },
         {
          "align": "center",
          "font": {
           "size": 10
          },
          "showarrow": false,
          "text": "03/2024",
          "x": "A1.1",
          "xanchor": "center",
          "xshift": -20,
          "y": "PATRICIA MEDUNECKAS BRAZ",
          "yshift": -10
         },
         {
          "align": "center",
          "font": {
           "size": 10
          },
          "showarrow": false,
          "text": "09/2024",
          "x": "A1.2",
          "xanchor": "center",
          "xshift": -20,
          "y": "PATRICIA MEDUNECKAS BRAZ",
          "yshift": -10
         },
         {
          "align": "center",
          "font": {
           "size": 10
          },
          "showarrow": false,
          "text": "03/2025",
          "x": "A2.1",
          "xanchor": "center",
          "xshift": -20,
          "y": "PATRICIA MEDUNECKAS BRAZ",
          "yshift": -10
         },
         {
          "align": "center",
          "font": {
           "size": 10
          },
          "showarrow": false,
          "text": "04/2024",
          "x": "A1.2",
          "xanchor": "center",
          "xshift": -20,
          "y": "Paula Cristina Nunes Pereira",
          "yshift": -10
         },
         {
          "align": "center",
          "font": {
           "size": 10
          },
          "showarrow": false,
          "text": "10/2024",
          "x": "A2.1",
          "xanchor": "center",
          "xshift": -20,
          "y": "Paula Cristina Nunes Pereira",
          "yshift": -10
         },
         {
          "align": "center",
          "font": {
           "size": 10
          },
          "showarrow": false,
          "text": "04/2025",
          "x": "A2.2",
          "xanchor": "center",
          "xshift": -20,
          "y": "Paula Cristina Nunes Pereira",
          "yshift": -10
         },
         {
          "align": "center",
          "font": {
           "size": 10
          },
          "showarrow": false,
          "text": "03/2024",
          "x": "B1.2",
          "xanchor": "center",
          "xshift": -20,
          "y": "Priscilla Ribeiro Alves",
          "yshift": -10
         },
         {
          "align": "center",
          "font": {
           "size": 10
          },
          "showarrow": false,
          "text": "09/2024",
          "x": "B2.1",
          "xanchor": "center",
          "xshift": -20,
          "y": "Priscilla Ribeiro Alves",
          "yshift": -10
         },
         {
          "align": "center",
          "font": {
           "size": 10
          },
          "showarrow": false,
          "text": "03/2025",
          "x": "B2.2",
          "xanchor": "center",
          "xshift": -20,
          "y": "Priscilla Ribeiro Alves",
          "yshift": -10
         },
         {
          "align": "center",
          "font": {
           "size": 10
          },
          "showarrow": false,
          "text": "03/2024",
          "x": "A1.1",
          "xanchor": "center",
          "xshift": -20,
          "y": "Rafael Moraes Pessoa",
          "yshift": -10
         },
         {
          "align": "center",
          "font": {
           "size": 10
          },
          "showarrow": false,
          "text": "09/2024",
          "x": "A1.2",
          "xanchor": "center",
          "xshift": -20,
          "y": "Rafael Moraes Pessoa",
          "yshift": -10
         },
         {
          "align": "center",
          "font": {
           "size": 10
          },
          "showarrow": false,
          "text": "03/2025",
          "x": "A2.1",
          "xanchor": "center",
          "xshift": -20,
          "y": "Rafael Moraes Pessoa",
          "yshift": -10
         },
         {
          "align": "center",
          "font": {
           "size": 10
          },
          "showarrow": false,
          "text": "03/2024",
          "x": "Marco zero",
          "xanchor": "center",
          "xshift": -20,
          "y": "Rafaela Maganhott",
          "yshift": -10
         },
         {
          "align": "center",
          "font": {
           "size": 10
          },
          "showarrow": false,
          "text": "09/2024",
          "x": "A1.1",
          "xanchor": "center",
          "xshift": -20,
          "y": "Rafaela Maganhott",
          "yshift": -10
         },
         {
          "align": "center",
          "font": {
           "size": 10
          },
          "showarrow": false,
          "text": "03/2025",
          "x": "A1.2",
          "xanchor": "center",
          "xshift": -20,
          "y": "Rafaela Maganhott",
          "yshift": -10
         },
         {
          "align": "center",
          "font": {
           "size": 10
          },
          "showarrow": false,
          "text": "04/2024",
          "x": "A2.2",
          "xanchor": "center",
          "xshift": -20,
          "y": "Revalci Figueira Da Costa",
          "yshift": -10
         },
         {
          "align": "center",
          "font": {
           "size": 10
          },
          "showarrow": false,
          "text": "10/2024",
          "x": "B1.1",
          "xanchor": "center",
          "xshift": -20,
          "y": "Revalci Figueira Da Costa",
          "yshift": -10
         },
         {
          "align": "center",
          "font": {
           "size": 10
          },
          "showarrow": false,
          "text": "04/2025",
          "x": "B1.2",
          "xanchor": "center",
          "xshift": -20,
          "y": "Revalci Figueira Da Costa",
          "yshift": -10
         },
         {
          "align": "center",
          "font": {
           "size": 10
          },
          "showarrow": false,
          "text": "04/2024",
          "x": "B2+.2",
          "xanchor": "center",
          "xshift": -20,
          "y": "Rodrigo Fantini",
          "yshift": -10
         },
         {
          "align": "center",
          "font": {
           "size": 10
          },
          "showarrow": false,
          "text": "10/2024",
          "x": "C1.1",
          "xanchor": "center",
          "xshift": -20,
          "y": "Rodrigo Fantini",
          "yshift": -10
         },
         {
          "align": "center",
          "font": {
           "size": 10
          },
          "showarrow": false,
          "text": "04/2025",
          "x": "C1.2",
          "xanchor": "center",
          "xshift": -20,
          "y": "Rodrigo Fantini",
          "yshift": -10
         },
         {
          "align": "center",
          "font": {
           "size": 10
          },
          "showarrow": false,
          "text": "04/2024",
          "x": "A2.1",
          "xanchor": "center",
          "xshift": -20,
          "y": "Rodrigo Laine Barbosa",
          "yshift": -10
         },
         {
          "align": "center",
          "font": {
           "size": 10
          },
          "showarrow": false,
          "text": "10/2024",
          "x": "A2.2",
          "xanchor": "center",
          "xshift": -20,
          "y": "Rodrigo Laine Barbosa",
          "yshift": -10
         },
         {
          "align": "center",
          "font": {
           "size": 10
          },
          "showarrow": false,
          "text": "04/2025",
          "x": "B1.1",
          "xanchor": "center",
          "xshift": -20,
          "y": "Rodrigo Laine Barbosa",
          "yshift": -10
         },
         {
          "align": "center",
          "font": {
           "size": 10
          },
          "showarrow": false,
          "text": "03/2024",
          "x": "A1.2",
          "xanchor": "center",
          "xshift": -20,
          "y": "Suzane Fidelis",
          "yshift": -10
         },
         {
          "align": "center",
          "font": {
           "size": 10
          },
          "showarrow": false,
          "text": "09/2024",
          "x": "A2.1",
          "xanchor": "center",
          "xshift": -20,
          "y": "Suzane Fidelis",
          "yshift": -10
         },
         {
          "align": "center",
          "font": {
           "size": 10
          },
          "showarrow": false,
          "text": "03/2025",
          "x": "A2.2",
          "xanchor": "center",
          "xshift": -20,
          "y": "Suzane Fidelis",
          "yshift": -10
         },
         {
          "align": "center",
          "font": {
           "size": 10
          },
          "showarrow": false,
          "text": "03/2024",
          "x": "A1.2",
          "xanchor": "center",
          "xshift": -20,
          "y": "THAIS ALVES DA GRACA",
          "yshift": -10
         },
         {
          "align": "center",
          "font": {
           "size": 10
          },
          "showarrow": false,
          "text": "09/2024",
          "x": "A2.1",
          "xanchor": "center",
          "xshift": -20,
          "y": "THAIS ALVES DA GRACA",
          "yshift": -10
         },
         {
          "align": "center",
          "font": {
           "size": 10
          },
          "showarrow": false,
          "text": "03/2025",
          "x": "A2.2",
          "xanchor": "center",
          "xshift": -20,
          "y": "THAIS ALVES DA GRACA",
          "yshift": -10
         },
         {
          "align": "center",
          "font": {
           "size": 10
          },
          "showarrow": false,
          "text": "04/2024",
          "x": "B2.1",
          "xanchor": "center",
          "xshift": -20,
          "y": "Taina Curralo Scarano",
          "yshift": -10
         },
         {
          "align": "center",
          "font": {
           "size": 10
          },
          "showarrow": false,
          "text": "10/2024",
          "x": "B2.2",
          "xanchor": "center",
          "xshift": -20,
          "y": "Taina Curralo Scarano",
          "yshift": -10
         },
         {
          "align": "center",
          "font": {
           "size": 10
          },
          "showarrow": false,
          "text": "04/2025",
          "x": "B2+.1",
          "xanchor": "center",
          "xshift": -20,
          "y": "Taina Curralo Scarano",
          "yshift": -10
         },
         {
          "align": "center",
          "font": {
           "size": 10
          },
          "showarrow": false,
          "text": "01/2024",
          "x": "A1.1",
          "xanchor": "center",
          "xshift": -20,
          "y": "Tatiane Regina Zafani dos Santos",
          "yshift": -10
         },
         {
          "align": "center",
          "font": {
           "size": 10
          },
          "showarrow": false,
          "text": "07/2024",
          "x": "A1.2",
          "xanchor": "center",
          "xshift": -20,
          "y": "Tatiane Regina Zafani dos Santos",
          "yshift": -10
         },
         {
          "align": "center",
          "font": {
           "size": 10
          },
          "showarrow": false,
          "text": "01/2025",
          "x": "A2.1",
          "xanchor": "center",
          "xshift": -20,
          "y": "Tatiane Regina Zafani dos Santos",
          "yshift": -10
         },
         {
          "align": "center",
          "font": {
           "size": 10
          },
          "showarrow": false,
          "text": "04/2024",
          "x": "B2.1",
          "xanchor": "center",
          "xshift": -20,
          "y": "Thiago Luiz Pasqualinoto",
          "yshift": -10
         },
         {
          "align": "center",
          "font": {
           "size": 10
          },
          "showarrow": false,
          "text": "11/2024",
          "x": "B2.2",
          "xanchor": "center",
          "xshift": -20,
          "y": "Thiago Luiz Pasqualinoto",
          "yshift": -10
         },
         {
          "align": "center",
          "font": {
           "size": 10
          },
          "showarrow": false,
          "text": "04/2025",
          "x": "B2+.1",
          "xanchor": "center",
          "xshift": -20,
          "y": "Thiago Luiz Pasqualinoto",
          "yshift": -10
         },
         {
          "align": "center",
          "font": {
           "size": 10
          },
          "showarrow": false,
          "text": "03/2024",
          "x": "Marco zero",
          "xanchor": "center",
          "xshift": -20,
          "y": "Ulysses Antonio da Silva Neto",
          "yshift": -10
         },
         {
          "align": "center",
          "font": {
           "size": 10
          },
          "showarrow": false,
          "text": "10/2024",
          "x": "A1.1",
          "xanchor": "center",
          "xshift": -20,
          "y": "Ulysses Antonio da Silva Neto",
          "yshift": -10
         },
         {
          "align": "center",
          "font": {
           "size": 10
          },
          "showarrow": false,
          "text": "03/2025",
          "x": "A1.2",
          "xanchor": "center",
          "xshift": -20,
          "y": "Ulysses Antonio da Silva Neto",
          "yshift": -10
         },
         {
          "align": "center",
          "font": {
           "size": 10
          },
          "showarrow": false,
          "text": "03/2024",
          "x": "B2.1",
          "xanchor": "center",
          "xshift": -20,
          "y": "VANESSA DAL BEN CONEGLIAN",
          "yshift": -10
         },
         {
          "align": "center",
          "font": {
           "size": 10
          },
          "showarrow": false,
          "text": "09/2024",
          "x": "B2.2",
          "xanchor": "center",
          "xshift": -20,
          "y": "VANESSA DAL BEN CONEGLIAN",
          "yshift": -10
         },
         {
          "align": "center",
          "font": {
           "size": 10
          },
          "showarrow": false,
          "text": "03/2025",
          "x": "B2+.1",
          "xanchor": "center",
          "xshift": -20,
          "y": "VANESSA DAL BEN CONEGLIAN",
          "yshift": -10
         },
         {
          "align": "center",
          "font": {
           "size": 10
          },
          "showarrow": false,
          "text": "03/2024",
          "x": "A2.1",
          "xanchor": "center",
          "xshift": -20,
          "y": "Vinicius Duque",
          "yshift": -10
         },
         {
          "align": "center",
          "font": {
           "size": 10
          },
          "showarrow": false,
          "text": "08/2024",
          "x": "A2.2",
          "xanchor": "center",
          "xshift": -20,
          "y": "Vinicius Duque",
          "yshift": -10
         },
         {
          "align": "center",
          "font": {
           "size": 10
          },
          "showarrow": false,
          "text": "02/2025",
          "x": "B1.1",
          "xanchor": "center",
          "xshift": -20,
          "y": "Vinicius Duque",
          "yshift": -10
         },
         {
          "align": "center",
          "font": {
           "size": 10
          },
          "showarrow": false,
          "text": "04/2024",
          "x": "B2+.1",
          "xanchor": "center",
          "xshift": -20,
          "y": "Vitor Pinheiro Afonso",
          "yshift": -10
         },
         {
          "align": "center",
          "font": {
           "size": 10
          },
          "showarrow": false,
          "text": "10/2024",
          "x": "B2+.2",
          "xanchor": "center",
          "xshift": -20,
          "y": "Vitor Pinheiro Afonso",
          "yshift": -10
         },
         {
          "align": "center",
          "font": {
           "size": 10
          },
          "showarrow": false,
          "text": "04/2025",
          "x": "C1.1",
          "xanchor": "center",
          "xshift": -20,
          "y": "Vitor Pinheiro Afonso",
          "yshift": -10
         },
         {
          "align": "center",
          "font": {
           "size": 10
          },
          "showarrow": false,
          "text": "02/2024",
          "x": "B1.2",
          "xanchor": "center",
          "xshift": -20,
          "y": "Viviane Lima De Oliveira Cavalheiro",
          "yshift": -10
         },
         {
          "align": "center",
          "font": {
           "size": 10
          },
          "showarrow": false,
          "text": "08/2024",
          "x": "B2.1",
          "xanchor": "center",
          "xshift": -20,
          "y": "Viviane Lima De Oliveira Cavalheiro",
          "yshift": -10
         },
         {
          "align": "center",
          "font": {
           "size": 10
          },
          "showarrow": false,
          "text": "02/2025",
          "x": "B2.2",
          "xanchor": "center",
          "xshift": -20,
          "y": "Viviane Lima De Oliveira Cavalheiro",
          "yshift": -10
         },
         {
          "align": "center",
          "font": {
           "size": 10
          },
          "showarrow": false,
          "text": "03/2024",
          "x": "Marco zero",
          "xanchor": "center",
          "xshift": -20,
          "y": "WELLINGTON DOS SANTOS SILVA",
          "yshift": -10
         },
         {
          "align": "center",
          "font": {
           "size": 10
          },
          "showarrow": false,
          "text": "09/2024",
          "x": "A1.1",
          "xanchor": "center",
          "xshift": -20,
          "y": "WELLINGTON DOS SANTOS SILVA",
          "yshift": -10
         },
         {
          "align": "center",
          "font": {
           "size": 10
          },
          "showarrow": false,
          "text": "03/2025",
          "x": "A1.2",
          "xanchor": "center",
          "xshift": -20,
          "y": "WELLINGTON DOS SANTOS SILVA",
          "yshift": -10
         }
        ],
        "dragmode": "pan",
        "height": 800,
        "margin": {
         "b": 50,
         "l": 50,
         "r": 50,
         "t": 50
        },
        "template": {
         "data": {
          "bar": [
           {
            "error_x": {
             "color": "#2a3f5f"
            },
            "error_y": {
             "color": "#2a3f5f"
            },
            "marker": {
             "line": {
              "color": "white",
              "width": 0.5
             },
             "pattern": {
              "fillmode": "overlay",
              "size": 10,
              "solidity": 0.2
             }
            },
            "type": "bar"
           }
          ],
          "barpolar": [
           {
            "marker": {
             "line": {
              "color": "white",
              "width": 0.5
             },
             "pattern": {
              "fillmode": "overlay",
              "size": 10,
              "solidity": 0.2
             }
            },
            "type": "barpolar"
           }
          ],
          "carpet": [
           {
            "aaxis": {
             "endlinecolor": "#2a3f5f",
             "gridcolor": "#C8D4E3",
             "linecolor": "#C8D4E3",
             "minorgridcolor": "#C8D4E3",
             "startlinecolor": "#2a3f5f"
            },
            "baxis": {
             "endlinecolor": "#2a3f5f",
             "gridcolor": "#C8D4E3",
             "linecolor": "#C8D4E3",
             "minorgridcolor": "#C8D4E3",
             "startlinecolor": "#2a3f5f"
            },
            "type": "carpet"
           }
          ],
          "choropleth": [
           {
            "colorbar": {
             "outlinewidth": 0,
             "ticks": ""
            },
            "type": "choropleth"
           }
          ],
          "contour": [
           {
            "colorbar": {
             "outlinewidth": 0,
             "ticks": ""
            },
            "colorscale": [
             [
              0,
              "#0d0887"
             ],
             [
              0.1111111111111111,
              "#46039f"
             ],
             [
              0.2222222222222222,
              "#7201a8"
             ],
             [
              0.3333333333333333,
              "#9c179e"
             ],
             [
              0.4444444444444444,
              "#bd3786"
             ],
             [
              0.5555555555555556,
              "#d8576b"
             ],
             [
              0.6666666666666666,
              "#ed7953"
             ],
             [
              0.7777777777777778,
              "#fb9f3a"
             ],
             [
              0.8888888888888888,
              "#fdca26"
             ],
             [
              1,
              "#f0f921"
             ]
            ],
            "type": "contour"
           }
          ],
          "contourcarpet": [
           {
            "colorbar": {
             "outlinewidth": 0,
             "ticks": ""
            },
            "type": "contourcarpet"
           }
          ],
          "heatmap": [
           {
            "colorbar": {
             "outlinewidth": 0,
             "ticks": ""
            },
            "colorscale": [
             [
              0,
              "#0d0887"
             ],
             [
              0.1111111111111111,
              "#46039f"
             ],
             [
              0.2222222222222222,
              "#7201a8"
             ],
             [
              0.3333333333333333,
              "#9c179e"
             ],
             [
              0.4444444444444444,
              "#bd3786"
             ],
             [
              0.5555555555555556,
              "#d8576b"
             ],
             [
              0.6666666666666666,
              "#ed7953"
             ],
             [
              0.7777777777777778,
              "#fb9f3a"
             ],
             [
              0.8888888888888888,
              "#fdca26"
             ],
             [
              1,
              "#f0f921"
             ]
            ],
            "type": "heatmap"
           }
          ],
          "heatmapgl": [
           {
            "colorbar": {
             "outlinewidth": 0,
             "ticks": ""
            },
            "colorscale": [
             [
              0,
              "#0d0887"
             ],
             [
              0.1111111111111111,
              "#46039f"
             ],
             [
              0.2222222222222222,
              "#7201a8"
             ],
             [
              0.3333333333333333,
              "#9c179e"
             ],
             [
              0.4444444444444444,
              "#bd3786"
             ],
             [
              0.5555555555555556,
              "#d8576b"
             ],
             [
              0.6666666666666666,
              "#ed7953"
             ],
             [
              0.7777777777777778,
              "#fb9f3a"
             ],
             [
              0.8888888888888888,
              "#fdca26"
             ],
             [
              1,
              "#f0f921"
             ]
            ],
            "type": "heatmapgl"
           }
          ],
          "histogram": [
           {
            "marker": {
             "pattern": {
              "fillmode": "overlay",
              "size": 10,
              "solidity": 0.2
             }
            },
            "type": "histogram"
           }
          ],
          "histogram2d": [
           {
            "colorbar": {
             "outlinewidth": 0,
             "ticks": ""
            },
            "colorscale": [
             [
              0,
              "#0d0887"
             ],
             [
              0.1111111111111111,
              "#46039f"
             ],
             [
              0.2222222222222222,
              "#7201a8"
             ],
             [
              0.3333333333333333,
              "#9c179e"
             ],
             [
              0.4444444444444444,
              "#bd3786"
             ],
             [
              0.5555555555555556,
              "#d8576b"
             ],
             [
              0.6666666666666666,
              "#ed7953"
             ],
             [
              0.7777777777777778,
              "#fb9f3a"
             ],
             [
              0.8888888888888888,
              "#fdca26"
             ],
             [
              1,
              "#f0f921"
             ]
            ],
            "type": "histogram2d"
           }
          ],
          "histogram2dcontour": [
           {
            "colorbar": {
             "outlinewidth": 0,
             "ticks": ""
            },
            "colorscale": [
             [
              0,
              "#0d0887"
             ],
             [
              0.1111111111111111,
              "#46039f"
             ],
             [
              0.2222222222222222,
              "#7201a8"
             ],
             [
              0.3333333333333333,
              "#9c179e"
             ],
             [
              0.4444444444444444,
              "#bd3786"
             ],
             [
              0.5555555555555556,
              "#d8576b"
             ],
             [
              0.6666666666666666,
              "#ed7953"
             ],
             [
              0.7777777777777778,
              "#fb9f3a"
             ],
             [
              0.8888888888888888,
              "#fdca26"
             ],
             [
              1,
              "#f0f921"
             ]
            ],
            "type": "histogram2dcontour"
           }
          ],
          "mesh3d": [
           {
            "colorbar": {
             "outlinewidth": 0,
             "ticks": ""
            },
            "type": "mesh3d"
           }
          ],
          "parcoords": [
           {
            "line": {
             "colorbar": {
              "outlinewidth": 0,
              "ticks": ""
             }
            },
            "type": "parcoords"
           }
          ],
          "pie": [
           {
            "automargin": true,
            "type": "pie"
           }
          ],
          "scatter": [
           {
            "fillpattern": {
             "fillmode": "overlay",
             "size": 10,
             "solidity": 0.2
            },
            "type": "scatter"
           }
          ],
          "scatter3d": [
           {
            "line": {
             "colorbar": {
              "outlinewidth": 0,
              "ticks": ""
             }
            },
            "marker": {
             "colorbar": {
              "outlinewidth": 0,
              "ticks": ""
             }
            },
            "type": "scatter3d"
           }
          ],
          "scattercarpet": [
           {
            "marker": {
             "colorbar": {
              "outlinewidth": 0,
              "ticks": ""
             }
            },
            "type": "scattercarpet"
           }
          ],
          "scattergeo": [
           {
            "marker": {
             "colorbar": {
              "outlinewidth": 0,
              "ticks": ""
             }
            },
            "type": "scattergeo"
           }
          ],
          "scattergl": [
           {
            "marker": {
             "colorbar": {
              "outlinewidth": 0,
              "ticks": ""
             }
            },
            "type": "scattergl"
           }
          ],
          "scattermapbox": [
           {
            "marker": {
             "colorbar": {
              "outlinewidth": 0,
              "ticks": ""
             }
            },
            "type": "scattermapbox"
           }
          ],
          "scatterpolar": [
           {
            "marker": {
             "colorbar": {
              "outlinewidth": 0,
              "ticks": ""
             }
            },
            "type": "scatterpolar"
           }
          ],
          "scatterpolargl": [
           {
            "marker": {
             "colorbar": {
              "outlinewidth": 0,
              "ticks": ""
             }
            },
            "type": "scatterpolargl"
           }
          ],
          "scatterternary": [
           {
            "marker": {
             "colorbar": {
              "outlinewidth": 0,
              "ticks": ""
             }
            },
            "type": "scatterternary"
           }
          ],
          "surface": [
           {
            "colorbar": {
             "outlinewidth": 0,
             "ticks": ""
            },
            "colorscale": [
             [
              0,
              "#0d0887"
             ],
             [
              0.1111111111111111,
              "#46039f"
             ],
             [
              0.2222222222222222,
              "#7201a8"
             ],
             [
              0.3333333333333333,
              "#9c179e"
             ],
             [
              0.4444444444444444,
              "#bd3786"
             ],
             [
              0.5555555555555556,
              "#d8576b"
             ],
             [
              0.6666666666666666,
              "#ed7953"
             ],
             [
              0.7777777777777778,
              "#fb9f3a"
             ],
             [
              0.8888888888888888,
              "#fdca26"
             ],
             [
              1,
              "#f0f921"
             ]
            ],
            "type": "surface"
           }
          ],
          "table": [
           {
            "cells": {
             "fill": {
              "color": "#EBF0F8"
             },
             "line": {
              "color": "white"
             }
            },
            "header": {
             "fill": {
              "color": "#C8D4E3"
             },
             "line": {
              "color": "white"
             }
            },
            "type": "table"
           }
          ]
         },
         "layout": {
          "annotationdefaults": {
           "arrowcolor": "#2a3f5f",
           "arrowhead": 0,
           "arrowwidth": 1
          },
          "autotypenumbers": "strict",
          "coloraxis": {
           "colorbar": {
            "outlinewidth": 0,
            "ticks": ""
           }
          },
          "colorscale": {
           "diverging": [
            [
             0,
             "#8e0152"
            ],
            [
             0.1,
             "#c51b7d"
            ],
            [
             0.2,
             "#de77ae"
            ],
            [
             0.3,
             "#f1b6da"
            ],
            [
             0.4,
             "#fde0ef"
            ],
            [
             0.5,
             "#f7f7f7"
            ],
            [
             0.6,
             "#e6f5d0"
            ],
            [
             0.7,
             "#b8e186"
            ],
            [
             0.8,
             "#7fbc41"
            ],
            [
             0.9,
             "#4d9221"
            ],
            [
             1,
             "#276419"
            ]
           ],
           "sequential": [
            [
             0,
             "#0d0887"
            ],
            [
             0.1111111111111111,
             "#46039f"
            ],
            [
             0.2222222222222222,
             "#7201a8"
            ],
            [
             0.3333333333333333,
             "#9c179e"
            ],
            [
             0.4444444444444444,
             "#bd3786"
            ],
            [
             0.5555555555555556,
             "#d8576b"
            ],
            [
             0.6666666666666666,
             "#ed7953"
            ],
            [
             0.7777777777777778,
             "#fb9f3a"
            ],
            [
             0.8888888888888888,
             "#fdca26"
            ],
            [
             1,
             "#f0f921"
            ]
           ],
           "sequentialminus": [
            [
             0,
             "#0d0887"
            ],
            [
             0.1111111111111111,
             "#46039f"
            ],
            [
             0.2222222222222222,
             "#7201a8"
            ],
            [
             0.3333333333333333,
             "#9c179e"
            ],
            [
             0.4444444444444444,
             "#bd3786"
            ],
            [
             0.5555555555555556,
             "#d8576b"
            ],
            [
             0.6666666666666666,
             "#ed7953"
            ],
            [
             0.7777777777777778,
             "#fb9f3a"
            ],
            [
             0.8888888888888888,
             "#fdca26"
            ],
            [
             1,
             "#f0f921"
            ]
           ]
          },
          "colorway": [
           "#636efa",
           "#EF553B",
           "#00cc96",
           "#ab63fa",
           "#FFA15A",
           "#19d3f3",
           "#FF6692",
           "#B6E880",
           "#FF97FF",
           "#FECB52"
          ],
          "font": {
           "color": "#2a3f5f"
          },
          "geo": {
           "bgcolor": "white",
           "lakecolor": "white",
           "landcolor": "white",
           "showlakes": true,
           "showland": true,
           "subunitcolor": "#C8D4E3"
          },
          "hoverlabel": {
           "align": "left"
          },
          "hovermode": "closest",
          "mapbox": {
           "style": "light"
          },
          "paper_bgcolor": "white",
          "plot_bgcolor": "white",
          "polar": {
           "angularaxis": {
            "gridcolor": "#EBF0F8",
            "linecolor": "#EBF0F8",
            "ticks": ""
           },
           "bgcolor": "white",
           "radialaxis": {
            "gridcolor": "#EBF0F8",
            "linecolor": "#EBF0F8",
            "ticks": ""
           }
          },
          "scene": {
           "xaxis": {
            "backgroundcolor": "white",
            "gridcolor": "#DFE8F3",
            "gridwidth": 2,
            "linecolor": "#EBF0F8",
            "showbackground": true,
            "ticks": "",
            "zerolinecolor": "#EBF0F8"
           },
           "yaxis": {
            "backgroundcolor": "white",
            "gridcolor": "#DFE8F3",
            "gridwidth": 2,
            "linecolor": "#EBF0F8",
            "showbackground": true,
            "ticks": "",
            "zerolinecolor": "#EBF0F8"
           },
           "zaxis": {
            "backgroundcolor": "white",
            "gridcolor": "#DFE8F3",
            "gridwidth": 2,
            "linecolor": "#EBF0F8",
            "showbackground": true,
            "ticks": "",
            "zerolinecolor": "#EBF0F8"
           }
          },
          "shapedefaults": {
           "line": {
            "color": "#2a3f5f"
           }
          },
          "ternary": {
           "aaxis": {
            "gridcolor": "#DFE8F3",
            "linecolor": "#A2B1C6",
            "ticks": ""
           },
           "baxis": {
            "gridcolor": "#DFE8F3",
            "linecolor": "#A2B1C6",
            "ticks": ""
           },
           "bgcolor": "white",
           "caxis": {
            "gridcolor": "#DFE8F3",
            "linecolor": "#A2B1C6",
            "ticks": ""
           }
          },
          "title": {
           "x": 0.05
          },
          "xaxis": {
           "automargin": true,
           "gridcolor": "#EBF0F8",
           "linecolor": "#EBF0F8",
           "ticks": "",
           "title": {
            "standoff": 15
           },
           "zerolinecolor": "#EBF0F8",
           "zerolinewidth": 2
          },
          "yaxis": {
           "automargin": true,
           "gridcolor": "#EBF0F8",
           "linecolor": "#EBF0F8",
           "ticks": "",
           "title": {
            "standoff": 15
           },
           "zerolinecolor": "#EBF0F8",
           "zerolinewidth": 2
          }
         }
        },
        "title": {
         "text": "Mapa da Equipe e Linha do Tempo da Progressão dos Níveis CEFR"
        },
        "width": 1000,
        "xaxis": {
         "autorange": false,
         "categoryarray": [
          "Marco zero",
          "A1.1",
          "A1.2",
          "A2.1",
          "A2.2",
          "B1.1",
          "B1.2",
          "B2.1",
          "B2.2",
          "B2+.1",
          "B2+.2",
          "C1.1",
          "C1.2",
          "C1.3"
         ],
         "categoryorder": "array",
         "fixedrange": false,
         "range": [
          -0.8134904510361641,
          13.83990247866721
         ],
         "showgrid": true,
         "side": "top",
         "title": {
          "text": "Nível CEFR"
         },
         "type": "category"
        },
        "yaxis": {
         "automargin": true,
         "autorange": false,
         "categoryarray": [
          "ADRIANO BEZERRA DOS SANTOS",
          "ANA MARIA TOMAZ UVINHA",
          "ANDERSON RODRIGO DE OLIVEIRA",
          "Adriano Jeronimo Veloso Do Carmo",
          "Alisson Saccoman",
          "Ana Paula Carvalho",
          "Andreia de Almeida Bueno",
          "André Jorel",
          "André Teixeira",
          "Ariel Fontanive",
          "Atny Miho Saito",
          "Beatriz Sandrim Ferreira",
          "Bruno Gonçalves",
          "Bruno Santos",
          "CARINE DOS SANTOS OLIVEIRA",
          "Camila Antonia Batista",
          "Carina Alves Ferreira",
          "Carolina Jordan",
          "Cintia Martins de Athayde",
          "Daiane Rangel",
          "Daniel Moraes Pessoa",
          "Diego Lage",
          "Diego Oro",
          "Edi Jean Pereira",
          "Emanuel Lima Matos",
          "Erica Barreto",
          "FABIO JOSE TASCA AGUIAR",
          "Fabiano Silva",
          "Fabio Antonio Bernardo",
          "Fabio Costa",
          "Felipe Rafael",
          "Fernanda Vieira",
          "Fernando da Silva",
          "GABRIEL ARAGAO MARTINS DE MOURA",
          "Gabriel Marques",
          "Gerhard Valkinir Cabreira",
          "Guilherme Romani",
          "Gustavo Manne",
          "Gustavo Martins Soares",
          "Gustavo Neves",
          "Helen Branicio",
          "Heronilton Fernandes",
          "Hugo Silvio Bernardo",
          "Hywre Santos Sousa",
          "Isabela Caroline Berlato Soares Andrade",
          "Ivy Mayara Sanches de Oliveira",
          "Izabela Caroline Prezotto Armando",
          "JAMESON HIRXLEHOR",
          "JOSE GUILHERME PEREIRA BRAGA",
          "JOSIAS LOURENCO DA SILVA",
          "Janaina Scotton",
          "Jefferson Esquizato De Souza",
          "Jefferson Freitas Pinto Silva",
          "Joao Eduardo Souza Oliveira",
          "Jonatan Teixeira do Carmo Girata",
          "Jose Rodrigo Claro",
          "João Victor Bertolo",
          "Karine Silva Madruga",
          "Larissa Boso",
          "Larissa Martins",
          "Larissa Nakayama",
          "Letícia Gomez",
          "Lualis Emiliano",
          "Luciano Delmar Dos Santos Almeida",
          "Luis Felipe Da Silva Reis",
          "Luiz Guilherme Alves Leonel",
          "Luiz Tosta",
          "MARIANA CRISTINA GONSALES NOGUEIRA",
          "MARINA FREITAS NORKUS",
          "MIRIELLY CRISTINA GIL DA SILVA NUNES",
          "Marcela Vanni",
          "Marco Goes",
          "Mariana Brantes Vasques",
          "Marieli Ruza",
          "Milton Luiz Favero Junior",
          "Natália Venanzoni",
          "Nayara Sene",
          "PATRICIA MEDUNECKAS BRAZ",
          "Paula Cristina Nunes Pereira",
          "Priscilla Ribeiro Alves",
          "Rafael Moraes Pessoa",
          "Rafaela Maganhott",
          "Revalci Figueira Da Costa",
          "Rodrigo Fantini",
          "Rodrigo Laine Barbosa",
          "Suzane Fidelis",
          "THAIS ALVES DA GRACA",
          "Taina Curralo Scarano",
          "Tatiane Regina Zafani dos Santos",
          "Thiago Luiz Pasqualinoto",
          "Ulysses Antonio da Silva Neto",
          "VANESSA DAL BEN CONEGLIAN",
          "Vinicius Duque",
          "Vitor Pinheiro Afonso",
          "Viviane Lima De Oliveira Cavalheiro",
          "WELLINGTON DOS SANTOS SILVA"
         ],
         "categoryorder": "array",
         "fixedrange": false,
         "range": [
          22.61228818357166,
          -0.7118920780985034
         ],
         "showgrid": false,
         "title": {
          "text": "Membros da Equipe"
         },
         "type": "category"
        }
       }
      },
      "image/png": "[encoded data removed]",
      "text/html": [
       "<div>                            <div id=\"4ad46e2d-021b-4609-9cd2-d1ea293bc951\" class=\"plotly-graph-div\" style=\"height:800px; width:1000px;\"></div>            <script type=\"text/javascript\">                require([\"plotly\"], function(Plotly) {                    window.PLOTLYENV=window.PLOTLYENV || {};                                    if (document.getElementById(\"4ad46e2d-021b-4609-9cd2-d1ea293bc951\")) {                    Plotly.newPlot(                        \"4ad46e2d-021b-4609-9cd2-d1ea293bc951\",                        [{\"line\":{\"color\":\"#391e70\",\"width\":2},\"mode\":\"lines\",\"showlegend\":false,\"x\":[\"Marco zero\",\"A1.1\"],\"y\":[\"ADRIANO BEZERRA DOS SANTOS\",\"ADRIANO BEZERRA DOS SANTOS\"],\"type\":\"scatter\"},{\"line\":{\"color\":\"#adc22f\",\"width\":2},\"mode\":\"lines\",\"showlegend\":false,\"x\":[\"A1.1\",\"A1.2\"],\"y\":[\"ADRIANO BEZERRA DOS SANTOS\",\"ADRIANO BEZERRA DOS SANTOS\"],\"type\":\"scatter\"},{\"line\":{\"color\":\"#391e70\",\"width\":2},\"mode\":\"lines\",\"showlegend\":false,\"x\":[\"A1.1\",\"A1.2\"],\"y\":[\"ANA MARIA TOMAZ UVINHA\",\"ANA MARIA TOMAZ UVINHA\"],\"type\":\"scatter\"},{\"line\":{\"color\":\"#adc22f\",\"width\":2},\"mode\":\"lines\",\"showlegend\":false,\"x\":[\"A1.2\",\"A2.1\"],\"y\":[\"ANA MARIA TOMAZ UVINHA\",\"ANA MARIA TOMAZ UVINHA\"],\"type\":\"scatter\"},{\"line\":{\"color\":\"#391e70\",\"width\":2},\"mode\":\"lines\",\"showlegend\":false,\"x\":[\"Marco zero\",\"A1.1\"],\"y\":[\"ANDERSON RODRIGO DE OLIVEIRA\",\"ANDERSON RODRIGO DE OLIVEIRA\"],\"type\":\"scatter\"},{\"line\":{\"color\":\"#adc22f\",\"width\":2},\"mode\":\"lines\",\"showlegend\":false,\"x\":[\"A1.1\",\"A1.2\"],\"y\":[\"ANDERSON RODRIGO DE OLIVEIRA\",\"ANDERSON RODRIGO DE OLIVEIRA\"],\"type\":\"scatter\"},{\"line\":{\"color\":\"#391e70\",\"width\":2},\"mode\":\"lines\",\"showlegend\":false,\"x\":[\"B1.2\",\"B2.1\"],\"y\":[\"Adriano Jeronimo Veloso Do Carmo\",\"Adriano Jeronimo Veloso Do Carmo\"],\"type\":\"scatter\"},{\"line\":{\"color\":\"#adc22f\",\"width\":2},\"mode\":\"lines\",\"showlegend\":false,\"x\":[\"B2.1\",\"B2.2\"],\"y\":[\"Adriano Jeronimo Veloso Do Carmo\",\"Adriano Jeronimo Veloso Do Carmo\"],\"type\":\"scatter\"},{\"line\":{\"color\":\"#391e70\",\"width\":2},\"mode\":\"lines\",\"showlegend\":false,\"x\":[\"B1.2\",\"B2.1\"],\"y\":[\"Alisson Saccoman\",\"Alisson Saccoman\"],\"type\":\"scatter\"},{\"line\":{\"color\":\"#adc22f\",\"width\":2},\"mode\":\"lines\",\"showlegend\":false,\"x\":[\"B2.1\",\"B2.2\"],\"y\":[\"Alisson Saccoman\",\"Alisson Saccoman\"],\"type\":\"scatter\"},{\"line\":{\"color\":\"#391e70\",\"width\":2},\"mode\":\"lines\",\"showlegend\":false,\"x\":[\"Marco zero\",\"A1.1\"],\"y\":[\"Ana Paula Carvalho\",\"Ana Paula Carvalho\"],\"type\":\"scatter\"},{\"line\":{\"color\":\"#adc22f\",\"width\":2},\"mode\":\"lines\",\"showlegend\":false,\"x\":[\"A1.1\",\"A1.2\"],\"y\":[\"Ana Paula Carvalho\",\"Ana Paula Carvalho\"],\"type\":\"scatter\"},{\"line\":{\"color\":\"#391e70\",\"width\":2},\"mode\":\"lines\",\"showlegend\":false,\"x\":[\"Marco zero\",\"A1.1\"],\"y\":[\"Andreia de Almeida Bueno\",\"Andreia de Almeida Bueno\"],\"type\":\"scatter\"},{\"line\":{\"color\":\"#adc22f\",\"width\":2},\"mode\":\"lines\",\"showlegend\":false,\"x\":[\"A1.1\",\"A1.2\"],\"y\":[\"Andreia de Almeida Bueno\",\"Andreia de Almeida Bueno\"],\"type\":\"scatter\"},{\"line\":{\"color\":\"#391e70\",\"width\":2},\"mode\":\"lines\",\"showlegend\":false,\"x\":[\"A2.1\",\"A2.2\"],\"y\":[\"Andr\\u00e9 Jorel\",\"Andr\\u00e9 Jorel\"],\"type\":\"scatter\"},{\"line\":{\"color\":\"#adc22f\",\"width\":2},\"mode\":\"lines\",\"showlegend\":false,\"x\":[\"A2.2\",\"B1.1\"],\"y\":[\"Andr\\u00e9 Jorel\",\"Andr\\u00e9 Jorel\"],\"type\":\"scatter\"},{\"line\":{\"color\":\"#391e70\",\"width\":2},\"mode\":\"lines\",\"showlegend\":false,\"x\":[\"B1.1\",\"B1.2\"],\"y\":[\"Andr\\u00e9 Teixeira\",\"Andr\\u00e9 Teixeira\"],\"type\":\"scatter\"},{\"line\":{\"color\":\"#adc22f\",\"width\":2},\"mode\":\"lines\",\"showlegend\":false,\"x\":[\"B1.2\",\"B2.1\"],\"y\":[\"Andr\\u00e9 Teixeira\",\"Andr\\u00e9 Teixeira\"],\"type\":\"scatter\"},{\"line\":{\"color\":\"#391e70\",\"width\":2},\"mode\":\"lines\",\"showlegend\":false,\"x\":[\"A2.2\",\"B1.1\"],\"y\":[\"Ariel Fontanive\",\"Ariel Fontanive\"],\"type\":\"scatter\"},{\"line\":{\"color\":\"#adc22f\",\"width\":2},\"mode\":\"lines\",\"showlegend\":false,\"x\":[\"B1.1\",\"B1.2\"],\"y\":[\"Ariel Fontanive\",\"Ariel Fontanive\"],\"type\":\"scatter\"},{\"line\":{\"color\":\"#adc22f\",\"width\":2},\"mode\":\"lines\",\"showlegend\":false,\"x\":[\"C1.2\",\"C1.3\"],\"y\":[\"Atny Miho Saito\",\"Atny Miho Saito\"],\"type\":\"scatter\"},{\"line\":{\"color\":\"#391e70\",\"width\":2},\"mode\":\"lines\",\"showlegend\":false,\"x\":[\"B2+.1\",\"B2+.2\"],\"y\":[\"Beatriz Sandrim Ferreira\",\"Beatriz Sandrim Ferreira\"],\"type\":\"scatter\"},{\"line\":{\"color\":\"#adc22f\",\"width\":2},\"mode\":\"lines\",\"showlegend\":false,\"x\":[\"B2+.2\",\"C1.1\"],\"y\":[\"Beatriz Sandrim Ferreira\",\"Beatriz Sandrim Ferreira\"],\"type\":\"scatter\"},{\"line\":{\"color\":\"#391e70\",\"width\":2},\"mode\":\"lines\",\"showlegend\":false,\"x\":[\"Marco zero\",\"A1.1\"],\"y\":[\"Bruno Gon\\u00e7alves\",\"Bruno Gon\\u00e7alves\"],\"type\":\"scatter\"},{\"line\":{\"color\":\"#adc22f\",\"width\":2},\"mode\":\"lines\",\"showlegend\":false,\"x\":[\"A1.1\",\"A1.2\"],\"y\":[\"Bruno Gon\\u00e7alves\",\"Bruno Gon\\u00e7alves\"],\"type\":\"scatter\"},{\"line\":{\"color\":\"#391e70\",\"width\":2},\"mode\":\"lines\",\"showlegend\":false,\"x\":[\"A1.2\",\"A2.1\"],\"y\":[\"Bruno Santos\",\"Bruno Santos\"],\"type\":\"scatter\"},{\"line\":{\"color\":\"#adc22f\",\"width\":2},\"mode\":\"lines\",\"showlegend\":false,\"x\":[\"A2.1\",\"A2.2\"],\"y\":[\"Bruno Santos\",\"Bruno Santos\"],\"type\":\"scatter\"},{\"line\":{\"color\":\"#391e70\",\"width\":2},\"mode\":\"lines\",\"showlegend\":false,\"x\":[\"A1.1\",\"A1.2\"],\"y\":[\"CARINE DOS SANTOS OLIVEIRA\",\"CARINE DOS SANTOS OLIVEIRA\"],\"type\":\"scatter\"},{\"line\":{\"color\":\"#adc22f\",\"width\":2},\"mode\":\"lines\",\"showlegend\":false,\"x\":[\"A1.2\",\"A2.1\"],\"y\":[\"CARINE DOS SANTOS OLIVEIRA\",\"CARINE DOS SANTOS OLIVEIRA\"],\"type\":\"scatter\"},{\"line\":{\"color\":\"#391e70\",\"width\":2},\"mode\":\"lines\",\"showlegend\":false,\"x\":[\"A2.2\",\"B1.1\"],\"y\":[\"Camila Antonia Batista\",\"Camila Antonia Batista\"],\"type\":\"scatter\"},{\"line\":{\"color\":\"#adc22f\",\"width\":2},\"mode\":\"lines\",\"showlegend\":false,\"x\":[\"B1.1\",\"B1.2\"],\"y\":[\"Camila Antonia Batista\",\"Camila Antonia Batista\"],\"type\":\"scatter\"},{\"line\":{\"color\":\"#391e70\",\"width\":2},\"mode\":\"lines\",\"showlegend\":false,\"x\":[\"A1.2\",\"A2.1\"],\"y\":[\"Carina Alves Ferreira\",\"Carina Alves Ferreira\"],\"type\":\"scatter\"},{\"line\":{\"color\":\"#adc22f\",\"width\":2},\"mode\":\"lines\",\"showlegend\":false,\"x\":[\"A2.1\",\"A2.2\"],\"y\":[\"Carina Alves Ferreira\",\"Carina Alves Ferreira\"],\"type\":\"scatter\"},{\"line\":{\"color\":\"#391e70\",\"width\":2},\"mode\":\"lines\",\"showlegend\":false,\"x\":[\"B2.1\",\"B2.2\"],\"y\":[\"Carolina Jordan\",\"Carolina Jordan\"],\"type\":\"scatter\"},{\"line\":{\"color\":\"#adc22f\",\"width\":2},\"mode\":\"lines\",\"showlegend\":false,\"x\":[\"B2.2\",\"B2+.1\"],\"y\":[\"Carolina Jordan\",\"Carolina Jordan\"],\"type\":\"scatter\"},{\"line\":{\"color\":\"#391e70\",\"width\":2},\"mode\":\"lines\",\"showlegend\":false,\"x\":[\"Marco zero\",\"A1.1\"],\"y\":[\"Cintia Martins de Athayde\",\"Cintia Martins de Athayde\"],\"type\":\"scatter\"},{\"line\":{\"color\":\"#adc22f\",\"width\":2},\"mode\":\"lines\",\"showlegend\":false,\"x\":[\"A1.1\",\"A1.2\"],\"y\":[\"Cintia Martins de Athayde\",\"Cintia Martins de Athayde\"],\"type\":\"scatter\"},{\"line\":{\"color\":\"#391e70\",\"width\":2},\"mode\":\"lines\",\"showlegend\":false,\"x\":[\"A1.1\",\"A1.2\"],\"y\":[\"Daiane Rangel\",\"Daiane Rangel\"],\"type\":\"scatter\"},{\"line\":{\"color\":\"#adc22f\",\"width\":2},\"mode\":\"lines\",\"showlegend\":false,\"x\":[\"A1.2\",\"A2.1\"],\"y\":[\"Daiane Rangel\",\"Daiane Rangel\"],\"type\":\"scatter\"},{\"line\":{\"color\":\"#391e70\",\"width\":2},\"mode\":\"lines\",\"showlegend\":false,\"x\":[\"A2.1\",\"A2.2\"],\"y\":[\"Daniel Moraes Pessoa\",\"Daniel Moraes Pessoa\"],\"type\":\"scatter\"},{\"line\":{\"color\":\"#adc22f\",\"width\":2},\"mode\":\"lines\",\"showlegend\":false,\"x\":[\"A2.2\",\"B1.1\"],\"y\":[\"Daniel Moraes Pessoa\",\"Daniel Moraes Pessoa\"],\"type\":\"scatter\"},{\"line\":{\"color\":\"#391e70\",\"width\":2},\"mode\":\"lines\",\"showlegend\":false,\"x\":[\"A1.2\",\"A2.1\"],\"y\":[\"Diego Lage\",\"Diego Lage\"],\"type\":\"scatter\"},{\"line\":{\"color\":\"#adc22f\",\"width\":2},\"mode\":\"lines\",\"showlegend\":false,\"x\":[\"A2.1\",\"A2.2\"],\"y\":[\"Diego Lage\",\"Diego Lage\"],\"type\":\"scatter\"},{\"line\":{\"color\":\"#391e70\",\"width\":2},\"mode\":\"lines\",\"showlegend\":false,\"x\":[\"B1.2\",\"B2.1\"],\"y\":[\"Diego Oro\",\"Diego Oro\"],\"type\":\"scatter\"},{\"line\":{\"color\":\"#adc22f\",\"width\":2},\"mode\":\"lines\",\"showlegend\":false,\"x\":[\"B2.1\",\"B2.2\"],\"y\":[\"Diego Oro\",\"Diego Oro\"],\"type\":\"scatter\"},{\"line\":{\"color\":\"#391e70\",\"width\":2},\"mode\":\"lines\",\"showlegend\":false,\"x\":[\"A1.2\",\"A2.1\"],\"y\":[\"Edi Jean Pereira\",\"Edi Jean Pereira\"],\"type\":\"scatter\"},{\"line\":{\"color\":\"#adc22f\",\"width\":2},\"mode\":\"lines\",\"showlegend\":false,\"x\":[\"A2.1\",\"A2.2\"],\"y\":[\"Edi Jean Pereira\",\"Edi Jean Pereira\"],\"type\":\"scatter\"},{\"line\":{\"color\":\"#391e70\",\"width\":2},\"mode\":\"lines\",\"showlegend\":false,\"x\":[\"A1.1\",\"A1.2\"],\"y\":[\"Emanuel Lima Matos\",\"Emanuel Lima Matos\"],\"type\":\"scatter\"},{\"line\":{\"color\":\"#adc22f\",\"width\":2},\"mode\":\"lines\",\"showlegend\":false,\"x\":[\"A1.2\",\"A2.1\"],\"y\":[\"Emanuel Lima Matos\",\"Emanuel Lima Matos\"],\"type\":\"scatter\"},{\"line\":{\"color\":\"#391e70\",\"width\":2},\"mode\":\"lines\",\"showlegend\":false,\"x\":[\"Marco zero\",\"A1.1\"],\"y\":[\"Erica Barreto\",\"Erica Barreto\"],\"type\":\"scatter\"},{\"line\":{\"color\":\"#adc22f\",\"width\":2},\"mode\":\"lines\",\"showlegend\":false,\"x\":[\"A1.1\",\"A1.2\"],\"y\":[\"Erica Barreto\",\"Erica Barreto\"],\"type\":\"scatter\"},{\"line\":{\"color\":\"#391e70\",\"width\":2},\"mode\":\"lines\",\"showlegend\":false,\"x\":[\"A1.1\",\"A1.2\"],\"y\":[\"FABIO JOSE TASCA AGUIAR\",\"FABIO JOSE TASCA AGUIAR\"],\"type\":\"scatter\"},{\"line\":{\"color\":\"#adc22f\",\"width\":2},\"mode\":\"lines\",\"showlegend\":false,\"x\":[\"A1.2\",\"A2.1\"],\"y\":[\"FABIO JOSE TASCA AGUIAR\",\"FABIO JOSE TASCA AGUIAR\"],\"type\":\"scatter\"},{\"line\":{\"color\":\"#391e70\",\"width\":2},\"mode\":\"lines\",\"showlegend\":false,\"x\":[\"A2.2\",\"B1.1\"],\"y\":[\"Fabiano Silva\",\"Fabiano Silva\"],\"type\":\"scatter\"},{\"line\":{\"color\":\"#adc22f\",\"width\":2},\"mode\":\"lines\",\"showlegend\":false,\"x\":[\"B1.1\",\"B1.2\"],\"y\":[\"Fabiano Silva\",\"Fabiano Silva\"],\"type\":\"scatter\"},{\"line\":{\"color\":\"#391e70\",\"width\":2},\"mode\":\"lines\",\"showlegend\":false,\"x\":[\"A1.2\",\"A2.1\"],\"y\":[\"Fabio Antonio Bernardo\",\"Fabio Antonio Bernardo\"],\"type\":\"scatter\"},{\"line\":{\"color\":\"#adc22f\",\"width\":2},\"mode\":\"lines\",\"showlegend\":false,\"x\":[\"A2.1\",\"A2.2\"],\"y\":[\"Fabio Antonio Bernardo\",\"Fabio Antonio Bernardo\"],\"type\":\"scatter\"},{\"line\":{\"color\":\"#391e70\",\"width\":2},\"mode\":\"lines\",\"showlegend\":false,\"x\":[\"B2.1\",\"B2.2\"],\"y\":[\"Fabio Costa\",\"Fabio Costa\"],\"type\":\"scatter\"},{\"line\":{\"color\":\"#adc22f\",\"width\":2},\"mode\":\"lines\",\"showlegend\":false,\"x\":[\"B2.2\",\"B2+.1\"],\"y\":[\"Fabio Costa\",\"Fabio Costa\"],\"type\":\"scatter\"},{\"line\":{\"color\":\"#391e70\",\"width\":2},\"mode\":\"lines\",\"showlegend\":false,\"x\":[\"A1.2\",\"A2.1\"],\"y\":[\"Felipe Rafael\",\"Felipe Rafael\"],\"type\":\"scatter\"},{\"line\":{\"color\":\"#adc22f\",\"width\":2},\"mode\":\"lines\",\"showlegend\":false,\"x\":[\"A2.1\",\"A2.2\"],\"y\":[\"Felipe Rafael\",\"Felipe Rafael\"],\"type\":\"scatter\"},{\"line\":{\"color\":\"#391e70\",\"width\":2},\"mode\":\"lines\",\"showlegend\":false,\"x\":[\"A1.2\",\"A2.1\"],\"y\":[\"Fernanda Vieira\",\"Fernanda Vieira\"],\"type\":\"scatter\"},{\"line\":{\"color\":\"#adc22f\",\"width\":2},\"mode\":\"lines\",\"showlegend\":false,\"x\":[\"A2.1\",\"A2.2\"],\"y\":[\"Fernanda Vieira\",\"Fernanda Vieira\"],\"type\":\"scatter\"},{\"line\":{\"color\":\"#391e70\",\"width\":2},\"mode\":\"lines\",\"showlegend\":false,\"x\":[\"B1.2\",\"B2.1\"],\"y\":[\"Fernando da Silva\",\"Fernando da Silva\"],\"type\":\"scatter\"},{\"line\":{\"color\":\"#adc22f\",\"width\":2},\"mode\":\"lines\",\"showlegend\":false,\"x\":[\"B2.1\",\"B2.2\"],\"y\":[\"Fernando da Silva\",\"Fernando da Silva\"],\"type\":\"scatter\"},{\"line\":{\"color\":\"#391e70\",\"width\":2},\"mode\":\"lines\",\"showlegend\":false,\"x\":[\"B1.1\",\"B1.2\"],\"y\":[\"GABRIEL ARAGAO MARTINS DE MOURA\",\"GABRIEL ARAGAO MARTINS DE MOURA\"],\"type\":\"scatter\"},{\"line\":{\"color\":\"#adc22f\",\"width\":2},\"mode\":\"lines\",\"showlegend\":false,\"x\":[\"B1.2\",\"B2.1\"],\"y\":[\"GABRIEL ARAGAO MARTINS DE MOURA\",\"GABRIEL ARAGAO MARTINS DE MOURA\"],\"type\":\"scatter\"},{\"line\":{\"color\":\"#391e70\",\"width\":2},\"mode\":\"lines\",\"showlegend\":false,\"x\":[\"Marco zero\",\"A1.1\"],\"y\":[\"Gabriel Marques\",\"Gabriel Marques\"],\"type\":\"scatter\"},{\"line\":{\"color\":\"#adc22f\",\"width\":2},\"mode\":\"lines\",\"showlegend\":false,\"x\":[\"A1.1\",\"A1.2\"],\"y\":[\"Gabriel Marques\",\"Gabriel Marques\"],\"type\":\"scatter\"},{\"line\":{\"color\":\"#391e70\",\"width\":2},\"mode\":\"lines\",\"showlegend\":false,\"x\":[\"Marco zero\",\"A1.1\"],\"y\":[\"Gerhard Valkinir Cabreira\",\"Gerhard Valkinir Cabreira\"],\"type\":\"scatter\"},{\"line\":{\"color\":\"#adc22f\",\"width\":2},\"mode\":\"lines\",\"showlegend\":false,\"x\":[\"A1.1\",\"A1.2\"],\"y\":[\"Gerhard Valkinir Cabreira\",\"Gerhard Valkinir Cabreira\"],\"type\":\"scatter\"},{\"line\":{\"color\":\"#391e70\",\"width\":2},\"mode\":\"lines\",\"showlegend\":false,\"x\":[\"B1.2\",\"B2.1\"],\"y\":[\"Guilherme Romani\",\"Guilherme Romani\"],\"type\":\"scatter\"},{\"line\":{\"color\":\"#adc22f\",\"width\":2},\"mode\":\"lines\",\"showlegend\":false,\"x\":[\"B2.1\",\"B2.2\"],\"y\":[\"Guilherme Romani\",\"Guilherme Romani\"],\"type\":\"scatter\"},{\"line\":{\"color\":\"#391e70\",\"width\":2},\"mode\":\"lines\",\"showlegend\":false,\"x\":[\"B1.2\",\"B2.1\"],\"y\":[\"Gustavo Manne\",\"Gustavo Manne\"],\"type\":\"scatter\"},{\"line\":{\"color\":\"#adc22f\",\"width\":2},\"mode\":\"lines\",\"showlegend\":false,\"x\":[\"B2.1\",\"B2.2\"],\"y\":[\"Gustavo Manne\",\"Gustavo Manne\"],\"type\":\"scatter\"},{\"line\":{\"color\":\"#391e70\",\"width\":2},\"mode\":\"lines\",\"showlegend\":false,\"x\":[\"C1.1\",\"C1.2\"],\"y\":[\"Gustavo Martins Soares\",\"Gustavo Martins Soares\"],\"type\":\"scatter\"},{\"line\":{\"color\":\"#adc22f\",\"width\":2},\"mode\":\"lines\",\"showlegend\":false,\"x\":[\"C1.2\",\"C1.3\"],\"y\":[\"Gustavo Martins Soares\",\"Gustavo Martins Soares\"],\"type\":\"scatter\"},{\"line\":{\"color\":\"#391e70\",\"width\":2},\"mode\":\"lines\",\"showlegend\":false,\"x\":[\"A1.2\",\"A2.1\"],\"y\":[\"Gustavo Neves\",\"Gustavo Neves\"],\"type\":\"scatter\"},{\"line\":{\"color\":\"#adc22f\",\"width\":2},\"mode\":\"lines\",\"showlegend\":false,\"x\":[\"A2.1\",\"A2.2\"],\"y\":[\"Gustavo Neves\",\"Gustavo Neves\"],\"type\":\"scatter\"},{\"line\":{\"color\":\"#391e70\",\"width\":2},\"mode\":\"lines\",\"showlegend\":false,\"x\":[\"Marco zero\",\"A1.1\"],\"y\":[\"Helen Branicio\",\"Helen Branicio\"],\"type\":\"scatter\"},{\"line\":{\"color\":\"#adc22f\",\"width\":2},\"mode\":\"lines\",\"showlegend\":false,\"x\":[\"A1.1\",\"A1.2\"],\"y\":[\"Helen Branicio\",\"Helen Branicio\"],\"type\":\"scatter\"},{\"line\":{\"color\":\"#391e70\",\"width\":2},\"mode\":\"lines\",\"showlegend\":false,\"x\":[\"Marco zero\",\"A1.1\"],\"y\":[\"Heronilton Fernandes\",\"Heronilton Fernandes\"],\"type\":\"scatter\"},{\"line\":{\"color\":\"#adc22f\",\"width\":2},\"mode\":\"lines\",\"showlegend\":false,\"x\":[\"A1.1\",\"A1.2\"],\"y\":[\"Heronilton Fernandes\",\"Heronilton Fernandes\"],\"type\":\"scatter\"},{\"line\":{\"color\":\"#391e70\",\"width\":2},\"mode\":\"lines\",\"showlegend\":false,\"x\":[\"A1.2\",\"A2.1\"],\"y\":[\"Hugo Silvio Bernardo\",\"Hugo Silvio Bernardo\"],\"type\":\"scatter\"},{\"line\":{\"color\":\"#adc22f\",\"width\":2},\"mode\":\"lines\",\"showlegend\":false,\"x\":[\"A2.1\",\"A2.2\"],\"y\":[\"Hugo Silvio Bernardo\",\"Hugo Silvio Bernardo\"],\"type\":\"scatter\"},{\"line\":{\"color\":\"#391e70\",\"width\":2},\"mode\":\"lines\",\"showlegend\":false,\"x\":[\"B2.2\",\"B2+.1\"],\"y\":[\"Hywre Santos Sousa\",\"Hywre Santos Sousa\"],\"type\":\"scatter\"},{\"line\":{\"color\":\"#adc22f\",\"width\":2},\"mode\":\"lines\",\"showlegend\":false,\"x\":[\"B2+.1\",\"B2+.2\"],\"y\":[\"Hywre Santos Sousa\",\"Hywre Santos Sousa\"],\"type\":\"scatter\"},{\"line\":{\"color\":\"#391e70\",\"width\":2},\"mode\":\"lines\",\"showlegend\":false,\"x\":[\"Marco zero\",\"A1.1\"],\"y\":[\"Isabela Caroline Berlato Soares Andrade\",\"Isabela Caroline Berlato Soares Andrade\"],\"type\":\"scatter\"},{\"line\":{\"color\":\"#adc22f\",\"width\":2},\"mode\":\"lines\",\"showlegend\":false,\"x\":[\"A1.1\",\"A1.2\"],\"y\":[\"Isabela Caroline Berlato Soares Andrade\",\"Isabela Caroline Berlato Soares Andrade\"],\"type\":\"scatter\"},{\"line\":{\"color\":\"#391e70\",\"width\":2},\"mode\":\"lines\",\"showlegend\":false,\"x\":[\"C1.1\",\"C1.2\"],\"y\":[\"Ivy Mayara Sanches de Oliveira\",\"Ivy Mayara Sanches de Oliveira\"],\"type\":\"scatter\"},{\"line\":{\"color\":\"#adc22f\",\"width\":2},\"mode\":\"lines\",\"showlegend\":false,\"x\":[\"C1.2\",\"C1.3\"],\"y\":[\"Ivy Mayara Sanches de Oliveira\",\"Ivy Mayara Sanches de Oliveira\"],\"type\":\"scatter\"},{\"line\":{\"color\":\"#391e70\",\"width\":2},\"mode\":\"lines\",\"showlegend\":false,\"x\":[\"Marco zero\",\"A1.1\"],\"y\":[\"Izabela Caroline Prezotto Armando\",\"Izabela Caroline Prezotto Armando\"],\"type\":\"scatter\"},{\"line\":{\"color\":\"#adc22f\",\"width\":2},\"mode\":\"lines\",\"showlegend\":false,\"x\":[\"A1.1\",\"A1.2\"],\"y\":[\"Izabela Caroline Prezotto Armando\",\"Izabela Caroline Prezotto Armando\"],\"type\":\"scatter\"},{\"line\":{\"color\":\"#391e70\",\"width\":2},\"mode\":\"lines\",\"showlegend\":false,\"x\":[\"Marco zero\",\"A1.1\"],\"y\":[\"JAMESON HIRXLEHOR\",\"JAMESON HIRXLEHOR\"],\"type\":\"scatter\"},{\"line\":{\"color\":\"#adc22f\",\"width\":2},\"mode\":\"lines\",\"showlegend\":false,\"x\":[\"A1.1\",\"A1.2\"],\"y\":[\"JAMESON HIRXLEHOR\",\"JAMESON HIRXLEHOR\"],\"type\":\"scatter\"},{\"line\":{\"color\":\"#391e70\",\"width\":2},\"mode\":\"lines\",\"showlegend\":false,\"x\":[\"A2.2\",\"B1.1\"],\"y\":[\"JOSE GUILHERME PEREIRA BRAGA\",\"JOSE GUILHERME PEREIRA BRAGA\"],\"type\":\"scatter\"},{\"line\":{\"color\":\"#adc22f\",\"width\":2},\"mode\":\"lines\",\"showlegend\":false,\"x\":[\"B1.1\",\"B1.2\"],\"y\":[\"JOSE GUILHERME PEREIRA BRAGA\",\"JOSE GUILHERME PEREIRA BRAGA\"],\"type\":\"scatter\"},{\"line\":{\"color\":\"#391e70\",\"width\":2},\"mode\":\"lines\",\"showlegend\":false,\"x\":[\"A2.1\",\"A2.2\"],\"y\":[\"JOSIAS LOURENCO DA SILVA\",\"JOSIAS LOURENCO DA SILVA\"],\"type\":\"scatter\"},{\"line\":{\"color\":\"#adc22f\",\"width\":2},\"mode\":\"lines\",\"showlegend\":false,\"x\":[\"A2.2\",\"B1.1\"],\"y\":[\"JOSIAS LOURENCO DA SILVA\",\"JOSIAS LOURENCO DA SILVA\"],\"type\":\"scatter\"},{\"line\":{\"color\":\"#391e70\",\"width\":2},\"mode\":\"lines\",\"showlegend\":false,\"x\":[\"B2+.1\",\"B2+.2\"],\"y\":[\"Janaina Scotton\",\"Janaina Scotton\"],\"type\":\"scatter\"},{\"line\":{\"color\":\"#adc22f\",\"width\":2},\"mode\":\"lines\",\"showlegend\":false,\"x\":[\"B2+.2\",\"C1.1\"],\"y\":[\"Janaina Scotton\",\"Janaina Scotton\"],\"type\":\"scatter\"},{\"line\":{\"color\":\"#391e70\",\"width\":2},\"mode\":\"lines\",\"showlegend\":false,\"x\":[\"B2.2\",\"B2+.1\"],\"y\":[\"Jefferson Esquizato De Souza\",\"Jefferson Esquizato De Souza\"],\"type\":\"scatter\"},{\"line\":{\"color\":\"#adc22f\",\"width\":2},\"mode\":\"lines\",\"showlegend\":false,\"x\":[\"B2+.1\",\"B2+.2\"],\"y\":[\"Jefferson Esquizato De Souza\",\"Jefferson Esquizato De Souza\"],\"type\":\"scatter\"},{\"line\":{\"color\":\"#391e70\",\"width\":2},\"mode\":\"lines\",\"showlegend\":false,\"x\":[\"A2.1\",\"A2.2\"],\"y\":[\"Jefferson Freitas Pinto Silva\",\"Jefferson Freitas Pinto Silva\"],\"type\":\"scatter\"},{\"line\":{\"color\":\"#adc22f\",\"width\":2},\"mode\":\"lines\",\"showlegend\":false,\"x\":[\"A2.2\",\"B1.1\"],\"y\":[\"Jefferson Freitas Pinto Silva\",\"Jefferson Freitas Pinto Silva\"],\"type\":\"scatter\"},{\"line\":{\"color\":\"#391e70\",\"width\":2},\"mode\":\"lines\",\"showlegend\":false,\"x\":[\"B2.2\",\"B2+.1\"],\"y\":[\"Joao Eduardo Souza Oliveira\",\"Joao Eduardo Souza Oliveira\"],\"type\":\"scatter\"},{\"line\":{\"color\":\"#adc22f\",\"width\":2},\"mode\":\"lines\",\"showlegend\":false,\"x\":[\"B2+.1\",\"B2+.2\"],\"y\":[\"Joao Eduardo Souza Oliveira\",\"Joao Eduardo Souza Oliveira\"],\"type\":\"scatter\"},{\"line\":{\"color\":\"#391e70\",\"width\":2},\"mode\":\"lines\",\"showlegend\":false,\"x\":[\"A2.1\",\"A2.2\"],\"y\":[\"Jonatan Teixeira do Carmo Girata\",\"Jonatan Teixeira do Carmo Girata\"],\"type\":\"scatter\"},{\"line\":{\"color\":\"#adc22f\",\"width\":2},\"mode\":\"lines\",\"showlegend\":false,\"x\":[\"A2.2\",\"B1.1\"],\"y\":[\"Jonatan Teixeira do Carmo Girata\",\"Jonatan Teixeira do Carmo Girata\"],\"type\":\"scatter\"},{\"line\":{\"color\":\"#391e70\",\"width\":2},\"mode\":\"lines\",\"showlegend\":false,\"x\":[\"Marco zero\",\"A1.1\"],\"y\":[\"Jose Rodrigo Claro\",\"Jose Rodrigo Claro\"],\"type\":\"scatter\"},{\"line\":{\"color\":\"#adc22f\",\"width\":2},\"mode\":\"lines\",\"showlegend\":false,\"x\":[\"A1.1\",\"A1.2\"],\"y\":[\"Jose Rodrigo Claro\",\"Jose Rodrigo Claro\"],\"type\":\"scatter\"},{\"line\":{\"color\":\"#391e70\",\"width\":2},\"mode\":\"lines\",\"showlegend\":false,\"x\":[\"B2.1\",\"B2.2\"],\"y\":[\"Jo\\u00e3o Victor Bertolo\",\"Jo\\u00e3o Victor Bertolo\"],\"type\":\"scatter\"},{\"line\":{\"color\":\"#adc22f\",\"width\":2},\"mode\":\"lines\",\"showlegend\":false,\"x\":[\"B2.2\",\"B2+.1\"],\"y\":[\"Jo\\u00e3o Victor Bertolo\",\"Jo\\u00e3o Victor Bertolo\"],\"type\":\"scatter\"},{\"line\":{\"color\":\"#adc22f\",\"width\":2},\"mode\":\"lines\",\"showlegend\":false,\"x\":[\"B1.1\",\"B2.2\"],\"y\":[\"Karine Silva Madruga\",\"Karine Silva Madruga\"],\"type\":\"scatter\"},{\"line\":{\"color\":\"#391e70\",\"width\":2},\"mode\":\"lines\",\"showlegend\":false,\"x\":[\"Marco zero\",\"A1.1\"],\"y\":[\"Larissa Boso\",\"Larissa Boso\"],\"type\":\"scatter\"},{\"line\":{\"color\":\"#adc22f\",\"width\":2},\"mode\":\"lines\",\"showlegend\":false,\"x\":[\"A1.1\",\"A1.2\"],\"y\":[\"Larissa Boso\",\"Larissa Boso\"],\"type\":\"scatter\"},{\"line\":{\"color\":\"#391e70\",\"width\":2},\"mode\":\"lines\",\"showlegend\":false,\"x\":[\"B1.2\",\"B2.1\"],\"y\":[\"Larissa Martins\",\"Larissa Martins\"],\"type\":\"scatter\"},{\"line\":{\"color\":\"#adc22f\",\"width\":2},\"mode\":\"lines\",\"showlegend\":false,\"x\":[\"B2.1\",\"B2.2\"],\"y\":[\"Larissa Martins\",\"Larissa Martins\"],\"type\":\"scatter\"},{\"line\":{\"color\":\"#391e70\",\"width\":2},\"mode\":\"lines\",\"showlegend\":false,\"x\":[\"A2.1\",\"A2.2\"],\"y\":[\"Larissa Nakayama\",\"Larissa Nakayama\"],\"type\":\"scatter\"},{\"line\":{\"color\":\"#adc22f\",\"width\":2},\"mode\":\"lines\",\"showlegend\":false,\"x\":[\"A2.2\",\"B1.1\"],\"y\":[\"Larissa Nakayama\",\"Larissa Nakayama\"],\"type\":\"scatter\"},{\"line\":{\"color\":\"#391e70\",\"width\":2},\"mode\":\"lines\",\"showlegend\":false,\"x\":[\"Marco zero\",\"A1.1\"],\"y\":[\"Let\\u00edcia Gomez\",\"Let\\u00edcia Gomez\"],\"type\":\"scatter\"},{\"line\":{\"color\":\"#adc22f\",\"width\":2},\"mode\":\"lines\",\"showlegend\":false,\"x\":[\"A1.1\",\"A1.2\"],\"y\":[\"Let\\u00edcia Gomez\",\"Let\\u00edcia Gomez\"],\"type\":\"scatter\"},{\"line\":{\"color\":\"#391e70\",\"width\":2},\"mode\":\"lines\",\"showlegend\":false,\"x\":[\"Marco zero\",\"A1.1\"],\"y\":[\"Lualis Emiliano\",\"Lualis Emiliano\"],\"type\":\"scatter\"},{\"line\":{\"color\":\"#adc22f\",\"width\":2},\"mode\":\"lines\",\"showlegend\":false,\"x\":[\"A1.1\",\"A1.2\"],\"y\":[\"Lualis Emiliano\",\"Lualis Emiliano\"],\"type\":\"scatter\"},{\"line\":{\"color\":\"#391e70\",\"width\":2},\"mode\":\"lines\",\"showlegend\":false,\"x\":[\"Marco zero\",\"A1.1\"],\"y\":[\"Luciano Delmar Dos Santos Almeida\",\"Luciano Delmar Dos Santos Almeida\"],\"type\":\"scatter\"},{\"line\":{\"color\":\"#adc22f\",\"width\":2},\"mode\":\"lines\",\"showlegend\":false,\"x\":[\"A1.1\",\"A1.2\"],\"y\":[\"Luciano Delmar Dos Santos Almeida\",\"Luciano Delmar Dos Santos Almeida\"],\"type\":\"scatter\"},{\"line\":{\"color\":\"#391e70\",\"width\":2},\"mode\":\"lines\",\"showlegend\":false,\"x\":[\"A1.2\",\"A2.1\"],\"y\":[\"Luis Felipe Da Silva Reis\",\"Luis Felipe Da Silva Reis\"],\"type\":\"scatter\"},{\"line\":{\"color\":\"#adc22f\",\"width\":2},\"mode\":\"lines\",\"showlegend\":false,\"x\":[\"A2.1\",\"A2.2\"],\"y\":[\"Luis Felipe Da Silva Reis\",\"Luis Felipe Da Silva Reis\"],\"type\":\"scatter\"},{\"line\":{\"color\":\"#391e70\",\"width\":2},\"mode\":\"lines\",\"showlegend\":false,\"x\":[\"B2.2\",\"B2+.1\"],\"y\":[\"Luiz Guilherme Alves Leonel\",\"Luiz Guilherme Alves Leonel\"],\"type\":\"scatter\"},{\"line\":{\"color\":\"#adc22f\",\"width\":2},\"mode\":\"lines\",\"showlegend\":false,\"x\":[\"B2+.1\",\"B2+.2\"],\"y\":[\"Luiz Guilherme Alves Leonel\",\"Luiz Guilherme Alves Leonel\"],\"type\":\"scatter\"},{\"line\":{\"color\":\"#391e70\",\"width\":2},\"mode\":\"lines\",\"showlegend\":false,\"x\":[\"A2.1\",\"A2.2\"],\"y\":[\"Luiz Tosta\",\"Luiz Tosta\"],\"type\":\"scatter\"},{\"line\":{\"color\":\"#adc22f\",\"width\":2},\"mode\":\"lines\",\"showlegend\":false,\"x\":[\"A2.2\",\"B1.1\"],\"y\":[\"Luiz Tosta\",\"Luiz Tosta\"],\"type\":\"scatter\"},{\"line\":{\"color\":\"#391e70\",\"width\":2},\"mode\":\"lines\",\"showlegend\":false,\"x\":[\"A2.2\",\"B1.1\"],\"y\":[\"MARIANA CRISTINA GONSALES NOGUEIRA\",\"MARIANA CRISTINA GONSALES NOGUEIRA\"],\"type\":\"scatter\"},{\"line\":{\"color\":\"#adc22f\",\"width\":2},\"mode\":\"lines\",\"showlegend\":false,\"x\":[\"B1.1\",\"B1.2\"],\"y\":[\"MARIANA CRISTINA GONSALES NOGUEIRA\",\"MARIANA CRISTINA GONSALES NOGUEIRA\"],\"type\":\"scatter\"},{\"line\":{\"color\":\"#391e70\",\"width\":2},\"mode\":\"lines\",\"showlegend\":false,\"x\":[\"B2+.1\",\"B2+.2\"],\"y\":[\"MARINA FREITAS NORKUS\",\"MARINA FREITAS NORKUS\"],\"type\":\"scatter\"},{\"line\":{\"color\":\"#adc22f\",\"width\":2},\"mode\":\"lines\",\"showlegend\":false,\"x\":[\"B2+.2\",\"C1.1\"],\"y\":[\"MARINA FREITAS NORKUS\",\"MARINA FREITAS NORKUS\"],\"type\":\"scatter\"},{\"line\":{\"color\":\"#391e70\",\"width\":2},\"mode\":\"lines\",\"showlegend\":false,\"x\":[\"Marco zero\",\"A1.1\"],\"y\":[\"MIRIELLY CRISTINA GIL DA SILVA NUNES\",\"MIRIELLY CRISTINA GIL DA SILVA NUNES\"],\"type\":\"scatter\"},{\"line\":{\"color\":\"#adc22f\",\"width\":2},\"mode\":\"lines\",\"showlegend\":false,\"x\":[\"A1.1\",\"A1.2\"],\"y\":[\"MIRIELLY CRISTINA GIL DA SILVA NUNES\",\"MIRIELLY CRISTINA GIL DA SILVA NUNES\"],\"type\":\"scatter\"},{\"line\":{\"color\":\"#391e70\",\"width\":2},\"mode\":\"lines\",\"showlegend\":false,\"x\":[\"A2.1\",\"A2.2\"],\"y\":[\"Marcela Vanni\",\"Marcela Vanni\"],\"type\":\"scatter\"},{\"line\":{\"color\":\"#adc22f\",\"width\":2},\"mode\":\"lines\",\"showlegend\":false,\"x\":[\"A2.2\",\"B1.1\"],\"y\":[\"Marcela Vanni\",\"Marcela Vanni\"],\"type\":\"scatter\"},{\"line\":{\"color\":\"#391e70\",\"width\":2},\"mode\":\"lines\",\"showlegend\":false,\"x\":[\"Marco zero\",\"A1.1\"],\"y\":[\"Marco Goes\",\"Marco Goes\"],\"type\":\"scatter\"},{\"line\":{\"color\":\"#adc22f\",\"width\":2},\"mode\":\"lines\",\"showlegend\":false,\"x\":[\"A1.1\",\"A1.2\"],\"y\":[\"Marco Goes\",\"Marco Goes\"],\"type\":\"scatter\"},{\"line\":{\"color\":\"#391e70\",\"width\":2},\"mode\":\"lines\",\"showlegend\":false,\"x\":[\"B1.2\",\"B2.1\"],\"y\":[\"Mariana Brantes Vasques\",\"Mariana Brantes Vasques\"],\"type\":\"scatter\"},{\"line\":{\"color\":\"#adc22f\",\"width\":2},\"mode\":\"lines\",\"showlegend\":false,\"x\":[\"B2.1\",\"B2.2\"],\"y\":[\"Mariana Brantes Vasques\",\"Mariana Brantes Vasques\"],\"type\":\"scatter\"},{\"line\":{\"color\":\"#391e70\",\"width\":2},\"mode\":\"lines\",\"showlegend\":false,\"x\":[\"Marco zero\",\"A1.1\"],\"y\":[\"Marieli Ruza\",\"Marieli Ruza\"],\"type\":\"scatter\"},{\"line\":{\"color\":\"#adc22f\",\"width\":2},\"mode\":\"lines\",\"showlegend\":false,\"x\":[\"A1.1\",\"A1.2\"],\"y\":[\"Marieli Ruza\",\"Marieli Ruza\"],\"type\":\"scatter\"},{\"line\":{\"color\":\"#391e70\",\"width\":2},\"mode\":\"lines\",\"showlegend\":false,\"x\":[\"Marco zero\",\"A1.1\"],\"y\":[\"Milton Luiz Favero Junior\",\"Milton Luiz Favero Junior\"],\"type\":\"scatter\"},{\"line\":{\"color\":\"#adc22f\",\"width\":2},\"mode\":\"lines\",\"showlegend\":false,\"x\":[\"A1.1\",\"A1.2\"],\"y\":[\"Milton Luiz Favero Junior\",\"Milton Luiz Favero Junior\"],\"type\":\"scatter\"},{\"line\":{\"color\":\"#391e70\",\"width\":2},\"mode\":\"lines\",\"showlegend\":false,\"x\":[\"B1.2\",\"B2.1\"],\"y\":[\"Nat\\u00e1lia Venanzoni\",\"Nat\\u00e1lia Venanzoni\"],\"type\":\"scatter\"},{\"line\":{\"color\":\"#adc22f\",\"width\":2},\"mode\":\"lines\",\"showlegend\":false,\"x\":[\"B2.1\",\"B2.2\"],\"y\":[\"Nat\\u00e1lia Venanzoni\",\"Nat\\u00e1lia Venanzoni\"],\"type\":\"scatter\"},{\"line\":{\"color\":\"#391e70\",\"width\":2},\"mode\":\"lines\",\"showlegend\":false,\"x\":[\"B2.2\",\"B2+.1\"],\"y\":[\"Nayara Sene\",\"Nayara Sene\"],\"type\":\"scatter\"},{\"line\":{\"color\":\"#adc22f\",\"width\":2},\"mode\":\"lines\",\"showlegend\":false,\"x\":[\"B2+.1\",\"B2+.2\"],\"y\":[\"Nayara Sene\",\"Nayara Sene\"],\"type\":\"scatter\"},{\"line\":{\"color\":\"#391e70\",\"width\":2},\"mode\":\"lines\",\"showlegend\":false,\"x\":[\"A1.1\",\"A1.2\"],\"y\":[\"PATRICIA MEDUNECKAS BRAZ\",\"PATRICIA MEDUNECKAS BRAZ\"],\"type\":\"scatter\"},{\"line\":{\"color\":\"#adc22f\",\"width\":2},\"mode\":\"lines\",\"showlegend\":false,\"x\":[\"A1.2\",\"A2.1\"],\"y\":[\"PATRICIA MEDUNECKAS BRAZ\",\"PATRICIA MEDUNECKAS BRAZ\"],\"type\":\"scatter\"},{\"line\":{\"color\":\"#391e70\",\"width\":2},\"mode\":\"lines\",\"showlegend\":false,\"x\":[\"A1.2\",\"A2.1\"],\"y\":[\"Paula Cristina Nunes Pereira\",\"Paula Cristina Nunes Pereira\"],\"type\":\"scatter\"},{\"line\":{\"color\":\"#adc22f\",\"width\":2},\"mode\":\"lines\",\"showlegend\":false,\"x\":[\"A2.1\",\"A2.2\"],\"y\":[\"Paula Cristina Nunes Pereira\",\"Paula Cristina Nunes Pereira\"],\"type\":\"scatter\"},{\"line\":{\"color\":\"#391e70\",\"width\":2},\"mode\":\"lines\",\"showlegend\":false,\"x\":[\"B1.2\",\"B2.1\"],\"y\":[\"Priscilla Ribeiro Alves\",\"Priscilla Ribeiro Alves\"],\"type\":\"scatter\"},{\"line\":{\"color\":\"#adc22f\",\"width\":2},\"mode\":\"lines\",\"showlegend\":false,\"x\":[\"B2.1\",\"B2.2\"],\"y\":[\"Priscilla Ribeiro Alves\",\"Priscilla Ribeiro Alves\"],\"type\":\"scatter\"},{\"line\":{\"color\":\"#391e70\",\"width\":2},\"mode\":\"lines\",\"showlegend\":false,\"x\":[\"A1.1\",\"A1.2\"],\"y\":[\"Rafael Moraes Pessoa\",\"Rafael Moraes Pessoa\"],\"type\":\"scatter\"},{\"line\":{\"color\":\"#adc22f\",\"width\":2},\"mode\":\"lines\",\"showlegend\":false,\"x\":[\"A1.2\",\"A2.1\"],\"y\":[\"Rafael Moraes Pessoa\",\"Rafael Moraes Pessoa\"],\"type\":\"scatter\"},{\"line\":{\"color\":\"#391e70\",\"width\":2},\"mode\":\"lines\",\"showlegend\":false,\"x\":[\"Marco zero\",\"A1.1\"],\"y\":[\"Rafaela Maganhott\",\"Rafaela Maganhott\"],\"type\":\"scatter\"},{\"line\":{\"color\":\"#adc22f\",\"width\":2},\"mode\":\"lines\",\"showlegend\":false,\"x\":[\"A1.1\",\"A1.2\"],\"y\":[\"Rafaela Maganhott\",\"Rafaela Maganhott\"],\"type\":\"scatter\"},{\"line\":{\"color\":\"#391e70\",\"width\":2},\"mode\":\"lines\",\"showlegend\":false,\"x\":[\"A2.2\",\"B1.1\"],\"y\":[\"Revalci Figueira Da Costa\",\"Revalci Figueira Da Costa\"],\"type\":\"scatter\"},{\"line\":{\"color\":\"#adc22f\",\"width\":2},\"mode\":\"lines\",\"showlegend\":false,\"x\":[\"B1.1\",\"B1.2\"],\"y\":[\"Revalci Figueira Da Costa\",\"Revalci Figueira Da Costa\"],\"type\":\"scatter\"},{\"line\":{\"color\":\"#391e70\",\"width\":2},\"mode\":\"lines\",\"showlegend\":false,\"x\":[\"B2+.2\",\"C1.1\"],\"y\":[\"Rodrigo Fantini\",\"Rodrigo Fantini\"],\"type\":\"scatter\"},{\"line\":{\"color\":\"#adc22f\",\"width\":2},\"mode\":\"lines\",\"showlegend\":false,\"x\":[\"C1.1\",\"C1.2\"],\"y\":[\"Rodrigo Fantini\",\"Rodrigo Fantini\"],\"type\":\"scatter\"},{\"line\":{\"color\":\"#391e70\",\"width\":2},\"mode\":\"lines\",\"showlegend\":false,\"x\":[\"A2.1\",\"A2.2\"],\"y\":[\"Rodrigo Laine Barbosa\",\"Rodrigo Laine Barbosa\"],\"type\":\"scatter\"},{\"line\":{\"color\":\"#adc22f\",\"width\":2},\"mode\":\"lines\",\"showlegend\":false,\"x\":[\"A2.2\",\"B1.1\"],\"y\":[\"Rodrigo Laine Barbosa\",\"Rodrigo Laine Barbosa\"],\"type\":\"scatter\"},{\"line\":{\"color\":\"#391e70\",\"width\":2},\"mode\":\"lines\",\"showlegend\":false,\"x\":[\"A1.2\",\"A2.1\"],\"y\":[\"Suzane Fidelis\",\"Suzane Fidelis\"],\"type\":\"scatter\"},{\"line\":{\"color\":\"#adc22f\",\"width\":2},\"mode\":\"lines\",\"showlegend\":false,\"x\":[\"A2.1\",\"A2.2\"],\"y\":[\"Suzane Fidelis\",\"Suzane Fidelis\"],\"type\":\"scatter\"},{\"line\":{\"color\":\"#391e70\",\"width\":2},\"mode\":\"lines\",\"showlegend\":false,\"x\":[\"A1.2\",\"A2.1\"],\"y\":[\"THAIS ALVES DA GRACA\",\"THAIS ALVES DA GRACA\"],\"type\":\"scatter\"},{\"line\":{\"color\":\"#adc22f\",\"width\":2},\"mode\":\"lines\",\"showlegend\":false,\"x\":[\"A2.1\",\"A2.2\"],\"y\":[\"THAIS ALVES DA GRACA\",\"THAIS ALVES DA GRACA\"],\"type\":\"scatter\"},{\"line\":{\"color\":\"#391e70\",\"width\":2},\"mode\":\"lines\",\"showlegend\":false,\"x\":[\"B2.1\",\"B2.2\"],\"y\":[\"Taina Curralo Scarano\",\"Taina Curralo Scarano\"],\"type\":\"scatter\"},{\"line\":{\"color\":\"#adc22f\",\"width\":2},\"mode\":\"lines\",\"showlegend\":false,\"x\":[\"B2.2\",\"B2+.1\"],\"y\":[\"Taina Curralo Scarano\",\"Taina Curralo Scarano\"],\"type\":\"scatter\"},{\"line\":{\"color\":\"#391e70\",\"width\":2},\"mode\":\"lines\",\"showlegend\":false,\"x\":[\"A1.1\",\"A1.2\"],\"y\":[\"Tatiane Regina Zafani dos Santos\",\"Tatiane Regina Zafani dos Santos\"],\"type\":\"scatter\"},{\"line\":{\"color\":\"#adc22f\",\"width\":2},\"mode\":\"lines\",\"showlegend\":false,\"x\":[\"A1.2\",\"A2.1\"],\"y\":[\"Tatiane Regina Zafani dos Santos\",\"Tatiane Regina Zafani dos Santos\"],\"type\":\"scatter\"},{\"line\":{\"color\":\"#391e70\",\"width\":2},\"mode\":\"lines\",\"showlegend\":false,\"x\":[\"B2.1\",\"B2.2\"],\"y\":[\"Thiago Luiz Pasqualinoto\",\"Thiago Luiz Pasqualinoto\"],\"type\":\"scatter\"},{\"line\":{\"color\":\"#adc22f\",\"width\":2},\"mode\":\"lines\",\"showlegend\":false,\"x\":[\"B2.2\",\"B2+.1\"],\"y\":[\"Thiago Luiz Pasqualinoto\",\"Thiago Luiz Pasqualinoto\"],\"type\":\"scatter\"},{\"line\":{\"color\":\"#391e70\",\"width\":2},\"mode\":\"lines\",\"showlegend\":false,\"x\":[\"Marco zero\",\"A1.1\"],\"y\":[\"Ulysses Antonio da Silva Neto\",\"Ulysses Antonio da Silva Neto\"],\"type\":\"scatter\"},{\"line\":{\"color\":\"#adc22f\",\"width\":2},\"mode\":\"lines\",\"showlegend\":false,\"x\":[\"A1.1\",\"A1.2\"],\"y\":[\"Ulysses Antonio da Silva Neto\",\"Ulysses Antonio da Silva Neto\"],\"type\":\"scatter\"},{\"line\":{\"color\":\"#391e70\",\"width\":2},\"mode\":\"lines\",\"showlegend\":false,\"x\":[\"B2.1\",\"B2.2\"],\"y\":[\"VANESSA DAL BEN CONEGLIAN\",\"VANESSA DAL BEN CONEGLIAN\"],\"type\":\"scatter\"},{\"line\":{\"color\":\"#adc22f\",\"width\":2},\"mode\":\"lines\",\"showlegend\":false,\"x\":[\"B2.2\",\"B2+.1\"],\"y\":[\"VANESSA DAL BEN CONEGLIAN\",\"VANESSA DAL BEN CONEGLIAN\"],\"type\":\"scatter\"},{\"line\":{\"color\":\"#391e70\",\"width\":2},\"mode\":\"lines\",\"showlegend\":false,\"x\":[\"A2.1\",\"A2.2\"],\"y\":[\"Vinicius Duque\",\"Vinicius Duque\"],\"type\":\"scatter\"},{\"line\":{\"color\":\"#adc22f\",\"width\":2},\"mode\":\"lines\",\"showlegend\":false,\"x\":[\"A2.2\",\"B1.1\"],\"y\":[\"Vinicius Duque\",\"Vinicius Duque\"],\"type\":\"scatter\"},{\"line\":{\"color\":\"#391e70\",\"width\":2},\"mode\":\"lines\",\"showlegend\":false,\"x\":[\"B2+.1\",\"B2+.2\"],\"y\":[\"Vitor Pinheiro Afonso\",\"Vitor Pinheiro Afonso\"],\"type\":\"scatter\"},{\"line\":{\"color\":\"#adc22f\",\"width\":2},\"mode\":\"lines\",\"showlegend\":false,\"x\":[\"B2+.2\",\"C1.1\"],\"y\":[\"Vitor Pinheiro Afonso\",\"Vitor Pinheiro Afonso\"],\"type\":\"scatter\"},{\"line\":{\"color\":\"#391e70\",\"width\":2},\"mode\":\"lines\",\"showlegend\":false,\"x\":[\"B1.2\",\"B2.1\"],\"y\":[\"Viviane Lima De Oliveira Cavalheiro\",\"Viviane Lima De Oliveira Cavalheiro\"],\"type\":\"scatter\"},{\"line\":{\"color\":\"#adc22f\",\"width\":2},\"mode\":\"lines\",\"showlegend\":false,\"x\":[\"B2.1\",\"B2.2\"],\"y\":[\"Viviane Lima De Oliveira Cavalheiro\",\"Viviane Lima De Oliveira Cavalheiro\"],\"type\":\"scatter\"},{\"line\":{\"color\":\"#391e70\",\"width\":2},\"mode\":\"lines\",\"showlegend\":false,\"x\":[\"Marco zero\",\"A1.1\"],\"y\":[\"WELLINGTON DOS SANTOS SILVA\",\"WELLINGTON DOS SANTOS SILVA\"],\"type\":\"scatter\"},{\"line\":{\"color\":\"#adc22f\",\"width\":2},\"mode\":\"lines\",\"showlegend\":false,\"x\":[\"A1.1\",\"A1.2\"],\"y\":[\"WELLINGTON DOS SANTOS SILVA\",\"WELLINGTON DOS SANTOS SILVA\"],\"type\":\"scatter\"},{\"hoverinfo\":\"text\",\"marker\":{\"color\":[\"#391e70\",\"#391e70\",\"#adc22f\"],\"size\":8},\"mode\":\"markers\",\"showlegend\":false,\"text\":[\"03\\u002f2024\",\"09\\u002f2024\",\"03\\u002f2025\"],\"x\":[\"Marco zero\",\"A1.1\",\"A1.2\"],\"y\":[\"ADRIANO BEZERRA DOS SANTOS\",\"ADRIANO BEZERRA DOS SANTOS\",\"ADRIANO BEZERRA DOS SANTOS\"],\"type\":\"scatter\"},{\"hoverinfo\":\"text\",\"marker\":{\"color\":[\"#391e70\",\"#391e70\",\"#adc22f\"],\"size\":8},\"mode\":\"markers\",\"showlegend\":false,\"text\":[\"03\\u002f2024\",\"09\\u002f2024\",\"03\\u002f2025\"],\"x\":[\"A1.1\",\"A1.2\",\"A2.1\"],\"y\":[\"ANA MARIA TOMAZ UVINHA\",\"ANA MARIA TOMAZ UVINHA\",\"ANA MARIA TOMAZ UVINHA\"],\"type\":\"scatter\"},{\"hoverinfo\":\"text\",\"marker\":{\"color\":[\"#391e70\",\"#391e70\",\"#adc22f\"],\"size\":8},\"mode\":\"markers\",\"showlegend\":false,\"text\":[\"03\\u002f2024\",\"09\\u002f2024\",\"03\\u002f2025\"],\"x\":[\"Marco zero\",\"A1.1\",\"A1.2\"],\"y\":[\"ANDERSON RODRIGO DE OLIVEIRA\",\"ANDERSON RODRIGO DE OLIVEIRA\",\"ANDERSON RODRIGO DE OLIVEIRA\"],\"type\":\"scatter\"},{\"hoverinfo\":\"text\",\"marker\":{\"color\":[\"#391e70\",\"#391e70\",\"#adc22f\"],\"size\":8},\"mode\":\"markers\",\"showlegend\":false,\"text\":[\"04\\u002f2024\",\"10\\u002f2024\",\"04\\u002f2025\"],\"x\":[\"B1.2\",\"B2.1\",\"B2.2\"],\"y\":[\"Adriano Jeronimo Veloso Do Carmo\",\"Adriano Jeronimo Veloso Do Carmo\",\"Adriano Jeronimo Veloso Do Carmo\"],\"type\":\"scatter\"},{\"hoverinfo\":\"text\",\"marker\":{\"color\":[\"#391e70\",\"#391e70\",\"#adc22f\"],\"size\":8},\"mode\":\"markers\",\"showlegend\":false,\"text\":[\"02\\u002f2024\",\"08\\u002f2024\",\"02\\u002f2025\"],\"x\":[\"B1.2\",\"B2.1\",\"B2.2\"],\"y\":[\"Alisson Saccoman\",\"Alisson Saccoman\",\"Alisson Saccoman\"],\"type\":\"scatter\"},{\"hoverinfo\":\"text\",\"marker\":{\"color\":[\"#391e70\",\"#391e70\",\"#adc22f\"],\"size\":8},\"mode\":\"markers\",\"showlegend\":false,\"text\":[\"03\\u002f2024\",\"09\\u002f2024\",\"03\\u002f2025\"],\"x\":[\"Marco zero\",\"A1.1\",\"A1.2\"],\"y\":[\"Ana Paula Carvalho\",\"Ana Paula Carvalho\",\"Ana Paula Carvalho\"],\"type\":\"scatter\"},{\"hoverinfo\":\"text\",\"marker\":{\"color\":[\"#391e70\",\"#391e70\",\"#adc22f\"],\"size\":8},\"mode\":\"markers\",\"showlegend\":false,\"text\":[\"02\\u002f2024\",\"08\\u002f2024\",\"02\\u002f2025\"],\"x\":[\"Marco zero\",\"A1.1\",\"A1.2\"],\"y\":[\"Andreia de Almeida Bueno\",\"Andreia de Almeida Bueno\",\"Andreia de Almeida Bueno\"],\"type\":\"scatter\"},{\"hoverinfo\":\"text\",\"marker\":{\"color\":[\"#391e70\",\"#391e70\",\"#adc22f\"],\"size\":8},\"mode\":\"markers\",\"showlegend\":false,\"text\":[\"03\\u002f2024\",\"09\\u002f2024\",\"03\\u002f2025\"],\"x\":[\"A2.1\",\"A2.2\",\"B1.1\"],\"y\":[\"Andr\\u00e9 Jorel\",\"Andr\\u00e9 Jorel\",\"Andr\\u00e9 Jorel\"],\"type\":\"scatter\"},{\"hoverinfo\":\"text\",\"marker\":{\"color\":[\"#391e70\",\"#391e70\",\"#adc22f\"],\"size\":8},\"mode\":\"markers\",\"showlegend\":false,\"text\":[\"03\\u002f2024\",\"08\\u002f2024\",\"02\\u002f2025\"],\"x\":[\"B1.1\",\"B1.2\",\"B2.1\"],\"y\":[\"Andr\\u00e9 Teixeira\",\"Andr\\u00e9 Teixeira\",\"Andr\\u00e9 Teixeira\"],\"type\":\"scatter\"},{\"hoverinfo\":\"text\",\"marker\":{\"color\":[\"#391e70\",\"#391e70\",\"#adc22f\"],\"size\":8},\"mode\":\"markers\",\"showlegend\":false,\"text\":[\"04\\u002f2024\",\"10\\u002f2024\",\"04\\u002f2025\"],\"x\":[\"A2.2\",\"B1.1\",\"B1.2\"],\"y\":[\"Ariel Fontanive\",\"Ariel Fontanive\",\"Ariel Fontanive\"],\"type\":\"scatter\"},{\"hoverinfo\":\"text\",\"marker\":{\"color\":[\"#391e70\",\"#adc22f\"],\"size\":8},\"mode\":\"markers\",\"showlegend\":false,\"text\":[\"02\\u002f2024\",\"08\\u002f2024\"],\"x\":[\"C1.2\",\"C1.3\"],\"y\":[\"Atny Miho Saito\",\"Atny Miho Saito\"],\"type\":\"scatter\"},{\"hoverinfo\":\"text\",\"marker\":{\"color\":[\"#391e70\",\"#391e70\",\"#adc22f\"],\"size\":8},\"mode\":\"markers\",\"showlegend\":false,\"text\":[\"04\\u002f2024\",\"10\\u002f2024\",\"04\\u002f2025\"],\"x\":[\"B2+.1\",\"B2+.2\",\"C1.1\"],\"y\":[\"Beatriz Sandrim Ferreira\",\"Beatriz Sandrim Ferreira\",\"Beatriz Sandrim Ferreira\"],\"type\":\"scatter\"},{\"hoverinfo\":\"text\",\"marker\":{\"color\":[\"#391e70\",\"#391e70\",\"#adc22f\"],\"size\":8},\"mode\":\"markers\",\"showlegend\":false,\"text\":[\"03\\u002f2024\",\"09\\u002f2024\",\"03\\u002f2025\"],\"x\":[\"Marco zero\",\"A1.1\",\"A1.2\"],\"y\":[\"Bruno Gon\\u00e7alves\",\"Bruno Gon\\u00e7alves\",\"Bruno Gon\\u00e7alves\"],\"type\":\"scatter\"},{\"hoverinfo\":\"text\",\"marker\":{\"color\":[\"#391e70\",\"#391e70\",\"#adc22f\"],\"size\":8},\"mode\":\"markers\",\"showlegend\":false,\"text\":[\"03\\u002f2024\",\"09\\u002f2024\",\"03\\u002f2025\"],\"x\":[\"A1.2\",\"A2.1\",\"A2.2\"],\"y\":[\"Bruno Santos\",\"Bruno Santos\",\"Bruno Santos\"],\"type\":\"scatter\"},{\"hoverinfo\":\"text\",\"marker\":{\"color\":[\"#391e70\",\"#391e70\",\"#adc22f\"],\"size\":8},\"mode\":\"markers\",\"showlegend\":false,\"text\":[\"03\\u002f2024\",\"09\\u002f2024\",\"03\\u002f2025\"],\"x\":[\"A1.1\",\"A1.2\",\"A2.1\"],\"y\":[\"CARINE DOS SANTOS OLIVEIRA\",\"CARINE DOS SANTOS OLIVEIRA\",\"CARINE DOS SANTOS OLIVEIRA\"],\"type\":\"scatter\"},{\"hoverinfo\":\"text\",\"marker\":{\"color\":[\"#391e70\",\"#391e70\",\"#adc22f\"],\"size\":8},\"mode\":\"markers\",\"showlegend\":false,\"text\":[\"04\\u002f2024\",\"10\\u002f2024\",\"04\\u002f2025\"],\"x\":[\"A2.2\",\"B1.1\",\"B1.2\"],\"y\":[\"Camila Antonia Batista\",\"Camila Antonia Batista\",\"Camila Antonia Batista\"],\"type\":\"scatter\"},{\"hoverinfo\":\"text\",\"marker\":{\"color\":[\"#391e70\",\"#391e70\",\"#adc22f\"],\"size\":8},\"mode\":\"markers\",\"showlegend\":false,\"text\":[\"05\\u002f2024\",\"10\\u002f2024\",\"04\\u002f2025\"],\"x\":[\"A1.2\",\"A2.1\",\"A2.2\"],\"y\":[\"Carina Alves Ferreira\",\"Carina Alves Ferreira\",\"Carina Alves Ferreira\"],\"type\":\"scatter\"},{\"hoverinfo\":\"text\",\"marker\":{\"color\":[\"#391e70\",\"#391e70\",\"#adc22f\"],\"size\":8},\"mode\":\"markers\",\"showlegend\":false,\"text\":[\"03\\u002f2024\",\"09\\u002f2024\",\"03\\u002f2025\"],\"x\":[\"B2.1\",\"B2.2\",\"B2+.1\"],\"y\":[\"Carolina Jordan\",\"Carolina Jordan\",\"Carolina Jordan\"],\"type\":\"scatter\"},{\"hoverinfo\":\"text\",\"marker\":{\"color\":[\"#391e70\",\"#391e70\",\"#adc22f\"],\"size\":8},\"mode\":\"markers\",\"showlegend\":false,\"text\":[\"03\\u002f2024\",\"09\\u002f2024\",\"03\\u002f2025\"],\"x\":[\"Marco zero\",\"A1.1\",\"A1.2\"],\"y\":[\"Cintia Martins de Athayde\",\"Cintia Martins de Athayde\",\"Cintia Martins de Athayde\"],\"type\":\"scatter\"},{\"hoverinfo\":\"text\",\"marker\":{\"color\":[\"#391e70\",\"#391e70\",\"#adc22f\"],\"size\":8},\"mode\":\"markers\",\"showlegend\":false,\"text\":[\"03\\u002f2024\",\"09\\u002f2024\",\"03\\u002f2025\"],\"x\":[\"A1.1\",\"A1.2\",\"A2.1\"],\"y\":[\"Daiane Rangel\",\"Daiane Rangel\",\"Daiane Rangel\"],\"type\":\"scatter\"},{\"hoverinfo\":\"text\",\"marker\":{\"color\":[\"#391e70\",\"#391e70\",\"#adc22f\"],\"size\":8},\"mode\":\"markers\",\"showlegend\":false,\"text\":[\"04\\u002f2024\",\"10\\u002f2024\",\"03\\u002f2025\"],\"x\":[\"A2.1\",\"A2.2\",\"B1.1\"],\"y\":[\"Daniel Moraes Pessoa\",\"Daniel Moraes Pessoa\",\"Daniel Moraes Pessoa\"],\"type\":\"scatter\"},{\"hoverinfo\":\"text\",\"marker\":{\"color\":[\"#391e70\",\"#391e70\",\"#adc22f\"],\"size\":8},\"mode\":\"markers\",\"showlegend\":false,\"text\":[\"03\\u002f2024\",\"09\\u002f2024\",\"03\\u002f2025\"],\"x\":[\"A1.2\",\"A2.1\",\"A2.2\"],\"y\":[\"Diego Lage\",\"Diego Lage\",\"Diego Lage\"],\"type\":\"scatter\"},{\"hoverinfo\":\"text\",\"marker\":{\"color\":[\"#391e70\",\"#391e70\",\"#adc22f\"],\"size\":8},\"mode\":\"markers\",\"showlegend\":false,\"text\":[\"04\\u002f2024\",\"10\\u002f2024\",\"04\\u002f2025\"],\"x\":[\"B1.2\",\"B2.1\",\"B2.2\"],\"y\":[\"Diego Oro\",\"Diego Oro\",\"Diego Oro\"],\"type\":\"scatter\"},{\"hoverinfo\":\"text\",\"marker\":{\"color\":[\"#391e70\",\"#391e70\",\"#adc22f\"],\"size\":8},\"mode\":\"markers\",\"showlegend\":false,\"text\":[\"04\\u002f2024\",\"10\\u002f2024\",\"04\\u002f2025\"],\"x\":[\"A1.2\",\"A2.1\",\"A2.2\"],\"y\":[\"Edi Jean Pereira\",\"Edi Jean Pereira\",\"Edi Jean Pereira\"],\"type\":\"scatter\"},{\"hoverinfo\":\"text\",\"marker\":{\"color\":[\"#391e70\",\"#391e70\",\"#adc22f\"],\"size\":8},\"mode\":\"markers\",\"showlegend\":false,\"text\":[\"03\\u002f2024\",\"09\\u002f2024\",\"03\\u002f2025\"],\"x\":[\"A1.1\",\"A1.2\",\"A2.1\"],\"y\":[\"Emanuel Lima Matos\",\"Emanuel Lima Matos\",\"Emanuel Lima Matos\"],\"type\":\"scatter\"},{\"hoverinfo\":\"text\",\"marker\":{\"color\":[\"#391e70\",\"#391e70\",\"#adc22f\"],\"size\":8},\"mode\":\"markers\",\"showlegend\":false,\"text\":[\"03\\u002f2024\",\"09\\u002f2024\",\"03\\u002f2025\"],\"x\":[\"Marco zero\",\"A1.1\",\"A1.2\"],\"y\":[\"Erica Barreto\",\"Erica Barreto\",\"Erica Barreto\"],\"type\":\"scatter\"},{\"hoverinfo\":\"text\",\"marker\":{\"color\":[\"#391e70\",\"#391e70\",\"#adc22f\"],\"size\":8},\"mode\":\"markers\",\"showlegend\":false,\"text\":[\"03\\u002f2024\",\"09\\u002f2024\",\"03\\u002f2025\"],\"x\":[\"A1.1\",\"A1.2\",\"A2.1\"],\"y\":[\"FABIO JOSE TASCA AGUIAR\",\"FABIO JOSE TASCA AGUIAR\",\"FABIO JOSE TASCA AGUIAR\"],\"type\":\"scatter\"},{\"hoverinfo\":\"text\",\"marker\":{\"color\":[\"#391e70\",\"#391e70\",\"#adc22f\"],\"size\":8},\"mode\":\"markers\",\"showlegend\":false,\"text\":[\"03\\u002f2024\",\"10\\u002f2024\",\"03\\u002f2025\"],\"x\":[\"A2.2\",\"B1.1\",\"B1.2\"],\"y\":[\"Fabiano Silva\",\"Fabiano Silva\",\"Fabiano Silva\"],\"type\":\"scatter\"},{\"hoverinfo\":\"text\",\"marker\":{\"color\":[\"#391e70\",\"#391e70\",\"#adc22f\"],\"size\":8},\"mode\":\"markers\",\"showlegend\":false,\"text\":[\"04\\u002f2024\",\"11\\u002f2024\",\"04\\u002f2025\"],\"x\":[\"A1.2\",\"A2.1\",\"A2.2\"],\"y\":[\"Fabio Antonio Bernardo\",\"Fabio Antonio Bernardo\",\"Fabio Antonio Bernardo\"],\"type\":\"scatter\"},{\"hoverinfo\":\"text\",\"marker\":{\"color\":[\"#391e70\",\"#391e70\",\"#adc22f\"],\"size\":8},\"mode\":\"markers\",\"showlegend\":false,\"text\":[\"03\\u002f2024\",\"09\\u002f2024\",\"03\\u002f2025\"],\"x\":[\"B2.1\",\"B2.2\",\"B2+.1\"],\"y\":[\"Fabio Costa\",\"Fabio Costa\",\"Fabio Costa\"],\"type\":\"scatter\"},{\"hoverinfo\":\"text\",\"marker\":{\"color\":[\"#391e70\",\"#391e70\",\"#adc22f\"],\"size\":8},\"mode\":\"markers\",\"showlegend\":false,\"text\":[\"03\\u002f2024\",\"09\\u002f2024\",\"03\\u002f2025\"],\"x\":[\"A1.2\",\"A2.1\",\"A2.2\"],\"y\":[\"Felipe Rafael\",\"Felipe Rafael\",\"Felipe Rafael\"],\"type\":\"scatter\"},{\"hoverinfo\":\"text\",\"marker\":{\"color\":[\"#391e70\",\"#391e70\",\"#adc22f\"],\"size\":8},\"mode\":\"markers\",\"showlegend\":false,\"text\":[\"03\\u002f2024\",\"09\\u002f2024\",\"03\\u002f2025\"],\"x\":[\"A1.2\",\"A2.1\",\"A2.2\"],\"y\":[\"Fernanda Vieira\",\"Fernanda Vieira\",\"Fernanda Vieira\"],\"type\":\"scatter\"},{\"hoverinfo\":\"text\",\"marker\":{\"color\":[\"#391e70\",\"#391e70\",\"#adc22f\"],\"size\":8},\"mode\":\"markers\",\"showlegend\":false,\"text\":[\"03\\u002f2024\",\"09\\u002f2024\",\"03\\u002f2025\"],\"x\":[\"B1.2\",\"B2.1\",\"B2.2\"],\"y\":[\"Fernando da Silva\",\"Fernando da Silva\",\"Fernando da Silva\"],\"type\":\"scatter\"},{\"hoverinfo\":\"text\",\"marker\":{\"color\":[\"#391e70\",\"#391e70\",\"#adc22f\"],\"size\":8},\"mode\":\"markers\",\"showlegend\":false,\"text\":[\"03\\u002f2024\",\"09\\u002f2024\",\"03\\u002f2025\"],\"x\":[\"B1.1\",\"B1.2\",\"B2.1\"],\"y\":[\"GABRIEL ARAGAO MARTINS DE MOURA\",\"GABRIEL ARAGAO MARTINS DE MOURA\",\"GABRIEL ARAGAO MARTINS DE MOURA\"],\"type\":\"scatter\"},{\"hoverinfo\":\"text\",\"marker\":{\"color\":[\"#391e70\",\"#391e70\",\"#adc22f\"],\"size\":8},\"mode\":\"markers\",\"showlegend\":false,\"text\":[\"03\\u002f2024\",\"09\\u002f2024\",\"03\\u002f2025\"],\"x\":[\"Marco zero\",\"A1.1\",\"A1.2\"],\"y\":[\"Gabriel Marques\",\"Gabriel Marques\",\"Gabriel Marques\"],\"type\":\"scatter\"},{\"hoverinfo\":\"text\",\"marker\":{\"color\":[\"#391e70\",\"#391e70\",\"#adc22f\"],\"size\":8},\"mode\":\"markers\",\"showlegend\":false,\"text\":[\"03\\u002f2024\",\"09\\u002f2024\",\"03\\u002f2025\"],\"x\":[\"Marco zero\",\"A1.1\",\"A1.2\"],\"y\":[\"Gerhard Valkinir Cabreira\",\"Gerhard Valkinir Cabreira\",\"Gerhard Valkinir Cabreira\"],\"type\":\"scatter\"},{\"hoverinfo\":\"text\",\"marker\":{\"color\":[\"#391e70\",\"#391e70\",\"#adc22f\"],\"size\":8},\"mode\":\"markers\",\"showlegend\":false,\"text\":[\"03\\u002f2024\",\"09\\u002f2024\",\"03\\u002f2025\"],\"x\":[\"B1.2\",\"B2.1\",\"B2.2\"],\"y\":[\"Guilherme Romani\",\"Guilherme Romani\",\"Guilherme Romani\"],\"type\":\"scatter\"},{\"hoverinfo\":\"text\",\"marker\":{\"color\":[\"#391e70\",\"#391e70\",\"#adc22f\"],\"size\":8},\"mode\":\"markers\",\"showlegend\":false,\"text\":[\"04\\u002f2024\",\"11\\u002f2024\",\"04\\u002f2025\"],\"x\":[\"B1.2\",\"B2.1\",\"B2.2\"],\"y\":[\"Gustavo Manne\",\"Gustavo Manne\",\"Gustavo Manne\"],\"type\":\"scatter\"},{\"hoverinfo\":\"text\",\"marker\":{\"color\":[\"#391e70\",\"#391e70\",\"#adc22f\"],\"size\":8},\"mode\":\"markers\",\"showlegend\":false,\"text\":[\"04\\u002f2024\",\"10\\u002f2024\",\"04\\u002f2025\"],\"x\":[\"C1.1\",\"C1.2\",\"C1.3\"],\"y\":[\"Gustavo Martins Soares\",\"Gustavo Martins Soares\",\"Gustavo Martins Soares\"],\"type\":\"scatter\"},{\"hoverinfo\":\"text\",\"marker\":{\"color\":[\"#391e70\",\"#391e70\",\"#adc22f\"],\"size\":8},\"mode\":\"markers\",\"showlegend\":false,\"text\":[\"03\\u002f2024\",\"09\\u002f2024\",\"03\\u002f2025\"],\"x\":[\"A1.2\",\"A2.1\",\"A2.2\"],\"y\":[\"Gustavo Neves\",\"Gustavo Neves\",\"Gustavo Neves\"],\"type\":\"scatter\"},{\"hoverinfo\":\"text\",\"marker\":{\"color\":[\"#391e70\",\"#391e70\",\"#adc22f\"],\"size\":8},\"mode\":\"markers\",\"showlegend\":false,\"text\":[\"03\\u002f2024\",\"09\\u002f2024\",\"03\\u002f2025\"],\"x\":[\"Marco zero\",\"A1.1\",\"A1.2\"],\"y\":[\"Helen Branicio\",\"Helen Branicio\",\"Helen Branicio\"],\"type\":\"scatter\"},{\"hoverinfo\":\"text\",\"marker\":{\"color\":[\"#391e70\",\"#391e70\",\"#adc22f\"],\"size\":8},\"mode\":\"markers\",\"showlegend\":false,\"text\":[\"03\\u002f2024\",\"09\\u002f2024\",\"03\\u002f2025\"],\"x\":[\"Marco zero\",\"A1.1\",\"A1.2\"],\"y\":[\"Heronilton Fernandes\",\"Heronilton Fernandes\",\"Heronilton Fernandes\"],\"type\":\"scatter\"},{\"hoverinfo\":\"text\",\"marker\":{\"color\":[\"#391e70\",\"#391e70\",\"#adc22f\"],\"size\":8},\"mode\":\"markers\",\"showlegend\":false,\"text\":[\"04\\u002f2024\",\"10\\u002f2024\",\"04\\u002f2025\"],\"x\":[\"A1.2\",\"A2.1\",\"A2.2\"],\"y\":[\"Hugo Silvio Bernardo\",\"Hugo Silvio Bernardo\",\"Hugo Silvio Bernardo\"],\"type\":\"scatter\"},{\"hoverinfo\":\"text\",\"marker\":{\"color\":[\"#391e70\",\"#391e70\",\"#adc22f\"],\"size\":8},\"mode\":\"markers\",\"showlegend\":false,\"text\":[\"03\\u002f2024\",\"10\\u002f2024\",\"03\\u002f2025\"],\"x\":[\"B2.2\",\"B2+.1\",\"B2+.2\"],\"y\":[\"Hywre Santos Sousa\",\"Hywre Santos Sousa\",\"Hywre Santos Sousa\"],\"type\":\"scatter\"},{\"hoverinfo\":\"text\",\"marker\":{\"color\":[\"#391e70\",\"#391e70\",\"#adc22f\"],\"size\":8},\"mode\":\"markers\",\"showlegend\":false,\"text\":[\"03\\u002f2024\",\"09\\u002f2024\",\"03\\u002f2025\"],\"x\":[\"Marco zero\",\"A1.1\",\"A1.2\"],\"y\":[\"Isabela Caroline Berlato Soares Andrade\",\"Isabela Caroline Berlato Soares Andrade\",\"Isabela Caroline Berlato Soares Andrade\"],\"type\":\"scatter\"},{\"hoverinfo\":\"text\",\"marker\":{\"color\":[\"#391e70\",\"#391e70\",\"#adc22f\"],\"size\":8},\"mode\":\"markers\",\"showlegend\":false,\"text\":[\"04\\u002f2024\",\"10\\u002f2024\",\"04\\u002f2025\"],\"x\":[\"C1.1\",\"C1.2\",\"C1.3\"],\"y\":[\"Ivy Mayara Sanches de Oliveira\",\"Ivy Mayara Sanches de Oliveira\",\"Ivy Mayara Sanches de Oliveira\"],\"type\":\"scatter\"},{\"hoverinfo\":\"text\",\"marker\":{\"color\":[\"#391e70\",\"#391e70\",\"#adc22f\"],\"size\":8},\"mode\":\"markers\",\"showlegend\":false,\"text\":[\"03\\u002f2024\",\"09\\u002f2024\",\"03\\u002f2025\"],\"x\":[\"Marco zero\",\"A1.1\",\"A1.2\"],\"y\":[\"Izabela Caroline Prezotto Armando\",\"Izabela Caroline Prezotto Armando\",\"Izabela Caroline Prezotto Armando\"],\"type\":\"scatter\"},{\"hoverinfo\":\"text\",\"marker\":{\"color\":[\"#391e70\",\"#391e70\",\"#adc22f\"],\"size\":8},\"mode\":\"markers\",\"showlegend\":false,\"text\":[\"03\\u002f2024\",\"09\\u002f2024\",\"03\\u002f2025\"],\"x\":[\"Marco zero\",\"A1.1\",\"A1.2\"],\"y\":[\"JAMESON HIRXLEHOR\",\"JAMESON HIRXLEHOR\",\"JAMESON HIRXLEHOR\"],\"type\":\"scatter\"},{\"hoverinfo\":\"text\",\"marker\":{\"color\":[\"#391e70\",\"#391e70\",\"#adc22f\"],\"size\":8},\"mode\":\"markers\",\"showlegend\":false,\"text\":[\"03\\u002f2024\",\"09\\u002f2024\",\"03\\u002f2025\"],\"x\":[\"A2.2\",\"B1.1\",\"B1.2\"],\"y\":[\"JOSE GUILHERME PEREIRA BRAGA\",\"JOSE GUILHERME PEREIRA BRAGA\",\"JOSE GUILHERME PEREIRA BRAGA\"],\"type\":\"scatter\"},{\"hoverinfo\":\"text\",\"marker\":{\"color\":[\"#391e70\",\"#391e70\",\"#adc22f\"],\"size\":8},\"mode\":\"markers\",\"showlegend\":false,\"text\":[\"03\\u002f2024\",\"09\\u002f2024\",\"03\\u002f2025\"],\"x\":[\"A2.1\",\"A2.2\",\"B1.1\"],\"y\":[\"JOSIAS LOURENCO DA SILVA\",\"JOSIAS LOURENCO DA SILVA\",\"JOSIAS LOURENCO DA SILVA\"],\"type\":\"scatter\"},{\"hoverinfo\":\"text\",\"marker\":{\"color\":[\"#391e70\",\"#391e70\",\"#adc22f\"],\"size\":8},\"mode\":\"markers\",\"showlegend\":false,\"text\":[\"04\\u002f2024\",\"10\\u002f2024\",\"04\\u002f2025\"],\"x\":[\"B2+.1\",\"B2+.2\",\"C1.1\"],\"y\":[\"Janaina Scotton\",\"Janaina Scotton\",\"Janaina Scotton\"],\"type\":\"scatter\"},{\"hoverinfo\":\"text\",\"marker\":{\"color\":[\"#391e70\",\"#391e70\",\"#adc22f\"],\"size\":8},\"mode\":\"markers\",\"showlegend\":false,\"text\":[\"03\\u002f2024\",\"09\\u002f2024\",\"03\\u002f2025\"],\"x\":[\"B2.2\",\"B2+.1\",\"B2+.2\"],\"y\":[\"Jefferson Esquizato De Souza\",\"Jefferson Esquizato De Souza\",\"Jefferson Esquizato De Souza\"],\"type\":\"scatter\"},{\"hoverinfo\":\"text\",\"marker\":{\"color\":[\"#391e70\",\"#391e70\",\"#adc22f\"],\"size\":8},\"mode\":\"markers\",\"showlegend\":false,\"text\":[\"04\\u002f2024\",\"10\\u002f2024\",\"04\\u002f2025\"],\"x\":[\"A2.1\",\"A2.2\",\"B1.1\"],\"y\":[\"Jefferson Freitas Pinto Silva\",\"Jefferson Freitas Pinto Silva\",\"Jefferson Freitas Pinto Silva\"],\"type\":\"scatter\"},{\"hoverinfo\":\"text\",\"marker\":{\"color\":[\"#391e70\",\"#391e70\",\"#adc22f\"],\"size\":8},\"mode\":\"markers\",\"showlegend\":false,\"text\":[\"04\\u002f2024\",\"10\\u002f2024\",\"04\\u002f2025\"],\"x\":[\"B2.2\",\"B2+.1\",\"B2+.2\"],\"y\":[\"Joao Eduardo Souza Oliveira\",\"Joao Eduardo Souza Oliveira\",\"Joao Eduardo Souza Oliveira\"],\"type\":\"scatter\"},{\"hoverinfo\":\"text\",\"marker\":{\"color\":[\"#391e70\",\"#391e70\",\"#adc22f\"],\"size\":8},\"mode\":\"markers\",\"showlegend\":false,\"text\":[\"03\\u002f2024\",\"09\\u002f2024\",\"03\\u002f2025\"],\"x\":[\"A2.1\",\"A2.2\",\"B1.1\"],\"y\":[\"Jonatan Teixeira do Carmo Girata\",\"Jonatan Teixeira do Carmo Girata\",\"Jonatan Teixeira do Carmo Girata\"],\"type\":\"scatter\"},{\"hoverinfo\":\"text\",\"marker\":{\"color\":[\"#391e70\",\"#391e70\",\"#adc22f\"],\"size\":8},\"mode\":\"markers\",\"showlegend\":false,\"text\":[\"03\\u002f2024\",\"09\\u002f2024\",\"03\\u002f2025\"],\"x\":[\"Marco zero\",\"A1.1\",\"A1.2\"],\"y\":[\"Jose Rodrigo Claro\",\"Jose Rodrigo Claro\",\"Jose Rodrigo Claro\"],\"type\":\"scatter\"},{\"hoverinfo\":\"text\",\"marker\":{\"color\":[\"#391e70\",\"#391e70\",\"#adc22f\"],\"size\":8},\"mode\":\"markers\",\"showlegend\":false,\"text\":[\"03\\u002f2024\",\"09\\u002f2024\",\"03\\u002f2025\"],\"x\":[\"B2.1\",\"B2.2\",\"B2+.1\"],\"y\":[\"Jo\\u00e3o Victor Bertolo\",\"Jo\\u00e3o Victor Bertolo\",\"Jo\\u00e3o Victor Bertolo\"],\"type\":\"scatter\"},{\"hoverinfo\":\"text\",\"marker\":{\"color\":[\"#391e70\",\"#adc22f\"],\"size\":8},\"mode\":\"markers\",\"showlegend\":false,\"text\":[\"07\\u002f2024\",\"02\\u002f2024\"],\"x\":[\"B1.1\",\"B2.2\"],\"y\":[\"Karine Silva Madruga\",\"Karine Silva Madruga\"],\"type\":\"scatter\"},{\"hoverinfo\":\"text\",\"marker\":{\"color\":[\"#391e70\",\"#391e70\",\"#adc22f\"],\"size\":8},\"mode\":\"markers\",\"showlegend\":false,\"text\":[\"03\\u002f2024\",\"09\\u002f2024\",\"03\\u002f2025\"],\"x\":[\"Marco zero\",\"A1.1\",\"A1.2\"],\"y\":[\"Larissa Boso\",\"Larissa Boso\",\"Larissa Boso\"],\"type\":\"scatter\"},{\"hoverinfo\":\"text\",\"marker\":{\"color\":[\"#391e70\",\"#391e70\",\"#adc22f\"],\"size\":8},\"mode\":\"markers\",\"showlegend\":false,\"text\":[\"03\\u002f2024\",\"09\\u002f2024\",\"03\\u002f2025\"],\"x\":[\"B1.2\",\"B2.1\",\"B2.2\"],\"y\":[\"Larissa Martins\",\"Larissa Martins\",\"Larissa Martins\"],\"type\":\"scatter\"},{\"hoverinfo\":\"text\",\"marker\":{\"color\":[\"#391e70\",\"#391e70\",\"#adc22f\"],\"size\":8},\"mode\":\"markers\",\"showlegend\":false,\"text\":[\"03\\u002f2024\",\"09\\u002f2024\",\"03\\u002f2025\"],\"x\":[\"A2.1\",\"A2.2\",\"B1.1\"],\"y\":[\"Larissa Nakayama\",\"Larissa Nakayama\",\"Larissa Nakayama\"],\"type\":\"scatter\"},{\"hoverinfo\":\"text\",\"marker\":{\"color\":[\"#391e70\",\"#391e70\",\"#adc22f\"],\"size\":8},\"mode\":\"markers\",\"showlegend\":false,\"text\":[\"03\\u002f2024\",\"09\\u002f2024\",\"03\\u002f2025\"],\"x\":[\"Marco zero\",\"A1.1\",\"A1.2\"],\"y\":[\"Let\\u00edcia Gomez\",\"Let\\u00edcia Gomez\",\"Let\\u00edcia Gomez\"],\"type\":\"scatter\"},{\"hoverinfo\":\"text\",\"marker\":{\"color\":[\"#391e70\",\"#391e70\",\"#adc22f\"],\"size\":8},\"mode\":\"markers\",\"showlegend\":false,\"text\":[\"04\\u002f2024\",\"09\\u002f2024\",\"03\\u002f2025\"],\"x\":[\"Marco zero\",\"A1.1\",\"A1.2\"],\"y\":[\"Lualis Emiliano\",\"Lualis Emiliano\",\"Lualis Emiliano\"],\"type\":\"scatter\"},{\"hoverinfo\":\"text\",\"marker\":{\"color\":[\"#391e70\",\"#391e70\",\"#adc22f\"],\"size\":8},\"mode\":\"markers\",\"showlegend\":false,\"text\":[\"03\\u002f2024\",\"09\\u002f2024\",\"03\\u002f2025\"],\"x\":[\"Marco zero\",\"A1.1\",\"A1.2\"],\"y\":[\"Luciano Delmar Dos Santos Almeida\",\"Luciano Delmar Dos Santos Almeida\",\"Luciano Delmar Dos Santos Almeida\"],\"type\":\"scatter\"},{\"hoverinfo\":\"text\",\"marker\":{\"color\":[\"#391e70\",\"#391e70\",\"#adc22f\"],\"size\":8},\"mode\":\"markers\",\"showlegend\":false,\"text\":[\"04\\u002f2024\",\"10\\u002f2024\",\"04\\u002f2025\"],\"x\":[\"A1.2\",\"A2.1\",\"A2.2\"],\"y\":[\"Luis Felipe Da Silva Reis\",\"Luis Felipe Da Silva Reis\",\"Luis Felipe Da Silva Reis\"],\"type\":\"scatter\"},{\"hoverinfo\":\"text\",\"marker\":{\"color\":[\"#391e70\",\"#391e70\",\"#adc22f\"],\"size\":8},\"mode\":\"markers\",\"showlegend\":false,\"text\":[\"04\\u002f2024\",\"10\\u002f2024\",\"04\\u002f2025\"],\"x\":[\"B2.2\",\"B2+.1\",\"B2+.2\"],\"y\":[\"Luiz Guilherme Alves Leonel\",\"Luiz Guilherme Alves Leonel\",\"Luiz Guilherme Alves Leonel\"],\"type\":\"scatter\"},{\"hoverinfo\":\"text\",\"marker\":{\"color\":[\"#391e70\",\"#391e70\",\"#adc22f\"],\"size\":8},\"mode\":\"markers\",\"showlegend\":false,\"text\":[\"03\\u002f2024\",\"09\\u002f2024\",\"03\\u002f2025\"],\"x\":[\"A2.1\",\"A2.2\",\"B1.1\"],\"y\":[\"Luiz Tosta\",\"Luiz Tosta\",\"Luiz Tosta\"],\"type\":\"scatter\"},{\"hoverinfo\":\"text\",\"marker\":{\"color\":[\"#391e70\",\"#391e70\",\"#adc22f\"],\"size\":8},\"mode\":\"markers\",\"showlegend\":false,\"text\":[\"03\\u002f2024\",\"09\\u002f2024\",\"03\\u002f2025\"],\"x\":[\"A2.2\",\"B1.1\",\"B1.2\"],\"y\":[\"MARIANA CRISTINA GONSALES NOGUEIRA\",\"MARIANA CRISTINA GONSALES NOGUEIRA\",\"MARIANA CRISTINA GONSALES NOGUEIRA\"],\"type\":\"scatter\"},{\"hoverinfo\":\"text\",\"marker\":{\"color\":[\"#391e70\",\"#391e70\",\"#adc22f\"],\"size\":8},\"mode\":\"markers\",\"showlegend\":false,\"text\":[\"03\\u002f2024\",\"09\\u002f2024\",\"03\\u002f2025\"],\"x\":[\"B2+.1\",\"B2+.2\",\"C1.1\"],\"y\":[\"MARINA FREITAS NORKUS\",\"MARINA FREITAS NORKUS\",\"MARINA FREITAS NORKUS\"],\"type\":\"scatter\"},{\"hoverinfo\":\"text\",\"marker\":{\"color\":[\"#391e70\",\"#391e70\",\"#adc22f\"],\"size\":8},\"mode\":\"markers\",\"showlegend\":false,\"text\":[\"03\\u002f2024\",\"09\\u002f2024\",\"03\\u002f2025\"],\"x\":[\"Marco zero\",\"A1.1\",\"A1.2\"],\"y\":[\"MIRIELLY CRISTINA GIL DA SILVA NUNES\",\"MIRIELLY CRISTINA GIL DA SILVA NUNES\",\"MIRIELLY CRISTINA GIL DA SILVA NUNES\"],\"type\":\"scatter\"},{\"hoverinfo\":\"text\",\"marker\":{\"color\":[\"#391e70\",\"#391e70\",\"#adc22f\"],\"size\":8},\"mode\":\"markers\",\"showlegend\":false,\"text\":[\"03\\u002f2024\",\"09\\u002f2024\",\"03\\u002f2025\"],\"x\":[\"A2.1\",\"A2.2\",\"B1.1\"],\"y\":[\"Marcela Vanni\",\"Marcela Vanni\",\"Marcela Vanni\"],\"type\":\"scatter\"},{\"hoverinfo\":\"text\",\"marker\":{\"color\":[\"#391e70\",\"#391e70\",\"#adc22f\"],\"size\":8},\"mode\":\"markers\",\"showlegend\":false,\"text\":[\"03\\u002f2024\",\"09\\u002f2024\",\"03\\u002f2025\"],\"x\":[\"Marco zero\",\"A1.1\",\"A1.2\"],\"y\":[\"Marco Goes\",\"Marco Goes\",\"Marco Goes\"],\"type\":\"scatter\"},{\"hoverinfo\":\"text\",\"marker\":{\"color\":[\"#391e70\",\"#391e70\",\"#adc22f\"],\"size\":8},\"mode\":\"markers\",\"showlegend\":false,\"text\":[\"04\\u002f2024\",\"10\\u002f2024\",\"04\\u002f2025\"],\"x\":[\"B1.2\",\"B2.1\",\"B2.2\"],\"y\":[\"Mariana Brantes Vasques\",\"Mariana Brantes Vasques\",\"Mariana Brantes Vasques\"],\"type\":\"scatter\"},{\"hoverinfo\":\"text\",\"marker\":{\"color\":[\"#391e70\",\"#391e70\",\"#adc22f\"],\"size\":8},\"mode\":\"markers\",\"showlegend\":false,\"text\":[\"03\\u002f2024\",\"09\\u002f2024\",\"03\\u002f2025\"],\"x\":[\"Marco zero\",\"A1.1\",\"A1.2\"],\"y\":[\"Marieli Ruza\",\"Marieli Ruza\",\"Marieli Ruza\"],\"type\":\"scatter\"},{\"hoverinfo\":\"text\",\"marker\":{\"color\":[\"#391e70\",\"#391e70\",\"#adc22f\"],\"size\":8},\"mode\":\"markers\",\"showlegend\":false,\"text\":[\"03\\u002f2024\",\"09\\u002f2024\",\"03\\u002f2025\"],\"x\":[\"Marco zero\",\"A1.1\",\"A1.2\"],\"y\":[\"Milton Luiz Favero Junior\",\"Milton Luiz Favero Junior\",\"Milton Luiz Favero Junior\"],\"type\":\"scatter\"},{\"hoverinfo\":\"text\",\"marker\":{\"color\":[\"#391e70\",\"#391e70\",\"#adc22f\"],\"size\":8},\"mode\":\"markers\",\"showlegend\":false,\"text\":[\"03\\u002f2024\",\"09\\u002f2024\",\"03\\u002f2025\"],\"x\":[\"B1.2\",\"B2.1\",\"B2.2\"],\"y\":[\"Nat\\u00e1lia Venanzoni\",\"Nat\\u00e1lia Venanzoni\",\"Nat\\u00e1lia Venanzoni\"],\"type\":\"scatter\"},{\"hoverinfo\":\"text\",\"marker\":{\"color\":[\"#391e70\",\"#391e70\",\"#adc22f\"],\"size\":8},\"mode\":\"markers\",\"showlegend\":false,\"text\":[\"03\\u002f2024\",\"09\\u002f2024\",\"03\\u002f2025\"],\"x\":[\"B2.2\",\"B2+.1\",\"B2+.2\"],\"y\":[\"Nayara Sene\",\"Nayara Sene\",\"Nayara Sene\"],\"type\":\"scatter\"},{\"hoverinfo\":\"text\",\"marker\":{\"color\":[\"#391e70\",\"#391e70\",\"#adc22f\"],\"size\":8},\"mode\":\"markers\",\"showlegend\":false,\"text\":[\"03\\u002f2024\",\"09\\u002f2024\",\"03\\u002f2025\"],\"x\":[\"A1.1\",\"A1.2\",\"A2.1\"],\"y\":[\"PATRICIA MEDUNECKAS BRAZ\",\"PATRICIA MEDUNECKAS BRAZ\",\"PATRICIA MEDUNECKAS BRAZ\"],\"type\":\"scatter\"},{\"hoverinfo\":\"text\",\"marker\":{\"color\":[\"#391e70\",\"#391e70\",\"#adc22f\"],\"size\":8},\"mode\":\"markers\",\"showlegend\":false,\"text\":[\"04\\u002f2024\",\"10\\u002f2024\",\"04\\u002f2025\"],\"x\":[\"A1.2\",\"A2.1\",\"A2.2\"],\"y\":[\"Paula Cristina Nunes Pereira\",\"Paula Cristina Nunes Pereira\",\"Paula Cristina Nunes Pereira\"],\"type\":\"scatter\"},{\"hoverinfo\":\"text\",\"marker\":{\"color\":[\"#391e70\",\"#391e70\",\"#adc22f\"],\"size\":8},\"mode\":\"markers\",\"showlegend\":false,\"text\":[\"03\\u002f2024\",\"09\\u002f2024\",\"03\\u002f2025\"],\"x\":[\"B1.2\",\"B2.1\",\"B2.2\"],\"y\":[\"Priscilla Ribeiro Alves\",\"Priscilla Ribeiro Alves\",\"Priscilla Ribeiro Alves\"],\"type\":\"scatter\"},{\"hoverinfo\":\"text\",\"marker\":{\"color\":[\"#391e70\",\"#391e70\",\"#adc22f\"],\"size\":8},\"mode\":\"markers\",\"showlegend\":false,\"text\":[\"03\\u002f2024\",\"09\\u002f2024\",\"03\\u002f2025\"],\"x\":[\"A1.1\",\"A1.2\",\"A2.1\"],\"y\":[\"Rafael Moraes Pessoa\",\"Rafael Moraes Pessoa\",\"Rafael Moraes Pessoa\"],\"type\":\"scatter\"},{\"hoverinfo\":\"text\",\"marker\":{\"color\":[\"#391e70\",\"#391e70\",\"#adc22f\"],\"size\":8},\"mode\":\"markers\",\"showlegend\":false,\"text\":[\"03\\u002f2024\",\"09\\u002f2024\",\"03\\u002f2025\"],\"x\":[\"Marco zero\",\"A1.1\",\"A1.2\"],\"y\":[\"Rafaela Maganhott\",\"Rafaela Maganhott\",\"Rafaela Maganhott\"],\"type\":\"scatter\"},{\"hoverinfo\":\"text\",\"marker\":{\"color\":[\"#391e70\",\"#391e70\",\"#adc22f\"],\"size\":8},\"mode\":\"markers\",\"showlegend\":false,\"text\":[\"04\\u002f2024\",\"10\\u002f2024\",\"04\\u002f2025\"],\"x\":[\"A2.2\",\"B1.1\",\"B1.2\"],\"y\":[\"Revalci Figueira Da Costa\",\"Revalci Figueira Da Costa\",\"Revalci Figueira Da Costa\"],\"type\":\"scatter\"},{\"hoverinfo\":\"text\",\"marker\":{\"color\":[\"#391e70\",\"#391e70\",\"#adc22f\"],\"size\":8},\"mode\":\"markers\",\"showlegend\":false,\"text\":[\"04\\u002f2024\",\"10\\u002f2024\",\"04\\u002f2025\"],\"x\":[\"B2+.2\",\"C1.1\",\"C1.2\"],\"y\":[\"Rodrigo Fantini\",\"Rodrigo Fantini\",\"Rodrigo Fantini\"],\"type\":\"scatter\"},{\"hoverinfo\":\"text\",\"marker\":{\"color\":[\"#391e70\",\"#391e70\",\"#adc22f\"],\"size\":8},\"mode\":\"markers\",\"showlegend\":false,\"text\":[\"04\\u002f2024\",\"10\\u002f2024\",\"04\\u002f2025\"],\"x\":[\"A2.1\",\"A2.2\",\"B1.1\"],\"y\":[\"Rodrigo Laine Barbosa\",\"Rodrigo Laine Barbosa\",\"Rodrigo Laine Barbosa\"],\"type\":\"scatter\"},{\"hoverinfo\":\"text\",\"marker\":{\"color\":[\"#391e70\",\"#391e70\",\"#adc22f\"],\"size\":8},\"mode\":\"markers\",\"showlegend\":false,\"text\":[\"03\\u002f2024\",\"09\\u002f2024\",\"03\\u002f2025\"],\"x\":[\"A1.2\",\"A2.1\",\"A2.2\"],\"y\":[\"Suzane Fidelis\",\"Suzane Fidelis\",\"Suzane Fidelis\"],\"type\":\"scatter\"},{\"hoverinfo\":\"text\",\"marker\":{\"color\":[\"#391e70\",\"#391e70\",\"#adc22f\"],\"size\":8},\"mode\":\"markers\",\"showlegend\":false,\"text\":[\"03\\u002f2024\",\"09\\u002f2024\",\"03\\u002f2025\"],\"x\":[\"A1.2\",\"A2.1\",\"A2.2\"],\"y\":[\"THAIS ALVES DA GRACA\",\"THAIS ALVES DA GRACA\",\"THAIS ALVES DA GRACA\"],\"type\":\"scatter\"},{\"hoverinfo\":\"text\",\"marker\":{\"color\":[\"#391e70\",\"#391e70\",\"#adc22f\"],\"size\":8},\"mode\":\"markers\",\"showlegend\":false,\"text\":[\"04\\u002f2024\",\"10\\u002f2024\",\"04\\u002f2025\"],\"x\":[\"B2.1\",\"B2.2\",\"B2+.1\"],\"y\":[\"Taina Curralo Scarano\",\"Taina Curralo Scarano\",\"Taina Curralo Scarano\"],\"type\":\"scatter\"},{\"hoverinfo\":\"text\",\"marker\":{\"color\":[\"#391e70\",\"#391e70\",\"#adc22f\"],\"size\":8},\"mode\":\"markers\",\"showlegend\":false,\"text\":[\"01\\u002f2024\",\"07\\u002f2024\",\"01\\u002f2025\"],\"x\":[\"A1.1\",\"A1.2\",\"A2.1\"],\"y\":[\"Tatiane Regina Zafani dos Santos\",\"Tatiane Regina Zafani dos Santos\",\"Tatiane Regina Zafani dos Santos\"],\"type\":\"scatter\"},{\"hoverinfo\":\"text\",\"marker\":{\"color\":[\"#391e70\",\"#391e70\",\"#adc22f\"],\"size\":8},\"mode\":\"markers\",\"showlegend\":false,\"text\":[\"04\\u002f2024\",\"11\\u002f2024\",\"04\\u002f2025\"],\"x\":[\"B2.1\",\"B2.2\",\"B2+.1\"],\"y\":[\"Thiago Luiz Pasqualinoto\",\"Thiago Luiz Pasqualinoto\",\"Thiago Luiz Pasqualinoto\"],\"type\":\"scatter\"},{\"hoverinfo\":\"text\",\"marker\":{\"color\":[\"#391e70\",\"#391e70\",\"#adc22f\"],\"size\":8},\"mode\":\"markers\",\"showlegend\":false,\"text\":[\"03\\u002f2024\",\"10\\u002f2024\",\"03\\u002f2025\"],\"x\":[\"Marco zero\",\"A1.1\",\"A1.2\"],\"y\":[\"Ulysses Antonio da Silva Neto\",\"Ulysses Antonio da Silva Neto\",\"Ulysses Antonio da Silva Neto\"],\"type\":\"scatter\"},{\"hoverinfo\":\"text\",\"marker\":{\"color\":[\"#391e70\",\"#391e70\",\"#adc22f\"],\"size\":8},\"mode\":\"markers\",\"showlegend\":false,\"text\":[\"03\\u002f2024\",\"09\\u002f2024\",\"03\\u002f2025\"],\"x\":[\"B2.1\",\"B2.2\",\"B2+.1\"],\"y\":[\"VANESSA DAL BEN CONEGLIAN\",\"VANESSA DAL BEN CONEGLIAN\",\"VANESSA DAL BEN CONEGLIAN\"],\"type\":\"scatter\"},{\"hoverinfo\":\"text\",\"marker\":{\"color\":[\"#391e70\",\"#391e70\",\"#adc22f\"],\"size\":8},\"mode\":\"markers\",\"showlegend\":false,\"text\":[\"03\\u002f2024\",\"08\\u002f2024\",\"02\\u002f2025\"],\"x\":[\"A2.1\",\"A2.2\",\"B1.1\"],\"y\":[\"Vinicius Duque\",\"Vinicius Duque\",\"Vinicius Duque\"],\"type\":\"scatter\"},{\"hoverinfo\":\"text\",\"marker\":{\"color\":[\"#391e70\",\"#391e70\",\"#adc22f\"],\"size\":8},\"mode\":\"markers\",\"showlegend\":false,\"text\":[\"04\\u002f2024\",\"10\\u002f2024\",\"04\\u002f2025\"],\"x\":[\"B2+.1\",\"B2+.2\",\"C1.1\"],\"y\":[\"Vitor Pinheiro Afonso\",\"Vitor Pinheiro Afonso\",\"Vitor Pinheiro Afonso\"],\"type\":\"scatter\"},{\"hoverinfo\":\"text\",\"marker\":{\"color\":[\"#391e70\",\"#391e70\",\"#adc22f\"],\"size\":8},\"mode\":\"markers\",\"showlegend\":false,\"text\":[\"02\\u002f2024\",\"08\\u002f2024\",\"02\\u002f2025\"],\"x\":[\"B1.2\",\"B2.1\",\"B2.2\"],\"y\":[\"Viviane Lima De Oliveira Cavalheiro\",\"Viviane Lima De Oliveira Cavalheiro\",\"Viviane Lima De Oliveira Cavalheiro\"],\"type\":\"scatter\"},{\"hoverinfo\":\"text\",\"marker\":{\"color\":[\"#391e70\",\"#391e70\",\"#adc22f\"],\"size\":8},\"mode\":\"markers\",\"showlegend\":false,\"text\":[\"03\\u002f2024\",\"09\\u002f2024\",\"03\\u002f2025\"],\"x\":[\"Marco zero\",\"A1.1\",\"A1.2\"],\"y\":[\"WELLINGTON DOS SANTOS SILVA\",\"WELLINGTON DOS SANTOS SILVA\",\"WELLINGTON DOS SANTOS SILVA\"],\"type\":\"scatter\"}],                        {\"template\":{\"data\":{\"barpolar\":[{\"marker\":{\"line\":{\"color\":\"white\",\"width\":0.5},\"pattern\":{\"fillmode\":\"overlay\",\"size\":10,\"solidity\":0.2}},\"type\":\"barpolar\"}],\"bar\":[{\"error_x\":{\"color\":\"#2a3f5f\"},\"error_y\":{\"color\":\"#2a3f5f\"},\"marker\":{\"line\":{\"color\":\"white\",\"width\":0.5},\"pattern\":{\"fillmode\":\"overlay\",\"size\":10,\"solidity\":0.2}},\"type\":\"bar\"}],\"carpet\":[{\"aaxis\":{\"endlinecolor\":\"#2a3f5f\",\"gridcolor\":\"#C8D4E3\",\"linecolor\":\"#C8D4E3\",\"minorgridcolor\":\"#C8D4E3\",\"startlinecolor\":\"#2a3f5f\"},\"baxis\":{\"endlinecolor\":\"#2a3f5f\",\"gridcolor\":\"#C8D4E3\",\"linecolor\":\"#C8D4E3\",\"minorgridcolor\":\"#C8D4E3\",\"startlinecolor\":\"#2a3f5f\"},\"type\":\"carpet\"}],\"choropleth\":[{\"colorbar\":{\"outlinewidth\":0,\"ticks\":\"\"},\"type\":\"choropleth\"}],\"contourcarpet\":[{\"colorbar\":{\"outlinewidth\":0,\"ticks\":\"\"},\"type\":\"contourcarpet\"}],\"contour\":[{\"colorbar\":{\"outlinewidth\":0,\"ticks\":\"\"},\"colorscale\":[[0.0,\"#0d0887\"],[0.1111111111111111,\"#46039f\"],[0.2222222222222222,\"#7201a8\"],[0.3333333333333333,\"#9c179e\"],[0.4444444444444444,\"#bd3786\"],[0.5555555555555556,\"#d8576b\"],[0.6666666666666666,\"#ed7953\"],[0.7777777777777778,\"#fb9f3a\"],[0.8888888888888888,\"#fdca26\"],[1.0,\"#f0f921\"]],\"type\":\"contour\"}],\"heatmapgl\":[{\"colorbar\":{\"outlinewidth\":0,\"ticks\":\"\"},\"colorscale\":[[0.0,\"#0d0887\"],[0.1111111111111111,\"#46039f\"],[0.2222222222222222,\"#7201a8\"],[0.3333333333333333,\"#9c179e\"],[0.4444444444444444,\"#bd3786\"],[0.5555555555555556,\"#d8576b\"],[0.6666666666666666,\"#ed7953\"],[0.7777777777777778,\"#fb9f3a\"],[0.8888888888888888,\"#fdca26\"],[1.0,\"#f0f921\"]],\"type\":\"heatmapgl\"}],\"heatmap\":[{\"colorbar\":{\"outlinewidth\":0,\"ticks\":\"\"},\"colorscale\":[[0.0,\"#0d0887\"],[0.1111111111111111,\"#46039f\"],[0.2222222222222222,\"#7201a8\"],[0.3333333333333333,\"#9c179e\"],[0.4444444444444444,\"#bd3786\"],[0.5555555555555556,\"#d8576b\"],[0.6666666666666666,\"#ed7953\"],[0.7777777777777778,\"#fb9f3a\"],[0.8888888888888888,\"#fdca26\"],[1.0,\"#f0f921\"]],\"type\":\"heatmap\"}],\"histogram2dcontour\":[{\"colorbar\":{\"outlinewidth\":0,\"ticks\":\"\"},\"colorscale\":[[0.0,\"#0d0887\"],[0.1111111111111111,\"#46039f\"],[0.2222222222222222,\"#7201a8\"],[0.3333333333333333,\"#9c179e\"],[0.4444444444444444,\"#bd3786\"],[0.5555555555555556,\"#d8576b\"],[0.6666666666666666,\"#ed7953\"],[0.7777777777777778,\"#fb9f3a\"],[0.8888888888888888,\"#fdca26\"],[1.0,\"#f0f921\"]],\"type\":\"histogram2dcontour\"}],\"histogram2d\":[{\"colorbar\":{\"outlinewidth\":0,\"ticks\":\"\"},\"colorscale\":[[0.0,\"#0d0887\"],[0.1111111111111111,\"#46039f\"],[0.2222222222222222,\"#7201a8\"],[0.3333333333333333,\"#9c179e\"],[0.4444444444444444,\"#bd3786\"],[0.5555555555555556,\"#d8576b\"],[0.6666666666666666,\"#ed7953\"],[0.7777777777777778,\"#fb9f3a\"],[0.8888888888888888,\"#fdca26\"],[1.0,\"#f0f921\"]],\"type\":\"histogram2d\"}],\"histogram\":[{\"marker\":{\"pattern\":{\"fillmode\":\"overlay\",\"size\":10,\"solidity\":0.2}},\"type\":\"histogram\"}],\"mesh3d\":[{\"colorbar\":{\"outlinewidth\":0,\"ticks\":\"\"},\"type\":\"mesh3d\"}],\"parcoords\":[{\"line\":{\"colorbar\":{\"outlinewidth\":0,\"ticks\":\"\"}},\"type\":\"parcoords\"}],\"pie\":[{\"automargin\":true,\"type\":\"pie\"}],\"scatter3d\":[{\"line\":{\"colorbar\":{\"outlinewidth\":0,\"ticks\":\"\"}},\"marker\":{\"colorbar\":{\"outlinewidth\":0,\"ticks\":\"\"}},\"type\":\"scatter3d\"}],\"scattercarpet\":[{\"marker\":{\"colorbar\":{\"outlinewidth\":0,\"ticks\":\"\"}},\"type\":\"scattercarpet\"}],\"scattergeo\":[{\"marker\":{\"colorbar\":{\"outlinewidth\":0,\"ticks\":\"\"}},\"type\":\"scattergeo\"}],\"scattergl\":[{\"marker\":{\"colorbar\":{\"outlinewidth\":0,\"ticks\":\"\"}},\"type\":\"scattergl\"}],\"scattermapbox\":[{\"marker\":{\"colorbar\":{\"outlinewidth\":0,\"ticks\":\"\"}},\"type\":\"scattermapbox\"}],\"scatterpolargl\":[{\"marker\":{\"colorbar\":{\"outlinewidth\":0,\"ticks\":\"\"}},\"type\":\"scatterpolargl\"}],\"scatterpolar\":[{\"marker\":{\"colorbar\":{\"outlinewidth\":0,\"ticks\":\"\"}},\"type\":\"scatterpolar\"}],\"scatter\":[{\"fillpattern\":{\"fillmode\":\"overlay\",\"size\":10,\"solidity\":0.2},\"type\":\"scatter\"}],\"scatterternary\":[{\"marker\":{\"colorbar\":{\"outlinewidth\":0,\"ticks\":\"\"}},\"type\":\"scatterternary\"}],\"surface\":[{\"colorbar\":{\"outlinewidth\":0,\"ticks\":\"\"},\"colorscale\":[[0.0,\"#0d0887\"],[0.1111111111111111,\"#46039f\"],[0.2222222222222222,\"#7201a8\"],[0.3333333333333333,\"#9c179e\"],[0.4444444444444444,\"#bd3786\"],[0.5555555555555556,\"#d8576b\"],[0.6666666666666666,\"#ed7953\"],[0.7777777777777778,\"#fb9f3a\"],[0.8888888888888888,\"#fdca26\"],[1.0,\"#f0f921\"]],\"type\":\"surface\"}],\"table\":[{\"cells\":{\"fill\":{\"color\":\"#EBF0F8\"},\"line\":{\"color\":\"white\"}},\"header\":{\"fill\":{\"color\":\"#C8D4E3\"},\"line\":{\"color\":\"white\"}},\"type\":\"table\"}]},\"layout\":{\"annotationdefaults\":{\"arrowcolor\":\"#2a3f5f\",\"arrowhead\":0,\"arrowwidth\":1},\"autotypenumbers\":\"strict\",\"coloraxis\":{\"colorbar\":{\"outlinewidth\":0,\"ticks\":\"\"}},\"colorscale\":{\"diverging\":[[0,\"#8e0152\"],[0.1,\"#c51b7d\"],[0.2,\"#de77ae\"],[0.3,\"#f1b6da\"],[0.4,\"#fde0ef\"],[0.5,\"#f7f7f7\"],[0.6,\"#e6f5d0\"],[0.7,\"#b8e186\"],[0.8,\"#7fbc41\"],[0.9,\"#4d9221\"],[1,\"#276419\"]],\"sequential\":[[0.0,\"#0d0887\"],[0.1111111111111111,\"#46039f\"],[0.2222222222222222,\"#7201a8\"],[0.3333333333333333,\"#9c179e\"],[0.4444444444444444,\"#bd3786\"],[0.5555555555555556,\"#d8576b\"],[0.6666666666666666,\"#ed7953\"],[0.7777777777777778,\"#fb9f3a\"],[0.8888888888888888,\"#fdca26\"],[1.0,\"#f0f921\"]],\"sequentialminus\":[[0.0,\"#0d0887\"],[0.1111111111111111,\"#46039f\"],[0.2222222222222222,\"#7201a8\"],[0.3333333333333333,\"#9c179e\"],[0.4444444444444444,\"#bd3786\"],[0.5555555555555556,\"#d8576b\"],[0.6666666666666666,\"#ed7953\"],[0.7777777777777778,\"#fb9f3a\"],[0.8888888888888888,\"#fdca26\"],[1.0,\"#f0f921\"]]},\"colorway\":[\"#636efa\",\"#EF553B\",\"#00cc96\",\"#ab63fa\",\"#FFA15A\",\"#19d3f3\",\"#FF6692\",\"#B6E880\",\"#FF97FF\",\"#FECB52\"],\"font\":{\"color\":\"#2a3f5f\"},\"geo\":{\"bgcolor\":\"white\",\"lakecolor\":\"white\",\"landcolor\":\"white\",\"showlakes\":true,\"showland\":true,\"subunitcolor\":\"#C8D4E3\"},\"hoverlabel\":{\"align\":\"left\"},\"hovermode\":\"closest\",\"mapbox\":{\"style\":\"light\"},\"paper_bgcolor\":\"white\",\"plot_bgcolor\":\"white\",\"polar\":{\"angularaxis\":{\"gridcolor\":\"#EBF0F8\",\"linecolor\":\"#EBF0F8\",\"ticks\":\"\"},\"bgcolor\":\"white\",\"radialaxis\":{\"gridcolor\":\"#EBF0F8\",\"linecolor\":\"#EBF0F8\",\"ticks\":\"\"}},\"scene\":{\"xaxis\":{\"backgroundcolor\":\"white\",\"gridcolor\":\"#DFE8F3\",\"gridwidth\":2,\"linecolor\":\"#EBF0F8\",\"showbackground\":true,\"ticks\":\"\",\"zerolinecolor\":\"#EBF0F8\"},\"yaxis\":{\"backgroundcolor\":\"white\",\"gridcolor\":\"#DFE8F3\",\"gridwidth\":2,\"linecolor\":\"#EBF0F8\",\"showbackground\":true,\"ticks\":\"\",\"zerolinecolor\":\"#EBF0F8\"},\"zaxis\":{\"backgroundcolor\":\"white\",\"gridcolor\":\"#DFE8F3\",\"gridwidth\":2,\"linecolor\":\"#EBF0F8\",\"showbackground\":true,\"ticks\":\"\",\"zerolinecolor\":\"#EBF0F8\"}},\"shapedefaults\":{\"line\":{\"color\":\"#2a3f5f\"}},\"ternary\":{\"aaxis\":{\"gridcolor\":\"#DFE8F3\",\"linecolor\":\"#A2B1C6\",\"ticks\":\"\"},\"baxis\":{\"gridcolor\":\"#DFE8F3\",\"linecolor\":\"#A2B1C6\",\"ticks\":\"\"},\"bgcolor\":\"white\",\"caxis\":{\"gridcolor\":\"#DFE8F3\",\"linecolor\":\"#A2B1C6\",\"ticks\":\"\"}},\"title\":{\"x\":0.05},\"xaxis\":{\"automargin\":true,\"gridcolor\":\"#EBF0F8\",\"linecolor\":\"#EBF0F8\",\"ticks\":\"\",\"title\":{\"standoff\":15},\"zerolinecolor\":\"#EBF0F8\",\"zerolinewidth\":2},\"yaxis\":{\"automargin\":true,\"gridcolor\":\"#EBF0F8\",\"linecolor\":\"#EBF0F8\",\"ticks\":\"\",\"title\":{\"standoff\":15},\"zerolinecolor\":\"#EBF0F8\",\"zerolinewidth\":2}}},\"xaxis\":{\"title\":{\"text\":\"N\\u00edvel CEFR\"},\"showgrid\":true,\"fixedrange\":false,\"type\":\"category\",\"categoryorder\":\"array\",\"categoryarray\":[\"Marco zero\",\"A1.1\",\"A1.2\",\"A2.1\",\"A2.2\",\"B1.1\",\"B1.2\",\"B2.1\",\"B2.2\",\"B2+.1\",\"B2+.2\",\"C1.1\",\"C1.2\",\"C1.3\"],\"range\":[\"Marco zero\",\"C1.3\"],\"side\":\"top\"},\"yaxis\":{\"title\":{\"text\":\"Membros da Equipe\"},\"showgrid\":false,\"automargin\":true,\"autorange\":\"reversed\",\"fixedrange\":false,\"type\":\"category\",\"categoryorder\":\"array\",\"categoryarray\":[\"ADRIANO BEZERRA DOS SANTOS\",\"ANA MARIA TOMAZ UVINHA\",\"ANDERSON RODRIGO DE OLIVEIRA\",\"Adriano Jeronimo Veloso Do Carmo\",\"Alisson Saccoman\",\"Ana Paula Carvalho\",\"Andreia de Almeida Bueno\",\"Andr\\u00e9 Jorel\",\"Andr\\u00e9 Teixeira\",\"Ariel Fontanive\",\"Atny Miho Saito\",\"Beatriz Sandrim Ferreira\",\"Bruno Gon\\u00e7alves\",\"Bruno Santos\",\"CARINE DOS SANTOS OLIVEIRA\",\"Camila Antonia Batista\",\"Carina Alves Ferreira\",\"Carolina Jordan\",\"Cintia Martins de Athayde\",\"Daiane Rangel\",\"Daniel Moraes Pessoa\",\"Diego Lage\",\"Diego Oro\",\"Edi Jean Pereira\",\"Emanuel Lima Matos\",\"Erica Barreto\",\"FABIO JOSE TASCA AGUIAR\",\"Fabiano Silva\",\"Fabio Antonio Bernardo\",\"Fabio Costa\",\"Felipe Rafael\",\"Fernanda Vieira\",\"Fernando da Silva\",\"GABRIEL ARAGAO MARTINS DE MOURA\",\"Gabriel Marques\",\"Gerhard Valkinir Cabreira\",\"Guilherme Romani\",\"Gustavo Manne\",\"Gustavo Martins Soares\",\"Gustavo Neves\",\"Helen Branicio\",\"Heronilton Fernandes\",\"Hugo Silvio Bernardo\",\"Hywre Santos Sousa\",\"Isabela Caroline Berlato Soares Andrade\",\"Ivy Mayara Sanches de Oliveira\",\"Izabela Caroline Prezotto Armando\",\"JAMESON HIRXLEHOR\",\"JOSE GUILHERME PEREIRA BRAGA\",\"JOSIAS LOURENCO DA SILVA\",\"Janaina Scotton\",\"Jefferson Esquizato De Souza\",\"Jefferson Freitas Pinto Silva\",\"Joao Eduardo Souza Oliveira\",\"Jonatan Teixeira do Carmo Girata\",\"Jose Rodrigo Claro\",\"Jo\\u00e3o Victor Bertolo\",\"Karine Silva Madruga\",\"Larissa Boso\",\"Larissa Martins\",\"Larissa Nakayama\",\"Let\\u00edcia Gomez\",\"Lualis Emiliano\",\"Luciano Delmar Dos Santos Almeida\",\"Luis Felipe Da Silva Reis\",\"Luiz Guilherme Alves Leonel\",\"Luiz Tosta\",\"MARIANA CRISTINA GONSALES NOGUEIRA\",\"MARINA FREITAS NORKUS\",\"MIRIELLY CRISTINA GIL DA SILVA NUNES\",\"Marcela Vanni\",\"Marco Goes\",\"Mariana Brantes Vasques\",\"Marieli Ruza\",\"Milton Luiz Favero Junior\",\"Nat\\u00e1lia Venanzoni\",\"Nayara Sene\",\"PATRICIA MEDUNECKAS BRAZ\",\"Paula Cristina Nunes Pereira\",\"Priscilla Ribeiro Alves\",\"Rafael Moraes Pessoa\",\"Rafaela Maganhott\",\"Revalci Figueira Da Costa\",\"Rodrigo Fantini\",\"Rodrigo Laine Barbosa\",\"Suzane Fidelis\",\"THAIS ALVES DA GRACA\",\"Taina Curralo Scarano\",\"Tatiane Regina Zafani dos Santos\",\"Thiago Luiz Pasqualinoto\",\"Ulysses Antonio da Silva Neto\",\"VANESSA DAL BEN CONEGLIAN\",\"Vinicius Duque\",\"Vitor Pinheiro Afonso\",\"Viviane Lima De Oliveira Cavalheiro\",\"WELLINGTON DOS SANTOS SILVA\"]},\"margin\":{\"l\":50,\"r\":50,\"t\":50,\"b\":50},\"title\":{\"text\":\"Mapa da Equipe e Linha do Tempo da Progress\\u00e3o dos N\\u00edveis CEFR\"},\"height\":800,\"width\":1000,\"annotations\":[{\"align\":\"center\",\"font\":{\"size\":10},\"showarrow\":false,\"text\":\"03\\u002f2024\",\"x\":\"Marco zero\",\"xanchor\":\"center\",\"xshift\":-20,\"y\":\"ADRIANO BEZERRA DOS SANTOS\",\"yshift\":-10},{\"align\":\"center\",\"font\":{\"size\":10},\"showarrow\":false,\"text\":\"09\\u002f2024\",\"x\":\"A1.1\",\"xanchor\":\"center\",\"xshift\":-20,\"y\":\"ADRIANO BEZERRA DOS SANTOS\",\"yshift\":-10},{\"align\":\"center\",\"font\":{\"size\":10},\"showarrow\":false,\"text\":\"03\\u002f2025\",\"x\":\"A1.2\",\"xanchor\":\"center\",\"xshift\":-20,\"y\":\"ADRIANO BEZERRA DOS SANTOS\",\"yshift\":-10},{\"align\":\"center\",\"font\":{\"size\":10},\"showarrow\":false,\"text\":\"03\\u002f2024\",\"x\":\"A1.1\",\"xanchor\":\"center\",\"xshift\":-20,\"y\":\"ANA MARIA TOMAZ UVINHA\",\"yshift\":-10},{\"align\":\"center\",\"font\":{\"size\":10},\"showarrow\":false,\"text\":\"09\\u002f2024\",\"x\":\"A1.2\",\"xanchor\":\"center\",\"xshift\":-20,\"y\":\"ANA MARIA TOMAZ UVINHA\",\"yshift\":-10},{\"align\":\"center\",\"font\":{\"size\":10},\"showarrow\":false,\"text\":\"03\\u002f2025\",\"x\":\"A2.1\",\"xanchor\":\"center\",\"xshift\":-20,\"y\":\"ANA MARIA TOMAZ UVINHA\",\"yshift\":-10},{\"align\":\"center\",\"font\":{\"size\":10},\"showarrow\":false,\"text\":\"03\\u002f2024\",\"x\":\"Marco zero\",\"xanchor\":\"center\",\"xshift\":-20,\"y\":\"ANDERSON RODRIGO DE OLIVEIRA\",\"yshift\":-10},{\"align\":\"center\",\"font\":{\"size\":10},\"showarrow\":false,\"text\":\"09\\u002f2024\",\"x\":\"A1.1\",\"xanchor\":\"center\",\"xshift\":-20,\"y\":\"ANDERSON RODRIGO DE OLIVEIRA\",\"yshift\":-10},{\"align\":\"center\",\"font\":{\"size\":10},\"showarrow\":false,\"text\":\"03\\u002f2025\",\"x\":\"A1.2\",\"xanchor\":\"center\",\"xshift\":-20,\"y\":\"ANDERSON RODRIGO DE OLIVEIRA\",\"yshift\":-10},{\"align\":\"center\",\"font\":{\"size\":10},\"showarrow\":false,\"text\":\"04\\u002f2024\",\"x\":\"B1.2\",\"xanchor\":\"center\",\"xshift\":-20,\"y\":\"Adriano Jeronimo Veloso Do Carmo\",\"yshift\":-10},{\"align\":\"center\",\"font\":{\"size\":10},\"showarrow\":false,\"text\":\"10\\u002f2024\",\"x\":\"B2.1\",\"xanchor\":\"center\",\"xshift\":-20,\"y\":\"Adriano Jeronimo Veloso Do Carmo\",\"yshift\":-10},{\"align\":\"center\",\"font\":{\"size\":10},\"showarrow\":false,\"text\":\"04\\u002f2025\",\"x\":\"B2.2\",\"xanchor\":\"center\",\"xshift\":-20,\"y\":\"Adriano Jeronimo Veloso Do Carmo\",\"yshift\":-10},{\"align\":\"center\",\"font\":{\"size\":10},\"showarrow\":false,\"text\":\"02\\u002f2024\",\"x\":\"B1.2\",\"xanchor\":\"center\",\"xshift\":-20,\"y\":\"Alisson Saccoman\",\"yshift\":-10},{\"align\":\"center\",\"font\":{\"size\":10},\"showarrow\":false,\"text\":\"08\\u002f2024\",\"x\":\"B2.1\",\"xanchor\":\"center\",\"xshift\":-20,\"y\":\"Alisson Saccoman\",\"yshift\":-10},{\"align\":\"center\",\"font\":{\"size\":10},\"showarrow\":false,\"text\":\"02\\u002f2025\",\"x\":\"B2.2\",\"xanchor\":\"center\",\"xshift\":-20,\"y\":\"Alisson Saccoman\",\"yshift\":-10},{\"align\":\"center\",\"font\":{\"size\":10},\"showarrow\":false,\"text\":\"03\\u002f2024\",\"x\":\"Marco zero\",\"xanchor\":\"center\",\"xshift\":-20,\"y\":\"Ana Paula Carvalho\",\"yshift\":-10},{\"align\":\"center\",\"font\":{\"size\":10},\"showarrow\":false,\"text\":\"09\\u002f2024\",\"x\":\"A1.1\",\"xanchor\":\"center\",\"xshift\":-20,\"y\":\"Ana Paula Carvalho\",\"yshift\":-10},{\"align\":\"center\",\"font\":{\"size\":10},\"showarrow\":false,\"text\":\"03\\u002f2025\",\"x\":\"A1.2\",\"xanchor\":\"center\",\"xshift\":-20,\"y\":\"Ana Paula Carvalho\",\"yshift\":-10},{\"align\":\"center\",\"font\":{\"size\":10},\"showarrow\":false,\"text\":\"02\\u002f2024\",\"x\":\"Marco zero\",\"xanchor\":\"center\",\"xshift\":-20,\"y\":\"Andreia de Almeida Bueno\",\"yshift\":-10},{\"align\":\"center\",\"font\":{\"size\":10},\"showarrow\":false,\"text\":\"08\\u002f2024\",\"x\":\"A1.1\",\"xanchor\":\"center\",\"xshift\":-20,\"y\":\"Andreia de Almeida Bueno\",\"yshift\":-10},{\"align\":\"center\",\"font\":{\"size\":10},\"showarrow\":false,\"text\":\"02\\u002f2025\",\"x\":\"A1.2\",\"xanchor\":\"center\",\"xshift\":-20,\"y\":\"Andreia de Almeida Bueno\",\"yshift\":-10},{\"align\":\"center\",\"font\":{\"size\":10},\"showarrow\":false,\"text\":\"03\\u002f2024\",\"x\":\"A2.1\",\"xanchor\":\"center\",\"xshift\":-20,\"y\":\"Andr\\u00e9 Jorel\",\"yshift\":-10},{\"align\":\"center\",\"font\":{\"size\":10},\"showarrow\":false,\"text\":\"09\\u002f2024\",\"x\":\"A2.2\",\"xanchor\":\"center\",\"xshift\":-20,\"y\":\"Andr\\u00e9 Jorel\",\"yshift\":-10},{\"align\":\"center\",\"font\":{\"size\":10},\"showarrow\":false,\"text\":\"03\\u002f2025\",\"x\":\"B1.1\",\"xanchor\":\"center\",\"xshift\":-20,\"y\":\"Andr\\u00e9 Jorel\",\"yshift\":-10},{\"align\":\"center\",\"font\":{\"size\":10},\"showarrow\":false,\"text\":\"03\\u002f2024\",\"x\":\"B1.1\",\"xanchor\":\"center\",\"xshift\":-20,\"y\":\"Andr\\u00e9 Teixeira\",\"yshift\":-10},{\"align\":\"center\",\"font\":{\"size\":10},\"showarrow\":false,\"text\":\"08\\u002f2024\",\"x\":\"B1.2\",\"xanchor\":\"center\",\"xshift\":-20,\"y\":\"Andr\\u00e9 Teixeira\",\"yshift\":-10},{\"align\":\"center\",\"font\":{\"size\":10},\"showarrow\":false,\"text\":\"02\\u002f2025\",\"x\":\"B2.1\",\"xanchor\":\"center\",\"xshift\":-20,\"y\":\"Andr\\u00e9 Teixeira\",\"yshift\":-10},{\"align\":\"center\",\"font\":{\"size\":10},\"showarrow\":false,\"text\":\"04\\u002f2024\",\"x\":\"A2.2\",\"xanchor\":\"center\",\"xshift\":-20,\"y\":\"Ariel Fontanive\",\"yshift\":-10},{\"align\":\"center\",\"font\":{\"size\":10},\"showarrow\":false,\"text\":\"10\\u002f2024\",\"x\":\"B1.1\",\"xanchor\":\"center\",\"xshift\":-20,\"y\":\"Ariel Fontanive\",\"yshift\":-10},{\"align\":\"center\",\"font\":{\"size\":10},\"showarrow\":false,\"text\":\"04\\u002f2025\",\"x\":\"B1.2\",\"xanchor\":\"center\",\"xshift\":-20,\"y\":\"Ariel Fontanive\",\"yshift\":-10},{\"align\":\"center\",\"font\":{\"size\":10},\"showarrow\":false,\"text\":\"02\\u002f2024\",\"x\":\"C1.2\",\"xanchor\":\"center\",\"xshift\":-20,\"y\":\"Atny Miho Saito\",\"yshift\":-10},{\"align\":\"center\",\"font\":{\"size\":10},\"showarrow\":false,\"text\":\"08\\u002f2024\",\"x\":\"C1.3\",\"xanchor\":\"center\",\"xshift\":-20,\"y\":\"Atny Miho Saito\",\"yshift\":-10},{\"align\":\"center\",\"font\":{\"size\":10},\"showarrow\":false,\"text\":\"04\\u002f2024\",\"x\":\"B2+.1\",\"xanchor\":\"center\",\"xshift\":-20,\"y\":\"Beatriz Sandrim Ferreira\",\"yshift\":-10},{\"align\":\"center\",\"font\":{\"size\":10},\"showarrow\":false,\"text\":\"10\\u002f2024\",\"x\":\"B2+.2\",\"xanchor\":\"center\",\"xshift\":-20,\"y\":\"Beatriz Sandrim Ferreira\",\"yshift\":-10},{\"align\":\"center\",\"font\":{\"size\":10},\"showarrow\":false,\"text\":\"04\\u002f2025\",\"x\":\"C1.1\",\"xanchor\":\"center\",\"xshift\":-20,\"y\":\"Beatriz Sandrim Ferreira\",\"yshift\":-10},{\"align\":\"center\",\"font\":{\"size\":10},\"showarrow\":false,\"text\":\"03\\u002f2024\",\"x\":\"Marco zero\",\"xanchor\":\"center\",\"xshift\":-20,\"y\":\"Bruno Gon\\u00e7alves\",\"yshift\":-10},{\"align\":\"center\",\"font\":{\"size\":10},\"showarrow\":false,\"text\":\"09\\u002f2024\",\"x\":\"A1.1\",\"xanchor\":\"center\",\"xshift\":-20,\"y\":\"Bruno Gon\\u00e7alves\",\"yshift\":-10},{\"align\":\"center\",\"font\":{\"size\":10},\"showarrow\":false,\"text\":\"03\\u002f2025\",\"x\":\"A1.2\",\"xanchor\":\"center\",\"xshift\":-20,\"y\":\"Bruno Gon\\u00e7alves\",\"yshift\":-10},{\"align\":\"center\",\"font\":{\"size\":10},\"showarrow\":false,\"text\":\"03\\u002f2024\",\"x\":\"A1.2\",\"xanchor\":\"center\",\"xshift\":-20,\"y\":\"Bruno Santos\",\"yshift\":-10},{\"align\":\"center\",\"font\":{\"size\":10},\"showarrow\":false,\"text\":\"09\\u002f2024\",\"x\":\"A2.1\",\"xanchor\":\"center\",\"xshift\":-20,\"y\":\"Bruno Santos\",\"yshift\":-10},{\"align\":\"center\",\"font\":{\"size\":10},\"showarrow\":false,\"text\":\"03\\u002f2025\",\"x\":\"A2.2\",\"xanchor\":\"center\",\"xshift\":-20,\"y\":\"Bruno Santos\",\"yshift\":-10},{\"align\":\"center\",\"font\":{\"size\":10},\"showarrow\":false,\"text\":\"03\\u002f2024\",\"x\":\"A1.1\",\"xanchor\":\"center\",\"xshift\":-20,\"y\":\"CARINE DOS SANTOS OLIVEIRA\",\"yshift\":-10},{\"align\":\"center\",\"font\":{\"size\":10},\"showarrow\":false,\"text\":\"09\\u002f2024\",\"x\":\"A1.2\",\"xanchor\":\"center\",\"xshift\":-20,\"y\":\"CARINE DOS SANTOS OLIVEIRA\",\"yshift\":-10},{\"align\":\"center\",\"font\":{\"size\":10},\"showarrow\":false,\"text\":\"03\\u002f2025\",\"x\":\"A2.1\",\"xanchor\":\"center\",\"xshift\":-20,\"y\":\"CARINE DOS SANTOS OLIVEIRA\",\"yshift\":-10},{\"align\":\"center\",\"font\":{\"size\":10},\"showarrow\":false,\"text\":\"04\\u002f2024\",\"x\":\"A2.2\",\"xanchor\":\"center\",\"xshift\":-20,\"y\":\"Camila Antonia Batista\",\"yshift\":-10},{\"align\":\"center\",\"font\":{\"size\":10},\"showarrow\":false,\"text\":\"10\\u002f2024\",\"x\":\"B1.1\",\"xanchor\":\"center\",\"xshift\":-20,\"y\":\"Camila Antonia Batista\",\"yshift\":-10},{\"align\":\"center\",\"font\":{\"size\":10},\"showarrow\":false,\"text\":\"04\\u002f2025\",\"x\":\"B1.2\",\"xanchor\":\"center\",\"xshift\":-20,\"y\":\"Camila Antonia Batista\",\"yshift\":-10},{\"align\":\"center\",\"font\":{\"size\":10},\"showarrow\":false,\"text\":\"05\\u002f2024\",\"x\":\"A1.2\",\"xanchor\":\"center\",\"xshift\":-20,\"y\":\"Carina Alves Ferreira\",\"yshift\":-10},{\"align\":\"center\",\"font\":{\"size\":10},\"showarrow\":false,\"text\":\"10\\u002f2024\",\"x\":\"A2.1\",\"xanchor\":\"center\",\"xshift\":-20,\"y\":\"Carina Alves Ferreira\",\"yshift\":-10},{\"align\":\"center\",\"font\":{\"size\":10},\"showarrow\":false,\"text\":\"04\\u002f2025\",\"x\":\"A2.2\",\"xanchor\":\"center\",\"xshift\":-20,\"y\":\"Carina Alves Ferreira\",\"yshift\":-10},{\"align\":\"center\",\"font\":{\"size\":10},\"showarrow\":false,\"text\":\"03\\u002f2024\",\"x\":\"B2.1\",\"xanchor\":\"center\",\"xshift\":-20,\"y\":\"Carolina Jordan\",\"yshift\":-10},{\"align\":\"center\",\"font\":{\"size\":10},\"showarrow\":false,\"text\":\"09\\u002f2024\",\"x\":\"B2.2\",\"xanchor\":\"center\",\"xshift\":-20,\"y\":\"Carolina Jordan\",\"yshift\":-10},{\"align\":\"center\",\"font\":{\"size\":10},\"showarrow\":false,\"text\":\"03\\u002f2025\",\"x\":\"B2+.1\",\"xanchor\":\"center\",\"xshift\":-20,\"y\":\"Carolina Jordan\",\"yshift\":-10},{\"align\":\"center\",\"font\":{\"size\":10},\"showarrow\":false,\"text\":\"03\\u002f2024\",\"x\":\"Marco zero\",\"xanchor\":\"center\",\"xshift\":-20,\"y\":\"Cintia Martins de Athayde\",\"yshift\":-10},{\"align\":\"center\",\"font\":{\"size\":10},\"showarrow\":false,\"text\":\"09\\u002f2024\",\"x\":\"A1.1\",\"xanchor\":\"center\",\"xshift\":-20,\"y\":\"Cintia Martins de Athayde\",\"yshift\":-10},{\"align\":\"center\",\"font\":{\"size\":10},\"showarrow\":false,\"text\":\"03\\u002f2025\",\"x\":\"A1.2\",\"xanchor\":\"center\",\"xshift\":-20,\"y\":\"Cintia Martins de Athayde\",\"yshift\":-10},{\"align\":\"center\",\"font\":{\"size\":10},\"showarrow\":false,\"text\":\"03\\u002f2024\",\"x\":\"A1.1\",\"xanchor\":\"center\",\"xshift\":-20,\"y\":\"Daiane Rangel\",\"yshift\":-10},{\"align\":\"center\",\"font\":{\"size\":10},\"showarrow\":false,\"text\":\"09\\u002f2024\",\"x\":\"A1.2\",\"xanchor\":\"center\",\"xshift\":-20,\"y\":\"Daiane Rangel\",\"yshift\":-10},{\"align\":\"center\",\"font\":{\"size\":10},\"showarrow\":false,\"text\":\"03\\u002f2025\",\"x\":\"A2.1\",\"xanchor\":\"center\",\"xshift\":-20,\"y\":\"Daiane Rangel\",\"yshift\":-10},{\"align\":\"center\",\"font\":{\"size\":10},\"showarrow\":false,\"text\":\"04\\u002f2024\",\"x\":\"A2.1\",\"xanchor\":\"center\",\"xshift\":-20,\"y\":\"Daniel Moraes Pessoa\",\"yshift\":-10},{\"align\":\"center\",\"font\":{\"size\":10},\"showarrow\":false,\"text\":\"10\\u002f2024\",\"x\":\"A2.2\",\"xanchor\":\"center\",\"xshift\":-20,\"y\":\"Daniel Moraes Pessoa\",\"yshift\":-10},{\"align\":\"center\",\"font\":{\"size\":10},\"showarrow\":false,\"text\":\"03\\u002f2025\",\"x\":\"B1.1\",\"xanchor\":\"center\",\"xshift\":-20,\"y\":\"Daniel Moraes Pessoa\",\"yshift\":-10},{\"align\":\"center\",\"font\":{\"size\":10},\"showarrow\":false,\"text\":\"03\\u002f2024\",\"x\":\"A1.2\",\"xanchor\":\"center\",\"xshift\":-20,\"y\":\"Diego Lage\",\"yshift\":-10},{\"align\":\"center\",\"font\":{\"size\":10},\"showarrow\":false,\"text\":\"09\\u002f2024\",\"x\":\"A2.1\",\"xanchor\":\"center\",\"xshift\":-20,\"y\":\"Diego Lage\",\"yshift\":-10},{\"align\":\"center\",\"font\":{\"size\":10},\"showarrow\":false,\"text\":\"03\\u002f2025\",\"x\":\"A2.2\",\"xanchor\":\"center\",\"xshift\":-20,\"y\":\"Diego Lage\",\"yshift\":-10},{\"align\":\"center\",\"font\":{\"size\":10},\"showarrow\":false,\"text\":\"04\\u002f2024\",\"x\":\"B1.2\",\"xanchor\":\"center\",\"xshift\":-20,\"y\":\"Diego Oro\",\"yshift\":-10},{\"align\":\"center\",\"font\":{\"size\":10},\"showarrow\":false,\"text\":\"10\\u002f2024\",\"x\":\"B2.1\",\"xanchor\":\"center\",\"xshift\":-20,\"y\":\"Diego Oro\",\"yshift\":-10},{\"align\":\"center\",\"font\":{\"size\":10},\"showarrow\":false,\"text\":\"04\\u002f2025\",\"x\":\"B2.2\",\"xanchor\":\"center\",\"xshift\":-20,\"y\":\"Diego Oro\",\"yshift\":-10},{\"align\":\"center\",\"font\":{\"size\":10},\"showarrow\":false,\"text\":\"04\\u002f2024\",\"x\":\"A1.2\",\"xanchor\":\"center\",\"xshift\":-20,\"y\":\"Edi Jean Pereira\",\"yshift\":-10},{\"align\":\"center\",\"font\":{\"size\":10},\"showarrow\":false,\"text\":\"10\\u002f2024\",\"x\":\"A2.1\",\"xanchor\":\"center\",\"xshift\":-20,\"y\":\"Edi Jean Pereira\",\"yshift\":-10},{\"align\":\"center\",\"font\":{\"size\":10},\"showarrow\":false,\"text\":\"04\\u002f2025\",\"x\":\"A2.2\",\"xanchor\":\"center\",\"xshift\":-20,\"y\":\"Edi Jean Pereira\",\"yshift\":-10},{\"align\":\"center\",\"font\":{\"size\":10},\"showarrow\":false,\"text\":\"03\\u002f2024\",\"x\":\"A1.1\",\"xanchor\":\"center\",\"xshift\":-20,\"y\":\"Emanuel Lima Matos\",\"yshift\":-10},{\"align\":\"center\",\"font\":{\"size\":10},\"showarrow\":false,\"text\":\"09\\u002f2024\",\"x\":\"A1.2\",\"xanchor\":\"center\",\"xshift\":-20,\"y\":\"Emanuel Lima Matos\",\"yshift\":-10},{\"align\":\"center\",\"font\":{\"size\":10},\"showarrow\":false,\"text\":\"03\\u002f2025\",\"x\":\"A2.1\",\"xanchor\":\"center\",\"xshift\":-20,\"y\":\"Emanuel Lima Matos\",\"yshift\":-10},{\"align\":\"center\",\"font\":{\"size\":10},\"showarrow\":false,\"text\":\"03\\u002f2024\",\"x\":\"Marco zero\",\"xanchor\":\"center\",\"xshift\":-20,\"y\":\"Erica Barreto\",\"yshift\":-10},{\"align\":\"center\",\"font\":{\"size\":10},\"showarrow\":false,\"text\":\"09\\u002f2024\",\"x\":\"A1.1\",\"xanchor\":\"center\",\"xshift\":-20,\"y\":\"Erica Barreto\",\"yshift\":-10},{\"align\":\"center\",\"font\":{\"size\":10},\"showarrow\":false,\"text\":\"03\\u002f2025\",\"x\":\"A1.2\",\"xanchor\":\"center\",\"xshift\":-20,\"y\":\"Erica Barreto\",\"yshift\":-10},{\"align\":\"center\",\"font\":{\"size\":10},\"showarrow\":false,\"text\":\"03\\u002f2024\",\"x\":\"A1.1\",\"xanchor\":\"center\",\"xshift\":-20,\"y\":\"FABIO JOSE TASCA AGUIAR\",\"yshift\":-10},{\"align\":\"center\",\"font\":{\"size\":10},\"showarrow\":false,\"text\":\"09\\u002f2024\",\"x\":\"A1.2\",\"xanchor\":\"center\",\"xshift\":-20,\"y\":\"FABIO JOSE TASCA AGUIAR\",\"yshift\":-10},{\"align\":\"center\",\"font\":{\"size\":10},\"showarrow\":false,\"text\":\"03\\u002f2025\",\"x\":\"A2.1\",\"xanchor\":\"center\",\"xshift\":-20,\"y\":\"FABIO JOSE TASCA AGUIAR\",\"yshift\":-10},{\"align\":\"center\",\"font\":{\"size\":10},\"showarrow\":false,\"text\":\"03\\u002f2024\",\"x\":\"A2.2\",\"xanchor\":\"center\",\"xshift\":-20,\"y\":\"Fabiano Silva\",\"yshift\":-10},{\"align\":\"center\",\"font\":{\"size\":10},\"showarrow\":false,\"text\":\"10\\u002f2024\",\"x\":\"B1.1\",\"xanchor\":\"center\",\"xshift\":-20,\"y\":\"Fabiano Silva\",\"yshift\":-10},{\"align\":\"center\",\"font\":{\"size\":10},\"showarrow\":false,\"text\":\"03\\u002f2025\",\"x\":\"B1.2\",\"xanchor\":\"center\",\"xshift\":-20,\"y\":\"Fabiano Silva\",\"yshift\":-10},{\"align\":\"center\",\"font\":{\"size\":10},\"showarrow\":false,\"text\":\"04\\u002f2024\",\"x\":\"A1.2\",\"xanchor\":\"center\",\"xshift\":-20,\"y\":\"Fabio Antonio Bernardo\",\"yshift\":-10},{\"align\":\"center\",\"font\":{\"size\":10},\"showarrow\":false,\"text\":\"11\\u002f2024\",\"x\":\"A2.1\",\"xanchor\":\"center\",\"xshift\":-20,\"y\":\"Fabio Antonio Bernardo\",\"yshift\":-10},{\"align\":\"center\",\"font\":{\"size\":10},\"showarrow\":false,\"text\":\"04\\u002f2025\",\"x\":\"A2.2\",\"xanchor\":\"center\",\"xshift\":-20,\"y\":\"Fabio Antonio Bernardo\",\"yshift\":-10},{\"align\":\"center\",\"font\":{\"size\":10},\"showarrow\":false,\"text\":\"03\\u002f2024\",\"x\":\"B2.1\",\"xanchor\":\"center\",\"xshift\":-20,\"y\":\"Fabio Costa\",\"yshift\":-10},{\"align\":\"center\",\"font\":{\"size\":10},\"showarrow\":false,\"text\":\"09\\u002f2024\",\"x\":\"B2.2\",\"xanchor\":\"center\",\"xshift\":-20,\"y\":\"Fabio Costa\",\"yshift\":-10},{\"align\":\"center\",\"font\":{\"size\":10},\"showarrow\":false,\"text\":\"03\\u002f2025\",\"x\":\"B2+.1\",\"xanchor\":\"center\",\"xshift\":-20,\"y\":\"Fabio Costa\",\"yshift\":-10},{\"align\":\"center\",\"font\":{\"size\":10},\"showarrow\":false,\"text\":\"03\\u002f2024\",\"x\":\"A1.2\",\"xanchor\":\"center\",\"xshift\":-20,\"y\":\"Felipe Rafael\",\"yshift\":-10},{\"align\":\"center\",\"font\":{\"size\":10},\"showarrow\":false,\"text\":\"09\\u002f2024\",\"x\":\"A2.1\",\"xanchor\":\"center\",\"xshift\":-20,\"y\":\"Felipe Rafael\",\"yshift\":-10},{\"align\":\"center\",\"font\":{\"size\":10},\"showarrow\":false,\"text\":\"03\\u002f2025\",\"x\":\"A2.2\",\"xanchor\":\"center\",\"xshift\":-20,\"y\":\"Felipe Rafael\",\"yshift\":-10},{\"align\":\"center\",\"font\":{\"size\":10},\"showarrow\":false,\"text\":\"03\\u002f2024\",\"x\":\"A1.2\",\"xanchor\":\"center\",\"xshift\":-20,\"y\":\"Fernanda Vieira\",\"yshift\":-10},{\"align\":\"center\",\"font\":{\"size\":10},\"showarrow\":false,\"text\":\"09\\u002f2024\",\"x\":\"A2.1\",\"xanchor\":\"center\",\"xshift\":-20,\"y\":\"Fernanda Vieira\",\"yshift\":-10},{\"align\":\"center\",\"font\":{\"size\":10},\"showarrow\":false,\"text\":\"03\\u002f2025\",\"x\":\"A2.2\",\"xanchor\":\"center\",\"xshift\":-20,\"y\":\"Fernanda Vieira\",\"yshift\":-10},{\"align\":\"center\",\"font\":{\"size\":10},\"showarrow\":false,\"text\":\"03\\u002f2024\",\"x\":\"B1.2\",\"xanchor\":\"center\",\"xshift\":-20,\"y\":\"Fernando da Silva\",\"yshift\":-10},{\"align\":\"center\",\"font\":{\"size\":10},\"showarrow\":false,\"text\":\"09\\u002f2024\",\"x\":\"B2.1\",\"xanchor\":\"center\",\"xshift\":-20,\"y\":\"Fernando da Silva\",\"yshift\":-10},{\"align\":\"center\",\"font\":{\"size\":10},\"showarrow\":false,\"text\":\"03\\u002f2025\",\"x\":\"B2.2\",\"xanchor\":\"center\",\"xshift\":-20,\"y\":\"Fernando da Silva\",\"yshift\":-10},{\"align\":\"center\",\"font\":{\"size\":10},\"showarrow\":false,\"text\":\"03\\u002f2024\",\"x\":\"B1.1\",\"xanchor\":\"center\",\"xshift\":-20,\"y\":\"GABRIEL ARAGAO MARTINS DE MOURA\",\"yshift\":-10},{\"align\":\"center\",\"font\":{\"size\":10},\"showarrow\":false,\"text\":\"09\\u002f2024\",\"x\":\"B1.2\",\"xanchor\":\"center\",\"xshift\":-20,\"y\":\"GABRIEL ARAGAO MARTINS DE MOURA\",\"yshift\":-10},{\"align\":\"center\",\"font\":{\"size\":10},\"showarrow\":false,\"text\":\"03\\u002f2025\",\"x\":\"B2.1\",\"xanchor\":\"center\",\"xshift\":-20,\"y\":\"GABRIEL ARAGAO MARTINS DE MOURA\",\"yshift\":-10},{\"align\":\"center\",\"font\":{\"size\":10},\"showarrow\":false,\"text\":\"03\\u002f2024\",\"x\":\"Marco zero\",\"xanchor\":\"center\",\"xshift\":-20,\"y\":\"Gabriel Marques\",\"yshift\":-10},{\"align\":\"center\",\"font\":{\"size\":10},\"showarrow\":false,\"text\":\"09\\u002f2024\",\"x\":\"A1.1\",\"xanchor\":\"center\",\"xshift\":-20,\"y\":\"Gabriel Marques\",\"yshift\":-10},{\"align\":\"center\",\"font\":{\"size\":10},\"showarrow\":false,\"text\":\"03\\u002f2025\",\"x\":\"A1.2\",\"xanchor\":\"center\",\"xshift\":-20,\"y\":\"Gabriel Marques\",\"yshift\":-10},{\"align\":\"center\",\"font\":{\"size\":10},\"showarrow\":false,\"text\":\"03\\u002f2024\",\"x\":\"Marco zero\",\"xanchor\":\"center\",\"xshift\":-20,\"y\":\"Gerhard Valkinir Cabreira\",\"yshift\":-10},{\"align\":\"center\",\"font\":{\"size\":10},\"showarrow\":false,\"text\":\"09\\u002f2024\",\"x\":\"A1.1\",\"xanchor\":\"center\",\"xshift\":-20,\"y\":\"Gerhard Valkinir Cabreira\",\"yshift\":-10},{\"align\":\"center\",\"font\":{\"size\":10},\"showarrow\":false,\"text\":\"03\\u002f2025\",\"x\":\"A1.2\",\"xanchor\":\"center\",\"xshift\":-20,\"y\":\"Gerhard Valkinir Cabreira\",\"yshift\":-10},{\"align\":\"center\",\"font\":{\"size\":10},\"showarrow\":false,\"text\":\"03\\u002f2024\",\"x\":\"B1.2\",\"xanchor\":\"center\",\"xshift\":-20,\"y\":\"Guilherme Romani\",\"yshift\":-10},{\"align\":\"center\",\"font\":{\"size\":10},\"showarrow\":false,\"text\":\"09\\u002f2024\",\"x\":\"B2.1\",\"xanchor\":\"center\",\"xshift\":-20,\"y\":\"Guilherme Romani\",\"yshift\":-10},{\"align\":\"center\",\"font\":{\"size\":10},\"showarrow\":false,\"text\":\"03\\u002f2025\",\"x\":\"B2.2\",\"xanchor\":\"center\",\"xshift\":-20,\"y\":\"Guilherme Romani\",\"yshift\":-10},{\"align\":\"center\",\"font\":{\"size\":10},\"showarrow\":false,\"text\":\"04\\u002f2024\",\"x\":\"B1.2\",\"xanchor\":\"center\",\"xshift\":-20,\"y\":\"Gustavo Manne\",\"yshift\":-10},{\"align\":\"center\",\"font\":{\"size\":10},\"showarrow\":false,\"text\":\"11\\u002f2024\",\"x\":\"B2.1\",\"xanchor\":\"center\",\"xshift\":-20,\"y\":\"Gustavo Manne\",\"yshift\":-10},{\"align\":\"center\",\"font\":{\"size\":10},\"showarrow\":false,\"text\":\"04\\u002f2025\",\"x\":\"B2.2\",\"xanchor\":\"center\",\"xshift\":-20,\"y\":\"Gustavo Manne\",\"yshift\":-10},{\"align\":\"center\",\"font\":{\"size\":10},\"showarrow\":false,\"text\":\"04\\u002f2024\",\"x\":\"C1.1\",\"xanchor\":\"center\",\"xshift\":-20,\"y\":\"Gustavo Martins Soares\",\"yshift\":-10},{\"align\":\"center\",\"font\":{\"size\":10},\"showarrow\":false,\"text\":\"10\\u002f2024\",\"x\":\"C1.2\",\"xanchor\":\"center\",\"xshift\":-20,\"y\":\"Gustavo Martins Soares\",\"yshift\":-10},{\"align\":\"center\",\"font\":{\"size\":10},\"showarrow\":false,\"text\":\"04\\u002f2025\",\"x\":\"C1.3\",\"xanchor\":\"center\",\"xshift\":-20,\"y\":\"Gustavo Martins Soares\",\"yshift\":-10},{\"align\":\"center\",\"font\":{\"size\":10},\"showarrow\":false,\"text\":\"03\\u002f2024\",\"x\":\"A1.2\",\"xanchor\":\"center\",\"xshift\":-20,\"y\":\"Gustavo Neves\",\"yshift\":-10},{\"align\":\"center\",\"font\":{\"size\":10},\"showarrow\":false,\"text\":\"09\\u002f2024\",\"x\":\"A2.1\",\"xanchor\":\"center\",\"xshift\":-20,\"y\":\"Gustavo Neves\",\"yshift\":-10},{\"align\":\"center\",\"font\":{\"size\":10},\"showarrow\":false,\"text\":\"03\\u002f2025\",\"x\":\"A2.2\",\"xanchor\":\"center\",\"xshift\":-20,\"y\":\"Gustavo Neves\",\"yshift\":-10},{\"align\":\"center\",\"font\":{\"size\":10},\"showarrow\":false,\"text\":\"03\\u002f2024\",\"x\":\"Marco zero\",\"xanchor\":\"center\",\"xshift\":-20,\"y\":\"Helen Branicio\",\"yshift\":-10},{\"align\":\"center\",\"font\":{\"size\":10},\"showarrow\":false,\"text\":\"09\\u002f2024\",\"x\":\"A1.1\",\"xanchor\":\"center\",\"xshift\":-20,\"y\":\"Helen Branicio\",\"yshift\":-10},{\"align\":\"center\",\"font\":{\"size\":10},\"showarrow\":false,\"text\":\"03\\u002f2025\",\"x\":\"A1.2\",\"xanchor\":\"center\",\"xshift\":-20,\"y\":\"Helen Branicio\",\"yshift\":-10},{\"align\":\"center\",\"font\":{\"size\":10},\"showarrow\":false,\"text\":\"03\\u002f2024\",\"x\":\"Marco zero\",\"xanchor\":\"center\",\"xshift\":-20,\"y\":\"Heronilton Fernandes\",\"yshift\":-10},{\"align\":\"center\",\"font\":{\"size\":10},\"showarrow\":false,\"text\":\"09\\u002f2024\",\"x\":\"A1.1\",\"xanchor\":\"center\",\"xshift\":-20,\"y\":\"Heronilton Fernandes\",\"yshift\":-10},{\"align\":\"center\",\"font\":{\"size\":10},\"showarrow\":false,\"text\":\"03\\u002f2025\",\"x\":\"A1.2\",\"xanchor\":\"center\",\"xshift\":-20,\"y\":\"Heronilton Fernandes\",\"yshift\":-10},{\"align\":\"center\",\"font\":{\"size\":10},\"showarrow\":false,\"text\":\"04\\u002f2024\",\"x\":\"A1.2\",\"xanchor\":\"center\",\"xshift\":-20,\"y\":\"Hugo Silvio Bernardo\",\"yshift\":-10},{\"align\":\"center\",\"font\":{\"size\":10},\"showarrow\":false,\"text\":\"10\\u002f2024\",\"x\":\"A2.1\",\"xanchor\":\"center\",\"xshift\":-20,\"y\":\"Hugo Silvio Bernardo\",\"yshift\":-10},{\"align\":\"center\",\"font\":{\"size\":10},\"showarrow\":false,\"text\":\"04\\u002f2025\",\"x\":\"A2.2\",\"xanchor\":\"center\",\"xshift\":-20,\"y\":\"Hugo Silvio Bernardo\",\"yshift\":-10},{\"align\":\"center\",\"font\":{\"size\":10},\"showarrow\":false,\"text\":\"03\\u002f2024\",\"x\":\"B2.2\",\"xanchor\":\"center\",\"xshift\":-20,\"y\":\"Hywre Santos Sousa\",\"yshift\":-10},{\"align\":\"center\",\"font\":{\"size\":10},\"showarrow\":false,\"text\":\"10\\u002f2024\",\"x\":\"B2+.1\",\"xanchor\":\"center\",\"xshift\":-20,\"y\":\"Hywre Santos Sousa\",\"yshift\":-10},{\"align\":\"center\",\"font\":{\"size\":10},\"showarrow\":false,\"text\":\"03\\u002f2025\",\"x\":\"B2+.2\",\"xanchor\":\"center\",\"xshift\":-20,\"y\":\"Hywre Santos Sousa\",\"yshift\":-10},{\"align\":\"center\",\"font\":{\"size\":10},\"showarrow\":false,\"text\":\"03\\u002f2024\",\"x\":\"Marco zero\",\"xanchor\":\"center\",\"xshift\":-20,\"y\":\"Isabela Caroline Berlato Soares Andrade\",\"yshift\":-10},{\"align\":\"center\",\"font\":{\"size\":10},\"showarrow\":false,\"text\":\"09\\u002f2024\",\"x\":\"A1.1\",\"xanchor\":\"center\",\"xshift\":-20,\"y\":\"Isabela Caroline Berlato Soares Andrade\",\"yshift\":-10},{\"align\":\"center\",\"font\":{\"size\":10},\"showarrow\":false,\"text\":\"03\\u002f2025\",\"x\":\"A1.2\",\"xanchor\":\"center\",\"xshift\":-20,\"y\":\"Isabela Caroline Berlato Soares Andrade\",\"yshift\":-10},{\"align\":\"center\",\"font\":{\"size\":10},\"showarrow\":false,\"text\":\"04\\u002f2024\",\"x\":\"C1.1\",\"xanchor\":\"center\",\"xshift\":-20,\"y\":\"Ivy Mayara Sanches de Oliveira\",\"yshift\":-10},{\"align\":\"center\",\"font\":{\"size\":10},\"showarrow\":false,\"text\":\"10\\u002f2024\",\"x\":\"C1.2\",\"xanchor\":\"center\",\"xshift\":-20,\"y\":\"Ivy Mayara Sanches de Oliveira\",\"yshift\":-10},{\"align\":\"center\",\"font\":{\"size\":10},\"showarrow\":false,\"text\":\"04\\u002f2025\",\"x\":\"C1.3\",\"xanchor\":\"center\",\"xshift\":-20,\"y\":\"Ivy Mayara Sanches de Oliveira\",\"yshift\":-10},{\"align\":\"center\",\"font\":{\"size\":10},\"showarrow\":false,\"text\":\"03\\u002f2024\",\"x\":\"Marco zero\",\"xanchor\":\"center\",\"xshift\":-20,\"y\":\"Izabela Caroline Prezotto Armando\",\"yshift\":-10},{\"align\":\"center\",\"font\":{\"size\":10},\"showarrow\":false,\"text\":\"09\\u002f2024\",\"x\":\"A1.1\",\"xanchor\":\"center\",\"xshift\":-20,\"y\":\"Izabela Caroline Prezotto Armando\",\"yshift\":-10},{\"align\":\"center\",\"font\":{\"size\":10},\"showarrow\":false,\"text\":\"03\\u002f2025\",\"x\":\"A1.2\",\"xanchor\":\"center\",\"xshift\":-20,\"y\":\"Izabela Caroline Prezotto Armando\",\"yshift\":-10},{\"align\":\"center\",\"font\":{\"size\":10},\"showarrow\":false,\"text\":\"03\\u002f2024\",\"x\":\"Marco zero\",\"xanchor\":\"center\",\"xshift\":-20,\"y\":\"JAMESON HIRXLEHOR\",\"yshift\":-10},{\"align\":\"center\",\"font\":{\"size\":10},\"showarrow\":false,\"text\":\"09\\u002f2024\",\"x\":\"A1.1\",\"xanchor\":\"center\",\"xshift\":-20,\"y\":\"JAMESON HIRXLEHOR\",\"yshift\":-10},{\"align\":\"center\",\"font\":{\"size\":10},\"showarrow\":false,\"text\":\"03\\u002f2025\",\"x\":\"A1.2\",\"xanchor\":\"center\",\"xshift\":-20,\"y\":\"JAMESON HIRXLEHOR\",\"yshift\":-10},{\"align\":\"center\",\"font\":{\"size\":10},\"showarrow\":false,\"text\":\"03\\u002f2024\",\"x\":\"A2.2\",\"xanchor\":\"center\",\"xshift\":-20,\"y\":\"JOSE GUILHERME PEREIRA BRAGA\",\"yshift\":-10},{\"align\":\"center\",\"font\":{\"size\":10},\"showarrow\":false,\"text\":\"09\\u002f2024\",\"x\":\"B1.1\",\"xanchor\":\"center\",\"xshift\":-20,\"y\":\"JOSE GUILHERME PEREIRA BRAGA\",\"yshift\":-10},{\"align\":\"center\",\"font\":{\"size\":10},\"showarrow\":false,\"text\":\"03\\u002f2025\",\"x\":\"B1.2\",\"xanchor\":\"center\",\"xshift\":-20,\"y\":\"JOSE GUILHERME PEREIRA BRAGA\",\"yshift\":-10},{\"align\":\"center\",\"font\":{\"size\":10},\"showarrow\":false,\"text\":\"03\\u002f2024\",\"x\":\"A2.1\",\"xanchor\":\"center\",\"xshift\":-20,\"y\":\"JOSIAS LOURENCO DA SILVA\",\"yshift\":-10},{\"align\":\"center\",\"font\":{\"size\":10},\"showarrow\":false,\"text\":\"09\\u002f2024\",\"x\":\"A2.2\",\"xanchor\":\"center\",\"xshift\":-20,\"y\":\"JOSIAS LOURENCO DA SILVA\",\"yshift\":-10},{\"align\":\"center\",\"font\":{\"size\":10},\"showarrow\":false,\"text\":\"03\\u002f2025\",\"x\":\"B1.1\",\"xanchor\":\"center\",\"xshift\":-20,\"y\":\"JOSIAS LOURENCO DA SILVA\",\"yshift\":-10},{\"align\":\"center\",\"font\":{\"size\":10},\"showarrow\":false,\"text\":\"04\\u002f2024\",\"x\":\"B2+.1\",\"xanchor\":\"center\",\"xshift\":-20,\"y\":\"Janaina Scotton\",\"yshift\":-10},{\"align\":\"center\",\"font\":{\"size\":10},\"showarrow\":false,\"text\":\"10\\u002f2024\",\"x\":\"B2+.2\",\"xanchor\":\"center\",\"xshift\":-20,\"y\":\"Janaina Scotton\",\"yshift\":-10},{\"align\":\"center\",\"font\":{\"size\":10},\"showarrow\":false,\"text\":\"04\\u002f2025\",\"x\":\"C1.1\",\"xanchor\":\"center\",\"xshift\":-20,\"y\":\"Janaina Scotton\",\"yshift\":-10},{\"align\":\"center\",\"font\":{\"size\":10},\"showarrow\":false,\"text\":\"03\\u002f2024\",\"x\":\"B2.2\",\"xanchor\":\"center\",\"xshift\":-20,\"y\":\"Jefferson Esquizato De Souza\",\"yshift\":-10},{\"align\":\"center\",\"font\":{\"size\":10},\"showarrow\":false,\"text\":\"09\\u002f2024\",\"x\":\"B2+.1\",\"xanchor\":\"center\",\"xshift\":-20,\"y\":\"Jefferson Esquizato De Souza\",\"yshift\":-10},{\"align\":\"center\",\"font\":{\"size\":10},\"showarrow\":false,\"text\":\"03\\u002f2025\",\"x\":\"B2+.2\",\"xanchor\":\"center\",\"xshift\":-20,\"y\":\"Jefferson Esquizato De Souza\",\"yshift\":-10},{\"align\":\"center\",\"font\":{\"size\":10},\"showarrow\":false,\"text\":\"04\\u002f2024\",\"x\":\"A2.1\",\"xanchor\":\"center\",\"xshift\":-20,\"y\":\"Jefferson Freitas Pinto Silva\",\"yshift\":-10},{\"align\":\"center\",\"font\":{\"size\":10},\"showarrow\":false,\"text\":\"10\\u002f2024\",\"x\":\"A2.2\",\"xanchor\":\"center\",\"xshift\":-20,\"y\":\"Jefferson Freitas Pinto Silva\",\"yshift\":-10},{\"align\":\"center\",\"font\":{\"size\":10},\"showarrow\":false,\"text\":\"04\\u002f2025\",\"x\":\"B1.1\",\"xanchor\":\"center\",\"xshift\":-20,\"y\":\"Jefferson Freitas Pinto Silva\",\"yshift\":-10},{\"align\":\"center\",\"font\":{\"size\":10},\"showarrow\":false,\"text\":\"04\\u002f2024\",\"x\":\"B2.2\",\"xanchor\":\"center\",\"xshift\":-20,\"y\":\"Joao Eduardo Souza Oliveira\",\"yshift\":-10},{\"align\":\"center\",\"font\":{\"size\":10},\"showarrow\":false,\"text\":\"10\\u002f2024\",\"x\":\"B2+.1\",\"xanchor\":\"center\",\"xshift\":-20,\"y\":\"Joao Eduardo Souza Oliveira\",\"yshift\":-10},{\"align\":\"center\",\"font\":{\"size\":10},\"showarrow\":false,\"text\":\"04\\u002f2025\",\"x\":\"B2+.2\",\"xanchor\":\"center\",\"xshift\":-20,\"y\":\"Joao Eduardo Souza Oliveira\",\"yshift\":-10},{\"align\":\"center\",\"font\":{\"size\":10},\"showarrow\":false,\"text\":\"03\\u002f2024\",\"x\":\"A2.1\",\"xanchor\":\"center\",\"xshift\":-20,\"y\":\"Jonatan Teixeira do Carmo Girata\",\"yshift\":-10},{\"align\":\"center\",\"font\":{\"size\":10},\"showarrow\":false,\"text\":\"09\\u002f2024\",\"x\":\"A2.2\",\"xanchor\":\"center\",\"xshift\":-20,\"y\":\"Jonatan Teixeira do Carmo Girata\",\"yshift\":-10},{\"align\":\"center\",\"font\":{\"size\":10},\"showarrow\":false,\"text\":\"03\\u002f2025\",\"x\":\"B1.1\",\"xanchor\":\"center\",\"xshift\":-20,\"y\":\"Jonatan Teixeira do Carmo Girata\",\"yshift\":-10},{\"align\":\"center\",\"font\":{\"size\":10},\"showarrow\":false,\"text\":\"03\\u002f2024\",\"x\":\"Marco zero\",\"xanchor\":\"center\",\"xshift\":-20,\"y\":\"Jose Rodrigo Claro\",\"yshift\":-10},{\"align\":\"center\",\"font\":{\"size\":10},\"showarrow\":false,\"text\":\"09\\u002f2024\",\"x\":\"A1.1\",\"xanchor\":\"center\",\"xshift\":-20,\"y\":\"Jose Rodrigo Claro\",\"yshift\":-10},{\"align\":\"center\",\"font\":{\"size\":10},\"showarrow\":false,\"text\":\"03\\u002f2025\",\"x\":\"A1.2\",\"xanchor\":\"center\",\"xshift\":-20,\"y\":\"Jose Rodrigo Claro\",\"yshift\":-10},{\"align\":\"center\",\"font\":{\"size\":10},\"showarrow\":false,\"text\":\"03\\u002f2024\",\"x\":\"B2.1\",\"xanchor\":\"center\",\"xshift\":-20,\"y\":\"Jo\\u00e3o Victor Bertolo\",\"yshift\":-10},{\"align\":\"center\",\"font\":{\"size\":10},\"showarrow\":false,\"text\":\"09\\u002f2024\",\"x\":\"B2.2\",\"xanchor\":\"center\",\"xshift\":-20,\"y\":\"Jo\\u00e3o Victor Bertolo\",\"yshift\":-10},{\"align\":\"center\",\"font\":{\"size\":10},\"showarrow\":false,\"text\":\"03\\u002f2025\",\"x\":\"B2+.1\",\"xanchor\":\"center\",\"xshift\":-20,\"y\":\"Jo\\u00e3o Victor Bertolo\",\"yshift\":-10},{\"align\":\"center\",\"font\":{\"size\":10},\"showarrow\":false,\"text\":\"07\\u002f2024\",\"x\":\"B1.1\",\"xanchor\":\"center\",\"xshift\":-20,\"y\":\"Karine Silva Madruga\",\"yshift\":-10},{\"align\":\"center\",\"font\":{\"size\":10},\"showarrow\":false,\"text\":\"02\\u002f2024\",\"x\":\"B2.2\",\"xanchor\":\"center\",\"xshift\":-20,\"y\":\"Karine Silva Madruga\",\"yshift\":-10},{\"align\":\"center\",\"font\":{\"size\":10},\"showarrow\":false,\"text\":\"03\\u002f2024\",\"x\":\"Marco zero\",\"xanchor\":\"center\",\"xshift\":-20,\"y\":\"Larissa Boso\",\"yshift\":-10},{\"align\":\"center\",\"font\":{\"size\":10},\"showarrow\":false,\"text\":\"09\\u002f2024\",\"x\":\"A1.1\",\"xanchor\":\"center\",\"xshift\":-20,\"y\":\"Larissa Boso\",\"yshift\":-10},{\"align\":\"center\",\"font\":{\"size\":10},\"showarrow\":false,\"text\":\"03\\u002f2025\",\"x\":\"A1.2\",\"xanchor\":\"center\",\"xshift\":-20,\"y\":\"Larissa Boso\",\"yshift\":-10},{\"align\":\"center\",\"font\":{\"size\":10},\"showarrow\":false,\"text\":\"03\\u002f2024\",\"x\":\"B1.2\",\"xanchor\":\"center\",\"xshift\":-20,\"y\":\"Larissa Martins\",\"yshift\":-10},{\"align\":\"center\",\"font\":{\"size\":10},\"showarrow\":false,\"text\":\"09\\u002f2024\",\"x\":\"B2.1\",\"xanchor\":\"center\",\"xshift\":-20,\"y\":\"Larissa Martins\",\"yshift\":-10},{\"align\":\"center\",\"font\":{\"size\":10},\"showarrow\":false,\"text\":\"03\\u002f2025\",\"x\":\"B2.2\",\"xanchor\":\"center\",\"xshift\":-20,\"y\":\"Larissa Martins\",\"yshift\":-10},{\"align\":\"center\",\"font\":{\"size\":10},\"showarrow\":false,\"text\":\"03\\u002f2024\",\"x\":\"A2.1\",\"xanchor\":\"center\",\"xshift\":-20,\"y\":\"Larissa Nakayama\",\"yshift\":-10},{\"align\":\"center\",\"font\":{\"size\":10},\"showarrow\":false,\"text\":\"09\\u002f2024\",\"x\":\"A2.2\",\"xanchor\":\"center\",\"xshift\":-20,\"y\":\"Larissa Nakayama\",\"yshift\":-10},{\"align\":\"center\",\"font\":{\"size\":10},\"showarrow\":false,\"text\":\"03\\u002f2025\",\"x\":\"B1.1\",\"xanchor\":\"center\",\"xshift\":-20,\"y\":\"Larissa Nakayama\",\"yshift\":-10},{\"align\":\"center\",\"font\":{\"size\":10},\"showarrow\":false,\"text\":\"03\\u002f2024\",\"x\":\"Marco zero\",\"xanchor\":\"center\",\"xshift\":-20,\"y\":\"Let\\u00edcia Gomez\",\"yshift\":-10},{\"align\":\"center\",\"font\":{\"size\":10},\"showarrow\":false,\"text\":\"09\\u002f2024\",\"x\":\"A1.1\",\"xanchor\":\"center\",\"xshift\":-20,\"y\":\"Let\\u00edcia Gomez\",\"yshift\":-10},{\"align\":\"center\",\"font\":{\"size\":10},\"showarrow\":false,\"text\":\"03\\u002f2025\",\"x\":\"A1.2\",\"xanchor\":\"center\",\"xshift\":-20,\"y\":\"Let\\u00edcia Gomez\",\"yshift\":-10},{\"align\":\"center\",\"font\":{\"size\":10},\"showarrow\":false,\"text\":\"04\\u002f2024\",\"x\":\"Marco zero\",\"xanchor\":\"center\",\"xshift\":-20,\"y\":\"Lualis Emiliano\",\"yshift\":-10},{\"align\":\"center\",\"font\":{\"size\":10},\"showarrow\":false,\"text\":\"09\\u002f2024\",\"x\":\"A1.1\",\"xanchor\":\"center\",\"xshift\":-20,\"y\":\"Lualis Emiliano\",\"yshift\":-10},{\"align\":\"center\",\"font\":{\"size\":10},\"showarrow\":false,\"text\":\"03\\u002f2025\",\"x\":\"A1.2\",\"xanchor\":\"center\",\"xshift\":-20,\"y\":\"Lualis Emiliano\",\"yshift\":-10},{\"align\":\"center\",\"font\":{\"size\":10},\"showarrow\":false,\"text\":\"03\\u002f2024\",\"x\":\"Marco zero\",\"xanchor\":\"center\",\"xshift\":-20,\"y\":\"Luciano Delmar Dos Santos Almeida\",\"yshift\":-10},{\"align\":\"center\",\"font\":{\"size\":10},\"showarrow\":false,\"text\":\"09\\u002f2024\",\"x\":\"A1.1\",\"xanchor\":\"center\",\"xshift\":-20,\"y\":\"Luciano Delmar Dos Santos Almeida\",\"yshift\":-10},{\"align\":\"center\",\"font\":{\"size\":10},\"showarrow\":false,\"text\":\"03\\u002f2025\",\"x\":\"A1.2\",\"xanchor\":\"center\",\"xshift\":-20,\"y\":\"Luciano Delmar Dos Santos Almeida\",\"yshift\":-10},{\"align\":\"center\",\"font\":{\"size\":10},\"showarrow\":false,\"text\":\"04\\u002f2024\",\"x\":\"A1.2\",\"xanchor\":\"center\",\"xshift\":-20,\"y\":\"Luis Felipe Da Silva Reis\",\"yshift\":-10},{\"align\":\"center\",\"font\":{\"size\":10},\"showarrow\":false,\"text\":\"10\\u002f2024\",\"x\":\"A2.1\",\"xanchor\":\"center\",\"xshift\":-20,\"y\":\"Luis Felipe Da Silva Reis\",\"yshift\":-10},{\"align\":\"center\",\"font\":{\"size\":10},\"showarrow\":false,\"text\":\"04\\u002f2025\",\"x\":\"A2.2\",\"xanchor\":\"center\",\"xshift\":-20,\"y\":\"Luis Felipe Da Silva Reis\",\"yshift\":-10},{\"align\":\"center\",\"font\":{\"size\":10},\"showarrow\":false,\"text\":\"04\\u002f2024\",\"x\":\"B2.2\",\"xanchor\":\"center\",\"xshift\":-20,\"y\":\"Luiz Guilherme Alves Leonel\",\"yshift\":-10},{\"align\":\"center\",\"font\":{\"size\":10},\"showarrow\":false,\"text\":\"10\\u002f2024\",\"x\":\"B2+.1\",\"xanchor\":\"center\",\"xshift\":-20,\"y\":\"Luiz Guilherme Alves Leonel\",\"yshift\":-10},{\"align\":\"center\",\"font\":{\"size\":10},\"showarrow\":false,\"text\":\"04\\u002f2025\",\"x\":\"B2+.2\",\"xanchor\":\"center\",\"xshift\":-20,\"y\":\"Luiz Guilherme Alves Leonel\",\"yshift\":-10},{\"align\":\"center\",\"font\":{\"size\":10},\"showarrow\":false,\"text\":\"03\\u002f2024\",\"x\":\"A2.1\",\"xanchor\":\"center\",\"xshift\":-20,\"y\":\"Luiz Tosta\",\"yshift\":-10},{\"align\":\"center\",\"font\":{\"size\":10},\"showarrow\":false,\"text\":\"09\\u002f2024\",\"x\":\"A2.2\",\"xanchor\":\"center\",\"xshift\":-20,\"y\":\"Luiz Tosta\",\"yshift\":-10},{\"align\":\"center\",\"font\":{\"size\":10},\"showarrow\":false,\"text\":\"03\\u002f2025\",\"x\":\"B1.1\",\"xanchor\":\"center\",\"xshift\":-20,\"y\":\"Luiz Tosta\",\"yshift\":-10},{\"align\":\"center\",\"font\":{\"size\":10},\"showarrow\":false,\"text\":\"03\\u002f2024\",\"x\":\"A2.2\",\"xanchor\":\"center\",\"xshift\":-20,\"y\":\"MARIANA CRISTINA GONSALES NOGUEIRA\",\"yshift\":-10},{\"align\":\"center\",\"font\":{\"size\":10},\"showarrow\":false,\"text\":\"09\\u002f2024\",\"x\":\"B1.1\",\"xanchor\":\"center\",\"xshift\":-20,\"y\":\"MARIANA CRISTINA GONSALES NOGUEIRA\",\"yshift\":-10},{\"align\":\"center\",\"font\":{\"size\":10},\"showarrow\":false,\"text\":\"03\\u002f2025\",\"x\":\"B1.2\",\"xanchor\":\"center\",\"xshift\":-20,\"y\":\"MARIANA CRISTINA GONSALES NOGUEIRA\",\"yshift\":-10},{\"align\":\"center\",\"font\":{\"size\":10},\"showarrow\":false,\"text\":\"03\\u002f2024\",\"x\":\"B2+.1\",\"xanchor\":\"center\",\"xshift\":-20,\"y\":\"MARINA FREITAS NORKUS\",\"yshift\":-10},{\"align\":\"center\",\"font\":{\"size\":10},\"showarrow\":false,\"text\":\"09\\u002f2024\",\"x\":\"B2+.2\",\"xanchor\":\"center\",\"xshift\":-20,\"y\":\"MARINA FREITAS NORKUS\",\"yshift\":-10},{\"align\":\"center\",\"font\":{\"size\":10},\"showarrow\":false,\"text\":\"03\\u002f2025\",\"x\":\"C1.1\",\"xanchor\":\"center\",\"xshift\":-20,\"y\":\"MARINA FREITAS NORKUS\",\"yshift\":-10},{\"align\":\"center\",\"font\":{\"size\":10},\"showarrow\":false,\"text\":\"03\\u002f2024\",\"x\":\"Marco zero\",\"xanchor\":\"center\",\"xshift\":-20,\"y\":\"MIRIELLY CRISTINA GIL DA SILVA NUNES\",\"yshift\":-10},{\"align\":\"center\",\"font\":{\"size\":10},\"showarrow\":false,\"text\":\"09\\u002f2024\",\"x\":\"A1.1\",\"xanchor\":\"center\",\"xshift\":-20,\"y\":\"MIRIELLY CRISTINA GIL DA SILVA NUNES\",\"yshift\":-10},{\"align\":\"center\",\"font\":{\"size\":10},\"showarrow\":false,\"text\":\"03\\u002f2025\",\"x\":\"A1.2\",\"xanchor\":\"center\",\"xshift\":-20,\"y\":\"MIRIELLY CRISTINA GIL DA SILVA NUNES\",\"yshift\":-10},{\"align\":\"center\",\"font\":{\"size\":10},\"showarrow\":false,\"text\":\"03\\u002f2024\",\"x\":\"A2.1\",\"xanchor\":\"center\",\"xshift\":-20,\"y\":\"Marcela Vanni\",\"yshift\":-10},{\"align\":\"center\",\"font\":{\"size\":10},\"showarrow\":false,\"text\":\"09\\u002f2024\",\"x\":\"A2.2\",\"xanchor\":\"center\",\"xshift\":-20,\"y\":\"Marcela Vanni\",\"yshift\":-10},{\"align\":\"center\",\"font\":{\"size\":10},\"showarrow\":false,\"text\":\"03\\u002f2025\",\"x\":\"B1.1\",\"xanchor\":\"center\",\"xshift\":-20,\"y\":\"Marcela Vanni\",\"yshift\":-10},{\"align\":\"center\",\"font\":{\"size\":10},\"showarrow\":false,\"text\":\"03\\u002f2024\",\"x\":\"Marco zero\",\"xanchor\":\"center\",\"xshift\":-20,\"y\":\"Marco Goes\",\"yshift\":-10},{\"align\":\"center\",\"font\":{\"size\":10},\"showarrow\":false,\"text\":\"09\\u002f2024\",\"x\":\"A1.1\",\"xanchor\":\"center\",\"xshift\":-20,\"y\":\"Marco Goes\",\"yshift\":-10},{\"align\":\"center\",\"font\":{\"size\":10},\"showarrow\":false,\"text\":\"03\\u002f2025\",\"x\":\"A1.2\",\"xanchor\":\"center\",\"xshift\":-20,\"y\":\"Marco Goes\",\"yshift\":-10},{\"align\":\"center\",\"font\":{\"size\":10},\"showarrow\":false,\"text\":\"04\\u002f2024\",\"x\":\"B1.2\",\"xanchor\":\"center\",\"xshift\":-20,\"y\":\"Mariana Brantes Vasques\",\"yshift\":-10},{\"align\":\"center\",\"font\":{\"size\":10},\"showarrow\":false,\"text\":\"10\\u002f2024\",\"x\":\"B2.1\",\"xanchor\":\"center\",\"xshift\":-20,\"y\":\"Mariana Brantes Vasques\",\"yshift\":-10},{\"align\":\"center\",\"font\":{\"size\":10},\"showarrow\":false,\"text\":\"04\\u002f2025\",\"x\":\"B2.2\",\"xanchor\":\"center\",\"xshift\":-20,\"y\":\"Mariana Brantes Vasques\",\"yshift\":-10},{\"align\":\"center\",\"font\":{\"size\":10},\"showarrow\":false,\"text\":\"03\\u002f2024\",\"x\":\"Marco zero\",\"xanchor\":\"center\",\"xshift\":-20,\"y\":\"Marieli Ruza\",\"yshift\":-10},{\"align\":\"center\",\"font\":{\"size\":10},\"showarrow\":false,\"text\":\"09\\u002f2024\",\"x\":\"A1.1\",\"xanchor\":\"center\",\"xshift\":-20,\"y\":\"Marieli Ruza\",\"yshift\":-10},{\"align\":\"center\",\"font\":{\"size\":10},\"showarrow\":false,\"text\":\"03\\u002f2025\",\"x\":\"A1.2\",\"xanchor\":\"center\",\"xshift\":-20,\"y\":\"Marieli Ruza\",\"yshift\":-10},{\"align\":\"center\",\"font\":{\"size\":10},\"showarrow\":false,\"text\":\"03\\u002f2024\",\"x\":\"Marco zero\",\"xanchor\":\"center\",\"xshift\":-20,\"y\":\"Milton Luiz Favero Junior\",\"yshift\":-10},{\"align\":\"center\",\"font\":{\"size\":10},\"showarrow\":false,\"text\":\"09\\u002f2024\",\"x\":\"A1.1\",\"xanchor\":\"center\",\"xshift\":-20,\"y\":\"Milton Luiz Favero Junior\",\"yshift\":-10},{\"align\":\"center\",\"font\":{\"size\":10},\"showarrow\":false,\"text\":\"03\\u002f2025\",\"x\":\"A1.2\",\"xanchor\":\"center\",\"xshift\":-20,\"y\":\"Milton Luiz Favero Junior\",\"yshift\":-10},{\"align\":\"center\",\"font\":{\"size\":10},\"showarrow\":false,\"text\":\"03\\u002f2024\",\"x\":\"B1.2\",\"xanchor\":\"center\",\"xshift\":-20,\"y\":\"Nat\\u00e1lia Venanzoni\",\"yshift\":-10},{\"align\":\"center\",\"font\":{\"size\":10},\"showarrow\":false,\"text\":\"09\\u002f2024\",\"x\":\"B2.1\",\"xanchor\":\"center\",\"xshift\":-20,\"y\":\"Nat\\u00e1lia Venanzoni\",\"yshift\":-10},{\"align\":\"center\",\"font\":{\"size\":10},\"showarrow\":false,\"text\":\"03\\u002f2025\",\"x\":\"B2.2\",\"xanchor\":\"center\",\"xshift\":-20,\"y\":\"Nat\\u00e1lia Venanzoni\",\"yshift\":-10},{\"align\":\"center\",\"font\":{\"size\":10},\"showarrow\":false,\"text\":\"03\\u002f2024\",\"x\":\"B2.2\",\"xanchor\":\"center\",\"xshift\":-20,\"y\":\"Nayara Sene\",\"yshift\":-10},{\"align\":\"center\",\"font\":{\"size\":10},\"showarrow\":false,\"text\":\"09\\u002f2024\",\"x\":\"B2+.1\",\"xanchor\":\"center\",\"xshift\":-20,\"y\":\"Nayara Sene\",\"yshift\":-10},{\"align\":\"center\",\"font\":{\"size\":10},\"showarrow\":false,\"text\":\"03\\u002f2025\",\"x\":\"B2+.2\",\"xanchor\":\"center\",\"xshift\":-20,\"y\":\"Nayara Sene\",\"yshift\":-10},{\"align\":\"center\",\"font\":{\"size\":10},\"showarrow\":false,\"text\":\"03\\u002f2024\",\"x\":\"A1.1\",\"xanchor\":\"center\",\"xshift\":-20,\"y\":\"PATRICIA MEDUNECKAS BRAZ\",\"yshift\":-10},{\"align\":\"center\",\"font\":{\"size\":10},\"showarrow\":false,\"text\":\"09\\u002f2024\",\"x\":\"A1.2\",\"xanchor\":\"center\",\"xshift\":-20,\"y\":\"PATRICIA MEDUNECKAS BRAZ\",\"yshift\":-10},{\"align\":\"center\",\"font\":{\"size\":10},\"showarrow\":false,\"text\":\"03\\u002f2025\",\"x\":\"A2.1\",\"xanchor\":\"center\",\"xshift\":-20,\"y\":\"PATRICIA MEDUNECKAS BRAZ\",\"yshift\":-10},{\"align\":\"center\",\"font\":{\"size\":10},\"showarrow\":false,\"text\":\"04\\u002f2024\",\"x\":\"A1.2\",\"xanchor\":\"center\",\"xshift\":-20,\"y\":\"Paula Cristina Nunes Pereira\",\"yshift\":-10},{\"align\":\"center\",\"font\":{\"size\":10},\"showarrow\":false,\"text\":\"10\\u002f2024\",\"x\":\"A2.1\",\"xanchor\":\"center\",\"xshift\":-20,\"y\":\"Paula Cristina Nunes Pereira\",\"yshift\":-10},{\"align\":\"center\",\"font\":{\"size\":10},\"showarrow\":false,\"text\":\"04\\u002f2025\",\"x\":\"A2.2\",\"xanchor\":\"center\",\"xshift\":-20,\"y\":\"Paula Cristina Nunes Pereira\",\"yshift\":-10},{\"align\":\"center\",\"font\":{\"size\":10},\"showarrow\":false,\"text\":\"03\\u002f2024\",\"x\":\"B1.2\",\"xanchor\":\"center\",\"xshift\":-20,\"y\":\"Priscilla Ribeiro Alves\",\"yshift\":-10},{\"align\":\"center\",\"font\":{\"size\":10},\"showarrow\":false,\"text\":\"09\\u002f2024\",\"x\":\"B2.1\",\"xanchor\":\"center\",\"xshift\":-20,\"y\":\"Priscilla Ribeiro Alves\",\"yshift\":-10},{\"align\":\"center\",\"font\":{\"size\":10},\"showarrow\":false,\"text\":\"03\\u002f2025\",\"x\":\"B2.2\",\"xanchor\":\"center\",\"xshift\":-20,\"y\":\"Priscilla Ribeiro Alves\",\"yshift\":-10},{\"align\":\"center\",\"font\":{\"size\":10},\"showarrow\":false,\"text\":\"03\\u002f2024\",\"x\":\"A1.1\",\"xanchor\":\"center\",\"xshift\":-20,\"y\":\"Rafael Moraes Pessoa\",\"yshift\":-10},{\"align\":\"center\",\"font\":{\"size\":10},\"showarrow\":false,\"text\":\"09\\u002f2024\",\"x\":\"A1.2\",\"xanchor\":\"center\",\"xshift\":-20,\"y\":\"Rafael Moraes Pessoa\",\"yshift\":-10},{\"align\":\"center\",\"font\":{\"size\":10},\"showarrow\":false,\"text\":\"03\\u002f2025\",\"x\":\"A2.1\",\"xanchor\":\"center\",\"xshift\":-20,\"y\":\"Rafael Moraes Pessoa\",\"yshift\":-10},{\"align\":\"center\",\"font\":{\"size\":10},\"showarrow\":false,\"text\":\"03\\u002f2024\",\"x\":\"Marco zero\",\"xanchor\":\"center\",\"xshift\":-20,\"y\":\"Rafaela Maganhott\",\"yshift\":-10},{\"align\":\"center\",\"font\":{\"size\":10},\"showarrow\":false,\"text\":\"09\\u002f2024\",\"x\":\"A1.1\",\"xanchor\":\"center\",\"xshift\":-20,\"y\":\"Rafaela Maganhott\",\"yshift\":-10},{\"align\":\"center\",\"font\":{\"size\":10},\"showarrow\":false,\"text\":\"03\\u002f2025\",\"x\":\"A1.2\",\"xanchor\":\"center\",\"xshift\":-20,\"y\":\"Rafaela Maganhott\",\"yshift\":-10},{\"align\":\"center\",\"font\":{\"size\":10},\"showarrow\":false,\"text\":\"04\\u002f2024\",\"x\":\"A2.2\",\"xanchor\":\"center\",\"xshift\":-20,\"y\":\"Revalci Figueira Da Costa\",\"yshift\":-10},{\"align\":\"center\",\"font\":{\"size\":10},\"showarrow\":false,\"text\":\"10\\u002f2024\",\"x\":\"B1.1\",\"xanchor\":\"center\",\"xshift\":-20,\"y\":\"Revalci Figueira Da Costa\",\"yshift\":-10},{\"align\":\"center\",\"font\":{\"size\":10},\"showarrow\":false,\"text\":\"04\\u002f2025\",\"x\":\"B1.2\",\"xanchor\":\"center\",\"xshift\":-20,\"y\":\"Revalci Figueira Da Costa\",\"yshift\":-10},{\"align\":\"center\",\"font\":{\"size\":10},\"showarrow\":false,\"text\":\"04\\u002f2024\",\"x\":\"B2+.2\",\"xanchor\":\"center\",\"xshift\":-20,\"y\":\"Rodrigo Fantini\",\"yshift\":-10},{\"align\":\"center\",\"font\":{\"size\":10},\"showarrow\":false,\"text\":\"10\\u002f2024\",\"x\":\"C1.1\",\"xanchor\":\"center\",\"xshift\":-20,\"y\":\"Rodrigo Fantini\",\"yshift\":-10},{\"align\":\"center\",\"font\":{\"size\":10},\"showarrow\":false,\"text\":\"04\\u002f2025\",\"x\":\"C1.2\",\"xanchor\":\"center\",\"xshift\":-20,\"y\":\"Rodrigo Fantini\",\"yshift\":-10},{\"align\":\"center\",\"font\":{\"size\":10},\"showarrow\":false,\"text\":\"04\\u002f2024\",\"x\":\"A2.1\",\"xanchor\":\"center\",\"xshift\":-20,\"y\":\"Rodrigo Laine Barbosa\",\"yshift\":-10},{\"align\":\"center\",\"font\":{\"size\":10},\"showarrow\":false,\"text\":\"10\\u002f2024\",\"x\":\"A2.2\",\"xanchor\":\"center\",\"xshift\":-20,\"y\":\"Rodrigo Laine Barbosa\",\"yshift\":-10},{\"align\":\"center\",\"font\":{\"size\":10},\"showarrow\":false,\"text\":\"04\\u002f2025\",\"x\":\"B1.1\",\"xanchor\":\"center\",\"xshift\":-20,\"y\":\"Rodrigo Laine Barbosa\",\"yshift\":-10},{\"align\":\"center\",\"font\":{\"size\":10},\"showarrow\":false,\"text\":\"03\\u002f2024\",\"x\":\"A1.2\",\"xanchor\":\"center\",\"xshift\":-20,\"y\":\"Suzane Fidelis\",\"yshift\":-10},{\"align\":\"center\",\"font\":{\"size\":10},\"showarrow\":false,\"text\":\"09\\u002f2024\",\"x\":\"A2.1\",\"xanchor\":\"center\",\"xshift\":-20,\"y\":\"Suzane Fidelis\",\"yshift\":-10},{\"align\":\"center\",\"font\":{\"size\":10},\"showarrow\":false,\"text\":\"03\\u002f2025\",\"x\":\"A2.2\",\"xanchor\":\"center\",\"xshift\":-20,\"y\":\"Suzane Fidelis\",\"yshift\":-10},{\"align\":\"center\",\"font\":{\"size\":10},\"showarrow\":false,\"text\":\"03\\u002f2024\",\"x\":\"A1.2\",\"xanchor\":\"center\",\"xshift\":-20,\"y\":\"THAIS ALVES DA GRACA\",\"yshift\":-10},{\"align\":\"center\",\"font\":{\"size\":10},\"showarrow\":false,\"text\":\"09\\u002f2024\",\"x\":\"A2.1\",\"xanchor\":\"center\",\"xshift\":-20,\"y\":\"THAIS ALVES DA GRACA\",\"yshift\":-10},{\"align\":\"center\",\"font\":{\"size\":10},\"showarrow\":false,\"text\":\"03\\u002f2025\",\"x\":\"A2.2\",\"xanchor\":\"center\",\"xshift\":-20,\"y\":\"THAIS ALVES DA GRACA\",\"yshift\":-10},{\"align\":\"center\",\"font\":{\"size\":10},\"showarrow\":false,\"text\":\"04\\u002f2024\",\"x\":\"B2.1\",\"xanchor\":\"center\",\"xshift\":-20,\"y\":\"Taina Curralo Scarano\",\"yshift\":-10},{\"align\":\"center\",\"font\":{\"size\":10},\"showarrow\":false,\"text\":\"10\\u002f2024\",\"x\":\"B2.2\",\"xanchor\":\"center\",\"xshift\":-20,\"y\":\"Taina Curralo Scarano\",\"yshift\":-10},{\"align\":\"center\",\"font\":{\"size\":10},\"showarrow\":false,\"text\":\"04\\u002f2025\",\"x\":\"B2+.1\",\"xanchor\":\"center\",\"xshift\":-20,\"y\":\"Taina Curralo Scarano\",\"yshift\":-10},{\"align\":\"center\",\"font\":{\"size\":10},\"showarrow\":false,\"text\":\"01\\u002f2024\",\"x\":\"A1.1\",\"xanchor\":\"center\",\"xshift\":-20,\"y\":\"Tatiane Regina Zafani dos Santos\",\"yshift\":-10},{\"align\":\"center\",\"font\":{\"size\":10},\"showarrow\":false,\"text\":\"07\\u002f2024\",\"x\":\"A1.2\",\"xanchor\":\"center\",\"xshift\":-20,\"y\":\"Tatiane Regina Zafani dos Santos\",\"yshift\":-10},{\"align\":\"center\",\"font\":{\"size\":10},\"showarrow\":false,\"text\":\"01\\u002f2025\",\"x\":\"A2.1\",\"xanchor\":\"center\",\"xshift\":-20,\"y\":\"Tatiane Regina Zafani dos Santos\",\"yshift\":-10},{\"align\":\"center\",\"font\":{\"size\":10},\"showarrow\":false,\"text\":\"04\\u002f2024\",\"x\":\"B2.1\",\"xanchor\":\"center\",\"xshift\":-20,\"y\":\"Thiago Luiz Pasqualinoto\",\"yshift\":-10},{\"align\":\"center\",\"font\":{\"size\":10},\"showarrow\":false,\"text\":\"11\\u002f2024\",\"x\":\"B2.2\",\"xanchor\":\"center\",\"xshift\":-20,\"y\":\"Thiago Luiz Pasqualinoto\",\"yshift\":-10},{\"align\":\"center\",\"font\":{\"size\":10},\"showarrow\":false,\"text\":\"04\\u002f2025\",\"x\":\"B2+.1\",\"xanchor\":\"center\",\"xshift\":-20,\"y\":\"Thiago Luiz Pasqualinoto\",\"yshift\":-10},{\"align\":\"center\",\"font\":{\"size\":10},\"showarrow\":false,\"text\":\"03\\u002f2024\",\"x\":\"Marco zero\",\"xanchor\":\"center\",\"xshift\":-20,\"y\":\"Ulysses Antonio da Silva Neto\",\"yshift\":-10},{\"align\":\"center\",\"font\":{\"size\":10},\"showarrow\":false,\"text\":\"10\\u002f2024\",\"x\":\"A1.1\",\"xanchor\":\"center\",\"xshift\":-20,\"y\":\"Ulysses Antonio da Silva Neto\",\"yshift\":-10},{\"align\":\"center\",\"font\":{\"size\":10},\"showarrow\":false,\"text\":\"03\\u002f2025\",\"x\":\"A1.2\",\"xanchor\":\"center\",\"xshift\":-20,\"y\":\"Ulysses Antonio da Silva Neto\",\"yshift\":-10},{\"align\":\"center\",\"font\":{\"size\":10},\"showarrow\":false,\"text\":\"03\\u002f2024\",\"x\":\"B2.1\",\"xanchor\":\"center\",\"xshift\":-20,\"y\":\"VANESSA DAL BEN CONEGLIAN\",\"yshift\":-10},{\"align\":\"center\",\"font\":{\"size\":10},\"showarrow\":false,\"text\":\"09\\u002f2024\",\"x\":\"B2.2\",\"xanchor\":\"center\",\"xshift\":-20,\"y\":\"VANESSA DAL BEN CONEGLIAN\",\"yshift\":-10},{\"align\":\"center\",\"font\":{\"size\":10},\"showarrow\":false,\"text\":\"03\\u002f2025\",\"x\":\"B2+.1\",\"xanchor\":\"center\",\"xshift\":-20,\"y\":\"VANESSA DAL BEN CONEGLIAN\",\"yshift\":-10},{\"align\":\"center\",\"font\":{\"size\":10},\"showarrow\":false,\"text\":\"03\\u002f2024\",\"x\":\"A2.1\",\"xanchor\":\"center\",\"xshift\":-20,\"y\":\"Vinicius Duque\",\"yshift\":-10},{\"align\":\"center\",\"font\":{\"size\":10},\"showarrow\":false,\"text\":\"08\\u002f2024\",\"x\":\"A2.2\",\"xanchor\":\"center\",\"xshift\":-20,\"y\":\"Vinicius Duque\",\"yshift\":-10},{\"align\":\"center\",\"font\":{\"size\":10},\"showarrow\":false,\"text\":\"02\\u002f2025\",\"x\":\"B1.1\",\"xanchor\":\"center\",\"xshift\":-20,\"y\":\"Vinicius Duque\",\"yshift\":-10},{\"align\":\"center\",\"font\":{\"size\":10},\"showarrow\":false,\"text\":\"04\\u002f2024\",\"x\":\"B2+.1\",\"xanchor\":\"center\",\"xshift\":-20,\"y\":\"Vitor Pinheiro Afonso\",\"yshift\":-10},{\"align\":\"center\",\"font\":{\"size\":10},\"showarrow\":false,\"text\":\"10\\u002f2024\",\"x\":\"B2+.2\",\"xanchor\":\"center\",\"xshift\":-20,\"y\":\"Vitor Pinheiro Afonso\",\"yshift\":-10},{\"align\":\"center\",\"font\":{\"size\":10},\"showarrow\":false,\"text\":\"04\\u002f2025\",\"x\":\"C1.1\",\"xanchor\":\"center\",\"xshift\":-20,\"y\":\"Vitor Pinheiro Afonso\",\"yshift\":-10},{\"align\":\"center\",\"font\":{\"size\":10},\"showarrow\":false,\"text\":\"02\\u002f2024\",\"x\":\"B1.2\",\"xanchor\":\"center\",\"xshift\":-20,\"y\":\"Viviane Lima De Oliveira Cavalheiro\",\"yshift\":-10},{\"align\":\"center\",\"font\":{\"size\":10},\"showarrow\":false,\"text\":\"08\\u002f2024\",\"x\":\"B2.1\",\"xanchor\":\"center\",\"xshift\":-20,\"y\":\"Viviane Lima De Oliveira Cavalheiro\",\"yshift\":-10},{\"align\":\"center\",\"font\":{\"size\":10},\"showarrow\":false,\"text\":\"02\\u002f2025\",\"x\":\"B2.2\",\"xanchor\":\"center\",\"xshift\":-20,\"y\":\"Viviane Lima De Oliveira Cavalheiro\",\"yshift\":-10},{\"align\":\"center\",\"font\":{\"size\":10},\"showarrow\":false,\"text\":\"03\\u002f2024\",\"x\":\"Marco zero\",\"xanchor\":\"center\",\"xshift\":-20,\"y\":\"WELLINGTON DOS SANTOS SILVA\",\"yshift\":-10},{\"align\":\"center\",\"font\":{\"size\":10},\"showarrow\":false,\"text\":\"09\\u002f2024\",\"x\":\"A1.1\",\"xanchor\":\"center\",\"xshift\":-20,\"y\":\"WELLINGTON DOS SANTOS SILVA\",\"yshift\":-10},{\"align\":\"center\",\"font\":{\"size\":10},\"showarrow\":false,\"text\":\"03\\u002f2025\",\"x\":\"A1.2\",\"xanchor\":\"center\",\"xshift\":-20,\"y\":\"WELLINGTON DOS SANTOS SILVA\",\"yshift\":-10}]},                        {\"responsive\": true}                    ).then(function(){\n",
       "                            \n",
       "var gd = document.getElementById('4ad46e2d-021b-4609-9cd2-d1ea293bc951');\n",
       "var x = new MutationObserver(function (mutations, observer) {{\n",
       "        var display = window.getComputedStyle(gd).display;\n",
       "        if (!display || display === 'none') {{\n",
       "            console.log([gd, 'removed!']);\n",
       "            Plotly.purge(gd);\n",
       "            observer.disconnect();\n",
       "        }}\n",
       "}});\n",
       "\n",
       "// Listen for the removal of the full notebook cells\n",
       "var notebookContainer = gd.closest('#notebook-container');\n",
       "if (notebookContainer) {{\n",
       "    x.observe(notebookContainer, {childList: true});\n",
       "}}\n",
       "\n",
       "// Listen for the clearing of the current output cell\n",
       "var outputEl = gd.closest('.output');\n",
       "if (outputEl) {{\n",
       "    x.observe(outputEl, {childList: true});\n",
       "}}\n",
       "\n",
       "                        })                };                });            </script>        </div>"
      ]
     },
     "metadata": {},
     "output_type": "display_data"
    }
   ],
   "source": [
    "# 1. Ler a planilha específica\n",
    "transformed_single_language = pd.read_excel(NOME_TABELA_TRANSFORMADA, sheet_name='Inglês')\n",
    "\n",
    "# 2. Verificar se a coluna NOME_COLUNA_NOME existe\n",
    "if NOME_COLUNA_NOME not in transformed_single_language.columns:\n",
    "    raise KeyError(f\"A coluna '{NOME_COLUNA_NOME}' não está presente no DataFrame\")\n",
    "\n",
    "# 3. Definir as colunas CEFR relevantes\n",
    "cef_columns = ['Marco zero', 'A1.1', 'A1.2', 'A2.1', 'A2.2', \n",
    "              'B1.1', 'B1.2', 'B2.1', 'B2.2', 'B2+.1', \n",
    "              'B2+.2', 'C1.1', 'C1.2', 'C1.3']\n",
    "\n",
    "# 4. Selecionar apenas as colunas existentes\n",
    "transformed_single_language = transformed_single_language[\n",
    "    [NOME_COLUNA_NOME] + [col for col in cef_columns if col in transformed_single_language.columns]\n",
    "]\n",
    "\n",
    "# 5. Extrair as colunas de colaboradores e datas\n",
    "colaboradores = transformed_single_language[[NOME_COLUNA_NOME]]\n",
    "dates = transformed_single_language[cef_columns]\n",
    "\n",
    "# 6. Converter os dados para formato longo (long format)\n",
    "long_data = pd.melt(\n",
    "    pd.concat([colaboradores, dates], axis=1),\n",
    "    id_vars=[NOME_COLUNA_NOME],\n",
    "    var_name='CEFR Level',\n",
    "    value_name='Date'\n",
    ")\n",
    "\n",
    "# 7. Remover linhas com datas NaN\n",
    "long_data = long_data.dropna(subset=['Date'])\n",
    "\n",
    "# 8. Definir a ordem dos níveis CEFR, incluindo \"Marco zero\"\n",
    "cef_order = ['Marco zero', 'A1.1', 'A1.2', 'A2.1', 'A2.2', \n",
    "             'B1.1', 'B1.2', 'B2.1', 'B2.2', 'B2+.1', \n",
    "             'B2+.2', 'C1.1', 'C1.2', 'C1.3']\n",
    "\n",
    "# 9. Converter 'CEFR Level' para categórico ordenado\n",
    "long_data['CEFR Level'] = pd.Categorical(\n",
    "    long_data['CEFR Level'],\n",
    "    categories=cef_order,\n",
    "    ordered=True\n",
    ")\n",
    "\n",
    "# 10. Ordenar os dados pelo colaborador e pela ordem dos níveis CEFR\n",
    "long_data = long_data.sort_values(by=[NOME_COLUNA_NOME, 'CEFR Level'])\n",
    "\n",
    "# 11. Criar figura\n",
    "fig = go.Figure()\n",
    "\n",
    "# 12. Preparar um dicionário para mapear as cores dos marcadores por indivíduo\n",
    "marker_color_map = {}\n",
    "\n",
    "# 13. Adicionar linhas para cada indivíduo\n",
    "for name in long_data[NOME_COLUNA_NOME].unique():\n",
    "    individual_data = long_data[long_data[NOME_COLUNA_NOME] == name].sort_values(by='CEFR Level')\n",
    "    \n",
    "    # Definir as cores das linhas com base na lógica original\n",
    "    if len(individual_data) == 2:\n",
    "        line_segments = ['#adc22f']\n",
    "        marker_colors = ['#391e70', '#adc22f']\n",
    "    elif len(individual_data) >= 3:\n",
    "        # Ajuste para mais de 2 pontos\n",
    "        line_segments = ['#391e70'] * (len(individual_data) - 2) + ['#adc22f']\n",
    "        marker_colors = ['#391e70'] * (len(individual_data) - 1) + ['#adc22f']\n",
    "    else:\n",
    "        # Apenas um ponto\n",
    "        line_segments = []\n",
    "        marker_colors = ['#391e70']\n",
    "    \n",
    "    # Adicionar segmentos de linhas conectando apenas pontos consecutivos\n",
    "    for i in range(len(individual_data) - 1):\n",
    "        fig.add_trace(\n",
    "            go.Scatter(\n",
    "                x=individual_data['CEFR Level'].iloc[i:i+2],\n",
    "                y=[name, name],\n",
    "                mode='lines',\n",
    "                line=dict(width=2, color=line_segments[i] if i < len(line_segments) else '#391e70'),\n",
    "                showlegend=False,\n",
    "            )\n",
    "        )\n",
    "    \n",
    "    # Armazenar as cores dos marcadores\n",
    "    marker_color_map[name] = marker_colors\n",
    "\n",
    "# 14. Adicionar marcadores após as linhas para garantir que fiquem por cima\n",
    "for name in long_data[NOME_COLUNA_NOME].unique():\n",
    "    individual_data = long_data[long_data[NOME_COLUNA_NOME] == name].sort_values(by='CEFR Level')\n",
    "    colors = marker_color_map.get(name, ['#391e70'] * len(individual_data))\n",
    "    \n",
    "    fig.add_trace(\n",
    "        go.Scatter(\n",
    "            x=individual_data['CEFR Level'],\n",
    "            y=[name] * len(individual_data),\n",
    "            mode='markers',\n",
    "            marker=dict(size=8, color=colors),\n",
    "            text=individual_data['Date'],\n",
    "            hoverinfo='text',\n",
    "            showlegend=False,\n",
    "        )\n",
    "    )\n",
    "\n",
    "# 15. Ordenar os membros da equipe\n",
    "team_members = sorted(long_data[NOME_COLUNA_NOME].unique())\n",
    "\n",
    "# 16. Atualizar layout da figura com a ordem correta das categorias\n",
    "fig.update_layout(\n",
    "    title='Mapa da Equipe e Linha do Tempo da Progressão dos Níveis CEFR',\n",
    "    xaxis_title='Nível CEFR',\n",
    "    yaxis_title='Membros da Equipe',\n",
    "    xaxis=dict(\n",
    "        showgrid=True,\n",
    "        fixedrange=False,  # Permitir zoom e pan\n",
    "        type='category',\n",
    "        categoryorder='array',\n",
    "        categoryarray=cef_order,  # Ordem especificada dos níveis CEFR\n",
    "        range=['Marco zero', 'C1.3'],  # Ajuste conforme necessário\n",
    "        side='top'\n",
    "    ),\n",
    "    yaxis=dict(\n",
    "        showgrid=False,\n",
    "        automargin=True,\n",
    "        autorange='reversed',\n",
    "        fixedrange=False,  # Permitir zoom e pan\n",
    "        type='category',\n",
    "        categoryorder='array',\n",
    "        categoryarray=team_members,  # Ordem alfabética dos membros\n",
    "    ),\n",
    "    template='plotly_white',\n",
    "    height=800,\n",
    "    width=1000,\n",
    "    margin=dict(l=50, r=50, t=50, b=50),\n",
    ")\n",
    "\n",
    "# 17. Adicionar anotações para as datas nos marcadores\n",
    "for _, row in long_data.iterrows():\n",
    "    fig.add_annotation(\n",
    "        x=row['CEFR Level'],\n",
    "        y=row[NOME_COLUNA_NOME],\n",
    "        text=row['Date'],\n",
    "        showarrow=False,\n",
    "        font=dict(size=10),\n",
    "        align='center',\n",
    "        xanchor='center',\n",
    "        yshift=-10,  # Mover texto para baixo\n",
    "        xshift=-20,  # Mover texto para a esquerda\n",
    "    )\n",
    "\n",
    "# 18. Exibir o gráfico\n",
    "fig.show()"
   ]
  },
  {
   "cell_type": "markdown",
   "metadata": {},
   "source": [
    "## Distribuição de Colaboradores por Nível CEFR"
   ]
  },
  {
   "cell_type": "code",
   "execution_count": 37,
   "metadata": {},
   "outputs": [
    {
     "data": {
      "text/html": [
       "\n",
       "    <style>\n",
       "        .output_scroll { height: auto !important; max-height: none !important; }\n",
       "    </style>\n"
      ],
      "text/plain": [
       "<IPython.core.display.HTML object>"
      ]
     },
     "metadata": {},
     "output_type": "display_data"
    },
    {
     "data": {
      "application/vnd.jupyter.widget-view+json": {
       "model_id": "38015bf792314915a3fd2403479c297e",
       "version_major": 2,
       "version_minor": 0
      },
      "text/plain": [
       "Dropdown(description='Idiomas:', options=('Inglês',), value='Inglês')"
      ]
     },
     "metadata": {},
     "output_type": "display_data"
    },
    {
     "data": {
      "application/vnd.jupyter.widget-view+json": {
       "model_id": "ea7b5d7e051b43f79ee67eba31068410",
       "version_major": 2,
       "version_minor": 0
      },
      "text/plain": [
       "Output()"
      ]
     },
     "metadata": {},
     "output_type": "display_data"
    }
   ],
   "source": [
    "import ipywidgets as widgets\n",
    "display(HTML(\"\"\"\n",
    "    <style>\n",
    "        .output_scroll { height: auto !important; max-height: none !important; }\n",
    "    </style>\n",
    "\"\"\"))\n",
    "\n",
    "# Step 2: Load the Excel File\n",
    "df = pd.read_excel(NOME_TABELA_INICIAL)\n",
    "\n",
    "# Step 3: Rename Columns for Consistency\n",
    "df.rename(columns={\n",
    "    NOME_COLUNA_NOME: 'Colaborador',\n",
    "    NOME_COLUNA_NIVEL_PROFICIENCIA: 'Classificação'\n",
    "}, inplace=True)\n",
    "\n",
    "# Step 4: Define the Grouping Function\n",
    "def group_level(level):\n",
    "    \"\"\"\n",
    "    Groups the CEFR levels into broader categories.\n",
    "\n",
    "    Parameters:\n",
    "    - level (str): The CEFR level of a collaborator.\n",
    "\n",
    "    Returns:\n",
    "    - str: The grouped level category.\n",
    "    \"\"\"\n",
    "    if isinstance(level, str):\n",
    "        if level.startswith('A') or level.startswith('M') or level.startswith('G'):\n",
    "            return 'Nível limitado'\n",
    "        elif level.startswith('B'):\n",
    "            if '+' in level:\n",
    "                return 'Nível sólido'\n",
    "            return 'Nível independente'\n",
    "        elif level.startswith('C'):\n",
    "            return 'Nível competente'\n",
    "    return None  # Exclude 'Outro' and any non-matching entries\n",
    "\n",
    "# Step 5: Apply the Grouping Function\n",
    "df['Grupo Nível'] = df['Classificação'].apply(group_level)\n",
    "\n",
    "# Step 6: Filter Out 'Outro' and Any Non-Matching Entries\n",
    "df_filtered = df.dropna(subset=['Grupo Nível']).copy()\n",
    "\n",
    "# Step 7: Get Unique 'Idioma' Values\n",
    "idiomas = df_filtered[NOME_COLUNA_IDIOMA].dropna().unique()\n",
    "idiomas_sorted = sorted(idiomas)  # Optional: sort the languages alphabetically\n",
    "\n",
    "# Step 8: Define the Function to Create Sunburst Chart for a Given 'Idioma'\n",
    "def create_sunburst(selected_idioma):\n",
    "    \"\"\"\n",
    "    Creates a Sunburst chart for the selected 'Idioma'.\n",
    "\n",
    "    Parameters:\n",
    "    - selected_idioma (str): The selected language.\n",
    "\n",
    "    Returns:\n",
    "    - Plotly Figure: The Sunburst chart.\n",
    "    \"\"\"\n",
    "    # Filter data for the selected 'Idioma'\n",
    "    df_idioma = df_filtered[df_filtered[NOME_COLUNA_IDIOMA] == selected_idioma].copy()\n",
    "\n",
    "    # Step 9: Count the Number of Collaborators in Each CEFR Level\n",
    "    cefr_counts = df_idioma['Classificação'].value_counts().reset_index()\n",
    "    cefr_counts.columns = ['Classificação', 'Count']\n",
    "\n",
    "    # Step 10: Assign 'Grupo Nível' to Each CEFR Level\n",
    "    cefr_counts['Grupo Nível'] = cefr_counts['Classificação'].apply(group_level)\n",
    "\n",
    "    # Ensure no 'Outro' is present\n",
    "    cefr_counts = cefr_counts.dropna(subset=['Grupo Nível'])\n",
    "\n",
    "    # Calculate percentages\n",
    "    total_count = cefr_counts['Count'].sum()\n",
    "    cefr_counts['Percentage'] = (cefr_counts['Count'] / total_count) * 100\n",
    "\n",
    "    # Step 11: Create the Sunburst Chart\n",
    "    fig = px.sunburst(\n",
    "        cefr_counts,\n",
    "        path=['Grupo Nível', 'Classificação'],\n",
    "        values='Count',\n",
    "        color='Grupo Nível',\n",
    "        color_discrete_map={\n",
    "            'Nível limitado': 'lightblue',\n",
    "            'Nível independente': 'lightgreen',\n",
    "            'Nível competente': 'lightcoral',\n",
    "            'Nível sólido': 'lightgray'\n",
    "        },\n",
    "        title=f'Distribuição de Colaboradores por Nível CEFR - Idioma: {selected_idioma} - Proficiência',\n",
    "        hover_data={'Count': True, 'Percentage': ':.3f'},  # Add percentage to hover data\n",
    "        labels={'Count': 'Número de Colaboradores', 'Percentage': 'Porcentagem'}\n",
    "    )\n",
    "\n",
    "    # Step 12: Update Layout for Better Appearance\n",
    "    fig.update_layout(\n",
    "        margin=dict(t=50, l=25, r=25, b=25)\n",
    "    )\n",
    "\n",
    "    return fig\n",
    "\n",
    "# Step 13: Create an Interactive Dropdown Widget\n",
    "idioma_dropdown = widgets.Dropdown(\n",
    "    options=idiomas_sorted,\n",
    "    value=idiomas_sorted[0],  # Set the default value to the first language\n",
    "    description='Idiomas:',\n",
    "    disabled=False,\n",
    ")\n",
    "\n",
    "# Step 14: Define the Function to Update the Plot Based on Dropdown Selection\n",
    "def update_plot(selected_idioma):\n",
    "    fig = create_sunburst(selected_idioma)\n",
    "    fig.show()\n",
    "\n",
    "# Step 15: Use `interactive_output` to Link the Dropdown with the Plot Update Function\n",
    "out = widgets.interactive_output(update_plot, {'selected_idioma': idioma_dropdown})\n",
    "\n",
    "# Step 16: Display the Dropdown and the Output Plot\n",
    "display(idioma_dropdown, out)"
   ]
  },
  {
   "cell_type": "code",
   "execution_count": 97,
   "metadata": {},
   "outputs": [
    {
     "data": {
      "text/html": [
       "\n",
       "    <style>\n",
       "        .output_scroll { height: auto !important; max-height: none !important; }\n",
       "    </style>\n"
      ],
      "text/plain": [
       "<IPython.core.display.HTML object>"
      ]
     },
     "metadata": {},
     "output_type": "display_data"
    },
    {
     "data": {
      "application/vnd.jupyter.widget-view+json": {
       "model_id": "0f0614af471d4fc18794a12f56f256c4",
       "version_major": 2,
       "version_minor": 0
      },
      "text/plain": [
       "Dropdown(description='Idiomas:', options=('Inglês', 'Português'), value='Inglês')"
      ]
     },
     "metadata": {},
     "output_type": "display_data"
    },
    {
     "data": {
      "application/vnd.jupyter.widget-view+json": {
       "model_id": "cdd1c59800a24065b9abd1d177d2bd44",
       "version_major": 2,
       "version_minor": 0
      },
      "text/plain": [
       "Output()"
      ]
     },
     "metadata": {},
     "output_type": "display_data"
    }
   ],
   "source": [
    "# Step 1: Adjust Jupyter Notebook Output Cell Height\n",
    "display(HTML(\"\"\"\n",
    "    <style>\n",
    "        .output_scroll { height: auto !important; max-height: none !important; }\n",
    "    </style>\n",
    "\"\"\"))\n",
    "\n",
    "# Step 2: Load the Excel File\n",
    "df = pd.read_excel(NOME_TABELA_INICIAL)\n",
    "\n",
    "# Step 3: Rename Columns for Consistency\n",
    "df.rename(columns={\n",
    "    NOME_COLUNA_NOME: NOME_COLUNA_NOME,\n",
    "    NOME_COLUNA_NIVEL_AVALIACAO: 'Classificação'\n",
    "}, inplace=True)\n",
    "\n",
    "# Step 4: Define the Grouping Function\n",
    "def group_level(level):\n",
    "    \"\"\"\n",
    "    Groups the CEFR levels into broader categories.\n",
    "\n",
    "    Parameters:\n",
    "    - level (str): The CEFR level of a collaborator.\n",
    "\n",
    "    Returns:\n",
    "    - str: The grouped level category.\n",
    "    \"\"\"\n",
    "    if isinstance(level, str):\n",
    "        if level.startswith('A') or level.startswith('M') or level.startswith('G'):\n",
    "            return 'Nível limitado'\n",
    "        elif level.startswith('B'):\n",
    "            if '+' in level:\n",
    "                return 'Nível sólido'\n",
    "            return 'Nível independente'\n",
    "        elif level.startswith('C'):\n",
    "            return 'Nível competente'\n",
    "    return None  # Exclude 'Outro' and any non-matching entries\n",
    "\n",
    "# Step 5: Apply the Grouping Function\n",
    "df['Grupo Nível'] = df['Classificação'].apply(group_level)\n",
    "\n",
    "# Step 6: Filter Out 'Outro' and Any Non-Matching Entries\n",
    "df_filtered = df.dropna(subset=['Grupo Nível']).copy()\n",
    "\n",
    "# Step 7: Get Unique 'Idioma' Values\n",
    "idiomas = df_filtered[NOME_COLUNA_IDIOMA].dropna().unique()\n",
    "idiomas_sorted = sorted(idiomas)  # Optional: sort the languages alphabetically\n",
    "\n",
    "# Step 8: Define the Function to Create Sunburst Chart for a Given 'Idioma'\n",
    "def create_sunburst(selected_idioma):\n",
    "    \"\"\"\n",
    "    Creates a Sunburst chart for the selected 'Idioma'.\n",
    "\n",
    "    Parameters:\n",
    "    - selected_idioma (str): The selected language.\n",
    "\n",
    "    Returns:\n",
    "    - Plotly Figure: The Sunburst chart.\n",
    "    \"\"\"\n",
    "    # Filter data for the selected 'Idioma'\n",
    "    df_idioma = df_filtered[df_filtered[NOME_COLUNA_IDIOMA] == selected_idioma].copy()\n",
    "\n",
    "    # Step 9: Count the Number of Collaborators in Each CEFR Level\n",
    "    cefr_counts = df_idioma['Classificação'].value_counts().reset_index()\n",
    "    cefr_counts.columns = ['Classificação', 'Count']\n",
    "\n",
    "    # Step 10: Assign 'Grupo Nível' to Each CEFR Level\n",
    "    cefr_counts['Grupo Nível'] = cefr_counts['Classificação'].apply(group_level)\n",
    "\n",
    "    # Ensure no 'Outro' is present\n",
    "    cefr_counts = cefr_counts.dropna(subset=['Grupo Nível'])\n",
    "\n",
    "    # Step 11: Create the Sunburst Chart\n",
    "    fig = px.sunburst(\n",
    "        cefr_counts,\n",
    "        path=['Grupo Nível', 'Classificação'],\n",
    "        values='Count',\n",
    "        color='Grupo Nível',\n",
    "        color_discrete_map={\n",
    "            'Nível limitado': 'lightblue',\n",
    "            'Nível independente': 'lightgreen',\n",
    "            'Nível competente': 'lightcoral',\n",
    "            'Nível sólido': 'lightgray'\n",
    "        },\n",
    "        title=f'Distribuição de Colaboradores por Nível CEFR - Idioma: {selected_idioma} - Acompanhamento',\n",
    "        hover_data={'Count': True},\n",
    "        labels={'Count': 'Número de Colaboradores'}\n",
    "    )\n",
    "\n",
    "    # Step 12: Update Layout for Better Appearance\n",
    "    fig.update_layout(\n",
    "        margin=dict(t=50, l=25, r=25, b=25)\n",
    "    )\n",
    "\n",
    "    return fig\n",
    "\n",
    "# Step 13: Create an Interactive Dropdown Widget\n",
    "idioma_dropdown = widgets.Dropdown(\n",
    "    options=idiomas_sorted,\n",
    "    value=idiomas_sorted[0],  # Set the default value to the first language\n",
    "    description='Idiomas:',\n",
    "    disabled=False,\n",
    ")\n",
    "\n",
    "# Step 14: Define the Function to Update the Plot Based on Dropdown Selection\n",
    "def update_plot(selected_idioma):\n",
    "    fig = create_sunburst(selected_idioma)\n",
    "    fig.show()\n",
    "\n",
    "# Step 15: Use `interactive_output` to Link the Dropdown with the Plot Update Function\n",
    "out = widgets.interactive_output(update_plot, {'selected_idioma': idioma_dropdown})\n",
    "\n",
    "# Step 16: Display the Dropdown and the Output Plot\n",
    "display(idioma_dropdown, out)\n"
   ]
  },
  {
   "cell_type": "code",
   "execution_count": null,
   "metadata": {},
   "outputs": [],
   "source": []
  }
 ],
 "metadata": {
  "kernelspec": {
   "display_name": "Python 3 (ipykernel)",
   "language": "python",
   "name": "python3"
  },
  "language_info": {
   "codemirror_mode": {
    "name": "ipython",
    "version": 3
   },
   "file_extension": ".py",
   "mimetype": "text/x-python",
   "name": "python",
   "nbconvert_exporter": "python",
   "pygments_lexer": "ipython3",
   "version": "3.12.3"
  }
 },
 "nbformat": 4,
 "nbformat_minor": 4
}
